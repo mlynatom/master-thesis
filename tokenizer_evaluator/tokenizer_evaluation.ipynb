{
 "cells": [
  {
   "cell_type": "markdown",
   "metadata": {},
   "source": [
    "# Notebook for tokenizer evaluation"
   ]
  },
  {
   "cell_type": "code",
   "execution_count": 21,
   "metadata": {},
   "outputs": [],
   "source": [
    "from tokenizer_evaluator.tokenizer_eval import TokenizerEvaluator\n",
    "\n",
    "%load_ext autoreload\n",
    "%autoreload 2"
   ]
  },
  {
   "cell_type": "code",
   "execution_count": 22,
   "metadata": {},
   "outputs": [
    {
     "data": {
      "application/vnd.jupyter.widget-view+json": {
       "model_id": "5409eec07aa54308bae3f58992b9a22a",
       "version_major": 2,
       "version_minor": 0
      },
      "text/plain": [
       "README.md:   0%|          | 0.00/5.90k [00:00<?, ?B/s]"
      ]
     },
     "metadata": {},
     "output_type": "display_data"
    },
    {
     "data": {
      "application/vnd.jupyter.widget-view+json": {
       "model_id": "21d8ec17d4c84a6ea2dd48a33c5a6edd",
       "version_major": 2,
       "version_minor": 0
      },
      "text/plain": [
       "Loading dataset from disk:   0%|          | 0/22 [00:00<?, ?it/s]"
      ]
     },
     "metadata": {},
     "output_type": "display_data"
    }
   ],
   "source": [
    "#tok_eval = TokenizerEvaluator(fertility_dataset=\"HuggingFaceFW/fineweb-2\", fertility_split=\"test\", fertility_subset=\"ces_Latn\", parity_split=\"test\")\n",
    "tok_eval = TokenizerEvaluator(fertility_dataset=\"BUT-FIT/BUT-LCC\", fertility_split=\"test\", parity_split=\"test\")"
   ]
  },
  {
   "cell_type": "code",
   "execution_count": 7,
   "metadata": {},
   "outputs": [
    {
     "data": {
      "text/plain": [
       "58"
      ]
     },
     "execution_count": 7,
     "metadata": {},
     "output_type": "execute_result"
    }
   ],
   "source": [
    "len(model_ids)"
   ]
  },
  {
   "cell_type": "code",
   "execution_count": null,
   "metadata": {},
   "outputs": [],
   "source": [
    "model_ids = [\"meta-llama/Llama-3.3-70B-Instruct\",\n",
    "             \"meta-llama/Llama-3.2-1B\", \n",
    "             \"meta-llama/Llama-3.2-3B\", \n",
    "             \"meta-llama/Llama-3.1-8B\", \n",
    "             \"meta-llama/Llama-3.1-70B\", \n",
    "             \"meta-llama/Llama-3.1-405B\",\n",
    "             \"meta-llama/Meta-Llama-3-8B\",\n",
    "             \"meta-llama/Meta-Llama-3-70B\",\n",
    "            #  \"meta-llama/Llama-2-7b-hf\",\n",
    "            #  \"meta-llama/Llama-2-13b-hf\",\n",
    "            #  \"meta-llama/Llama-2-70b-hf\",\n",
    "             \"CohereForAI/aya-expanse-8b\", \n",
    "             \"CohereForAI/aya-expanse-32b\",\n",
    "             \"CohereForAI/aya-23-8B\",\n",
    "             \"CohereForAI/aya-23-35B\",\n",
    "             \"CohereForAI/aya-101\",\n",
    "             \"CohereForAI/c4ai-command-r-v01\", \n",
    "             \"CohereForAI/c4ai-command-r-08-2024\", \n",
    "             \"CohereForAI/c4ai-command-r-plus\", \n",
    "             \"CohereForAI/c4ai-command-r-plus-08-2024\",\n",
    "             \"CohereLabs/c4ai-command-r7b-12-2024\",\n",
    "             \"CohereLabs/c4ai-command-a-03-2025\",\n",
    "             \"mistralai/Ministral-8B-Instruct-2410\",\n",
    "             \"mistralai/Mistral-7B-v0.1\",\n",
    "             \"mistralai/Mistral-7B-v0.3\", \n",
    "             \"mistralai/Mixtral-8x7B-Instruct-v0.1\",\n",
    "             \"mistralai/Mixtral-8x22B-v0.1\",\n",
    "             \"mistralai/Mistral-Large-Instruct-2407\",\n",
    "             \"mistralai/Mistral-Large-Instruct-2411\",\n",
    "             \"google/gemma-3-27b-pt\",\n",
    "             \"google/gemma-3-12b-pt\",\n",
    "             \"google/gemma-3-1b-pt\",\n",
    "             \"google/gemma-3-4b-pt\",\n",
    "             \"google/gemma-2-2b\",\n",
    "             \"google/gemma-2-9b\",\n",
    "             \"google/gemma-2-27b\",\n",
    "             \"google/gemma-2b\",\n",
    "             \"google/gemma-7b\",\n",
    "             \"ibm-granite/granite-3.0-8b-base\",\n",
    "             \"ibm-granite/granite-3.0-2b-base\",\n",
    "             \"ibm-granite/granite-3.2-8b-instruct\",\n",
    "             \"ibm-granite/granite-3.2-2b-instruct\",\n",
    "             \"ibm-granite/granite-3.1-8b-base\",\n",
    "             \"ibm-granite/granite-3.1-2b-base\",\n",
    "             \"ibm-granite/granite-3.1-3b-a800m-base\",\n",
    "             \"ibm-granite/granite-3.1-1b-a400m-base\",\n",
    "             \"BUT-FIT/csmpt7b\",\n",
    "             \"BUT-FIT/CSTinyLlama-1.2B\",\n",
    "             \"openGPT-X/Teuken-7B-instruct-research-v0.4\",\n",
    "             \"openGPT-X/Teuken-7B-instruct-commercial-v0.4\",\n",
    "             \"utter-project/EuroLLM-1.7B\",\n",
    "             \"utter-project/EuroLLM-9B\",\n",
    "             \"BSC-LT/ALIA-40b\",\n",
    "             \"BSC-LT/salamandra-7b\",\n",
    "             \"BSC-LT/salamandra-2b\",\n",
    "             \"gpt-4o\",\n",
    "             \"gpt-4\",\n",
    "             \"gpt-3.5-turbo\",\n",
    "             \"gpt-2\",\n",
    "             ]"
   ]
  },
  {
   "cell_type": "code",
   "execution_count": 23,
   "metadata": {},
   "outputs": [],
   "source": [
    "model_ids = [\"meta-llama/Llama-3.1-8B\", \"/home/mlynatom/master-thesis-repository-tomas-mlynar/tokenizers/llama-3.1-8B-cs_expand_5M\"]"
   ]
  },
  {
   "cell_type": "code",
   "execution_count": 24,
   "metadata": {},
   "outputs": [
    {
     "name": "stdout",
     "output_type": "stream",
     "text": [
      "Found 2 unique tokenizers\n",
      "Evaluating tokenizer meta-llama/Llama-3.1-8B\n"
     ]
    },
    {
     "name": "stderr",
     "output_type": "stream",
     "text": [
      "20000it [00:25, 775.77it/s]\n"
     ]
    },
    {
     "name": "stdout",
     "output_type": "stream",
     "text": [
      "Evaluating tokenizer /home/mlynatom/master-thesis-repository-tomas-mlynar/tokenizers/llama-3.1-8B-cs_expand_5M\n"
     ]
    },
    {
     "name": "stderr",
     "output_type": "stream",
     "text": [
      "20000it [00:27, 735.77it/s]\n"
     ]
    }
   ],
   "source": [
    "results = tok_eval.evaluate(model_ids, verbose=True)"
   ]
  },
  {
   "cell_type": "code",
   "execution_count": 25,
   "metadata": {},
   "outputs": [
    {
     "data": {
      "text/plain": [
       "{'meta-llama/Llama-3.1-8B': {'fertility': 2.0988014611163774,\n",
       "  'parity': 1.4206662400380612,\n",
       "  'all_models': ['meta-llama/Llama-3.1-8B']},\n",
       " '/home/mlynatom/master-thesis-repository-tomas-mlynar/tokenizers/llama-3.1-8B-cs_expand_5M': {'fertility': 2.277250895086873,\n",
       "  'parity': 1.3523253268034574,\n",
       "  'all_models': ['/home/mlynatom/master-thesis-repository-tomas-mlynar/tokenizers/llama-3.1-8B-cs_expand_5M']}}"
      ]
     },
     "execution_count": 25,
     "metadata": {},
     "output_type": "execute_result"
    }
   ],
   "source": [
    "results"
   ]
  },
  {
   "cell_type": "code",
   "execution_count": 5,
   "metadata": {},
   "outputs": [
    {
     "data": {
      "text/html": [
       "<div>\n",
       "<style scoped>\n",
       "    .dataframe tbody tr th:only-of-type {\n",
       "        vertical-align: middle;\n",
       "    }\n",
       "\n",
       "    .dataframe tbody tr th {\n",
       "        vertical-align: top;\n",
       "    }\n",
       "\n",
       "    .dataframe thead th {\n",
       "        text-align: right;\n",
       "    }\n",
       "</style>\n",
       "<table border=\"1\" class=\"dataframe\">\n",
       "  <thead>\n",
       "    <tr style=\"text-align: right;\">\n",
       "      <th></th>\n",
       "      <th>model_id</th>\n",
       "      <th>fertility</th>\n",
       "      <th>parity</th>\n",
       "      <th>all_models</th>\n",
       "    </tr>\n",
       "  </thead>\n",
       "  <tbody>\n",
       "    <tr>\n",
       "      <th>0</th>\n",
       "      <td>meta-llama/Llama-3.1-8B</td>\n",
       "      <td>2.10293</td>\n",
       "      <td>1.420666</td>\n",
       "      <td>[meta-llama/Llama-3.1-8B]</td>\n",
       "    </tr>\n",
       "    <tr>\n",
       "      <th>1</th>\n",
       "      <td>/home/mlynatom/master-thesis-repository-tomas-...</td>\n",
       "      <td>2.271002</td>\n",
       "      <td>1.352325</td>\n",
       "      <td>[/home/mlynatom/master-thesis-repository-tomas...</td>\n",
       "    </tr>\n",
       "  </tbody>\n",
       "</table>\n",
       "</div>"
      ],
      "text/plain": [
       "                                            model_id fertility    parity  \\\n",
       "0                            meta-llama/Llama-3.1-8B   2.10293  1.420666   \n",
       "1  /home/mlynatom/master-thesis-repository-tomas-...  2.271002  1.352325   \n",
       "\n",
       "                                          all_models  \n",
       "0                          [meta-llama/Llama-3.1-8B]  \n",
       "1  [/home/mlynatom/master-thesis-repository-tomas...  "
      ]
     },
     "execution_count": 5,
     "metadata": {},
     "output_type": "execute_result"
    }
   ],
   "source": [
    "import pandas as pd\n",
    "\n",
    "df_results = pd.DataFrame(results)\n",
    "#switch axes (rows become columns and vice versa)\n",
    "df_results = df_results.transpose()\n",
    "df_results = df_results.reset_index()\n",
    "df_results.rename(columns={\"index\": \"model_id\"}, inplace=True)\n",
    "df_results\n"
   ]
  },
  {
   "cell_type": "code",
   "execution_count": 6,
   "metadata": {},
   "outputs": [],
   "source": [
    "df_results.to_csv(\"/home/mlynatom/master-thesis-repository-tomas-mlynar/tokenizer_evaluator/results_new_thesis_adapt.csv\", index=False)"
   ]
  },
  {
   "cell_type": "code",
   "execution_count": 11,
   "metadata": {},
   "outputs": [],
   "source": [
    "df_results = pd.read_csv(\"/home/mlynatom/master-thesis-repository-tomas-mlynar/tokenizer_evaluator/results_new_thesis_adapt.csv\")"
   ]
  },
  {
   "cell_type": "code",
   "execution_count": 12,
   "metadata": {},
   "outputs": [],
   "source": [
    "#round parity and fertility to 3 decimal places\n",
    "df_results[\"parity\"] = df_results[\"parity\"].round(3)\n",
    "df_results[\"fertility\"] = df_results[\"fertility\"].round(3)"
   ]
  },
  {
   "cell_type": "code",
   "execution_count": 13,
   "metadata": {},
   "outputs": [],
   "source": [
    "#group also if the models have both the same fertility and parity and same prefix in model id -> in such case take the group name as the first model id and merge all_models\n",
    "df_results[\"company\"] = df_results[\"model_id\"].apply(lambda x: x.split(\"/\")[0])\n",
    "df_results = df_results.groupby([\"fertility\", \"parity\"]).agg({\"model_id\": list, \"all_models\": list})"
   ]
  },
  {
   "cell_type": "code",
   "execution_count": 14,
   "metadata": {},
   "outputs": [
    {
     "data": {
      "text/html": [
       "<div>\n",
       "<style scoped>\n",
       "    .dataframe tbody tr th:only-of-type {\n",
       "        vertical-align: middle;\n",
       "    }\n",
       "\n",
       "    .dataframe tbody tr th {\n",
       "        vertical-align: top;\n",
       "    }\n",
       "\n",
       "    .dataframe thead th {\n",
       "        text-align: right;\n",
       "    }\n",
       "</style>\n",
       "<table border=\"1\" class=\"dataframe\">\n",
       "  <thead>\n",
       "    <tr style=\"text-align: right;\">\n",
       "      <th></th>\n",
       "      <th></th>\n",
       "      <th>model_id</th>\n",
       "      <th>all_models</th>\n",
       "    </tr>\n",
       "    <tr>\n",
       "      <th>fertility</th>\n",
       "      <th>parity</th>\n",
       "      <th></th>\n",
       "      <th></th>\n",
       "    </tr>\n",
       "  </thead>\n",
       "  <tbody>\n",
       "    <tr>\n",
       "      <th>2.103</th>\n",
       "      <th>1.421</th>\n",
       "      <td>[meta-llama/Llama-3.1-8B]</td>\n",
       "      <td>[['meta-llama/Llama-3.1-8B']]</td>\n",
       "    </tr>\n",
       "    <tr>\n",
       "      <th>2.271</th>\n",
       "      <th>1.352</th>\n",
       "      <td>[/home/mlynatom/master-thesis-repository-tomas-mlynar/tokenizers/llama-3.1-8B-cs_expand_5M]</td>\n",
       "      <td>[['/home/mlynatom/master-thesis-repository-tomas-mlynar/tokenizers/llama-3.1-8B-cs_expand_5M']]</td>\n",
       "    </tr>\n",
       "  </tbody>\n",
       "</table>\n",
       "</div>"
      ],
      "text/plain": [
       "                                                                                                     model_id  \\\n",
       "fertility parity                                                                                                \n",
       "2.103     1.421                                                                     [meta-llama/Llama-3.1-8B]   \n",
       "2.271     1.352   [/home/mlynatom/master-thesis-repository-tomas-mlynar/tokenizers/llama-3.1-8B-cs_expand_5M]   \n",
       "\n",
       "                                                                                                       all_models  \n",
       "fertility parity                                                                                                   \n",
       "2.103     1.421                                                                     [['meta-llama/Llama-3.1-8B']]  \n",
       "2.271     1.352   [['/home/mlynatom/master-thesis-repository-tomas-mlynar/tokenizers/llama-3.1-8B-cs_expand_5M']]  "
      ]
     },
     "execution_count": 14,
     "metadata": {},
     "output_type": "execute_result"
    }
   ],
   "source": [
    "#display all values in column model_id\n",
    "pd.set_option('display.max_colwidth', None)\n",
    "df_results"
   ]
  },
  {
   "cell_type": "code",
   "execution_count": 15,
   "metadata": {},
   "outputs": [],
   "source": [
    "#rename the model_ids according to the following mapping\n",
    "model_id2family = {\"BUT-FIT/csmpt7b\": \"BUT-FIT\",\n",
    "                   \"CohereForAI/aya-expanse-8b\": \"Aya Expanse, 23 + Command-R, A\",\n",
    "                   \"CohereForAI/aya-101\": \"Aya 101\",\n",
    "                   \"Qwen/Qwen2-0.5B\": \"Qwen 1.5, 2, 2.5\",\n",
    "                   \"allenai/OLMo-2-1124-7B\": \"Allenai Olmo\",\n",
    "                   \"google/gemma-2-2b\": \"Google Gemma 2\",\n",
    "                   \"google/gemma-3-27b-pt\": \"Google Gemma 3\",\n",
    "                    \"ibm-granite/granite-3.0-8b-base\": \"IBM Granite 3.0, 3.1, 3.2\",\n",
    "                    #\"ibm-granite/granite-3.2-8b-instruct\": \"IBM Granite 3.2\",\n",
    "                    \"meta-llama/Llama-3.3-70B-Instruct\": \"Meta Llama 3, 3.1, 3.2, 3.3\",\n",
    "                    \"meta-llama/Llama-2-7b-hf\": \"Meta Llama 2\",\n",
    "                    \"mistralai/Ministral-8B-Instruct-2410\": \"Mistral Ministral\",\n",
    "                    \"mistralai/Mistral-Large-Instruct-2407\": \"Mistral Large\",\n",
    "                    \"mistralai/Mistral-7B-v0.1\": \"Mistral + Mixtral\",\n",
    "                    \"openGPT-X/Teuken-7B-instruct-research-v0.4\": \"Teuken\",\n",
    "                    \"BSC-LT/ALIA-40b\": \"Salamandra & ALIA\",\n",
    "                    \"utter-project/EuroLLM-1.7B\": \"EuroLLM\",\n",
    "                    \"gpt-4o\": \"GPT-4o\",\n",
    "                    \"gpt-2\": \"GPT-2\",\n",
    "                    \"gpt-3.5-turbo\": \"GPT-3.5, 4\",\n",
    "                    \"/home/mlynatom/master-thesis-repository-tomas-mlynar/tokenizers/llama-3.1-8B-cs_expand_5M\": \"Vocabulary adapted tokenizer\"\n",
    "                   }"
   ]
  },
  {
   "cell_type": "code",
   "execution_count": 16,
   "metadata": {},
   "outputs": [
    {
     "data": {
      "text/html": [
       "<div>\n",
       "<style scoped>\n",
       "    .dataframe tbody tr th:only-of-type {\n",
       "        vertical-align: middle;\n",
       "    }\n",
       "\n",
       "    .dataframe tbody tr th {\n",
       "        vertical-align: top;\n",
       "    }\n",
       "\n",
       "    .dataframe thead th {\n",
       "        text-align: right;\n",
       "    }\n",
       "</style>\n",
       "<table border=\"1\" class=\"dataframe\">\n",
       "  <thead>\n",
       "    <tr style=\"text-align: right;\">\n",
       "      <th></th>\n",
       "      <th></th>\n",
       "      <th>model_id</th>\n",
       "      <th>all_models</th>\n",
       "      <th>family</th>\n",
       "    </tr>\n",
       "    <tr>\n",
       "      <th>fertility</th>\n",
       "      <th>parity</th>\n",
       "      <th></th>\n",
       "      <th></th>\n",
       "      <th></th>\n",
       "    </tr>\n",
       "  </thead>\n",
       "  <tbody>\n",
       "    <tr>\n",
       "      <th>2.103</th>\n",
       "      <th>1.421</th>\n",
       "      <td>[meta-llama/Llama-3.1-8B]</td>\n",
       "      <td>[['meta-llama/Llama-3.1-8B']]</td>\n",
       "      <td>meta-llama/Llama-3.1-8B</td>\n",
       "    </tr>\n",
       "    <tr>\n",
       "      <th>2.271</th>\n",
       "      <th>1.352</th>\n",
       "      <td>[/home/mlynatom/master-thesis-repository-tomas-mlynar/tokenizers/llama-3.1-8B-cs_expand_5M]</td>\n",
       "      <td>[['/home/mlynatom/master-thesis-repository-tomas-mlynar/tokenizers/llama-3.1-8B-cs_expand_5M']]</td>\n",
       "      <td>Vocabulary adapted tokenizer</td>\n",
       "    </tr>\n",
       "  </tbody>\n",
       "</table>\n",
       "</div>"
      ],
      "text/plain": [
       "                                                                                                     model_id  \\\n",
       "fertility parity                                                                                                \n",
       "2.103     1.421                                                                     [meta-llama/Llama-3.1-8B]   \n",
       "2.271     1.352   [/home/mlynatom/master-thesis-repository-tomas-mlynar/tokenizers/llama-3.1-8B-cs_expand_5M]   \n",
       "\n",
       "                                                                                                       all_models  \\\n",
       "fertility parity                                                                                                    \n",
       "2.103     1.421                                                                     [['meta-llama/Llama-3.1-8B']]   \n",
       "2.271     1.352   [['/home/mlynatom/master-thesis-repository-tomas-mlynar/tokenizers/llama-3.1-8B-cs_expand_5M']]   \n",
       "\n",
       "                                        family  \n",
       "fertility parity                                \n",
       "2.103     1.421        meta-llama/Llama-3.1-8B  \n",
       "2.271     1.352   Vocabulary adapted tokenizer  "
      ]
     },
     "execution_count": 16,
     "metadata": {},
     "output_type": "execute_result"
    }
   ],
   "source": [
    "def lambda_func(x):\n",
    "    for model_id in x:\n",
    "        if model_id in model_id2family:\n",
    "            return model_id2family[model_id]\n",
    "    return model_id\n",
    "\n",
    "\n",
    "df_results[\"family\"] = df_results[\"model_id\"].apply(lambda_func)\n",
    "df_results"
   ]
  },
  {
   "cell_type": "code",
   "execution_count": 17,
   "metadata": {},
   "outputs": [
    {
     "data": {
      "text/html": [
       "<div>\n",
       "<style scoped>\n",
       "    .dataframe tbody tr th:only-of-type {\n",
       "        vertical-align: middle;\n",
       "    }\n",
       "\n",
       "    .dataframe tbody tr th {\n",
       "        vertical-align: top;\n",
       "    }\n",
       "\n",
       "    .dataframe thead th {\n",
       "        text-align: right;\n",
       "    }\n",
       "</style>\n",
       "<table border=\"1\" class=\"dataframe\">\n",
       "  <thead>\n",
       "    <tr style=\"text-align: right;\">\n",
       "      <th></th>\n",
       "      <th></th>\n",
       "      <th>model_id</th>\n",
       "      <th>all_models</th>\n",
       "      <th>family</th>\n",
       "    </tr>\n",
       "    <tr>\n",
       "      <th>fertility</th>\n",
       "      <th>parity</th>\n",
       "      <th></th>\n",
       "      <th></th>\n",
       "      <th></th>\n",
       "    </tr>\n",
       "  </thead>\n",
       "  <tbody>\n",
       "    <tr>\n",
       "      <th>2.103</th>\n",
       "      <th>1.421</th>\n",
       "      <td>[meta-llama/Llama-3.1-8B]</td>\n",
       "      <td>[['meta-llama/Llama-3.1-8B']]</td>\n",
       "      <td>meta-llama/Llama-3.1-8B</td>\n",
       "    </tr>\n",
       "    <tr>\n",
       "      <th>2.271</th>\n",
       "      <th>1.352</th>\n",
       "      <td>[/home/mlynatom/master-thesis-repository-tomas-mlynar/tokenizers/llama-3.1-8B-cs_expand_5M]</td>\n",
       "      <td>[['/home/mlynatom/master-thesis-repository-tomas-mlynar/tokenizers/llama-3.1-8B-cs_expand_5M']]</td>\n",
       "      <td>Vocabulary adapted tokenizer</td>\n",
       "    </tr>\n",
       "  </tbody>\n",
       "</table>\n",
       "</div>"
      ],
      "text/plain": [
       "                                                                                                     model_id  \\\n",
       "fertility parity                                                                                                \n",
       "2.103     1.421                                                                     [meta-llama/Llama-3.1-8B]   \n",
       "2.271     1.352   [/home/mlynatom/master-thesis-repository-tomas-mlynar/tokenizers/llama-3.1-8B-cs_expand_5M]   \n",
       "\n",
       "                                                                                                       all_models  \\\n",
       "fertility parity                                                                                                    \n",
       "2.103     1.421                                                                     [['meta-llama/Llama-3.1-8B']]   \n",
       "2.271     1.352   [['/home/mlynatom/master-thesis-repository-tomas-mlynar/tokenizers/llama-3.1-8B-cs_expand_5M']]   \n",
       "\n",
       "                                        family  \n",
       "fertility parity                                \n",
       "2.103     1.421        meta-llama/Llama-3.1-8B  \n",
       "2.271     1.352   Vocabulary adapted tokenizer  "
      ]
     },
     "execution_count": 17,
     "metadata": {},
     "output_type": "execute_result"
    }
   ],
   "source": [
    "#sort\n",
    "df_results = df_results.sort_values(by=\"family\", ascending=True, kind=\"stable\")\n",
    "df_results = df_results.sort_values(by=\"parity\", ascending=True, kind=\"stable\")\n",
    "df_results = df_results.sort_values(by=\"fertility\", ascending=True, kind=\"stable\")\n",
    "df_results"
   ]
  },
  {
   "cell_type": "code",
   "execution_count": 18,
   "metadata": {},
   "outputs": [],
   "source": [
    "df_results.reset_index(inplace=True)"
   ]
  },
  {
   "cell_type": "code",
   "execution_count": 19,
   "metadata": {},
   "outputs": [
    {
     "data": {
      "text/html": [
       "<div>\n",
       "<style scoped>\n",
       "    .dataframe tbody tr th:only-of-type {\n",
       "        vertical-align: middle;\n",
       "    }\n",
       "\n",
       "    .dataframe tbody tr th {\n",
       "        vertical-align: top;\n",
       "    }\n",
       "\n",
       "    .dataframe thead th {\n",
       "        text-align: right;\n",
       "    }\n",
       "</style>\n",
       "<table border=\"1\" class=\"dataframe\">\n",
       "  <thead>\n",
       "    <tr style=\"text-align: right;\">\n",
       "      <th></th>\n",
       "      <th>fertility</th>\n",
       "      <th>parity</th>\n",
       "      <th>model_id</th>\n",
       "      <th>all_models</th>\n",
       "      <th>family</th>\n",
       "    </tr>\n",
       "  </thead>\n",
       "  <tbody>\n",
       "    <tr>\n",
       "      <th>0</th>\n",
       "      <td>2.103</td>\n",
       "      <td>1.421</td>\n",
       "      <td>[meta-llama/Llama-3.1-8B]</td>\n",
       "      <td>[['meta-llama/Llama-3.1-8B']]</td>\n",
       "      <td>meta-llama/Llama-3.1-8B</td>\n",
       "    </tr>\n",
       "    <tr>\n",
       "      <th>1</th>\n",
       "      <td>2.271</td>\n",
       "      <td>1.352</td>\n",
       "      <td>[/home/mlynatom/master-thesis-repository-tomas-mlynar/tokenizers/llama-3.1-8B-cs_expand_5M]</td>\n",
       "      <td>[['/home/mlynatom/master-thesis-repository-tomas-mlynar/tokenizers/llama-3.1-8B-cs_expand_5M']]</td>\n",
       "      <td>Vocabulary adapted tokenizer</td>\n",
       "    </tr>\n",
       "  </tbody>\n",
       "</table>\n",
       "</div>"
      ],
      "text/plain": [
       "   fertility  parity  \\\n",
       "0      2.103   1.421   \n",
       "1      2.271   1.352   \n",
       "\n",
       "                                                                                      model_id  \\\n",
       "0                                                                    [meta-llama/Llama-3.1-8B]   \n",
       "1  [/home/mlynatom/master-thesis-repository-tomas-mlynar/tokenizers/llama-3.1-8B-cs_expand_5M]   \n",
       "\n",
       "                                                                                        all_models  \\\n",
       "0                                                                    [['meta-llama/Llama-3.1-8B']]   \n",
       "1  [['/home/mlynatom/master-thesis-repository-tomas-mlynar/tokenizers/llama-3.1-8B-cs_expand_5M']]   \n",
       "\n",
       "                         family  \n",
       "0       meta-llama/Llama-3.1-8B  \n",
       "1  Vocabulary adapted tokenizer  "
      ]
     },
     "execution_count": 19,
     "metadata": {},
     "output_type": "execute_result"
    }
   ],
   "source": [
    "df_results"
   ]
  },
  {
   "cell_type": "code",
   "execution_count": null,
   "metadata": {},
   "outputs": [
    {
     "data": {
      "image/png": "[encoded data removed]",
      "text/plain": [
       "<Figure size 640x480 with 1 Axes>"
      ]
     },
     "metadata": {},
     "output_type": "display_data"
    }
   ],
   "source": [
    "# plot fertility with values for each bar in greyscale\n",
    "import matplotlib.pyplot as plt\n",
    "import numpy as np\n",
    "\n",
    "fig, ax = plt.subplots()\n",
    "plt.rcParams[\"figure.figsize\"] = (11, 5)\n",
    "ax.barh(df_results[\"family\"], df_results[\"fertility\"], color=\"#0065BD\")\n",
    "#make sure the label is inside the box\n",
    "for i, v in enumerate(df_results[\"fertility\"]):\n",
    "    ax.text(v, i, str(round(v, 3)), color='black', va='center')\n",
    "ax.set_xlabel('Fertility')\n",
    "ax.set_title('Fertility of models')\n",
    "\n",
    "plt.savefig(\"/home/mlynatom/master-thesis-repository-tomas-mlynar/tokenizer_evaluator/fertility_new_adapt.pdf\", bbox_inches='tight')\n",
    "plt.show()"
   ]
  },
  {
   "cell_type": "code",
   "execution_count": 21,
   "metadata": {},
   "outputs": [
    {
     "data": {
      "image/png": "[encoded data removed]",
      "text/plain": [
       "<Figure size 1100x500 with 1 Axes>"
      ]
     },
     "metadata": {},
     "output_type": "display_data"
    }
   ],
   "source": [
    "fig, ax = plt.subplots()\n",
    "plt.rcParams[\"figure.figsize\"] = (11, 5)\n",
    "ax.barh(df_results[\"family\"], df_results[\"parity\"], color=\"#0065BD\")\n",
    "for i, v in enumerate(df_results[\"parity\"]):\n",
    "    ax.text(v, i, str(round(v, 3)), color='black', va='center')\n",
    "ax.set_xlabel('Parity')\n",
    "ax.set_title('Parity of models')\n",
    "plt.savefig(\"/home/mlynatom/master-thesis-repository-tomas-mlynar/tokenizer_evaluator/parity_new_adapt.pdf\", bbox_inches='tight')\n",
    "plt.show()\n"
   ]
  },
  {
   "cell_type": "code",
   "execution_count": 62,
   "metadata": {},
   "outputs": [
    {
     "data": {
      "text/html": [
       "<div>\n",
       "<style scoped>\n",
       "    .dataframe tbody tr th:only-of-type {\n",
       "        vertical-align: middle;\n",
       "    }\n",
       "\n",
       "    .dataframe tbody tr th {\n",
       "        vertical-align: top;\n",
       "    }\n",
       "\n",
       "    .dataframe thead th {\n",
       "        text-align: right;\n",
       "    }\n",
       "</style>\n",
       "<table border=\"1\" class=\"dataframe\">\n",
       "  <thead>\n",
       "    <tr style=\"text-align: right;\">\n",
       "      <th></th>\n",
       "      <th>company</th>\n",
       "      <th>fertility</th>\n",
       "      <th>parity</th>\n",
       "      <th>model_id</th>\n",
       "      <th>all_models</th>\n",
       "      <th>family</th>\n",
       "      <th>family_all_models</th>\n",
       "    </tr>\n",
       "  </thead>\n",
       "  <tbody>\n",
       "    <tr>\n",
       "      <th>0</th>\n",
       "      <td>BUT-FIT</td>\n",
       "      <td>1.424353</td>\n",
       "      <td>0.717209</td>\n",
       "      <td>[BUT-FIT/csmpt7b]</td>\n",
       "      <td>[BUT-FIT/Czech-GPT-2-XL-133k, BUT-FIT/csmpt7b, BUT-FIT/CSTinyLlama-1.2B]</td>\n",
       "      <td>BUT-FIT</td>\n",
       "      <td>BUT-FIT: BUT-FIT/Czech-GPT-2-XL-133k, BUT-FIT/csmpt7b, BUT-FIT/CSTinyLlama-1.2B</td>\n",
       "    </tr>\n",
       "    <tr>\n",
       "      <th>1</th>\n",
       "      <td>CohereForAI</td>\n",
       "      <td>1.889045</td>\n",
       "      <td>1.333089</td>\n",
       "      <td>[CohereForAI/aya-expanse-8b, CohereForAI/c4ai-command-r-08-2024]</td>\n",
       "      <td>[CohereForAI/c4ai-command-r-v01, CohereForAI/c4ai-command-r-plus-08-2024, CohereForAI/c4ai-command-r-08-2024, CohereForAI/aya-23-8B, CohereForAI/aya-expanse-32b, CohereForAI/aya-expanse-8b, CohereForAI/c4ai-command-r-plus, CohereForAI/aya-23-35B]</td>\n",
       "      <td>Aya Expanse, 23 + Command-R</td>\n",
       "      <td>Aya Expanse, 23 + Command-R: CohereForAI/c4ai-command-r-v01, CohereForAI/c4ai-command-r-plus-08-2024, CohereForAI/c4ai-command-r-08-2024, CohereForAI/aya-23-8B, CohereForAI/aya-expanse-32b, CohereForAI/aya-expanse-8b, CohereForAI/c4ai-command-r-plus, CohereForAI/aya-23-35B</td>\n",
       "    </tr>\n",
       "    <tr>\n",
       "      <th>2</th>\n",
       "      <td>meta-llama</td>\n",
       "      <td>2.098801</td>\n",
       "      <td>1.420666</td>\n",
       "      <td>[meta-llama/Llama-3.3-70B-Instruct, meta-llama/Meta-Llama-3-8B]</td>\n",
       "      <td>[meta-llama/Llama-3.1-405B, meta-llama/Meta-Llama-3-70B, meta-llama/Meta-Llama-3-8B, meta-llama/Llama-3.2-1B, meta-llama/Llama-3.3-70B-Instruct, meta-llama/Llama-3.2-3B, meta-llama/Llama-3.1-70B, meta-llama/Llama-3.1-8B]</td>\n",
       "      <td>Meta Llama 3.0, 3.1, 3.2, 3.3</td>\n",
       "      <td>Meta Llama 3.0, 3.1, 3.2, 3.3: meta-llama/Llama-3.1-405B, meta-llama/Meta-Llama-3-70B, meta-llama/Meta-Llama-3-8B, meta-llama/Llama-3.2-1B, meta-llama/Llama-3.3-70B-Instruct, meta-llama/Llama-3.2-3B, meta-llama/Llama-3.1-70B, meta-llama/Llama-3.1-8B</td>\n",
       "    </tr>\n",
       "    <tr>\n",
       "      <th>3</th>\n",
       "      <td>google</td>\n",
       "      <td>2.105951</td>\n",
       "      <td>1.357283</td>\n",
       "      <td>[google/gemma-2-2b]</td>\n",
       "      <td>[google/gemma-2-2b, google/gemma-2-9b, google/gemma-2b, google/gemma-7b, google/gemma-2-27b]</td>\n",
       "      <td>Google Gemma</td>\n",
       "      <td>Google Gemma: google/gemma-2-2b, google/gemma-2-9b, google/gemma-2b, google/gemma-7b, google/gemma-2-27b</td>\n",
       "    </tr>\n",
       "    <tr>\n",
       "      <th>4</th>\n",
       "      <td>gpt-4o</td>\n",
       "      <td>2.187530</td>\n",
       "      <td>1.496300</td>\n",
       "      <td>[gpt-4o]</td>\n",
       "      <td>[gpt-4o]</td>\n",
       "      <td>gpt-4o</td>\n",
       "      <td>gpt-4o: gpt-4o</td>\n",
       "    </tr>\n",
       "    <tr>\n",
       "      <th>5</th>\n",
       "      <td>CohereForAI</td>\n",
       "      <td>2.192861</td>\n",
       "      <td>1.231120</td>\n",
       "      <td>[CohereForAI/aya-101]</td>\n",
       "      <td>[CohereForAI/aya-101]</td>\n",
       "      <td>Aya 101</td>\n",
       "      <td>Aya 101: CohereForAI/aya-101</td>\n",
       "    </tr>\n",
       "    <tr>\n",
       "      <th>6</th>\n",
       "      <td>mistralai</td>\n",
       "      <td>2.252395</td>\n",
       "      <td>1.496156</td>\n",
       "      <td>[mistralai/Ministral-8B-Instruct-2410]</td>\n",
       "      <td>[mistralai/Ministral-8B-Instruct-2410]</td>\n",
       "      <td>Mistral Ministral</td>\n",
       "      <td>Mistral Ministral: mistralai/Ministral-8B-Instruct-2410</td>\n",
       "    </tr>\n",
       "    <tr>\n",
       "      <th>7</th>\n",
       "      <td>meta-llama</td>\n",
       "      <td>2.717826</td>\n",
       "      <td>1.545938</td>\n",
       "      <td>[meta-llama/Llama-2-7b-hf]</td>\n",
       "      <td>[meta-llama/Llama-2-13b-hf, meta-llama/Llama-2-7b-hf, meta-llama/Llama-2-70b-hf]</td>\n",
       "      <td>Meta Llama 2</td>\n",
       "      <td>Meta Llama 2: meta-llama/Llama-2-13b-hf, meta-llama/Llama-2-7b-hf, meta-llama/Llama-2-70b-hf</td>\n",
       "    </tr>\n",
       "    <tr>\n",
       "      <th>8</th>\n",
       "      <td>mistralai</td>\n",
       "      <td>2.873051</td>\n",
       "      <td>1.655725</td>\n",
       "      <td>[mistralai/Mistral-7B-v0.1, mistralai/Mistral-7B-v0.3]</td>\n",
       "      <td>[mistralai/Mixtral-8x7B-Instruct-v0.1, mistralai/Mistral-7B-v0.1, mistralai/Mistral-7B-v0.3, mistralai/Mixtral-8x22B-v0.1]</td>\n",
       "      <td>Mistral Mistral + Mixtral</td>\n",
       "      <td>Mistral Mistral + Mixtral: mistralai/Mixtral-8x7B-Instruct-v0.1, mistralai/Mistral-7B-v0.1, mistralai/Mistral-7B-v0.3, mistralai/Mixtral-8x22B-v0.1</td>\n",
       "    </tr>\n",
       "    <tr>\n",
       "      <th>9</th>\n",
       "      <td>mistralai</td>\n",
       "      <td>2.873653</td>\n",
       "      <td>1.655031</td>\n",
       "      <td>[mistralai/Mistral-Large-Instruct-2407, mistralai/Mistral-Large-Instruct-2411]</td>\n",
       "      <td>[mistralai/Mistral-Large-Instruct-2411, mistralai/Mistral-Large-Instruct-2407]</td>\n",
       "      <td>Mistral Large</td>\n",
       "      <td>Mistral Large: mistralai/Mistral-Large-Instruct-2411, mistralai/Mistral-Large-Instruct-2407</td>\n",
       "    </tr>\n",
       "    <tr>\n",
       "      <th>10</th>\n",
       "      <td>allenai</td>\n",
       "      <td>2.887690</td>\n",
       "      <td>1.819436</td>\n",
       "      <td>[allenai/OLMo-2-1124-7B]</td>\n",
       "      <td>[allenai/OLMo-2-1124-13B, allenai/OLMo-2-1124-7B]</td>\n",
       "      <td>Allenai Olmo</td>\n",
       "      <td>Allenai Olmo: allenai/OLMo-2-1124-13B, allenai/OLMo-2-1124-7B</td>\n",
       "    </tr>\n",
       "    <tr>\n",
       "      <th>11</th>\n",
       "      <td>gpt-3.5-turbo</td>\n",
       "      <td>2.887690</td>\n",
       "      <td>1.819436</td>\n",
       "      <td>[gpt-3.5-turbo]</td>\n",
       "      <td>[gpt-3.5-turbo]</td>\n",
       "      <td>gpt-3.5-turbo</td>\n",
       "      <td>gpt-3.5-turbo: gpt-3.5-turbo</td>\n",
       "    </tr>\n",
       "    <tr>\n",
       "      <th>12</th>\n",
       "      <td>gpt-4</td>\n",
       "      <td>2.887690</td>\n",
       "      <td>1.819436</td>\n",
       "      <td>[gpt-4]</td>\n",
       "      <td>[gpt-4]</td>\n",
       "      <td>gpt-4</td>\n",
       "      <td>gpt-4: gpt-4</td>\n",
       "    </tr>\n",
       "    <tr>\n",
       "      <th>13</th>\n",
       "      <td>Qwen</td>\n",
       "      <td>2.888987</td>\n",
       "      <td>1.796445</td>\n",
       "      <td>[Qwen/Qwen2.5-0.5B, Qwen/Qwen2-0.5B]</td>\n",
       "      <td>[Qwen/Qwen2.5-3B, Qwen/Qwen2-72B, Qwen/Qwen1.5-14B, Qwen/Qwen1.5-0.5B, Qwen/Qwen2.5-14B, Qwen/Qwen2.5-0.5B, Qwen/Qwen2-7B, Qwen/Qwen1.5-72B, Qwen/Qwen1.5-1.8B, Qwen/Qwen2.5-72B, Qwen/Qwen2.5-7B, Qwen/Qwen2.5-1.5B, Qwen/Qwen1.5-7B, Qwen/Qwen2-1.5B, Qwen/Qwen1.5-110B, Qwen/Qwen2-0.5B, Qwen/Qwen1.5-32B, Qwen/Qwen2.5-32B, Qwen/Qwen1.5-4B]</td>\n",
       "      <td>Qwen 1.5, 2, 2.5</td>\n",
       "      <td>Qwen 1.5, 2, 2.5: Qwen/Qwen2.5-3B, Qwen/Qwen2-72B, Qwen/Qwen1.5-14B, Qwen/Qwen1.5-0.5B, Qwen/Qwen2.5-14B, Qwen/Qwen2.5-0.5B, Qwen/Qwen2-7B, Qwen/Qwen1.5-72B, Qwen/Qwen1.5-1.8B, Qwen/Qwen2.5-72B, Qwen/Qwen2.5-7B, Qwen/Qwen2.5-1.5B, Qwen/Qwen1.5-7B, Qwen/Qwen2-1.5B, Qwen/Qwen1.5-110B, Qwen/Qwen2-0.5B, Qwen/Qwen1.5-32B, Qwen/Qwen2.5-32B, Qwen/Qwen1.5-4B</td>\n",
       "    </tr>\n",
       "    <tr>\n",
       "      <th>14</th>\n",
       "      <td>ibm-granite</td>\n",
       "      <td>2.942121</td>\n",
       "      <td>1.652518</td>\n",
       "      <td>[ibm-granite/granite-3.0-8b-base]</td>\n",
       "      <td>[ibm-granite/granite-3.0-2b-base, ibm-granite/granite-3.0-8b-base]</td>\n",
       "      <td>ibm-granite/granite-3.0-8b-base</td>\n",
       "      <td>ibm-granite/granite-3.0-8b-base: ibm-granite/granite-3.0-2b-base, ibm-granite/granite-3.0-8b-base</td>\n",
       "    </tr>\n",
       "    <tr>\n",
       "      <th>15</th>\n",
       "      <td>gpt-2</td>\n",
       "      <td>3.557942</td>\n",
       "      <td>2.152639</td>\n",
       "      <td>[gpt-2]</td>\n",
       "      <td>[gpt-2]</td>\n",
       "      <td>gpt-2</td>\n",
       "      <td>gpt-2: gpt-2</td>\n",
       "    </tr>\n",
       "  </tbody>\n",
       "</table>\n",
       "</div>"
      ],
      "text/plain": [
       "          company  fertility    parity  \\\n",
       "0         BUT-FIT   1.424353  0.717209   \n",
       "1     CohereForAI   1.889045  1.333089   \n",
       "2      meta-llama   2.098801  1.420666   \n",
       "3          google   2.105951  1.357283   \n",
       "4          gpt-4o   2.187530  1.496300   \n",
       "5     CohereForAI   2.192861  1.231120   \n",
       "6       mistralai   2.252395  1.496156   \n",
       "7      meta-llama   2.717826  1.545938   \n",
       "8       mistralai   2.873051  1.655725   \n",
       "9       mistralai   2.873653  1.655031   \n",
       "10        allenai   2.887690  1.819436   \n",
       "11  gpt-3.5-turbo   2.887690  1.819436   \n",
       "12          gpt-4   2.887690  1.819436   \n",
       "13           Qwen   2.888987  1.796445   \n",
       "14    ibm-granite   2.942121  1.652518   \n",
       "15          gpt-2   3.557942  2.152639   \n",
       "\n",
       "                                                                          model_id  \\\n",
       "0                                                                [BUT-FIT/csmpt7b]   \n",
       "1                 [CohereForAI/aya-expanse-8b, CohereForAI/c4ai-command-r-08-2024]   \n",
       "2                  [meta-llama/Llama-3.3-70B-Instruct, meta-llama/Meta-Llama-3-8B]   \n",
       "3                                                              [google/gemma-2-2b]   \n",
       "4                                                                         [gpt-4o]   \n",
       "5                                                            [CohereForAI/aya-101]   \n",
       "6                                           [mistralai/Ministral-8B-Instruct-2410]   \n",
       "7                                                       [meta-llama/Llama-2-7b-hf]   \n",
       "8                           [mistralai/Mistral-7B-v0.1, mistralai/Mistral-7B-v0.3]   \n",
       "9   [mistralai/Mistral-Large-Instruct-2407, mistralai/Mistral-Large-Instruct-2411]   \n",
       "10                                                        [allenai/OLMo-2-1124-7B]   \n",
       "11                                                                 [gpt-3.5-turbo]   \n",
       "12                                                                         [gpt-4]   \n",
       "13                                            [Qwen/Qwen2.5-0.5B, Qwen/Qwen2-0.5B]   \n",
       "14                                               [ibm-granite/granite-3.0-8b-base]   \n",
       "15                                                                         [gpt-2]   \n",
       "\n",
       "                                                                                                                                                                                                                                                                                                                                          all_models  \\\n",
       "0                                                                                                                                                                                                                                                                           [BUT-FIT/Czech-GPT-2-XL-133k, BUT-FIT/csmpt7b, BUT-FIT/CSTinyLlama-1.2B]   \n",
       "1                                                                                             [CohereForAI/c4ai-command-r-v01, CohereForAI/c4ai-command-r-plus-08-2024, CohereForAI/c4ai-command-r-08-2024, CohereForAI/aya-23-8B, CohereForAI/aya-expanse-32b, CohereForAI/aya-expanse-8b, CohereForAI/c4ai-command-r-plus, CohereForAI/aya-23-35B]   \n",
       "2                                                                                                                       [meta-llama/Llama-3.1-405B, meta-llama/Meta-Llama-3-70B, meta-llama/Meta-Llama-3-8B, meta-llama/Llama-3.2-1B, meta-llama/Llama-3.3-70B-Instruct, meta-llama/Llama-3.2-3B, meta-llama/Llama-3.1-70B, meta-llama/Llama-3.1-8B]   \n",
       "3                                                                                                                                                                                                                                                       [google/gemma-2-2b, google/gemma-2-9b, google/gemma-2b, google/gemma-7b, google/gemma-2-27b]   \n",
       "4                                                                                                                                                                                                                                                                                                                                           [gpt-4o]   \n",
       "5                                                                                                                                                                                                                                                                                                                              [CohereForAI/aya-101]   \n",
       "6                                                                                                                                                                                                                                                                                                             [mistralai/Ministral-8B-Instruct-2410]   \n",
       "7                                                                                                                                                                                                                                                                   [meta-llama/Llama-2-13b-hf, meta-llama/Llama-2-7b-hf, meta-llama/Llama-2-70b-hf]   \n",
       "8                                                                                                                                                                                                                         [mistralai/Mixtral-8x7B-Instruct-v0.1, mistralai/Mistral-7B-v0.1, mistralai/Mistral-7B-v0.3, mistralai/Mixtral-8x22B-v0.1]   \n",
       "9                                                                                                                                                                                                                                                                     [mistralai/Mistral-Large-Instruct-2411, mistralai/Mistral-Large-Instruct-2407]   \n",
       "10                                                                                                                                                                                                                                                                                                 [allenai/OLMo-2-1124-13B, allenai/OLMo-2-1124-7B]   \n",
       "11                                                                                                                                                                                                                                                                                                                                   [gpt-3.5-turbo]   \n",
       "12                                                                                                                                                                                                                                                                                                                                           [gpt-4]   \n",
       "13  [Qwen/Qwen2.5-3B, Qwen/Qwen2-72B, Qwen/Qwen1.5-14B, Qwen/Qwen1.5-0.5B, Qwen/Qwen2.5-14B, Qwen/Qwen2.5-0.5B, Qwen/Qwen2-7B, Qwen/Qwen1.5-72B, Qwen/Qwen1.5-1.8B, Qwen/Qwen2.5-72B, Qwen/Qwen2.5-7B, Qwen/Qwen2.5-1.5B, Qwen/Qwen1.5-7B, Qwen/Qwen2-1.5B, Qwen/Qwen1.5-110B, Qwen/Qwen2-0.5B, Qwen/Qwen1.5-32B, Qwen/Qwen2.5-32B, Qwen/Qwen1.5-4B]   \n",
       "14                                                                                                                                                                                                                                                                                [ibm-granite/granite-3.0-2b-base, ibm-granite/granite-3.0-8b-base]   \n",
       "15                                                                                                                                                                                                                                                                                                                                           [gpt-2]   \n",
       "\n",
       "                             family  \\\n",
       "0                           BUT-FIT   \n",
       "1       Aya Expanse, 23 + Command-R   \n",
       "2     Meta Llama 3.0, 3.1, 3.2, 3.3   \n",
       "3                      Google Gemma   \n",
       "4                            gpt-4o   \n",
       "5                           Aya 101   \n",
       "6                 Mistral Ministral   \n",
       "7                      Meta Llama 2   \n",
       "8         Mistral Mistral + Mixtral   \n",
       "9                     Mistral Large   \n",
       "10                     Allenai Olmo   \n",
       "11                    gpt-3.5-turbo   \n",
       "12                            gpt-4   \n",
       "13                 Qwen 1.5, 2, 2.5   \n",
       "14  ibm-granite/granite-3.0-8b-base   \n",
       "15                            gpt-2   \n",
       "\n",
       "                                                                                                                                                                                                                                                                                                                                                   family_all_models  \n",
       "0                                                                                                                                                                                                                                                                                    BUT-FIT: BUT-FIT/Czech-GPT-2-XL-133k, BUT-FIT/csmpt7b, BUT-FIT/CSTinyLlama-1.2B  \n",
       "1                                                                                  Aya Expanse, 23 + Command-R: CohereForAI/c4ai-command-r-v01, CohereForAI/c4ai-command-r-plus-08-2024, CohereForAI/c4ai-command-r-08-2024, CohereForAI/aya-23-8B, CohereForAI/aya-expanse-32b, CohereForAI/aya-expanse-8b, CohereForAI/c4ai-command-r-plus, CohereForAI/aya-23-35B  \n",
       "2                                                                                                          Meta Llama 3.0, 3.1, 3.2, 3.3: meta-llama/Llama-3.1-405B, meta-llama/Meta-Llama-3-70B, meta-llama/Meta-Llama-3-8B, meta-llama/Llama-3.2-1B, meta-llama/Llama-3.3-70B-Instruct, meta-llama/Llama-3.2-3B, meta-llama/Llama-3.1-70B, meta-llama/Llama-3.1-8B  \n",
       "3                                                                                                                                                                                                                                                           Google Gemma: google/gemma-2-2b, google/gemma-2-9b, google/gemma-2b, google/gemma-7b, google/gemma-2-27b  \n",
       "4                                                                                                                                                                                                                                                                                                                                                     gpt-4o: gpt-4o  \n",
       "5                                                                                                                                                                                                                                                                                                                                       Aya 101: CohereForAI/aya-101  \n",
       "6                                                                                                                                                                                                                                                                                                            Mistral Ministral: mistralai/Ministral-8B-Instruct-2410  \n",
       "7                                                                                                                                                                                                                                                                       Meta Llama 2: meta-llama/Llama-2-13b-hf, meta-llama/Llama-2-7b-hf, meta-llama/Llama-2-70b-hf  \n",
       "8                                                                                                                                                                                                                Mistral Mistral + Mixtral: mistralai/Mixtral-8x7B-Instruct-v0.1, mistralai/Mistral-7B-v0.1, mistralai/Mistral-7B-v0.3, mistralai/Mixtral-8x22B-v0.1  \n",
       "9                                                                                                                                                                                                                                                                        Mistral Large: mistralai/Mistral-Large-Instruct-2411, mistralai/Mistral-Large-Instruct-2407  \n",
       "10                                                                                                                                                                                                                                                                                                     Allenai Olmo: allenai/OLMo-2-1124-13B, allenai/OLMo-2-1124-7B  \n",
       "11                                                                                                                                                                                                                                                                                                                                      gpt-3.5-turbo: gpt-3.5-turbo  \n",
       "12                                                                                                                                                                                                                                                                                                                                                      gpt-4: gpt-4  \n",
       "13  Qwen 1.5, 2, 2.5: Qwen/Qwen2.5-3B, Qwen/Qwen2-72B, Qwen/Qwen1.5-14B, Qwen/Qwen1.5-0.5B, Qwen/Qwen2.5-14B, Qwen/Qwen2.5-0.5B, Qwen/Qwen2-7B, Qwen/Qwen1.5-72B, Qwen/Qwen1.5-1.8B, Qwen/Qwen2.5-72B, Qwen/Qwen2.5-7B, Qwen/Qwen2.5-1.5B, Qwen/Qwen1.5-7B, Qwen/Qwen2-1.5B, Qwen/Qwen1.5-110B, Qwen/Qwen2-0.5B, Qwen/Qwen1.5-32B, Qwen/Qwen2.5-32B, Qwen/Qwen1.5-4B  \n",
       "14                                                                                                                                                                                                                                                                 ibm-granite/granite-3.0-8b-base: ibm-granite/granite-3.0-2b-base, ibm-granite/granite-3.0-8b-base  \n",
       "15                                                                                                                                                                                                                                                                                                                                                      gpt-2: gpt-2  "
      ]
     },
     "execution_count": 62,
     "metadata": {},
     "output_type": "execute_result"
    }
   ],
   "source": [
    "# make a typst text of the family to all models overview\n",
    "#make single list of all models for each row (without duplicates)\n",
    "df_results[\"all_models\"] = df_results[\"all_models\"].apply(lambda x: list(set([item for sublist in x for item in sublist])))\n",
    "\n",
    "#extract texts in format \"family: all_models\" for each row\n",
    "def lambda_func(x):\n",
    "    return x[\"family\"] + \": \" + \", \".join(x[\"all_models\"])\n",
    "\n",
    "df_results[\"family_all_models\"] = df_results.apply(lambda_func, axis=1)\n",
    "df_results"
   ]
  },
  {
   "cell_type": "code",
   "execution_count": 63,
   "metadata": {},
   "outputs": [
    {
     "name": "stdout",
     "output_type": "stream",
     "text": [
      "BUT-FIT: BUT-FIT/Czech-GPT-2-XL-133k, BUT-FIT/csmpt7b, BUT-FIT/CSTinyLlama-1.2B\n",
      "Aya Expanse, 23 + Command-R: CohereForAI/c4ai-command-r-v01, CohereForAI/c4ai-command-r-plus-08-2024, CohereForAI/c4ai-command-r-08-2024, CohereForAI/aya-23-8B, CohereForAI/aya-expanse-32b, CohereForAI/aya-expanse-8b, CohereForAI/c4ai-command-r-plus, CohereForAI/aya-23-35B\n",
      "Meta Llama 3.0, 3.1, 3.2, 3.3: meta-llama/Llama-3.1-405B, meta-llama/Meta-Llama-3-70B, meta-llama/Meta-Llama-3-8B, meta-llama/Llama-3.2-1B, meta-llama/Llama-3.3-70B-Instruct, meta-llama/Llama-3.2-3B, meta-llama/Llama-3.1-70B, meta-llama/Llama-3.1-8B\n",
      "Google Gemma: google/gemma-2-2b, google/gemma-2-9b, google/gemma-2b, google/gemma-7b, google/gemma-2-27b\n",
      "gpt-4o: gpt-4o\n",
      "Aya 101: CohereForAI/aya-101\n",
      "Mistral Ministral: mistralai/Ministral-8B-Instruct-2410\n",
      "Meta Llama 2: meta-llama/Llama-2-13b-hf, meta-llama/Llama-2-7b-hf, meta-llama/Llama-2-70b-hf\n",
      "Mistral Mistral + Mixtral: mistralai/Mixtral-8x7B-Instruct-v0.1, mistralai/Mistral-7B-v0.1, mistralai/Mistral-7B-v0.3, mistralai/Mixtral-8x22B-v0.1\n",
      "Mistral Large: mistralai/Mistral-Large-Instruct-2411, mistralai/Mistral-Large-Instruct-2407\n",
      "Allenai Olmo: allenai/OLMo-2-1124-13B, allenai/OLMo-2-1124-7B\n",
      "gpt-3.5-turbo: gpt-3.5-turbo\n",
      "gpt-4: gpt-4\n",
      "Qwen 1.5, 2, 2.5: Qwen/Qwen2.5-3B, Qwen/Qwen2-72B, Qwen/Qwen1.5-14B, Qwen/Qwen1.5-0.5B, Qwen/Qwen2.5-14B, Qwen/Qwen2.5-0.5B, Qwen/Qwen2-7B, Qwen/Qwen1.5-72B, Qwen/Qwen1.5-1.8B, Qwen/Qwen2.5-72B, Qwen/Qwen2.5-7B, Qwen/Qwen2.5-1.5B, Qwen/Qwen1.5-7B, Qwen/Qwen2-1.5B, Qwen/Qwen1.5-110B, Qwen/Qwen2-0.5B, Qwen/Qwen1.5-32B, Qwen/Qwen2.5-32B, Qwen/Qwen1.5-4B\n",
      "ibm-granite/granite-3.0-8b-base: ibm-granite/granite-3.0-2b-base, ibm-granite/granite-3.0-8b-base\n",
      "gpt-2: gpt-2\n"
     ]
    }
   ],
   "source": [
    "print(\"\\n\".join(df_results[\"family_all_models\"]))"
   ]
  },
  {
   "cell_type": "markdown",
   "metadata": {},
   "source": [
    "## Process Czeng to HF Datasets format"
   ]
  },
  {
   "cell_type": "code",
   "execution_count": 1,
   "metadata": {},
   "outputs": [],
   "source": [
    "from datasets import DatasetDict, Dataset\n",
    "from typing import List, Dict"
   ]
  },
  {
   "cell_type": "code",
   "execution_count": 2,
   "metadata": {},
   "outputs": [],
   "source": [
    "def read_mff_tsv(file_path) -> List[Dict[str, str]]:\n",
    "    test_file = []\n",
    "    with open(file_path, \"r\") as f:\n",
    "        for line in f:\n",
    "            row = line.strip().split(\"\\t\")\n",
    "\n",
    "            #if empty row read\n",
    "            if len(row) == 1 and row[0] == \"\":\n",
    "                continue\n",
    "\n",
    "            assert(len(row) == 6)\n",
    "\n",
    "            tmp_entry = {\"id\":row[0].strip(), \"text_cs\": row[4].strip(), \"text_en\": row[5].strip()}\n",
    "            test_file.append(tmp_entry)\n",
    "\n",
    "    return test_file"
   ]
  },
  {
   "cell_type": "code",
   "execution_count": 3,
   "metadata": {},
   "outputs": [],
   "source": [
    "test_data = read_mff_tsv(\"/mnt/data/factcheck/czeng20/czeng20-test\")\n",
    "train_data = read_mff_tsv(\"/mnt/data/factcheck/czeng20/czeng20-train\")"
   ]
  },
  {
   "cell_type": "code",
   "execution_count": 4,
   "metadata": {},
   "outputs": [],
   "source": [
    "hf_dataset = DatasetDict(\n",
    "    {\n",
    "        \"train\": Dataset.from_list(train_data),\n",
    "        \"test\": Dataset.from_list(test_data)\n",
    "    }\n",
    ")"
   ]
  },
  {
   "cell_type": "code",
   "execution_count": 5,
   "metadata": {},
   "outputs": [
    {
     "data": {
      "text/plain": [
       "DatasetDict({\n",
       "    train: Dataset({\n",
       "        features: ['id', 'text_cs', 'text_en'],\n",
       "        num_rows: 60980645\n",
       "    })\n",
       "    test: Dataset({\n",
       "        features: ['id', 'text_cs', 'text_en'],\n",
       "        num_rows: 492596\n",
       "    })\n",
       "})"
      ]
     },
     "execution_count": 5,
     "metadata": {},
     "output_type": "execute_result"
    }
   ],
   "source": [
    "hf_dataset"
   ]
  },
  {
   "cell_type": "code",
   "execution_count": 6,
   "metadata": {},
   "outputs": [
    {
     "data": {
      "application/vnd.jupyter.widget-view+json": {
       "model_id": "5822722a9b6f46f8ba0cb1c6756cbdb0",
       "version_major": 2,
       "version_minor": 0
      },
      "text/plain": [
       "Saving the dataset (0/22 shards):   0%|          | 0/60980645 [00:00<?, ? examples/s]"
      ]
     },
     "metadata": {},
     "output_type": "display_data"
    },
    {
     "data": {
      "application/vnd.jupyter.widget-view+json": {
       "model_id": "146318876cf64e3a8e5021ddaf611b08",
       "version_major": 2,
       "version_minor": 0
      },
      "text/plain": [
       "Saving the dataset (0/1 shards):   0%|          | 0/492596 [00:00<?, ? examples/s]"
      ]
     },
     "metadata": {},
     "output_type": "display_data"
    }
   ],
   "source": [
    "hf_dataset.save_to_disk(\"/mnt/data/factcheck/czeng20/hf_dataset/\")"
   ]
  },
  {
   "cell_type": "markdown",
   "metadata": {},
   "source": [
    "# Inspect tokenizes"
   ]
  },
  {
   "cell_type": "code",
   "execution_count": 1,
   "metadata": {},
   "outputs": [],
   "source": [
    "from transformers import AutoTokenizer\n",
    "\n",
    "tokenizer1 = AutoTokenizer.from_pretrained(\"/home/mlynatom/master-thesis-repository-tomas-mlynar/tokenizers/llama-3.1-8B-cs_expand_5M\")\n",
    "tokenizer2 = AutoTokenizer.from_pretrained(\"meta-llama/Llama-3.1-8B\")\n"
   ]
  },
  {
   "cell_type": "code",
   "execution_count": 18,
   "metadata": {},
   "outputs": [],
   "source": [
    "text = \"Fenomén japonských videoheren nemilosrdně umírá. Omrkněte poslední stroje, zachraňuje je i Čech\""
   ]
  },
  {
   "cell_type": "code",
   "execution_count": 28,
   "metadata": {},
   "outputs": [
    {
     "name": "stdout",
     "output_type": "stream",
     "text": [
      "num_tokens:  36\n",
      "128000 <|begin_of_text|>\n",
      "37 F\n",
      "133281 enom\n",
      "10610 én\n",
      "503  j\n",
      "26862 apons\n",
      "127777 kých\n",
      "2835  video\n",
      "1964 her\n",
      "268 en\n",
      "24566  nem\n",
      "90419 ilos\n",
      "6634 rd\n",
      "100292 ně\n",
      "4543  um\n",
      "2483 í\n",
      "38468 rá\n",
      "13 .\n",
      "19116  Om\n",
      "81 r\n",
      "19639 kn\n",
      "22161 ě\n",
      "668 te\n",
      "3273  po\n",
      "128493 sle\n",
      "17851 dn\n",
      "2483 í\n",
      "220  \n",
      "132523 stroje\n",
      "11 ,\n",
      "15036  za\n",
      "129784 chra\n",
      "107944 ňuje\n",
      "4864  je\n",
      "602  i\n",
      "115899  Čech\n"
     ]
    }
   ],
   "source": [
    "print(\"num_tokens: \", len(tokenizer1.encode(text)))\n",
    "for  token in tokenizer1.encode(text):\n",
    "    print(token, tokenizer1.decode(token))"
   ]
  },
  {
   "cell_type": "code",
   "execution_count": 29,
   "metadata": {},
   "outputs": [
    {
     "name": "stdout",
     "output_type": "stream",
     "text": [
      "num_tokens 34\n",
      "128000 <|begin_of_text|>\n",
      "37 F\n",
      "268 en\n",
      "316 om\n",
      "10610 én\n",
      "503  j\n",
      "26862 apons\n",
      "127777 kých\n",
      "2835  video\n",
      "1964 her\n",
      "268 en\n",
      "24566  nem\n",
      "90419 ilos\n",
      "6634 rd\n",
      "100292 ně\n",
      "4543  um\n",
      "2483 í\n",
      "38468 rá\n",
      "13 .\n",
      "19116  Om\n",
      "81 r\n",
      "19639 kn\n",
      "22161 ě\n",
      "668 te\n",
      "111727  poslední\n",
      "31511  stro\n",
      "3841 je\n",
      "11 ,\n",
      "97912  zach\n",
      "969 ra\n",
      "107944 ňuje\n",
      "4864  je\n",
      "602  i\n",
      "115899  Čech\n"
     ]
    }
   ],
   "source": [
    "print(\"num_tokens\", len(tokenizer2.encode(text)))\n",
    "for token in tokenizer2.encode(text):\n",
    "    print(token, tokenizer2.decode(token))"
   ]
  }
 ],
 "metadata": {
  "kernelspec": {
   "display_name": "Python 3 (ipykernel)",
   "language": "python",
   "name": "python3"
  },
  "language_info": {
   "codemirror_mode": {
    "name": "ipython",
    "version": 3
   },
   "file_extension": ".py",
   "mimetype": "text/x-python",
   "name": "python",
   "nbconvert_exporter": "python",
   "pygments_lexer": "ipython3",
   "version": "3.12.3"
  }
 },
 "nbformat": 4,
 "nbformat_minor": 2
}
