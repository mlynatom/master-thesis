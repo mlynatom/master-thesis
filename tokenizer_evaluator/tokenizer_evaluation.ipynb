{
 "cells": [
  {
   "cell_type": "markdown",
   "metadata": {},
   "source": [
    "# Notebook for tokenizer evaluation"
   ]
  },
  {
   "cell_type": "code",
   "execution_count": 1,
   "metadata": {},
   "outputs": [],
   "source": [
    "from tokenizer_evaluator.tokenizer_eval import TokenizerEvaluator\n",
    "\n",
    "%load_ext autoreload\n",
    "%autoreload 2"
   ]
  },
  {
   "cell_type": "code",
   "execution_count": 39,
   "metadata": {},
   "outputs": [
    {
     "data": {
      "application/vnd.jupyter.widget-view+json": {
       "model_id": "237aa43e9c5a40b991918fff05c31a8d",
       "version_major": 2,
       "version_minor": 0
      },
      "text/plain": [
       "Loading dataset from disk:   0%|          | 0/22 [00:00<?, ?it/s]"
      ]
     },
     "metadata": {},
     "output_type": "display_data"
    }
   ],
   "source": [
    "tok_eval = TokenizerEvaluator(fertility_split=\"test\", parity_split=\"test\")"
   ]
  },
  {
   "cell_type": "code",
   "execution_count": null,
   "metadata": {},
   "outputs": [
    {
     "name": "stdout",
     "output_type": "stream",
     "text": [
      "Found 20 unique tokenizers\n",
      "Evaluating tokenizer meta-llama/Llama-3.2-1B\n"
     ]
    },
    {
     "name": "stderr",
     "output_type": "stream",
     "text": [
      "20000it [00:23, 843.13it/s]\n"
     ]
    },
    {
     "data": {
      "application/vnd.jupyter.widget-view+json": {
       "model_id": "a71578801c1740fa809c0cb4467035b2",
       "version_major": 2,
       "version_minor": 0
      },
      "text/plain": [
       "Map:   0%|          | 0/492596 [00:00<?, ? examples/s]"
      ]
     },
     "metadata": {},
     "output_type": "display_data"
    },
    {
     "name": "stdout",
     "output_type": "stream",
     "text": [
      "Evaluating tokenizer CohereForAI/aya-expanse-8b\n"
     ]
    },
    {
     "name": "stderr",
     "output_type": "stream",
     "text": [
      "20000it [00:26, 760.11it/s]\n"
     ]
    },
    {
     "data": {
      "application/vnd.jupyter.widget-view+json": {
       "model_id": "0cac6ef76dbe49909dd89f33ea6546b4",
       "version_major": 2,
       "version_minor": 0
      },
      "text/plain": [
       "Map:   0%|          | 0/492596 [00:00<?, ? examples/s]"
      ]
     },
     "metadata": {},
     "output_type": "display_data"
    },
    {
     "name": "stdout",
     "output_type": "stream",
     "text": [
      "Evaluating tokenizer CohereForAI/aya-101\n"
     ]
    },
    {
     "name": "stderr",
     "output_type": "stream",
     "text": [
      "20000it [00:27, 717.50it/s]\n"
     ]
    },
    {
     "data": {
      "application/vnd.jupyter.widget-view+json": {
       "model_id": "0fa65ee26d8d459598b68b13693877cd",
       "version_major": 2,
       "version_minor": 0
      },
      "text/plain": [
       "Map:   0%|          | 0/492596 [00:00<?, ? examples/s]"
      ]
     },
     "metadata": {},
     "output_type": "display_data"
    },
    {
     "name": "stdout",
     "output_type": "stream",
     "text": [
      "Evaluating tokenizer CohereForAI/c4ai-command-r-08-2024\n"
     ]
    },
    {
     "name": "stderr",
     "output_type": "stream",
     "text": [
      "20000it [00:28, 709.60it/s]\n"
     ]
    },
    {
     "data": {
      "application/vnd.jupyter.widget-view+json": {
       "model_id": "78bc7af5f38d4baf87dfad02a14458ff",
       "version_major": 2,
       "version_minor": 0
      },
      "text/plain": [
       "Map:   0%|          | 0/492596 [00:00<?, ? examples/s]"
      ]
     },
     "metadata": {},
     "output_type": "display_data"
    },
    {
     "name": "stdout",
     "output_type": "stream",
     "text": [
      "Evaluating tokenizer mistralai/Ministral-8B-Instruct-2410\n"
     ]
    },
    {
     "name": "stderr",
     "output_type": "stream",
     "text": [
      "20000it [00:26, 754.83it/s]\n"
     ]
    },
    {
     "data": {
      "application/vnd.jupyter.widget-view+json": {
       "model_id": "c0d29be8a74f494d9735def108bbb1c0",
       "version_major": 2,
       "version_minor": 0
      },
      "text/plain": [
       "Map:   0%|          | 0/492596 [00:00<?, ? examples/s]"
      ]
     },
     "metadata": {},
     "output_type": "display_data"
    },
    {
     "name": "stdout",
     "output_type": "stream",
     "text": [
      "Evaluating tokenizer mistralai/Mistral-7B-Instruct-v0.3\n"
     ]
    },
    {
     "name": "stderr",
     "output_type": "stream",
     "text": [
      "20000it [00:19, 1026.78it/s]\n"
     ]
    },
    {
     "data": {
      "application/vnd.jupyter.widget-view+json": {
       "model_id": "b29c2fd190644e35bf51f6a0a3eba225",
       "version_major": 2,
       "version_minor": 0
      },
      "text/plain": [
       "Map:   0%|          | 0/492596 [00:00<?, ? examples/s]"
      ]
     },
     "metadata": {},
     "output_type": "display_data"
    },
    {
     "name": "stdout",
     "output_type": "stream",
     "text": [
      "Evaluating tokenizer mistralai/Mixtral-8x7B-Instruct-v0.1\n"
     ]
    },
    {
     "name": "stderr",
     "output_type": "stream",
     "text": [
      "20000it [00:18, 1076.87it/s]\n"
     ]
    },
    {
     "data": {
      "application/vnd.jupyter.widget-view+json": {
       "model_id": "0b7b86ce3e004f70be6dd9b2090b5260",
       "version_major": 2,
       "version_minor": 0
      },
      "text/plain": [
       "Map:   0%|          | 0/492596 [00:00<?, ? examples/s]"
      ]
     },
     "metadata": {},
     "output_type": "display_data"
    },
    {
     "name": "stdout",
     "output_type": "stream",
     "text": [
      "Evaluating tokenizer meta-llama/Meta-Llama-3-8B\n"
     ]
    },
    {
     "name": "stderr",
     "output_type": "stream",
     "text": [
      "20000it [00:23, 857.84it/s]\n"
     ]
    },
    {
     "data": {
      "application/vnd.jupyter.widget-view+json": {
       "model_id": "9a4a8e8501934d4c967111ce31810a31",
       "version_major": 2,
       "version_minor": 0
      },
      "text/plain": [
       "Map:   0%|          | 0/492596 [00:00<?, ? examples/s]"
      ]
     },
     "metadata": {},
     "output_type": "display_data"
    },
    {
     "name": "stdout",
     "output_type": "stream",
     "text": [
      "Evaluating tokenizer meta-llama/Llama-2-7b-hf\n"
     ]
    },
    {
     "name": "stderr",
     "output_type": "stream",
     "text": [
      "20000it [00:19, 1045.82it/s]\n"
     ]
    },
    {
     "data": {
      "application/vnd.jupyter.widget-view+json": {
       "model_id": "5290c5c2c81241e6b0d135b00477929e",
       "version_major": 2,
       "version_minor": 0
      },
      "text/plain": [
       "Map:   0%|          | 0/492596 [00:00<?, ? examples/s]"
      ]
     },
     "metadata": {},
     "output_type": "display_data"
    },
    {
     "name": "stdout",
     "output_type": "stream",
     "text": [
      "Evaluating tokenizer openai-community/gpt2\n"
     ]
    },
    {
     "name": "stderr",
     "output_type": "stream",
     "text": [
      "0it [00:00, ?it/s]Token indices sequence length is longer than the specified maximum sequence length for this model (1954 > 1024). Running this sequence through the model will result in indexing errors\n",
      "20000it [00:25, 793.81it/s]\n"
     ]
    },
    {
     "data": {
      "application/vnd.jupyter.widget-view+json": {
       "model_id": "9ecdad2f2c934d528c23ae1f94ee2398",
       "version_major": 2,
       "version_minor": 0
      },
      "text/plain": [
       "Map:   0%|          | 0/492596 [00:00<?, ? examples/s]"
      ]
     },
     "metadata": {},
     "output_type": "display_data"
    },
    {
     "name": "stdout",
     "output_type": "stream",
     "text": [
      "Evaluating tokenizer Qwen/Qwen2.5-0.5B\n"
     ]
    },
    {
     "name": "stderr",
     "output_type": "stream",
     "text": [
      "1it [00:01,  1.71s/it]Token indices sequence length is longer than the specified maximum sequence length for this model (135811 > 131072). Running this sequence through the model will result in indexing errors\n",
      "20000it [00:26, 744.59it/s]\n"
     ]
    },
    {
     "data": {
      "application/vnd.jupyter.widget-view+json": {
       "model_id": "3743864062f64569bb3f25a451373739",
       "version_major": 2,
       "version_minor": 0
      },
      "text/plain": [
       "Map:   0%|          | 0/492596 [00:00<?, ? examples/s]"
      ]
     },
     "metadata": {},
     "output_type": "display_data"
    },
    {
     "name": "stdout",
     "output_type": "stream",
     "text": [
      "Evaluating tokenizer Qwen/Qwen2-0.5B\n"
     ]
    },
    {
     "name": "stderr",
     "output_type": "stream",
     "text": [
      "1it [00:01,  1.68s/it]Token indices sequence length is longer than the specified maximum sequence length for this model (135811 > 32768). Running this sequence through the model will result in indexing errors\n",
      "20000it [00:26, 751.74it/s]\n"
     ]
    },
    {
     "data": {
      "application/vnd.jupyter.widget-view+json": {
       "model_id": "75f73298a08b469d98989909de6902c0",
       "version_major": 2,
       "version_minor": 0
      },
      "text/plain": [
       "Map:   0%|          | 0/492596 [00:00<?, ? examples/s]"
      ]
     },
     "metadata": {},
     "output_type": "display_data"
    },
    {
     "name": "stdout",
     "output_type": "stream",
     "text": [
      "Evaluating tokenizer google/gemma-2-2b\n"
     ]
    },
    {
     "name": "stderr",
     "output_type": "stream",
     "text": [
      "20000it [00:19, 1038.49it/s]\n"
     ]
    },
    {
     "data": {
      "application/vnd.jupyter.widget-view+json": {
       "model_id": "e1a45d5ba16b488e97a41fc8b3a57060",
       "version_major": 2,
       "version_minor": 0
      },
      "text/plain": [
       "Map:   0%|          | 0/492596 [00:00<?, ? examples/s]"
      ]
     },
     "metadata": {},
     "output_type": "display_data"
    },
    {
     "name": "stdout",
     "output_type": "stream",
     "text": [
      "Evaluating tokenizer ibm-granite/granite-3.0-8b-base\n"
     ]
    },
    {
     "name": "stderr",
     "output_type": "stream",
     "text": [
      "20000it [00:24, 812.25it/s]\n"
     ]
    },
    {
     "data": {
      "application/vnd.jupyter.widget-view+json": {
       "model_id": "b1a9cc8efc9b4014a9ead6155d7ebb48",
       "version_major": 2,
       "version_minor": 0
      },
      "text/plain": [
       "Map:   0%|          | 0/492596 [00:00<?, ? examples/s]"
      ]
     },
     "metadata": {},
     "output_type": "display_data"
    },
    {
     "name": "stdout",
     "output_type": "stream",
     "text": [
      "Evaluating tokenizer BUT-FIT/csmpt7b\n"
     ]
    },
    {
     "name": "stderr",
     "output_type": "stream",
     "text": [
      "0it [00:00, ?it/s]Token indices sequence length is longer than the specified maximum sequence length for this model (3320 > 2048). Running this sequence through the model will result in indexing errors\n",
      "20000it [00:22, 873.43it/s]\n"
     ]
    },
    {
     "data": {
      "application/vnd.jupyter.widget-view+json": {
       "model_id": "2ae8b1e0abd24cd59be3e1d64954fd33",
       "version_major": 2,
       "version_minor": 0
      },
      "text/plain": [
       "Map:   0%|          | 0/492596 [00:00<?, ? examples/s]"
      ]
     },
     "metadata": {},
     "output_type": "display_data"
    },
    {
     "name": "stdout",
     "output_type": "stream",
     "text": [
      "Evaluating tokenizer allenai/OLMo-2-1124-7B\n"
     ]
    },
    {
     "name": "stderr",
     "output_type": "stream",
     "text": [
      "20000it [00:26, 759.72it/s]\n"
     ]
    },
    {
     "data": {
      "application/vnd.jupyter.widget-view+json": {
       "model_id": "9a90934298364f9faaccc59211734d10",
       "version_major": 2,
       "version_minor": 0
      },
      "text/plain": [
       "Map:   0%|          | 0/492596 [00:00<?, ? examples/s]"
      ]
     },
     "metadata": {},
     "output_type": "display_data"
    },
    {
     "name": "stdout",
     "output_type": "stream",
     "text": [
      "Evaluating tokenizer gpt-4o\n"
     ]
    },
    {
     "name": "stderr",
     "output_type": "stream",
     "text": [
      "20000it [00:09, 2141.40it/s]\n"
     ]
    },
    {
     "data": {
      "application/vnd.jupyter.widget-view+json": {
       "model_id": "cf21ef13d0e34a3ea4b5595216f48b6e",
       "version_major": 2,
       "version_minor": 0
      },
      "text/plain": [
       "Map:   0%|          | 0/492596 [00:00<?, ? examples/s]"
      ]
     },
     "metadata": {},
     "output_type": "display_data"
    },
    {
     "name": "stdout",
     "output_type": "stream",
     "text": [
      "Evaluating tokenizer gpt-4\n"
     ]
    },
    {
     "name": "stderr",
     "output_type": "stream",
     "text": [
      "20000it [00:06, 2964.80it/s]\n"
     ]
    },
    {
     "data": {
      "application/vnd.jupyter.widget-view+json": {
       "model_id": "d69ee4b1b8e34e85bb54c0de288007ce",
       "version_major": 2,
       "version_minor": 0
      },
      "text/plain": [
       "Map:   0%|          | 0/492596 [00:00<?, ? examples/s]"
      ]
     },
     "metadata": {},
     "output_type": "display_data"
    },
    {
     "name": "stdout",
     "output_type": "stream",
     "text": [
      "Evaluating tokenizer gpt-3.5-turbo\n"
     ]
    },
    {
     "name": "stderr",
     "output_type": "stream",
     "text": [
      "20000it [00:06, 2964.64it/s]\n"
     ]
    },
    {
     "name": "stdout",
     "output_type": "stream",
     "text": [
      "Evaluating tokenizer gpt-2\n"
     ]
    },
    {
     "name": "stderr",
     "output_type": "stream",
     "text": [
      "20000it [00:06, 3152.56it/s]\n"
     ]
    },
    {
     "data": {
      "application/vnd.jupyter.widget-view+json": {
       "model_id": "268813945983401e88216d2c188e8dac",
       "version_major": 2,
       "version_minor": 0
      },
      "text/plain": [
       "Map:   0%|          | 0/492596 [00:00<?, ? examples/s]"
      ]
     },
     "metadata": {},
     "output_type": "display_data"
    }
   ],
   "source": [
    "model_ids = [\"meta-llama/Llama-3.2-1B\", \n",
    "             \"meta-llama/Llama-3.2-3B\", \n",
    "             \"meta-llama/Llama-3.1-8B\", \n",
    "             \"meta-llama/Llama-3.1-70B\", \n",
    "             \"meta-llama/Llama-3.1-405B\", \n",
    "             \"CohereForAI/aya-expanse-8b\", \n",
    "             \"CohereForAI/aya-expanse-32b\",\n",
    "             \"CohereForAI/aya-23-8B\",\n",
    "             \"CohereForAI/aya-23-35B\",\n",
    "             \"CohereForAI/aya-101\",\n",
    "             \"CohereForAI/c4ai-command-r-v01\", \n",
    "             \"CohereForAI/c4ai-command-r-08-2024\", \n",
    "             \"CohereForAI/c4ai-command-r-plus\", \n",
    "             \"CohereForAI/c4ai-command-r-plus-08-2024\", \n",
    "             \"mistralai/Ministral-8B-Instruct-2410\", \n",
    "             \"mistralai/Mistral-7B-Instruct-v0.3\", \n",
    "             \"mistralai/Mixtral-8x7B-Instruct-v0.1\",\n",
    "             \"meta-llama/Meta-Llama-3-8B\",\n",
    "             \"meta-llama/Meta-Llama-3-70B\",\n",
    "             \"meta-llama/Llama-2-7b-hf\",\n",
    "             \"meta-llama/Llama-2-13b-hf\",\n",
    "             \"meta-llama/Llama-2-70b-hf\",\n",
    "             \"Qwen/Qwen2.5-0.5B\",\n",
    "             \"Qwen/Qwen2.5-1.5B\",\n",
    "             \"Qwen/Qwen2.5-3B\",\n",
    "             \"Qwen/Qwen2.5-7B\",\n",
    "             \"Qwen/Qwen2.5-14B\",\n",
    "             \"Qwen/Qwen2.5-32B\",\n",
    "             \"Qwen/Qwen2.5-72B\",\n",
    "             \"Qwen/Qwen2-0.5B\",\n",
    "             \"Qwen/Qwen2-1.5B\",\n",
    "             \"Qwen/Qwen2-7B\",\n",
    "             \"Qwen/Qwen2-72B\",\n",
    "             \"Qwen/Qwen1.5-0.5B\",\n",
    "             \"Qwen/Qwen1.5-1.8B\",\n",
    "             \"Qwen/Qwen1.5-4B\",\n",
    "             \"Qwen/Qwen1.5-7B\",\n",
    "             \"Qwen/Qwen1.5-14B\",\n",
    "             \"Qwen/Qwen1.5-32B\",\n",
    "             \"Qwen/Qwen1.5-72B\",\n",
    "             \"Qwen/Qwen1.5-110B\",\n",
    "             \"google/gemma-2-2b\",\n",
    "             \"google/gemma-2-9b\",\n",
    "             \"google/gemma-2-27b\",\n",
    "             \"google/gemma-2b\",\n",
    "             \"google/gemma-7b\",\n",
    "             \"ibm-granite/granite-3.0-8b-base\",\n",
    "             \"ibm-granite/granite-3.0-2b-base\",\n",
    "             \"BUT-FIT/csmpt7b\",\n",
    "             \"BUT-FIT/CSTinyLlama-1.2B\",\n",
    "             \"BUT-FIT/Czech-GPT-2-XL-133k\",\n",
    "             \"allenai/OLMo-2-1124-7B\",\n",
    "             \"allenai/OLMo-2-1124-13B\",\n",
    "             \"gpt-4o\",\n",
    "             \"gpt-4\",\n",
    "             \"gpt-3.5-turbo\",\n",
    "             \"gpt-2\",\n",
    "             ]\n",
    "\n",
    "results = tok_eval.evaluate(model_ids, verbose=True)"
   ]
  },
  {
   "cell_type": "code",
   "execution_count": 41,
   "metadata": {},
   "outputs": [
    {
     "data": {
      "text/plain": [
       "{'meta-llama/Llama-3.2-1B': {'fertility': 2.0988014611163774,\n",
       "  'parity': 1.4206662400380612,\n",
       "  'all_models': ['meta-llama/Llama-3.2-1B',\n",
       "   'meta-llama/Llama-3.2-3B',\n",
       "   'meta-llama/Llama-3.1-8B',\n",
       "   'meta-llama/Llama-3.1-70B',\n",
       "   'meta-llama/Llama-3.1-405B']},\n",
       " 'CohereForAI/aya-expanse-8b': {'fertility': 1.8890454494605864,\n",
       "  'parity': 1.3330894566382467,\n",
       "  'all_models': ['CohereForAI/aya-expanse-8b',\n",
       "   'CohereForAI/aya-expanse-32b',\n",
       "   'CohereForAI/aya-23-8B',\n",
       "   'CohereForAI/aya-23-35B',\n",
       "   'CohereForAI/c4ai-command-r-v01',\n",
       "   'CohereForAI/c4ai-command-r-plus',\n",
       "   'CohereForAI/c4ai-command-r-plus-08-2024']},\n",
       " 'CohereForAI/aya-101': {'fertility': 2.1928614783146934,\n",
       "  'parity': 1.2311202457601853,\n",
       "  'all_models': ['CohereForAI/aya-101']},\n",
       " 'CohereForAI/c4ai-command-r-08-2024': {'fertility': 1.8890454494605864,\n",
       "  'parity': 1.3330894566382467,\n",
       "  'all_models': ['CohereForAI/c4ai-command-r-08-2024']},\n",
       " 'mistralai/Ministral-8B-Instruct-2410': {'fertility': 2.2523947863928786,\n",
       "  'parity': 1.4961564337352238,\n",
       "  'all_models': ['mistralai/Ministral-8B-Instruct-2410']},\n",
       " 'mistralai/Mistral-7B-Instruct-v0.3': {'fertility': 2.873051056023403,\n",
       "  'parity': 1.655724975211876,\n",
       "  'all_models': ['mistralai/Mistral-7B-Instruct-v0.3']},\n",
       " 'mistralai/Mixtral-8x7B-Instruct-v0.1': {'fertility': 2.873051056023403,\n",
       "  'parity': 1.655724975211876,\n",
       "  'all_models': ['mistralai/Mixtral-8x7B-Instruct-v0.1']},\n",
       " 'meta-llama/Meta-Llama-3-8B': {'fertility': 2.0988014611163774,\n",
       "  'parity': 1.4206662400380612,\n",
       "  'all_models': ['meta-llama/Meta-Llama-3-8B', 'meta-llama/Meta-Llama-3-70B']},\n",
       " 'meta-llama/Llama-2-7b-hf': {'fertility': 2.717826152126045,\n",
       "  'parity': 1.5459376235336106,\n",
       "  'all_models': ['meta-llama/Llama-2-7b-hf',\n",
       "   'meta-llama/Llama-2-13b-hf',\n",
       "   'meta-llama/Llama-2-70b-hf']},\n",
       " 'openai-community/gpt2': {'fertility': 3.5579416534037116,\n",
       "  'parity': 2.1526387140925887,\n",
       "  'all_models': ['openai-community/gpt2']},\n",
       " 'Qwen/Qwen2.5-0.5B': {'fertility': 2.8889866141711797,\n",
       "  'parity': 1.7964448113581513,\n",
       "  'all_models': ['Qwen/Qwen2.5-0.5B',\n",
       "   'Qwen/Qwen2.5-1.5B',\n",
       "   'Qwen/Qwen2.5-3B',\n",
       "   'Qwen/Qwen2.5-7B',\n",
       "   'Qwen/Qwen2.5-14B',\n",
       "   'Qwen/Qwen2.5-32B',\n",
       "   'Qwen/Qwen2.5-72B']},\n",
       " 'Qwen/Qwen2-0.5B': {'fertility': 2.8889866141711797,\n",
       "  'parity': 1.7964448113581513,\n",
       "  'all_models': ['Qwen/Qwen2-0.5B',\n",
       "   'Qwen/Qwen2-1.5B',\n",
       "   'Qwen/Qwen2-7B',\n",
       "   'Qwen/Qwen2-72B',\n",
       "   'Qwen/Qwen1.5-0.5B',\n",
       "   'Qwen/Qwen1.5-1.8B',\n",
       "   'Qwen/Qwen1.5-4B',\n",
       "   'Qwen/Qwen1.5-7B',\n",
       "   'Qwen/Qwen1.5-14B',\n",
       "   'Qwen/Qwen1.5-32B',\n",
       "   'Qwen/Qwen1.5-72B',\n",
       "   'Qwen/Qwen1.5-110B']},\n",
       " 'google/gemma-2-2b': {'fertility': 2.105951349619502,\n",
       "  'parity': 1.3572829581951464,\n",
       "  'all_models': ['google/gemma-2-2b',\n",
       "   'google/gemma-2-9b',\n",
       "   'google/gemma-2-27b',\n",
       "   'google/gemma-2b',\n",
       "   'google/gemma-7b']},\n",
       " 'ibm-granite/granite-3.0-8b-base': {'fertility': 2.942121284346351,\n",
       "  'parity': 1.65251775556659,\n",
       "  'all_models': ['ibm-granite/granite-3.0-8b-base',\n",
       "   'ibm-granite/granite-3.0-2b-base']},\n",
       " 'BUT-FIT/csmpt7b': {'fertility': 1.424352926885546,\n",
       "  'parity': 0.7172087024006707,\n",
       "  'all_models': ['BUT-FIT/csmpt7b',\n",
       "   'BUT-FIT/CSTinyLlama-1.2B',\n",
       "   'BUT-FIT/Czech-GPT-2-XL-133k']},\n",
       " 'allenai/OLMo-2-1124-7B': {'fertility': 2.887689636243819,\n",
       "  'parity': 1.8194358709354665,\n",
       "  'all_models': ['allenai/OLMo-2-1124-7B', 'allenai/OLMo-2-1124-13B']},\n",
       " 'gpt-4o': {'fertility': 2.187530280662341,\n",
       "  'parity': 1.4962998752874066,\n",
       "  'all_models': ['gpt-4o']},\n",
       " 'gpt-4': {'fertility': 2.887689636243819,\n",
       "  'parity': 1.8194358709354665,\n",
       "  'all_models': ['gpt-4']},\n",
       " 'gpt-3.5-turbo': {'fertility': 2.887689636243819,\n",
       "  'parity': 1.8194358709354665,\n",
       "  'all_models': ['gpt-3.5-turbo']},\n",
       " 'gpt-2': {'fertility': 3.5579416534037116,\n",
       "  'parity': 2.1526387140925887,\n",
       "  'all_models': ['gpt-2']}}"
      ]
     },
     "execution_count": 41,
     "metadata": {},
     "output_type": "execute_result"
    }
   ],
   "source": [
    "results"
   ]
  },
  {
   "cell_type": "code",
   "execution_count": 44,
   "metadata": {},
   "outputs": [
    {
     "data": {
      "text/html": [
       "<div>\n",
       "<style scoped>\n",
       "    .dataframe tbody tr th:only-of-type {\n",
       "        vertical-align: middle;\n",
       "    }\n",
       "\n",
       "    .dataframe tbody tr th {\n",
       "        vertical-align: top;\n",
       "    }\n",
       "\n",
       "    .dataframe thead th {\n",
       "        text-align: right;\n",
       "    }\n",
       "</style>\n",
       "<table border=\"1\" class=\"dataframe\">\n",
       "  <thead>\n",
       "    <tr style=\"text-align: right;\">\n",
       "      <th></th>\n",
       "      <th>model_id</th>\n",
       "      <th>fertility</th>\n",
       "      <th>parity</th>\n",
       "      <th>all_models</th>\n",
       "    </tr>\n",
       "  </thead>\n",
       "  <tbody>\n",
       "    <tr>\n",
       "      <th>0</th>\n",
       "      <td>meta-llama/Llama-3.2-1B</td>\n",
       "      <td>2.098801</td>\n",
       "      <td>1.420666</td>\n",
       "      <td>[meta-llama/Llama-3.2-1B, meta-llama/Llama-3.2...</td>\n",
       "    </tr>\n",
       "    <tr>\n",
       "      <th>1</th>\n",
       "      <td>CohereForAI/aya-expanse-8b</td>\n",
       "      <td>1.889045</td>\n",
       "      <td>1.333089</td>\n",
       "      <td>[CohereForAI/aya-expanse-8b, CohereForAI/aya-e...</td>\n",
       "    </tr>\n",
       "    <tr>\n",
       "      <th>2</th>\n",
       "      <td>CohereForAI/aya-101</td>\n",
       "      <td>2.192861</td>\n",
       "      <td>1.23112</td>\n",
       "      <td>[CohereForAI/aya-101]</td>\n",
       "    </tr>\n",
       "    <tr>\n",
       "      <th>3</th>\n",
       "      <td>CohereForAI/c4ai-command-r-08-2024</td>\n",
       "      <td>1.889045</td>\n",
       "      <td>1.333089</td>\n",
       "      <td>[CohereForAI/c4ai-command-r-08-2024]</td>\n",
       "    </tr>\n",
       "    <tr>\n",
       "      <th>4</th>\n",
       "      <td>mistralai/Ministral-8B-Instruct-2410</td>\n",
       "      <td>2.252395</td>\n",
       "      <td>1.496156</td>\n",
       "      <td>[mistralai/Ministral-8B-Instruct-2410]</td>\n",
       "    </tr>\n",
       "    <tr>\n",
       "      <th>5</th>\n",
       "      <td>mistralai/Mistral-7B-Instruct-v0.3</td>\n",
       "      <td>2.873051</td>\n",
       "      <td>1.655725</td>\n",
       "      <td>[mistralai/Mistral-7B-Instruct-v0.3]</td>\n",
       "    </tr>\n",
       "    <tr>\n",
       "      <th>6</th>\n",
       "      <td>mistralai/Mixtral-8x7B-Instruct-v0.1</td>\n",
       "      <td>2.873051</td>\n",
       "      <td>1.655725</td>\n",
       "      <td>[mistralai/Mixtral-8x7B-Instruct-v0.1]</td>\n",
       "    </tr>\n",
       "    <tr>\n",
       "      <th>7</th>\n",
       "      <td>meta-llama/Meta-Llama-3-8B</td>\n",
       "      <td>2.098801</td>\n",
       "      <td>1.420666</td>\n",
       "      <td>[meta-llama/Meta-Llama-3-8B, meta-llama/Meta-L...</td>\n",
       "    </tr>\n",
       "    <tr>\n",
       "      <th>8</th>\n",
       "      <td>meta-llama/Llama-2-7b-hf</td>\n",
       "      <td>2.717826</td>\n",
       "      <td>1.545938</td>\n",
       "      <td>[meta-llama/Llama-2-7b-hf, meta-llama/Llama-2-...</td>\n",
       "    </tr>\n",
       "    <tr>\n",
       "      <th>9</th>\n",
       "      <td>openai-community/gpt2</td>\n",
       "      <td>3.557942</td>\n",
       "      <td>2.152639</td>\n",
       "      <td>[openai-community/gpt2]</td>\n",
       "    </tr>\n",
       "    <tr>\n",
       "      <th>10</th>\n",
       "      <td>Qwen/Qwen2.5-0.5B</td>\n",
       "      <td>2.888987</td>\n",
       "      <td>1.796445</td>\n",
       "      <td>[Qwen/Qwen2.5-0.5B, Qwen/Qwen2.5-1.5B, Qwen/Qw...</td>\n",
       "    </tr>\n",
       "    <tr>\n",
       "      <th>11</th>\n",
       "      <td>Qwen/Qwen2-0.5B</td>\n",
       "      <td>2.888987</td>\n",
       "      <td>1.796445</td>\n",
       "      <td>[Qwen/Qwen2-0.5B, Qwen/Qwen2-1.5B, Qwen/Qwen2-...</td>\n",
       "    </tr>\n",
       "    <tr>\n",
       "      <th>12</th>\n",
       "      <td>google/gemma-2-2b</td>\n",
       "      <td>2.105951</td>\n",
       "      <td>1.357283</td>\n",
       "      <td>[google/gemma-2-2b, google/gemma-2-9b, google/...</td>\n",
       "    </tr>\n",
       "    <tr>\n",
       "      <th>13</th>\n",
       "      <td>ibm-granite/granite-3.0-8b-base</td>\n",
       "      <td>2.942121</td>\n",
       "      <td>1.652518</td>\n",
       "      <td>[ibm-granite/granite-3.0-8b-base, ibm-granite/...</td>\n",
       "    </tr>\n",
       "    <tr>\n",
       "      <th>14</th>\n",
       "      <td>BUT-FIT/csmpt7b</td>\n",
       "      <td>1.424353</td>\n",
       "      <td>0.717209</td>\n",
       "      <td>[BUT-FIT/csmpt7b, BUT-FIT/CSTinyLlama-1.2B, BU...</td>\n",
       "    </tr>\n",
       "    <tr>\n",
       "      <th>15</th>\n",
       "      <td>allenai/OLMo-2-1124-7B</td>\n",
       "      <td>2.88769</td>\n",
       "      <td>1.819436</td>\n",
       "      <td>[allenai/OLMo-2-1124-7B, allenai/OLMo-2-1124-13B]</td>\n",
       "    </tr>\n",
       "    <tr>\n",
       "      <th>16</th>\n",
       "      <td>gpt-4o</td>\n",
       "      <td>2.18753</td>\n",
       "      <td>1.4963</td>\n",
       "      <td>[gpt-4o]</td>\n",
       "    </tr>\n",
       "    <tr>\n",
       "      <th>17</th>\n",
       "      <td>gpt-4</td>\n",
       "      <td>2.88769</td>\n",
       "      <td>1.819436</td>\n",
       "      <td>[gpt-4]</td>\n",
       "    </tr>\n",
       "    <tr>\n",
       "      <th>18</th>\n",
       "      <td>gpt-3.5-turbo</td>\n",
       "      <td>2.88769</td>\n",
       "      <td>1.819436</td>\n",
       "      <td>[gpt-3.5-turbo]</td>\n",
       "    </tr>\n",
       "    <tr>\n",
       "      <th>19</th>\n",
       "      <td>gpt-2</td>\n",
       "      <td>3.557942</td>\n",
       "      <td>2.152639</td>\n",
       "      <td>[gpt-2]</td>\n",
       "    </tr>\n",
       "  </tbody>\n",
       "</table>\n",
       "</div>"
      ],
      "text/plain": [
       "                                model_id fertility    parity  \\\n",
       "0                meta-llama/Llama-3.2-1B  2.098801  1.420666   \n",
       "1             CohereForAI/aya-expanse-8b  1.889045  1.333089   \n",
       "2                    CohereForAI/aya-101  2.192861   1.23112   \n",
       "3     CohereForAI/c4ai-command-r-08-2024  1.889045  1.333089   \n",
       "4   mistralai/Ministral-8B-Instruct-2410  2.252395  1.496156   \n",
       "5     mistralai/Mistral-7B-Instruct-v0.3  2.873051  1.655725   \n",
       "6   mistralai/Mixtral-8x7B-Instruct-v0.1  2.873051  1.655725   \n",
       "7             meta-llama/Meta-Llama-3-8B  2.098801  1.420666   \n",
       "8               meta-llama/Llama-2-7b-hf  2.717826  1.545938   \n",
       "9                  openai-community/gpt2  3.557942  2.152639   \n",
       "10                     Qwen/Qwen2.5-0.5B  2.888987  1.796445   \n",
       "11                       Qwen/Qwen2-0.5B  2.888987  1.796445   \n",
       "12                     google/gemma-2-2b  2.105951  1.357283   \n",
       "13       ibm-granite/granite-3.0-8b-base  2.942121  1.652518   \n",
       "14                       BUT-FIT/csmpt7b  1.424353  0.717209   \n",
       "15                allenai/OLMo-2-1124-7B   2.88769  1.819436   \n",
       "16                                gpt-4o   2.18753    1.4963   \n",
       "17                                 gpt-4   2.88769  1.819436   \n",
       "18                         gpt-3.5-turbo   2.88769  1.819436   \n",
       "19                                 gpt-2  3.557942  2.152639   \n",
       "\n",
       "                                           all_models  \n",
       "0   [meta-llama/Llama-3.2-1B, meta-llama/Llama-3.2...  \n",
       "1   [CohereForAI/aya-expanse-8b, CohereForAI/aya-e...  \n",
       "2                               [CohereForAI/aya-101]  \n",
       "3                [CohereForAI/c4ai-command-r-08-2024]  \n",
       "4              [mistralai/Ministral-8B-Instruct-2410]  \n",
       "5                [mistralai/Mistral-7B-Instruct-v0.3]  \n",
       "6              [mistralai/Mixtral-8x7B-Instruct-v0.1]  \n",
       "7   [meta-llama/Meta-Llama-3-8B, meta-llama/Meta-L...  \n",
       "8   [meta-llama/Llama-2-7b-hf, meta-llama/Llama-2-...  \n",
       "9                             [openai-community/gpt2]  \n",
       "10  [Qwen/Qwen2.5-0.5B, Qwen/Qwen2.5-1.5B, Qwen/Qw...  \n",
       "11  [Qwen/Qwen2-0.5B, Qwen/Qwen2-1.5B, Qwen/Qwen2-...  \n",
       "12  [google/gemma-2-2b, google/gemma-2-9b, google/...  \n",
       "13  [ibm-granite/granite-3.0-8b-base, ibm-granite/...  \n",
       "14  [BUT-FIT/csmpt7b, BUT-FIT/CSTinyLlama-1.2B, BU...  \n",
       "15  [allenai/OLMo-2-1124-7B, allenai/OLMo-2-1124-13B]  \n",
       "16                                           [gpt-4o]  \n",
       "17                                            [gpt-4]  \n",
       "18                                    [gpt-3.5-turbo]  \n",
       "19                                            [gpt-2]  "
      ]
     },
     "execution_count": 44,
     "metadata": {},
     "output_type": "execute_result"
    }
   ],
   "source": [
    "import pandas as pd\n",
    "\n",
    "df_results = pd.DataFrame(results)\n",
    "#switch axes (rows become columns and vice versa)\n",
    "df_results = df_results.transpose()\n",
    "df_results = df_results.reset_index()\n",
    "df_results.rename(columns={\"index\": \"model_id\"}, inplace=True)\n",
    "df_results\n"
   ]
  },
  {
   "cell_type": "code",
   "execution_count": 43,
   "metadata": {},
   "outputs": [],
   "source": [
    "df_results.to_csv(\"/home/mlynatom/master-thesis-repository-tomas-mlynar/tokenizer_evaluator/results.csv\", index=False)"
   ]
  },
  {
   "cell_type": "code",
   "execution_count": 45,
   "metadata": {},
   "outputs": [
    {
     "data": {
      "text/html": [
       "<div>\n",
       "<style scoped>\n",
       "    .dataframe tbody tr th:only-of-type {\n",
       "        vertical-align: middle;\n",
       "    }\n",
       "\n",
       "    .dataframe tbody tr th {\n",
       "        vertical-align: top;\n",
       "    }\n",
       "\n",
       "    .dataframe thead th {\n",
       "        text-align: right;\n",
       "    }\n",
       "</style>\n",
       "<table border=\"1\" class=\"dataframe\">\n",
       "  <thead>\n",
       "    <tr style=\"text-align: right;\">\n",
       "      <th></th>\n",
       "      <th>model_id</th>\n",
       "      <th>fertility</th>\n",
       "      <th>parity</th>\n",
       "      <th>all_models</th>\n",
       "    </tr>\n",
       "  </thead>\n",
       "  <tbody>\n",
       "    <tr>\n",
       "      <th>14</th>\n",
       "      <td>BUT-FIT/csmpt7b</td>\n",
       "      <td>1.424353</td>\n",
       "      <td>0.717209</td>\n",
       "      <td>[BUT-FIT/csmpt7b, BUT-FIT/CSTinyLlama-1.2B, BU...</td>\n",
       "    </tr>\n",
       "    <tr>\n",
       "      <th>1</th>\n",
       "      <td>CohereForAI/aya-expanse-8b</td>\n",
       "      <td>1.889045</td>\n",
       "      <td>1.333089</td>\n",
       "      <td>[CohereForAI/aya-expanse-8b, CohereForAI/aya-e...</td>\n",
       "    </tr>\n",
       "    <tr>\n",
       "      <th>3</th>\n",
       "      <td>CohereForAI/c4ai-command-r-08-2024</td>\n",
       "      <td>1.889045</td>\n",
       "      <td>1.333089</td>\n",
       "      <td>[CohereForAI/c4ai-command-r-08-2024]</td>\n",
       "    </tr>\n",
       "    <tr>\n",
       "      <th>0</th>\n",
       "      <td>meta-llama/Llama-3.2-1B</td>\n",
       "      <td>2.098801</td>\n",
       "      <td>1.420666</td>\n",
       "      <td>[meta-llama/Llama-3.2-1B, meta-llama/Llama-3.2...</td>\n",
       "    </tr>\n",
       "    <tr>\n",
       "      <th>7</th>\n",
       "      <td>meta-llama/Meta-Llama-3-8B</td>\n",
       "      <td>2.098801</td>\n",
       "      <td>1.420666</td>\n",
       "      <td>[meta-llama/Meta-Llama-3-8B, meta-llama/Meta-L...</td>\n",
       "    </tr>\n",
       "    <tr>\n",
       "      <th>12</th>\n",
       "      <td>google/gemma-2-2b</td>\n",
       "      <td>2.105951</td>\n",
       "      <td>1.357283</td>\n",
       "      <td>[google/gemma-2-2b, google/gemma-2-9b, google/...</td>\n",
       "    </tr>\n",
       "    <tr>\n",
       "      <th>16</th>\n",
       "      <td>gpt-4o</td>\n",
       "      <td>2.18753</td>\n",
       "      <td>1.4963</td>\n",
       "      <td>[gpt-4o]</td>\n",
       "    </tr>\n",
       "    <tr>\n",
       "      <th>2</th>\n",
       "      <td>CohereForAI/aya-101</td>\n",
       "      <td>2.192861</td>\n",
       "      <td>1.23112</td>\n",
       "      <td>[CohereForAI/aya-101]</td>\n",
       "    </tr>\n",
       "    <tr>\n",
       "      <th>4</th>\n",
       "      <td>mistralai/Ministral-8B-Instruct-2410</td>\n",
       "      <td>2.252395</td>\n",
       "      <td>1.496156</td>\n",
       "      <td>[mistralai/Ministral-8B-Instruct-2410]</td>\n",
       "    </tr>\n",
       "    <tr>\n",
       "      <th>8</th>\n",
       "      <td>meta-llama/Llama-2-7b-hf</td>\n",
       "      <td>2.717826</td>\n",
       "      <td>1.545938</td>\n",
       "      <td>[meta-llama/Llama-2-7b-hf, meta-llama/Llama-2-...</td>\n",
       "    </tr>\n",
       "    <tr>\n",
       "      <th>5</th>\n",
       "      <td>mistralai/Mistral-7B-Instruct-v0.3</td>\n",
       "      <td>2.873051</td>\n",
       "      <td>1.655725</td>\n",
       "      <td>[mistralai/Mistral-7B-Instruct-v0.3]</td>\n",
       "    </tr>\n",
       "    <tr>\n",
       "      <th>6</th>\n",
       "      <td>mistralai/Mixtral-8x7B-Instruct-v0.1</td>\n",
       "      <td>2.873051</td>\n",
       "      <td>1.655725</td>\n",
       "      <td>[mistralai/Mixtral-8x7B-Instruct-v0.1]</td>\n",
       "    </tr>\n",
       "    <tr>\n",
       "      <th>15</th>\n",
       "      <td>allenai/OLMo-2-1124-7B</td>\n",
       "      <td>2.88769</td>\n",
       "      <td>1.819436</td>\n",
       "      <td>[allenai/OLMo-2-1124-7B, allenai/OLMo-2-1124-13B]</td>\n",
       "    </tr>\n",
       "    <tr>\n",
       "      <th>18</th>\n",
       "      <td>gpt-3.5-turbo</td>\n",
       "      <td>2.88769</td>\n",
       "      <td>1.819436</td>\n",
       "      <td>[gpt-3.5-turbo]</td>\n",
       "    </tr>\n",
       "    <tr>\n",
       "      <th>17</th>\n",
       "      <td>gpt-4</td>\n",
       "      <td>2.88769</td>\n",
       "      <td>1.819436</td>\n",
       "      <td>[gpt-4]</td>\n",
       "    </tr>\n",
       "    <tr>\n",
       "      <th>11</th>\n",
       "      <td>Qwen/Qwen2-0.5B</td>\n",
       "      <td>2.888987</td>\n",
       "      <td>1.796445</td>\n",
       "      <td>[Qwen/Qwen2-0.5B, Qwen/Qwen2-1.5B, Qwen/Qwen2-...</td>\n",
       "    </tr>\n",
       "    <tr>\n",
       "      <th>10</th>\n",
       "      <td>Qwen/Qwen2.5-0.5B</td>\n",
       "      <td>2.888987</td>\n",
       "      <td>1.796445</td>\n",
       "      <td>[Qwen/Qwen2.5-0.5B, Qwen/Qwen2.5-1.5B, Qwen/Qw...</td>\n",
       "    </tr>\n",
       "    <tr>\n",
       "      <th>13</th>\n",
       "      <td>ibm-granite/granite-3.0-8b-base</td>\n",
       "      <td>2.942121</td>\n",
       "      <td>1.652518</td>\n",
       "      <td>[ibm-granite/granite-3.0-8b-base, ibm-granite/...</td>\n",
       "    </tr>\n",
       "    <tr>\n",
       "      <th>19</th>\n",
       "      <td>gpt-2</td>\n",
       "      <td>3.557942</td>\n",
       "      <td>2.152639</td>\n",
       "      <td>[gpt-2]</td>\n",
       "    </tr>\n",
       "    <tr>\n",
       "      <th>9</th>\n",
       "      <td>openai-community/gpt2</td>\n",
       "      <td>3.557942</td>\n",
       "      <td>2.152639</td>\n",
       "      <td>[openai-community/gpt2]</td>\n",
       "    </tr>\n",
       "  </tbody>\n",
       "</table>\n",
       "</div>"
      ],
      "text/plain": [
       "                                model_id fertility    parity  \\\n",
       "14                       BUT-FIT/csmpt7b  1.424353  0.717209   \n",
       "1             CohereForAI/aya-expanse-8b  1.889045  1.333089   \n",
       "3     CohereForAI/c4ai-command-r-08-2024  1.889045  1.333089   \n",
       "0                meta-llama/Llama-3.2-1B  2.098801  1.420666   \n",
       "7             meta-llama/Meta-Llama-3-8B  2.098801  1.420666   \n",
       "12                     google/gemma-2-2b  2.105951  1.357283   \n",
       "16                                gpt-4o   2.18753    1.4963   \n",
       "2                    CohereForAI/aya-101  2.192861   1.23112   \n",
       "4   mistralai/Ministral-8B-Instruct-2410  2.252395  1.496156   \n",
       "8               meta-llama/Llama-2-7b-hf  2.717826  1.545938   \n",
       "5     mistralai/Mistral-7B-Instruct-v0.3  2.873051  1.655725   \n",
       "6   mistralai/Mixtral-8x7B-Instruct-v0.1  2.873051  1.655725   \n",
       "15                allenai/OLMo-2-1124-7B   2.88769  1.819436   \n",
       "18                         gpt-3.5-turbo   2.88769  1.819436   \n",
       "17                                 gpt-4   2.88769  1.819436   \n",
       "11                       Qwen/Qwen2-0.5B  2.888987  1.796445   \n",
       "10                     Qwen/Qwen2.5-0.5B  2.888987  1.796445   \n",
       "13       ibm-granite/granite-3.0-8b-base  2.942121  1.652518   \n",
       "19                                 gpt-2  3.557942  2.152639   \n",
       "9                  openai-community/gpt2  3.557942  2.152639   \n",
       "\n",
       "                                           all_models  \n",
       "14  [BUT-FIT/csmpt7b, BUT-FIT/CSTinyLlama-1.2B, BU...  \n",
       "1   [CohereForAI/aya-expanse-8b, CohereForAI/aya-e...  \n",
       "3                [CohereForAI/c4ai-command-r-08-2024]  \n",
       "0   [meta-llama/Llama-3.2-1B, meta-llama/Llama-3.2...  \n",
       "7   [meta-llama/Meta-Llama-3-8B, meta-llama/Meta-L...  \n",
       "12  [google/gemma-2-2b, google/gemma-2-9b, google/...  \n",
       "16                                           [gpt-4o]  \n",
       "2                               [CohereForAI/aya-101]  \n",
       "4              [mistralai/Ministral-8B-Instruct-2410]  \n",
       "8   [meta-llama/Llama-2-7b-hf, meta-llama/Llama-2-...  \n",
       "5                [mistralai/Mistral-7B-Instruct-v0.3]  \n",
       "6              [mistralai/Mixtral-8x7B-Instruct-v0.1]  \n",
       "15  [allenai/OLMo-2-1124-7B, allenai/OLMo-2-1124-13B]  \n",
       "18                                    [gpt-3.5-turbo]  \n",
       "17                                            [gpt-4]  \n",
       "11  [Qwen/Qwen2-0.5B, Qwen/Qwen2-1.5B, Qwen/Qwen2-...  \n",
       "10  [Qwen/Qwen2.5-0.5B, Qwen/Qwen2.5-1.5B, Qwen/Qw...  \n",
       "13  [ibm-granite/granite-3.0-8b-base, ibm-granite/...  \n",
       "19                                            [gpt-2]  \n",
       "9                             [openai-community/gpt2]  "
      ]
     },
     "execution_count": 45,
     "metadata": {},
     "output_type": "execute_result"
    }
   ],
   "source": [
    "#sort\n",
    "df_results = df_results.sort_values(by=\"model_id\", ascending=True, kind=\"stable\")\n",
    "df_results = df_results.sort_values(by=\"parity\", ascending=True, kind=\"stable\")\n",
    "df_results = df_results.sort_values(by=\"fertility\", ascending=True, kind=\"stable\")\n",
    "df_results"
   ]
  },
  {
   "cell_type": "code",
   "execution_count": 47,
   "metadata": {},
   "outputs": [
    {
     "data": {
      "image/png": "[encoded data removed]",
      "text/plain": [
       "<Figure size 640x480 with 1 Axes>"
      ]
     },
     "metadata": {},
     "output_type": "display_data"
    }
   ],
   "source": [
    "# plot fertility with values for each bar\n",
    "import matplotlib.pyplot as plt\n",
    "import numpy as np\n",
    "\n",
    "fig, ax = plt.subplots()\n",
    "ax.barh(df_results[\"model_id\"], df_results[\"fertility\"])\n",
    "for i, v in enumerate(df_results[\"fertility\"]):\n",
    "    ax.text(v, i, str(round(v, 3)), color='black', va='center')\n",
    "ax.set_xlabel('Fertility')\n",
    "ax.set_title('Fertility of models')\n",
    "plt.show()"
   ]
  },
  {
   "cell_type": "code",
   "execution_count": 48,
   "metadata": {},
   "outputs": [
    {
     "data": {
      "image/png": "[encoded data removed]",
      "text/plain": [
       "<Figure size 640x480 with 1 Axes>"
      ]
     },
     "metadata": {},
     "output_type": "display_data"
    }
   ],
   "source": [
    "fig, ax = plt.subplots()\n",
    "ax.barh(df_results[\"model_id\"], df_results[\"parity\"])\n",
    "for i, v in enumerate(df_results[\"parity\"]):\n",
    "    ax.text(v, i, str(round(v, 3)), color='black', va='center')\n",
    "ax.set_xlabel('Parity')\n",
    "ax.set_title('Parity of models')\n",
    "plt.show()"
   ]
  },
  {
   "cell_type": "markdown",
   "metadata": {},
   "source": [
    "## Process Czeng to HF Datasets format"
   ]
  },
  {
   "cell_type": "code",
   "execution_count": 1,
   "metadata": {},
   "outputs": [],
   "source": [
    "from datasets import DatasetDict, Dataset\n",
    "from typing import List, Dict"
   ]
  },
  {
   "cell_type": "code",
   "execution_count": 2,
   "metadata": {},
   "outputs": [],
   "source": [
    "def read_mff_tsv(file_path) -> List[Dict[str, str]]:\n",
    "    test_file = []\n",
    "    with open(file_path, \"r\") as f:\n",
    "        for line in f:\n",
    "            row = line.strip().split(\"\\t\")\n",
    "\n",
    "            #if empty row read\n",
    "            if len(row) == 1 and row[0] == \"\":\n",
    "                continue\n",
    "\n",
    "            assert(len(row) == 6)\n",
    "\n",
    "            tmp_entry = {\"id\":row[0].strip(), \"text_cs\": row[4].strip(), \"text_en\": row[5].strip()}\n",
    "            test_file.append(tmp_entry)\n",
    "\n",
    "    return test_file"
   ]
  },
  {
   "cell_type": "code",
   "execution_count": 3,
   "metadata": {},
   "outputs": [],
   "source": [
    "test_data = read_mff_tsv(\"/mnt/data/factcheck/czeng20/czeng20-test\")\n",
    "train_data = read_mff_tsv(\"/mnt/data/factcheck/czeng20/czeng20-train\")"
   ]
  },
  {
   "cell_type": "code",
   "execution_count": 4,
   "metadata": {},
   "outputs": [],
   "source": [
    "hf_dataset = DatasetDict(\n",
    "    {\n",
    "        \"train\": Dataset.from_list(train_data),\n",
    "        \"test\": Dataset.from_list(test_data)\n",
    "    }\n",
    ")"
   ]
  },
  {
   "cell_type": "code",
   "execution_count": 5,
   "metadata": {},
   "outputs": [
    {
     "data": {
      "text/plain": [
       "DatasetDict({\n",
       "    train: Dataset({\n",
       "        features: ['id', 'text_cs', 'text_en'],\n",
       "        num_rows: 60980645\n",
       "    })\n",
       "    test: Dataset({\n",
       "        features: ['id', 'text_cs', 'text_en'],\n",
       "        num_rows: 492596\n",
       "    })\n",
       "})"
      ]
     },
     "execution_count": 5,
     "metadata": {},
     "output_type": "execute_result"
    }
   ],
   "source": [
    "hf_dataset"
   ]
  },
  {
   "cell_type": "code",
   "execution_count": 6,
   "metadata": {},
   "outputs": [
    {
     "data": {
      "application/vnd.jupyter.widget-view+json": {
       "model_id": "5822722a9b6f46f8ba0cb1c6756cbdb0",
       "version_major": 2,
       "version_minor": 0
      },
      "text/plain": [
       "Saving the dataset (0/22 shards):   0%|          | 0/60980645 [00:00<?, ? examples/s]"
      ]
     },
     "metadata": {},
     "output_type": "display_data"
    },
    {
     "data": {
      "application/vnd.jupyter.widget-view+json": {
       "model_id": "146318876cf64e3a8e5021ddaf611b08",
       "version_major": 2,
       "version_minor": 0
      },
      "text/plain": [
       "Saving the dataset (0/1 shards):   0%|          | 0/492596 [00:00<?, ? examples/s]"
      ]
     },
     "metadata": {},
     "output_type": "display_data"
    }
   ],
   "source": [
    "hf_dataset.save_to_disk(\"/mnt/data/factcheck/czeng20/hf_dataset/\")"
   ]
  }
 ],
 "metadata": {
  "kernelspec": {
   "display_name": "Python 3 (ipykernel)",
   "language": "python",
   "name": "python3"
  },
  "language_info": {
   "codemirror_mode": {
    "name": "ipython",
    "version": 3
   },
   "file_extension": ".py",
   "mimetype": "text/x-python",
   "name": "python",
   "nbconvert_exporter": "python",
   "pygments_lexer": "ipython3",
   "version": "3.12.3"
  }
 },
 "nbformat": 4,
 "nbformat_minor": 2
}
