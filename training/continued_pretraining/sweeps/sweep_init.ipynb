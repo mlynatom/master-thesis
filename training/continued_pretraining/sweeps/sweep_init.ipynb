{
 "cells": [
  {
   "cell_type": "code",
   "execution_count": 3,
   "metadata": {},
   "outputs": [],
   "source": [
    "sweep_config = {\n",
    "    \"method\": \"bayes\",\n",
    "    \"metric\": {\n",
    "        \"name\": \"train_loss\",\n",
    "        \"goal\": \"minimize\"\n",
    "    },\n",
    "    \"parameters\":{\n",
    "        \"learning_rate\": {\n",
    "            \"distribution\": \"log_uniform_values\",\n",
    "            \"min\": 1e-5,\n",
    "            \"max\": 1e-3\n",
    "        },\n",
    "        \"embedding_lr_divisor\": {\n",
    "            \"values\": [2,5,10]\n",
    "        },\n",
    "        \"weight_decay\": {\n",
    "            \"values\": [0, 0.1, 0.01, 0.001]\n",
    "        },\n",
    "        \"warmup_ratio\": {\n",
    "            \"values\": [0.2, 0.1, 0.05, 0.01]\n",
    "        },\n",
    "    },\n",
    "\n",
    "}"
   ]
  },
  {
   "cell_type": "code",
   "execution_count": 4,
   "metadata": {},
   "outputs": [
    {
     "name": "stdout",
     "output_type": "stream",
     "text": [
      "Create sweep with ID: jdk6v0id\n",
      "Sweep URL: https://wandb.ai/mlynatom/cp-base_params-sweep/sweeps/jdk6v0id\n"
     ]
    }
   ],
   "source": [
    "import wandb\n",
    "sweep_id = wandb.sweep(sweep_config, project=\"cp-base_params-sweep\")"
   ]
  }
 ],
 "metadata": {
  "kernelspec": {
   "display_name": "Python 3 (ipykernel)",
   "language": "python",
   "name": "python3"
  },
  "language_info": {
   "codemirror_mode": {
    "name": "ipython",
    "version": 3
   },
   "file_extension": ".py",
   "mimetype": "text/x-python",
   "name": "python",
   "nbconvert_exporter": "python",
   "pygments_lexer": "ipython3",
   "version": "3.12.3"
  }
 },
 "nbformat": 4,
 "nbformat_minor": 2
}
