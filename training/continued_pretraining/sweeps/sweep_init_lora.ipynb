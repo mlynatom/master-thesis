{
 "cells": [
  {
   "cell_type": "code",
   "execution_count": 1,
   "metadata": {},
   "outputs": [],
   "source": [
    "import os\n",
    "os.environ[\"WANDB_PROJECT\"]=\"cp-lora_params-sweep\""
   ]
  },
  {
   "cell_type": "code",
   "execution_count": null,
   "metadata": {},
   "outputs": [],
   "source": [
    "# sweep_config = {\n",
    "#     \"method\": \"bayes\",\n",
    "#     \"metric\": {\n",
    "#         \"name\": \"train/loss\",\n",
    "#         \"goal\": \"minimize\"\n",
    "#     },\n",
    "#     \"parameters\":{\n",
    "#         \"r\": {\n",
    "#             \"values\": [256,128,64,32,16,8]\n",
    "#         },\n",
    "#         \"alpha\": {\n",
    "#             \"values\": [\"one\", \"2r\", \"32\"]\n",
    "#         },\n",
    "#         \"use_loftq\": {\n",
    "#             \"values\": [True, False]\n",
    "#         },\n",
    "#     },\n",
    "\n",
    "# }"
   ]
  },
  {
   "cell_type": "code",
   "execution_count": null,
   "metadata": {},
   "outputs": [],
   "source": [
    "sweep_config = {\n",
    "    \"method\": \"grid\",\n",
    "    \"metric\": {\n",
    "        \"name\": \"train/loss\",\n",
    "        \"goal\": \"minimize\"\n",
    "    },\n",
    "    \"parameters\":{\n",
    "        \"r\": {\n",
    "            \"values\": [256,64,16,8]\n",
    "        },\n",
    "        \"loftq_t\": {\n",
    "            \"values\": [1,5]\n",
    "        },\n",
    "    },\n",
    "\n",
    "}"
   ]
  },
  {
   "cell_type": "code",
   "execution_count": 2,
   "metadata": {},
   "outputs": [
    {
     "name": "stderr",
     "output_type": "stream",
     "text": [
      "\u001b[34m\u001b[1mwandb\u001b[0m: Using wandb-core as the SDK backend.  Please refer to https://wandb.me/wandb-core for more information.\n"
     ]
    },
    {
     "name": "stdout",
     "output_type": "stream",
     "text": [
      "Create sweep with ID: wl7r62nt\n",
      "Sweep URL: https://wandb.ai/mlynatom/cp-lora_params-sweep/sweeps/wl7r62nt\n"
     ]
    }
   ],
   "source": [
    "import wandb\n",
    "sweep_id = wandb.sweep(sweep_config, project=\"cp-lora_params-sweep\")"
   ]
  }
 ],
 "metadata": {
  "kernelspec": {
   "display_name": "Python 3 (ipykernel)",
   "language": "python",
   "name": "python3"
  },
  "language_info": {
   "codemirror_mode": {
    "name": "ipython",
    "version": 3
   },
   "file_extension": ".py",
   "mimetype": "text/x-python",
   "name": "python",
   "nbconvert_exporter": "python",
   "pygments_lexer": "ipython3",
   "version": "3.12.3"
  }
 },
 "nbformat": 4,
 "nbformat_minor": 2
}
