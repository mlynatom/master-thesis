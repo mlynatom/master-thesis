{
 "cells": [
  {
   "cell_type": "markdown",
   "metadata": {},
   "source": [
    "# Continued pretraining (CP) using Unsloth"
   ]
  },
  {
   "cell_type": "code",
   "execution_count": null,
   "metadata": {},
   "outputs": [],
   "source": [
    "#install latest version of unsloth\n",
    "#%pip install \"unsloth[colab-new] @ git+https://github.com/unslothai/unsloth.git\"\n",
    "\n",
    "#%pip install --upgrade unsloth\n",
    "# %pip uninstall unsloth -y && pip install --upgrade --no-cache-dir --no-deps git+https://github.com/unslothai/unsloth.git\n",
    "# %pip install --upgrade unsloth_zoo\n",
    "# %pip install wandb"
   ]
  },
  {
   "cell_type": "code",
   "execution_count": 10,
   "metadata": {},
   "outputs": [
    {
     "name": "stdout",
     "output_type": "stream",
     "text": [
      "Collecting unsloth==2025.3.3\n",
      "  Downloading unsloth-2025.3.3-py3-none-any.whl.metadata (59 kB)\n",
      "Requirement already satisfied: unsloth_zoo>=2025.3.1 in ./venv/unsloth_venv/lib/python3.11/site-packages (from unsloth==2025.3.3) (2025.3.9)\n",
      "Requirement already satisfied: torch>=2.4.0 in /mnt/appl/software/PyTorch/2.6.0-foss-2023b-CUDA-12.4.0/lib/python3.11/site-packages (from unsloth==2025.3.3) (2.6.0)\n",
      "Requirement already satisfied: xformers>=0.0.27.post2 in /mnt/appl/software/xformers/0.0.29.post3-foss-2023b-CUDA-12.4.0/lib/python3.11/site-packages (from unsloth==2025.3.3) (0.0.29.post3)\n",
      "Requirement already satisfied: bitsandbytes in ./venv/unsloth_venv/lib/python3.11/site-packages (from unsloth==2025.3.3) (0.45.3)\n",
      "Requirement already satisfied: triton>=3.0.0 in /mnt/appl/software/Triton/3.1.1-foss-2023b-CUDA-12.4.0/lib/python3.11/site-packages (from unsloth==2025.3.3) (3.2.0)\n",
      "Requirement already satisfied: packaging in /mnt/appl/software/hatchling/1.18.0-GCCcore-13.2.0/lib/python3.11/site-packages (from unsloth==2025.3.3) (23.2)\n",
      "Requirement already satisfied: tyro in ./venv/unsloth_venv/lib/python3.11/site-packages (from unsloth==2025.3.3) (0.9.17)\n",
      "Requirement already satisfied: transformers!=4.47.0,>=4.46.1 in ./venv/unsloth_venv/lib/python3.11/site-packages (from unsloth==2025.3.3) (4.49.0)\n",
      "Requirement already satisfied: datasets>=2.16.0 in ./venv/unsloth_venv/lib/python3.11/site-packages (from unsloth==2025.3.3) (3.3.2)\n",
      "Requirement already satisfied: sentencepiece>=0.2.0 in ./venv/unsloth_venv/lib/python3.11/site-packages (from unsloth==2025.3.3) (0.2.0)\n",
      "Requirement already satisfied: tqdm in ./venv/unsloth_venv/lib/python3.11/site-packages (from unsloth==2025.3.3) (4.67.1)\n",
      "Requirement already satisfied: psutil in /mnt/appl/software/Python-bundle-PyPI/2023.10-GCCcore-13.2.0/lib/python3.11/site-packages (from unsloth==2025.3.3) (5.9.6)\n",
      "Requirement already satisfied: wheel>=0.42.0 in ./venv/unsloth_venv/lib/python3.11/site-packages (from unsloth==2025.3.3) (0.45.1)\n",
      "Requirement already satisfied: numpy in /mnt/appl/software/SciPy-bundle/2023.11-gfbf-2023b/lib/python3.11/site-packages (from unsloth==2025.3.3) (1.26.2)\n",
      "Requirement already satisfied: accelerate>=0.34.1 in ./venv/unsloth_venv/lib/python3.11/site-packages (from unsloth==2025.3.3) (1.5.1)\n",
      "Requirement already satisfied: trl!=0.15.0,!=0.9.0,!=0.9.1,!=0.9.2,!=0.9.3,>=0.7.9 in ./venv/unsloth_venv/lib/python3.11/site-packages (from unsloth==2025.3.3) (0.15.2)\n",
      "Requirement already satisfied: peft!=0.11.0,>=0.7.1 in ./venv/unsloth_venv/lib/python3.11/site-packages (from unsloth==2025.3.3) (0.14.0)\n",
      "Collecting protobuf<4.0.0 (from unsloth==2025.3.3)\n",
      "  Using cached protobuf-3.20.3-py2.py3-none-any.whl.metadata (720 bytes)\n",
      "Requirement already satisfied: huggingface_hub in ./venv/unsloth_venv/lib/python3.11/site-packages (from unsloth==2025.3.3) (0.29.3)\n",
      "Requirement already satisfied: hf_transfer in ./venv/unsloth_venv/lib/python3.11/site-packages (from unsloth==2025.3.3) (0.1.9)\n",
      "Requirement already satisfied: diffusers in ./venv/unsloth_venv/lib/python3.11/site-packages (from unsloth==2025.3.3) (0.32.2)\n",
      "Requirement already satisfied: torchvision in /mnt/appl/software/torchvision/0.21.0-foss-2023b-CUDA-12.4.0/lib/python3.11/site-packages (from unsloth==2025.3.3) (0.21.0)\n",
      "Requirement already satisfied: pyyaml in /mnt/appl/software/PyYAML/6.0.1-GCCcore-13.2.0/lib/python3.11/site-packages (from accelerate>=0.34.1->unsloth==2025.3.3) (6.0.1)\n",
      "Requirement already satisfied: safetensors>=0.4.3 in ./venv/unsloth_venv/lib/python3.11/site-packages (from accelerate>=0.34.1->unsloth==2025.3.3) (0.5.3)\n",
      "Requirement already satisfied: filelock in /mnt/appl/software/Python-bundle-PyPI/2023.10-GCCcore-13.2.0/lib/python3.11/site-packages (from datasets>=2.16.0->unsloth==2025.3.3) (3.13.0)\n",
      "Requirement already satisfied: pyarrow>=15.0.0 in ./venv/unsloth_venv/lib/python3.11/site-packages (from datasets>=2.16.0->unsloth==2025.3.3) (19.0.1)\n",
      "Requirement already satisfied: dill<0.3.9,>=0.3.0 in ./venv/unsloth_venv/lib/python3.11/site-packages (from datasets>=2.16.0->unsloth==2025.3.3) (0.3.8)\n",
      "Requirement already satisfied: pandas in /mnt/appl/software/SciPy-bundle/2023.11-gfbf-2023b/lib/python3.11/site-packages (from datasets>=2.16.0->unsloth==2025.3.3) (2.1.3)\n",
      "Collecting requests>=2.32.2 (from datasets>=2.16.0->unsloth==2025.3.3)\n",
      "  Using cached requests-2.32.3-py3-none-any.whl.metadata (4.6 kB)\n",
      "Requirement already satisfied: xxhash in ./venv/unsloth_venv/lib/python3.11/site-packages (from datasets>=2.16.0->unsloth==2025.3.3) (3.5.0)\n",
      "Requirement already satisfied: multiprocess<0.70.17 in ./venv/unsloth_venv/lib/python3.11/site-packages (from datasets>=2.16.0->unsloth==2025.3.3) (0.70.16)\n",
      "Requirement already satisfied: fsspec<=2024.12.0,>=2023.1.0 in /mnt/appl/software/Python-bundle-PyPI/2023.10-GCCcore-13.2.0/lib/python3.11/site-packages (from fsspec[http]<=2024.12.0,>=2023.1.0->datasets>=2.16.0->unsloth==2025.3.3) (2023.10.0)\n",
      "Requirement already satisfied: aiohttp in ./venv/unsloth_venv/lib/python3.11/site-packages (from datasets>=2.16.0->unsloth==2025.3.3) (3.11.13)\n",
      "Requirement already satisfied: typing-extensions>=3.7.4.3 in /mnt/appl/software/typing-extensions/4.11.0-GCCcore-13.2.0/lib/python3.11/site-packages (from huggingface_hub->unsloth==2025.3.3) (4.11.0)\n",
      "Requirement already satisfied: networkx in /mnt/appl/software/networkx/3.2.1-gfbf-2023b/lib/python3.11/site-packages (from torch>=2.4.0->unsloth==2025.3.3) (3.2.1)\n",
      "Requirement already satisfied: jinja2 in /mnt/appl/software/Python-bundle-PyPI/2023.10-GCCcore-13.2.0/lib/python3.11/site-packages (from torch>=2.4.0->unsloth==2025.3.3) (3.1.2)\n",
      "Requirement already satisfied: sympy==1.13.1 in /mnt/appl/software/sympy/1.13.1-gfbf-2023b/lib/python3.11/site-packages (from torch>=2.4.0->unsloth==2025.3.3) (1.13.1)\n",
      "Requirement already satisfied: mpmath<1.4,>=1.1.0 in /mnt/appl/software/SciPy-bundle/2023.11-gfbf-2023b/lib/python3.11/site-packages (from sympy==1.13.1->torch>=2.4.0->unsloth==2025.3.3) (1.3.0)\n",
      "Requirement already satisfied: regex!=2019.12.17 in /mnt/appl/software/Python-bundle-PyPI/2023.10-GCCcore-13.2.0/lib/python3.11/site-packages (from transformers!=4.47.0,>=4.46.1->unsloth==2025.3.3) (2023.10.3)\n",
      "Requirement already satisfied: tokenizers<0.22,>=0.21 in ./venv/unsloth_venv/lib/python3.11/site-packages (from transformers!=4.47.0,>=4.46.1->unsloth==2025.3.3) (0.21.1)\n",
      "Requirement already satisfied: rich in /mnt/appl/software/Python-bundle-PyPI/2023.10-GCCcore-13.2.0/lib/python3.11/site-packages (from trl!=0.15.0,!=0.9.0,!=0.9.1,!=0.9.2,!=0.9.3,>=0.7.9->unsloth==2025.3.3) (13.6.0)\n",
      "Requirement already satisfied: cut_cross_entropy in ./venv/unsloth_venv/lib/python3.11/site-packages (from unsloth_zoo>=2025.3.1->unsloth==2025.3.3) (25.1.1)\n",
      "Requirement already satisfied: pillow in /mnt/appl/software/Pillow-SIMD/10.4.0-GCCcore-13.2.0/lib/python3.11/site-packages (from unsloth_zoo>=2025.3.1->unsloth==2025.3.3) (10.4.0)\n",
      "Requirement already satisfied: importlib-metadata in /mnt/appl/software/Python-bundle-PyPI/2023.10-GCCcore-13.2.0/lib/python3.11/site-packages (from diffusers->unsloth==2025.3.3) (6.8.0)\n",
      "Requirement already satisfied: docstring-parser>=0.15 in ./venv/unsloth_venv/lib/python3.11/site-packages (from tyro->unsloth==2025.3.3) (0.16)\n",
      "Requirement already satisfied: shtab>=1.5.6 in ./venv/unsloth_venv/lib/python3.11/site-packages (from tyro->unsloth==2025.3.3) (1.7.1)\n",
      "Requirement already satisfied: typeguard>=4.0.0 in ./venv/unsloth_venv/lib/python3.11/site-packages (from tyro->unsloth==2025.3.3) (4.4.2)\n",
      "Requirement already satisfied: aiohappyeyeballs>=2.3.0 in ./venv/unsloth_venv/lib/python3.11/site-packages (from aiohttp->datasets>=2.16.0->unsloth==2025.3.3) (2.6.1)\n",
      "Requirement already satisfied: aiosignal>=1.1.2 in ./venv/unsloth_venv/lib/python3.11/site-packages (from aiohttp->datasets>=2.16.0->unsloth==2025.3.3) (1.3.2)\n",
      "Requirement already satisfied: attrs>=17.3.0 in /mnt/appl/software/Python-bundle-PyPI/2023.10-GCCcore-13.2.0/lib/python3.11/site-packages (from aiohttp->datasets>=2.16.0->unsloth==2025.3.3) (23.1.0)\n",
      "Requirement already satisfied: frozenlist>=1.1.1 in ./venv/unsloth_venv/lib/python3.11/site-packages (from aiohttp->datasets>=2.16.0->unsloth==2025.3.3) (1.5.0)\n",
      "Requirement already satisfied: multidict<7.0,>=4.5 in ./venv/unsloth_venv/lib/python3.11/site-packages (from aiohttp->datasets>=2.16.0->unsloth==2025.3.3) (6.1.0)\n",
      "Requirement already satisfied: propcache>=0.2.0 in ./venv/unsloth_venv/lib/python3.11/site-packages (from aiohttp->datasets>=2.16.0->unsloth==2025.3.3) (0.3.0)\n",
      "Requirement already satisfied: yarl<2.0,>=1.17.0 in ./venv/unsloth_venv/lib/python3.11/site-packages (from aiohttp->datasets>=2.16.0->unsloth==2025.3.3) (1.18.3)\n",
      "Requirement already satisfied: charset-normalizer<4,>=2 in /mnt/appl/software/Python-bundle-PyPI/2023.10-GCCcore-13.2.0/lib/python3.11/site-packages (from requests>=2.32.2->datasets>=2.16.0->unsloth==2025.3.3) (3.3.1)\n",
      "Requirement already satisfied: idna<4,>=2.5 in /mnt/appl/software/Python-bundle-PyPI/2023.10-GCCcore-13.2.0/lib/python3.11/site-packages (from requests>=2.32.2->datasets>=2.16.0->unsloth==2025.3.3) (3.4)\n",
      "Requirement already satisfied: urllib3<3,>=1.21.1 in /mnt/appl/software/Python-bundle-PyPI/2023.10-GCCcore-13.2.0/lib/python3.11/site-packages (from requests>=2.32.2->datasets>=2.16.0->unsloth==2025.3.3) (2.0.7)\n",
      "Requirement already satisfied: certifi>=2017.4.17 in /mnt/appl/software/Python-bundle-PyPI/2023.10-GCCcore-13.2.0/lib/python3.11/site-packages (from requests>=2.32.2->datasets>=2.16.0->unsloth==2025.3.3) (2023.7.22)\n",
      "Requirement already satisfied: markdown-it-py>=2.2.0 in /mnt/appl/software/Python-bundle-PyPI/2023.10-GCCcore-13.2.0/lib/python3.11/site-packages (from rich->trl!=0.15.0,!=0.9.0,!=0.9.1,!=0.9.2,!=0.9.3,>=0.7.9->unsloth==2025.3.3) (3.0.0)\n",
      "Requirement already satisfied: pygments<3.0.0,>=2.13.0 in /mnt/appl/software/Python-bundle-PyPI/2023.10-GCCcore-13.2.0/lib/python3.11/site-packages (from rich->trl!=0.15.0,!=0.9.0,!=0.9.1,!=0.9.2,!=0.9.3,>=0.7.9->unsloth==2025.3.3) (2.16.1)\n",
      "Requirement already satisfied: zipp>=0.5 in /mnt/appl/software/Python-bundle-PyPI/2023.10-GCCcore-13.2.0/lib/python3.11/site-packages (from importlib-metadata->diffusers->unsloth==2025.3.3) (3.17.0)\n",
      "Requirement already satisfied: MarkupSafe>=2.0 in /mnt/appl/software/Python-bundle-PyPI/2023.10-GCCcore-13.2.0/lib/python3.11/site-packages (from jinja2->torch>=2.4.0->unsloth==2025.3.3) (2.1.3)\n",
      "Requirement already satisfied: python-dateutil>=2.8.2 in /mnt/appl/software/Python-bundle-PyPI/2023.10-GCCcore-13.2.0/lib/python3.11/site-packages (from pandas->datasets>=2.16.0->unsloth==2025.3.3) (2.8.2)\n",
      "Requirement already satisfied: pytz>=2020.1 in /mnt/appl/software/Python-bundle-PyPI/2023.10-GCCcore-13.2.0/lib/python3.11/site-packages (from pandas->datasets>=2.16.0->unsloth==2025.3.3) (2023.3.post1)\n",
      "Requirement already satisfied: tzdata>=2022.1 in /mnt/appl/software/SciPy-bundle/2023.11-gfbf-2023b/lib/python3.11/site-packages (from pandas->datasets>=2.16.0->unsloth==2025.3.3) (2023.3)\n",
      "Requirement already satisfied: mdurl~=0.1 in /mnt/appl/software/Python-bundle-PyPI/2023.10-GCCcore-13.2.0/lib/python3.11/site-packages (from markdown-it-py>=2.2.0->rich->trl!=0.15.0,!=0.9.0,!=0.9.1,!=0.9.2,!=0.9.3,>=0.7.9->unsloth==2025.3.3) (0.1.2)\n",
      "Requirement already satisfied: six>=1.5 in /mnt/appl/software/Python-bundle-PyPI/2023.10-GCCcore-13.2.0/lib/python3.11/site-packages (from python-dateutil>=2.8.2->pandas->datasets>=2.16.0->unsloth==2025.3.3) (1.16.0)\n",
      "Downloading unsloth-2025.3.3-py3-none-any.whl (190 kB)\n",
      "Using cached protobuf-3.20.3-py2.py3-none-any.whl (162 kB)\n",
      "Using cached requests-2.32.3-py3-none-any.whl (64 kB)\n",
      "Installing collected packages: requests, protobuf, unsloth\n",
      "  Attempting uninstall: requests\n",
      "    Found existing installation: requests 2.31.0\n",
      "    Not uninstalling requests at /mnt/appl/software/Python-bundle-PyPI/2023.10-GCCcore-13.2.0/lib/python3.11/site-packages, outside environment /home/mlynatom/master-thesis-repository-tomas-mlynar/venv/unsloth_venv\n",
      "    Can't uninstall 'requests'. No files were found to uninstall.\n",
      "  Attempting uninstall: protobuf\n",
      "    Found existing installation: protobuf 4.25.3\n",
      "    Not uninstalling protobuf at /mnt/appl/software/protobuf-python/4.25.3-GCCcore-13.2.0/lib/python3.11/site-packages, outside environment /home/mlynatom/master-thesis-repository-tomas-mlynar/venv/unsloth_venv\n",
      "    Can't uninstall 'protobuf'. No files were found to uninstall.\n",
      "  Attempting uninstall: unsloth\n",
      "    Found existing installation: unsloth 2025.3.2\n",
      "    Uninstalling unsloth-2025.3.2:\n",
      "      Successfully uninstalled unsloth-2025.3.2\n",
      "Successfully installed protobuf-3.20.3 requests-2.32.3 unsloth-2025.3.3\n",
      "Note: you may need to restart the kernel to use updated packages.\n"
     ]
    }
   ],
   "source": [
    "%pip install unsloth==2025.3.3"
   ]
  },
  {
   "cell_type": "code",
   "execution_count": 1,
   "metadata": {},
   "outputs": [
    {
     "name": "stdout",
     "output_type": "stream",
     "text": [
      "xFormers 0.0.29.post3\n",
      "memory_efficient_attention.ckF:                    unavailable\n",
      "memory_efficient_attention.ckB:                    unavailable\n",
      "memory_efficient_attention.ck_decoderF:            unavailable\n",
      "memory_efficient_attention.ck_splitKF:             unavailable\n",
      "memory_efficient_attention.cutlassF-pt:            available\n",
      "memory_efficient_attention.cutlassB-pt:            available\n",
      "memory_efficient_attention.fa2F@v2.5.7-pt:         available\n",
      "memory_efficient_attention.fa2B@v2.5.7-pt:         available\n",
      "memory_efficient_attention.fa3F@0.0.0:             unavailable\n",
      "memory_efficient_attention.fa3B@0.0.0:             unavailable\n",
      "memory_efficient_attention.triton_splitKF:         available\n",
      "indexing.scaled_index_addF:                        available\n",
      "indexing.scaled_index_addB:                        available\n",
      "indexing.index_select:                             available\n",
      "sp24.sparse24_sparsify_both_ways:                  available\n",
      "sp24.sparse24_apply:                               available\n",
      "sp24.sparse24_apply_dense_output:                  available\n",
      "sp24._sparse24_gemm:                               available\n",
      "sp24._cslt_sparse_mm_search@0.0.0:                 available\n",
      "sp24._cslt_sparse_mm@0.0.0:                        available\n",
      "swiglu.dual_gemm_silu:                             available\n",
      "swiglu.gemm_fused_operand_sum:                     available\n",
      "swiglu.fused.p.cpp:                                available\n",
      "is_triton_available:                               True\n",
      "pytorch.version:                                   2.6.0\n",
      "pytorch.cuda:                                      available\n",
      "gpu.compute_capability:                            8.0\n",
      "gpu.name:                                          NVIDIA A100-SXM4-80GB\n",
      "dcgm_profiler:                                     available\n",
      "build.info:                                        available\n",
      "build.cuda_version:                                1204\n",
      "build.hip_version:                                 None\n",
      "build.python_version:                              3.11.5\n",
      "build.torch_version:                               2.6.0\n",
      "build.env.TORCH_CUDA_ARCH_LIST:                    8.0\n",
      "build.env.PYTORCH_ROCM_ARCH:                       None\n",
      "build.env.XFORMERS_BUILD_TYPE:                     None\n",
      "build.env.XFORMERS_ENABLE_DEBUG_ASSERTIONS:        None\n",
      "build.env.NVCC_FLAGS:                              None\n",
      "build.env.XFORMERS_PACKAGE_FROM:                   None\n",
      "build.nvcc_version:                                12.4.99\n",
      "source.privacy:                                    open source\n"
     ]
    }
   ],
   "source": [
    "!python -m xformers.info"
   ]
  },
  {
   "cell_type": "code",
   "execution_count": 2,
   "metadata": {},
   "outputs": [
    {
     "name": "stdout",
     "output_type": "stream",
     "text": [
      "++++++++++++++++++++++++++++++++++++++++++++++++++++++++++++\n",
      "++++++++++++++++++ BUG REPORT INFORMATION ++++++++++++++++++\n",
      "++++++++++++++++++++++++++++++++++++++++++++++++++++++++++++\n",
      "++++++++++++++++++++++++++ OTHER +++++++++++++++++++++++++++\n",
      "CUDA specs: CUDASpecs(highest_compute_capability=(8, 0), cuda_version_string='124', cuda_version_tuple=(12, 4))\n",
      "PyTorch settings found: CUDA_VERSION=124, Highest Compute Capability: (8, 0).\n",
      "To manually override the PyTorch CUDA version please see: https://github.com/TimDettmers/bitsandbytes/blob/main/docs/source/nonpytorchcuda.mdx\n",
      "The directory listed in your path is found to be non-existent: /home/mlynatom/.vscode-server/extensions/ms-python.debugpy-2025.4.1-linux-x64/.noConfigDebugAdapterEndpoints/endpoint-41cacdfa2708845e.txt\n",
      "The directory listed in your path is found to be non-existent: 1;/mnt/appl/software/JupyterLab/4.2.0-GCCcore-13.2.0\n",
      "The directory listed in your path is found to be non-existent: 1;/mnt/appl/software/jupyter-server/2.14.0-GCCcore-13.2.0\n",
      "The directory listed in your path is found to be non-existent: /home/mlynatom/.jupyter/lab/workspaces\n",
      "The directory listed in your path is found to be non-existent: 1;/mnt/appl/software/SDL2/2.28.5-GCCcore-13.2.0/share/aclocal\n",
      "The directory listed in your path is found to be non-existent: 1;/mnt/appl/software/X11/20231019-GCCcore-13.2.0/share/aclocal\n",
      "The directory listed in your path is found to be non-existent: 1;/mnt/appl/software/xorg-macros/1.20.0-GCCcore-13.2.0/share/aclocal\n",
      "The directory listed in your path is found to be non-existent: 1;/mnt/appl/software/freetype/2.13.2-GCCcore-13.2.0/share/aclocal\n",
      "The directory listed in your path is found to be non-existent: 1;/mnt/appl/software/libxml2/2.11.5-GCCcore-13.2.0/share/aclocal\n",
      "The directory listed in your path is found to be non-existent: /home/mlynatom/master-thesis-repository-tomas-mlynar/continued_pretraining-c9d3d2e1-1810-413d-8cc0-417b6f0053c8.ipynb\n",
      "The directory listed in your path is found to be non-existent: /usr/share/lmod/lmod/share/man\n",
      "The directory listed in your path is found to be non-existent: 1;/mnt/appl/software/JupyterNotebook/7.2.0-GCCcore-13.2.0\n",
      "The directory listed in your path is found to be non-existent: 1;/mnt/appl/software/JupyterLab/4.2.0-GCCcore-13.2.0\n",
      "The directory listed in your path is found to be non-existent: 1;/mnt/appl/software/jupyter-server/2.14.0-GCCcore-13.2.0\n",
      "The directory listed in your path is found to be non-existent: 1;/mnt/appl/software/tornado/6.4-GCCcore-13.2.0\n",
      "The directory listed in your path is found to be non-existent: 1;/mnt/appl/software/PyZMQ/25.1.2-GCCcore-13.2.0\n",
      "The directory listed in your path is found to be non-existent: 1;/mnt/appl/software/IPython/8.17.2-GCCcore-13.2.0\n",
      "The directory listed in your path is found to be non-existent: 1;/mnt/appl/software/jedi/0.19.1-GCCcore-13.2.0\n",
      "The directory listed in your path is found to be non-existent: 1;/mnt/appl/software/BeautifulSoup/4.12.2-GCCcore-13.2.0\n",
      "The directory listed in your path is found to be non-existent: 1;/mnt/appl/software/hatchling/1.18.0-GCCcore-13.2.0\n",
      "The directory listed in your path is found to be non-existent: 1;/mnt/appl/software/lxml/4.9.3-GCCcore-13.2.0\n",
      "The directory listed in your path is found to be non-existent: 1;/mnt/appl/software/libxslt/1.1.38-GCCcore-13.2.0\n",
      "The directory listed in your path is found to be non-existent: 1;/mnt/appl/software/ZeroMQ/4.3.5-GCCcore-13.2.0\n",
      "The directory listed in your path is found to be non-existent: 1;/mnt/appl/software/libsodium/1.0.19-GCCcore-13.2.0\n",
      "The directory listed in your path is found to be non-existent: 1;/mnt/appl/software/OpenPGM/5.2.122-GCCcore-13.2.0\n",
      "The directory listed in your path is found to be non-existent: 1;/mnt/appl/software/xformers/0.0.29.post3-foss-2023b-CUDA-12.4.0\n",
      "The directory listed in your path is found to be non-existent: 1;/mnt/appl/software/Triton/3.1.1-foss-2023b-CUDA-12.4.0\n",
      "The directory listed in your path is found to be non-existent: 1;/mnt/appl/software/PyTorch/2.6.0-foss-2023b-CUDA-12.4.0/lib/python3.11/site-packages/torch\n",
      "The directory listed in your path is found to be non-existent: 1;/mnt/appl/software/NCCL/2.20.5-GCCcore-13.2.0-CUDA-12.4.0\n",
      "The directory listed in your path is found to be non-existent: 1;/mnt/appl/software/magma/2.7.2-foss-2023b-CUDA-12.4.0\n",
      "The directory listed in your path is found to be non-existent: 1;/mnt/appl/software/UCX-CUDA/1.15.0-GCCcore-13.2.0-CUDA-12.4.0\n",
      "The directory listed in your path is found to be non-existent: 1;/mnt/appl/software/GDRCopy/2.4-GCCcore-13.2.0\n",
      "The directory listed in your path is found to be non-existent: 1;/mnt/appl/software/UCX/1.15.0-GCCcore-13.2.0\n",
      "The directory listed in your path is found to be non-existent: 1;/mnt/appl/software/cuDNN/9.5.0.50-CUDA-12.4.0\n",
      "The directory listed in your path is found to be non-existent: 1;/mnt/appl/software/Z3/4.13.0-GCCcore-13.2.0\n",
      "The directory listed in your path is found to be non-existent: 1;/mnt/appl/software/sympy/1.13.1-gfbf-2023b\n",
      "The directory listed in your path is found to be non-existent: 1;/mnt/appl/software/gmpy2/2.1.5-GCC-13.2.0\n",
      "The directory listed in your path is found to be non-existent: 1;/mnt/appl/software/MPC/1.3.1-GCCcore-13.2.0\n",
      "The directory listed in your path is found to be non-existent: 1;/mnt/appl/software/networkx/3.2.1-gfbf-2023b\n",
      "The directory listed in your path is found to be non-existent: 1;/mnt/appl/software/expecttest/0.2.1-GCCcore-13.2.0\n",
      "The directory listed in your path is found to be non-existent: 1;/mnt/appl/software/Pillow/10.2.0-GCCcore-13.2.0\n",
      "The directory listed in your path is found to be non-existent: 1;/mnt/appl/software/LibTIFF/4.6.0-GCCcore-13.2.0\n",
      "The directory listed in your path is found to be non-existent: 1;/mnt/appl/software/libdeflate/1.19-GCCcore-13.2.0\n",
      "The directory listed in your path is found to be non-existent: 1;/mnt/appl/software/zstd/1.5.5-GCCcore-13.2.0\n",
      "The directory listed in your path is found to be non-existent: 1;/mnt/appl/software/lz4/1.9.4-GCCcore-13.2.0\n",
      "The directory listed in your path is found to be non-existent: 1;/mnt/appl/software/gzip/1.13-GCCcore-13.2.0\n",
      "The directory listed in your path is found to be non-existent: 1;/mnt/appl/software/jbigkit/2.1-GCCcore-13.2.0\n",
      "The directory listed in your path is found to be non-existent: 1;/mnt/appl/software/libjpeg-turbo/3.0.1-GCCcore-13.2.0\n",
      "The directory listed in your path is found to be non-existent: 1;/mnt/appl/software/FFmpeg/6.0-GCCcore-13.2.0\n",
      "The directory listed in your path is found to be non-existent: 1;/mnt/appl/software/SDL2/2.28.5-GCCcore-13.2.0\n",
      "The directory listed in your path is found to be non-existent: 1;/mnt/appl/software/FriBidi/1.0.13-GCCcore-13.2.0\n",
      "The directory listed in your path is found to be non-existent: 1;/mnt/appl/software/X11/20231019-GCCcore-13.2.0\n",
      "The directory listed in your path is found to be non-existent: 1;/mnt/appl/software/xorg-macros/1.20.0-GCCcore-13.2.0\n",
      "The directory listed in your path is found to be non-existent: 1;/mnt/appl/software/fontconfig/2.14.2-GCCcore-13.2.0\n",
      "The directory listed in your path is found to be non-existent: 1;/mnt/appl/software/util-linux/2.39-GCCcore-13.2.0\n",
      "The directory listed in your path is found to be non-existent: 1;/mnt/appl/software/freetype/2.13.2-GCCcore-13.2.0\n",
      "The directory listed in your path is found to be non-existent: 1;/mnt/appl/software/Brotli/1.1.0-GCCcore-13.2.0\n",
      "The directory listed in your path is found to be non-existent: 1;/mnt/appl/software/libpng/1.6.40-GCCcore-13.2.0\n",
      "The directory listed in your path is found to be non-existent: 1;/mnt/appl/software/expat/2.5.0-GCCcore-13.2.0\n",
      "The directory listed in your path is found to be non-existent: 1;/mnt/appl/software/x265/3.5-GCCcore-13.2.0\n",
      "The directory listed in your path is found to be non-existent: 1;/mnt/appl/software/LAME/3.100-GCCcore-13.2.0\n",
      "The directory listed in your path is found to be non-existent: 1;/mnt/appl/software/x264/20231019-GCCcore-13.2.0\n",
      "The directory listed in your path is found to be non-existent: 1;/mnt/appl/software/NASM/2.16.01-GCCcore-13.2.0\n",
      "The directory listed in your path is found to be non-existent: 1;/mnt/appl/software/MPFR/4.2.1-GCCcore-13.2.0\n",
      "The directory listed in your path is found to be non-existent: 1;/mnt/appl/software/GMP/6.3.0-GCCcore-13.2.0\n",
      "The directory listed in your path is found to be non-existent: 1;/mnt/appl/software/PyYAML/6.0.1-GCCcore-13.2.0\n",
      "The directory listed in your path is found to be non-existent: 1;/mnt/appl/software/libyaml/0.2.5-GCCcore-13.2.0\n",
      "The directory listed in your path is found to be non-existent: 1;/mnt/appl/software/SciPy-bundle/2023.11-gfbf-2023b\n",
      "The directory listed in your path is found to be non-existent: 1;/mnt/appl/software/pybind11/2.11.1-GCCcore-13.2.0\n",
      "The directory listed in your path is found to be non-existent: 1;/mnt/appl/software/protobuf-python/4.25.3-GCCcore-13.2.0\n",
      "The directory listed in your path is found to be non-existent: 1;/mnt/appl/software/protobuf/25.3-GCCcore-13.2.0\n",
      "The directory listed in your path is found to be non-existent: 1;/mnt/appl/software/Abseil/20240116.1-GCCcore-13.2.0\n",
      "The directory listed in your path is found to be non-existent: 1;/mnt/appl/software/Python-bundle-PyPI/2023.10-GCCcore-13.2.0\n",
      "The directory listed in your path is found to be non-existent: 1;/mnt/appl/software/virtualenv/20.24.6-GCCcore-13.2.0\n",
      "The directory listed in your path is found to be non-existent: 1;/mnt/appl/software/cryptography/41.0.5-GCCcore-13.2.0\n",
      "The directory listed in your path is found to be non-existent: 1;/mnt/appl/software/cffi/1.15.1-GCCcore-13.2.0\n",
      "The directory listed in your path is found to be non-existent: 1;/mnt/appl/software/Ninja/1.11.1-GCCcore-13.2.0\n",
      "The directory listed in your path is found to be non-existent: 1;/mnt/appl/software/CUDA/12.4.0\n",
      "The directory listed in your path is found to be non-existent: 1;/mnt/appl/software/Python/3.11.5-GCCcore-13.2.0\n",
      "The directory listed in your path is found to be non-existent: 1;/mnt/appl/software/libffi/3.4.4-GCCcore-13.2.0\n",
      "The directory listed in your path is found to be non-existent: 1;/mnt/appl/software/SQLite/3.43.1-GCCcore-13.2.0\n",
      "The directory listed in your path is found to be non-existent: 1;/mnt/appl/software/Tcl/8.6.13-GCCcore-13.2.0\n",
      "The directory listed in your path is found to be non-existent: 1;/mnt/appl/software/libreadline/8.2-GCCcore-13.2.0\n",
      "The directory listed in your path is found to be non-existent: 1;/mnt/appl/software/ncurses/6.4-GCCcore-13.2.0\n",
      "The directory listed in your path is found to be non-existent: 1;/mnt/appl/software/bzip2/1.0.8-GCCcore-13.2.0\n",
      "The directory listed in your path is found to be non-existent: 1;/mnt/appl/software/ScaLAPACK/2.2.0-gompi-2023b-fb\n",
      "The directory listed in your path is found to be non-existent: 1;/mnt/appl/software/FFTW.MPI/3.3.10-gompi-2023b\n",
      "The directory listed in your path is found to be non-existent: 1;/mnt/appl/software/OpenMPI/4.1.5-GCC-13.2.0\n",
      "The directory listed in your path is found to be non-existent: 1;/mnt/appl/software/PMIx/4.2.5-GCCcore-13.2.0\n",
      "The directory listed in your path is found to be non-existent: 1;/mnt/appl/software/FFTW/3.3.10-GCC-13.2.0\n",
      "The directory listed in your path is found to be non-existent: 1;/mnt/appl/software/FlexiBLAS/3.3.1-GCC-13.2.0\n",
      "The directory listed in your path is found to be non-existent: 1;/mnt/appl/software/OpenBLAS/0.3.24-GCC-13.2.0\n",
      "The directory listed in your path is found to be non-existent: 1;/mnt/appl/software/UCC/1.2.0-GCCcore-13.2.0\n",
      "The directory listed in your path is found to be non-existent: 1;/mnt/appl/software/libfabric/1.19.0-GCCcore-13.2.0\n",
      "The directory listed in your path is found to be non-existent: 1;/mnt/appl/software/libevent/2.1.12-GCCcore-13.2.0\n",
      "The directory listed in your path is found to be non-existent: 1;/mnt/appl/software/OpenSSL/1.1\n",
      "The directory listed in your path is found to be non-existent: 1;/mnt/appl/software/hwloc/2.9.2-GCCcore-13.2.0\n",
      "The directory listed in your path is found to be non-existent: 1;/mnt/appl/software/libpciaccess/0.17-GCCcore-13.2.0\n",
      "The directory listed in your path is found to be non-existent: 1;/mnt/appl/software/libxml2/2.11.5-GCCcore-13.2.0\n",
      "The directory listed in your path is found to be non-existent: 1;/mnt/appl/software/XZ/5.4.4-GCCcore-13.2.0\n",
      "The directory listed in your path is found to be non-existent: 1;/mnt/appl/software/numactl/2.0.16-GCCcore-13.2.0\n",
      "The directory listed in your path is found to be non-existent: 1;/mnt/appl/software/binutils/2.40-GCCcore-13.2.0\n",
      "The directory listed in your path is found to be non-existent: 1;/mnt/appl/software/zlib/1.2.13-GCCcore-13.2.0\n",
      "The directory listed in your path is found to be non-existent: 1;/mnt/appl/software/GCCcore/13.2.0\n",
      "The directory listed in your path is found to be non-existent: 1;/mnt/appl/software/JupyterLab/4.2.0-GCCcore-13.2.0/bin\n",
      "The directory listed in your path is found to be non-existent: 1;/mnt/appl/software/jupyter-server/2.14.0-GCCcore-13.2.0/bin\n",
      "The directory listed in your path is found to be non-existent: 1;/mnt/appl/software/IPython/8.17.2-GCCcore-13.2.0/bin\n",
      "The directory listed in your path is found to be non-existent: 1;/mnt/appl/software/hatchling/1.18.0-GCCcore-13.2.0/bin\n",
      "The directory listed in your path is found to be non-existent: 1;/mnt/appl/software/libxslt/1.1.38-GCCcore-13.2.0/bin\n",
      "The directory listed in your path is found to be non-existent: 1;/mnt/appl/software/ZeroMQ/4.3.5-GCCcore-13.2.0/bin\n",
      "The directory listed in your path is found to be non-existent: 1;/mnt/appl/software/Triton/3.1.1-foss-2023b-CUDA-12.4.0/bin\n",
      "The directory listed in your path is found to be non-existent: 1;/mnt/appl/software/PyTorch/2.6.0-foss-2023b-CUDA-12.4.0/bin\n",
      "The directory listed in your path is found to be non-existent: 1;/mnt/appl/software/UCX/1.15.0-GCCcore-13.2.0/bin\n",
      "The directory listed in your path is found to be non-existent: 1;/mnt/appl/software/Z3/4.13.0-GCCcore-13.2.0/bin\n",
      "The directory listed in your path is found to be non-existent: 1;/mnt/appl/software/sympy/1.13.1-gfbf-2023b/bin\n",
      "The directory listed in your path is found to be non-existent: 1;/mnt/appl/software/LibTIFF/4.6.0-GCCcore-13.2.0/bin\n",
      "The directory listed in your path is found to be non-existent: 1;/mnt/appl/software/libdeflate/1.19-GCCcore-13.2.0/bin\n",
      "The directory listed in your path is found to be non-existent: 1;/mnt/appl/software/zstd/1.5.5-GCCcore-13.2.0/bin\n",
      "The directory listed in your path is found to be non-existent: 1;/mnt/appl/software/lz4/1.9.4-GCCcore-13.2.0/bin\n",
      "The directory listed in your path is found to be non-existent: 1;/mnt/appl/software/gzip/1.13-GCCcore-13.2.0/bin\n",
      "The directory listed in your path is found to be non-existent: 1;/mnt/appl/software/jbigkit/2.1-GCCcore-13.2.0/bin\n",
      "The directory listed in your path is found to be non-existent: 1;/mnt/appl/software/libjpeg-turbo/3.0.1-GCCcore-13.2.0/bin\n",
      "The directory listed in your path is found to be non-existent: 1;/mnt/appl/software/FFmpeg/6.0-GCCcore-13.2.0/bin\n",
      "The directory listed in your path is found to be non-existent: 1;/mnt/appl/software/SDL2/2.28.5-GCCcore-13.2.0/bin\n",
      "The directory listed in your path is found to be non-existent: 1;/mnt/appl/software/FriBidi/1.0.13-GCCcore-13.2.0/bin\n",
      "The directory listed in your path is found to be non-existent: 1;/mnt/appl/software/X11/20231019-GCCcore-13.2.0/bin\n",
      "The directory listed in your path is found to be non-existent: 1;/mnt/appl/software/fontconfig/2.14.2-GCCcore-13.2.0/bin\n",
      "The directory listed in your path is found to be non-existent: 1;/mnt/appl/software/util-linux/2.39-GCCcore-13.2.0/sbin\n",
      "The directory listed in your path is found to be non-existent: 1;/mnt/appl/software/util-linux/2.39-GCCcore-13.2.0/bin\n",
      "The directory listed in your path is found to be non-existent: 1;/mnt/appl/software/freetype/2.13.2-GCCcore-13.2.0/bin\n",
      "The directory listed in your path is found to be non-existent: 1;/mnt/appl/software/Brotli/1.1.0-GCCcore-13.2.0/bin\n",
      "The directory listed in your path is found to be non-existent: 1;/mnt/appl/software/libpng/1.6.40-GCCcore-13.2.0/bin\n",
      "The directory listed in your path is found to be non-existent: 1;/mnt/appl/software/expat/2.5.0-GCCcore-13.2.0/bin\n",
      "The directory listed in your path is found to be non-existent: 1;/mnt/appl/software/x265/3.5-GCCcore-13.2.0/bin\n",
      "The directory listed in your path is found to be non-existent: 1;/mnt/appl/software/LAME/3.100-GCCcore-13.2.0/bin\n",
      "The directory listed in your path is found to be non-existent: 1;/mnt/appl/software/x264/20231019-GCCcore-13.2.0/bin\n",
      "The directory listed in your path is found to be non-existent: 1;/mnt/appl/software/NASM/2.16.01-GCCcore-13.2.0/bin\n",
      "The directory listed in your path is found to be non-existent: 1;/mnt/appl/software/SciPy-bundle/2023.11-gfbf-2023b/bin\n",
      "The directory listed in your path is found to be non-existent: 1;/mnt/appl/software/pybind11/2.11.1-GCCcore-13.2.0/bin\n",
      "The directory listed in your path is found to be non-existent: 1;/mnt/appl/software/protobuf/25.3-GCCcore-13.2.0/bin\n",
      "The directory listed in your path is found to be non-existent: 1;/mnt/appl/software/Python-bundle-PyPI/2023.10-GCCcore-13.2.0/bin\n",
      "The directory listed in your path is found to be non-existent: 1;/mnt/appl/software/virtualenv/20.24.6-GCCcore-13.2.0/bin\n",
      "The directory listed in your path is found to be non-existent: 1;/mnt/appl/software/Ninja/1.11.1-GCCcore-13.2.0/bin\n",
      "The directory listed in your path is found to be non-existent: 1;/mnt/appl/software/CUDA/12.4.0/nvvm/bin\n",
      "The directory listed in your path is found to be non-existent: 1;/mnt/appl/software/CUDA/12.4.0/bin\n",
      "The directory listed in your path is found to be non-existent: 1;/mnt/appl/software/Python/3.11.5-GCCcore-13.2.0/bin\n",
      "The directory listed in your path is found to be non-existent: 1;/mnt/appl/software/SQLite/3.43.1-GCCcore-13.2.0/bin\n",
      "The directory listed in your path is found to be non-existent: 1;/mnt/appl/software/Tcl/8.6.13-GCCcore-13.2.0/bin\n",
      "The directory listed in your path is found to be non-existent: 1;/mnt/appl/software/ncurses/6.4-GCCcore-13.2.0/bin\n",
      "The directory listed in your path is found to be non-existent: 1;/mnt/appl/software/bzip2/1.0.8-GCCcore-13.2.0/bin\n",
      "The directory listed in your path is found to be non-existent: 1;/mnt/appl/software/OpenMPI/4.1.5-GCC-13.2.0/bin\n",
      "The directory listed in your path is found to be non-existent: 1;/mnt/appl/software/PMIx/4.2.5-GCCcore-13.2.0/bin\n",
      "The directory listed in your path is found to be non-existent: 1;/mnt/appl/software/FFTW/3.3.10-GCC-13.2.0/bin\n",
      "The directory listed in your path is found to be non-existent: 1;/mnt/appl/software/FlexiBLAS/3.3.1-GCC-13.2.0/bin\n",
      "The directory listed in your path is found to be non-existent: 1;/mnt/appl/software/UCC/1.2.0-GCCcore-13.2.0/bin\n",
      "The directory listed in your path is found to be non-existent: 1;/mnt/appl/software/libfabric/1.19.0-GCCcore-13.2.0/bin\n",
      "The directory listed in your path is found to be non-existent: 1;/mnt/appl/software/libevent/2.1.12-GCCcore-13.2.0/bin\n",
      "The directory listed in your path is found to be non-existent: 1;/mnt/appl/software/OpenSSL/1.1/bin\n",
      "The directory listed in your path is found to be non-existent: 1;/mnt/appl/software/hwloc/2.9.2-GCCcore-13.2.0/sbin\n",
      "The directory listed in your path is found to be non-existent: 1;/mnt/appl/software/hwloc/2.9.2-GCCcore-13.2.0/bin\n",
      "The directory listed in your path is found to be non-existent: 1;/mnt/appl/software/libxml2/2.11.5-GCCcore-13.2.0/bin\n",
      "The directory listed in your path is found to be non-existent: 1;/mnt/appl/software/XZ/5.4.4-GCCcore-13.2.0/bin\n",
      "The directory listed in your path is found to be non-existent: 1;/mnt/appl/software/numactl/2.0.16-GCCcore-13.2.0/bin\n",
      "The directory listed in your path is found to be non-existent: 1;/mnt/appl/software/binutils/2.40-GCCcore-13.2.0/bin\n",
      "The directory listed in your path is found to be non-existent: 1;/mnt/appl/software/GCCcore/13.2.0/bin\n",
      "The directory listed in your path is found to be non-existent: 1;/home/mlynatom/.vscode-server/cli/servers/Stable-2fc07b811f760549dab9be9d2bedd06c51dfcb9a/server/bin/remote-cli\n",
      "The directory listed in your path is found to be non-existent: 1;/usr/local/bin\n",
      "The directory listed in your path is found to be non-existent: 1;/usr/bin\n",
      "The directory listed in your path is found to be non-existent: 1;/usr/local/sbin\n",
      "The directory listed in your path is found to be non-existent: 1;/usr/sbin\n",
      "The directory listed in your path is found to be non-existent: 1;/home/mlynatom/.vscode-server/extensions/ms-python.debugpy-2025.4.1-linux-x64/bundled/scripts/noConfigScripts\n",
      "The directory listed in your path is found to be non-existent: 1;/home/mlynatom/.vscode-server/data/User/globalStorage/github.copilot-chat/debugCommand\n",
      "The directory listed in your path is found to be non-existent: 1;/mnt/appl/software/jupyter-server/2.14.0-GCCcore-13.2.0/lib\n",
      "The directory listed in your path is found to be non-existent: 1;/mnt/appl/software/IPython/8.17.2-GCCcore-13.2.0/lib\n",
      "The directory listed in your path is found to be non-existent: 1;/mnt/appl/software/jedi/0.19.1-GCCcore-13.2.0/lib\n",
      "The directory listed in your path is found to be non-existent: 1;/mnt/appl/software/BeautifulSoup/4.12.2-GCCcore-13.2.0/lib\n",
      "The directory listed in your path is found to be non-existent: 1;/mnt/appl/software/hatchling/1.18.0-GCCcore-13.2.0/lib\n",
      "The directory listed in your path is found to be non-existent: 1;/mnt/appl/software/libxslt/1.1.38-GCCcore-13.2.0/lib\n",
      "The directory listed in your path is found to be non-existent: 1;/mnt/appl/software/ZeroMQ/4.3.5-GCCcore-13.2.0/lib\n",
      "The directory listed in your path is found to be non-existent: 1;/mnt/appl/software/libsodium/1.0.19-GCCcore-13.2.0/lib\n",
      "The directory listed in your path is found to be non-existent: 1;/mnt/appl/software/OpenPGM/5.2.122-GCCcore-13.2.0/lib\n",
      "The directory listed in your path is found to be non-existent: 1;/mnt/appl/software/NCCL/2.20.5-GCCcore-13.2.0-CUDA-12.4.0/lib\n",
      "The directory listed in your path is found to be non-existent: 1;/mnt/appl/software/magma/2.7.2-foss-2023b-CUDA-12.4.0/lib\n",
      "The directory listed in your path is found to be non-existent: 1;/mnt/appl/software/GDRCopy/2.4-GCCcore-13.2.0/lib\n",
      "The directory listed in your path is found to be non-existent: 1;/mnt/appl/software/UCX/1.15.0-GCCcore-13.2.0/lib\n",
      "The directory listed in your path is found to be non-existent: 1;/mnt/appl/software/cuDNN/9.5.0.50-CUDA-12.4.0/lib\n",
      "The directory listed in your path is found to be non-existent: 1;/mnt/appl/software/Z3/4.13.0-GCCcore-13.2.0/lib\n",
      "The directory listed in your path is found to be non-existent: 1;/mnt/appl/software/MPC/1.3.1-GCCcore-13.2.0/lib\n",
      "The directory listed in your path is found to be non-existent: 1;/mnt/appl/software/LibTIFF/4.6.0-GCCcore-13.2.0/lib\n",
      "The directory listed in your path is found to be non-existent: 1;/mnt/appl/software/libdeflate/1.19-GCCcore-13.2.0/lib\n",
      "The directory listed in your path is found to be non-existent: 1;/mnt/appl/software/zstd/1.5.5-GCCcore-13.2.0/lib\n",
      "The directory listed in your path is found to be non-existent: 1;/mnt/appl/software/lz4/1.9.4-GCCcore-13.2.0/lib\n",
      "The directory listed in your path is found to be non-existent: 1;/mnt/appl/software/jbigkit/2.1-GCCcore-13.2.0/lib\n",
      "The directory listed in your path is found to be non-existent: 1;/mnt/appl/software/libjpeg-turbo/3.0.1-GCCcore-13.2.0/lib\n",
      "The directory listed in your path is found to be non-existent: 1;/mnt/appl/software/FFmpeg/6.0-GCCcore-13.2.0/lib\n",
      "The directory listed in your path is found to be non-existent: 1;/mnt/appl/software/SDL2/2.28.5-GCCcore-13.2.0/lib\n",
      "The directory listed in your path is found to be non-existent: 1;/mnt/appl/software/FriBidi/1.0.13-GCCcore-13.2.0/lib\n",
      "The directory listed in your path is found to be non-existent: 1;/mnt/appl/software/X11/20231019-GCCcore-13.2.0/lib\n",
      "The directory listed in your path is found to be non-existent: 1;/mnt/appl/software/fontconfig/2.14.2-GCCcore-13.2.0/lib\n",
      "The directory listed in your path is found to be non-existent: 1;/mnt/appl/software/util-linux/2.39-GCCcore-13.2.0/lib\n",
      "The directory listed in your path is found to be non-existent: 1;/mnt/appl/software/freetype/2.13.2-GCCcore-13.2.0/lib\n",
      "The directory listed in your path is found to be non-existent: 1;/mnt/appl/software/Brotli/1.1.0-GCCcore-13.2.0/lib\n",
      "The directory listed in your path is found to be non-existent: 1;/mnt/appl/software/libpng/1.6.40-GCCcore-13.2.0/lib\n",
      "The directory listed in your path is found to be non-existent: 1;/mnt/appl/software/expat/2.5.0-GCCcore-13.2.0/lib\n",
      "The directory listed in your path is found to be non-existent: 1;/mnt/appl/software/x265/3.5-GCCcore-13.2.0/lib\n",
      "The directory listed in your path is found to be non-existent: 1;/mnt/appl/software/LAME/3.100-GCCcore-13.2.0/lib\n",
      "The directory listed in your path is found to be non-existent: 1;/mnt/appl/software/x264/20231019-GCCcore-13.2.0/lib\n",
      "The directory listed in your path is found to be non-existent: 1;/mnt/appl/software/MPFR/4.2.1-GCCcore-13.2.0/lib\n",
      "The directory listed in your path is found to be non-existent: 1;/mnt/appl/software/GMP/6.3.0-GCCcore-13.2.0/lib\n",
      "The directory listed in your path is found to be non-existent: 1;/mnt/appl/software/libyaml/0.2.5-GCCcore-13.2.0/lib\n",
      "The directory listed in your path is found to be non-existent: 1;/mnt/appl/software/SciPy-bundle/2023.11-gfbf-2023b/lib/python3.11/site-packages/numpy/core/lib\n",
      "The directory listed in your path is found to be non-existent: 1;/mnt/appl/software/SciPy-bundle/2023.11-gfbf-2023b/lib\n",
      "The directory listed in your path is found to be non-existent: 1;/mnt/appl/software/protobuf/25.3-GCCcore-13.2.0/lib\n",
      "The directory listed in your path is found to be non-existent: 1;/mnt/appl/software/Abseil/20240116.1-GCCcore-13.2.0/lib\n",
      "The directory listed in your path is found to be non-existent: 1;/mnt/appl/software/Python-bundle-PyPI/2023.10-GCCcore-13.2.0/lib\n",
      "The directory listed in your path is found to be non-existent: 1;/mnt/appl/software/virtualenv/20.24.6-GCCcore-13.2.0/lib\n",
      "The directory listed in your path is found to be non-existent: 1;/mnt/appl/software/cffi/1.15.1-GCCcore-13.2.0/lib\n",
      "The directory listed in your path is found to be non-existent: 1;/mnt/appl/software/CUDA/12.4.0/stubs/lib64\n",
      "The directory listed in your path is found to be non-existent: 1;/mnt/appl/software/CUDA/12.4.0/lib\n",
      "The directory listed in your path is found to be non-existent: 1;/mnt/appl/software/Python/3.11.5-GCCcore-13.2.0/lib\n",
      "The directory listed in your path is found to be non-existent: 1;/mnt/appl/software/libffi/3.4.4-GCCcore-13.2.0/lib64\n",
      "The directory listed in your path is found to be non-existent: 1;/mnt/appl/software/libffi/3.4.4-GCCcore-13.2.0/lib\n",
      "The directory listed in your path is found to be non-existent: 1;/mnt/appl/software/SQLite/3.43.1-GCCcore-13.2.0/lib\n",
      "The directory listed in your path is found to be non-existent: 1;/mnt/appl/software/Tcl/8.6.13-GCCcore-13.2.0/lib\n",
      "The directory listed in your path is found to be non-existent: 1;/mnt/appl/software/libreadline/8.2-GCCcore-13.2.0/lib\n",
      "The directory listed in your path is found to be non-existent: 1;/mnt/appl/software/ncurses/6.4-GCCcore-13.2.0/lib\n",
      "The directory listed in your path is found to be non-existent: 1;/mnt/appl/software/bzip2/1.0.8-GCCcore-13.2.0/lib\n",
      "The directory listed in your path is found to be non-existent: 1;/mnt/appl/software/ScaLAPACK/2.2.0-gompi-2023b-fb/lib\n",
      "The directory listed in your path is found to be non-existent: 1;/mnt/appl/software/FFTW.MPI/3.3.10-gompi-2023b/lib\n",
      "The directory listed in your path is found to be non-existent: 1;/mnt/appl/software/OpenMPI/4.1.5-GCC-13.2.0/lib\n",
      "The directory listed in your path is found to be non-existent: 1;/mnt/appl/software/PMIx/4.2.5-GCCcore-13.2.0/lib\n",
      "The directory listed in your path is found to be non-existent: 1;/mnt/appl/software/FFTW/3.3.10-GCC-13.2.0/lib\n",
      "The directory listed in your path is found to be non-existent: 1;/mnt/appl/software/FlexiBLAS/3.3.1-GCC-13.2.0/lib\n",
      "The directory listed in your path is found to be non-existent: 1;/mnt/appl/software/OpenBLAS/0.3.24-GCC-13.2.0/lib\n",
      "The directory listed in your path is found to be non-existent: 1;/mnt/appl/software/UCC/1.2.0-GCCcore-13.2.0/lib\n",
      "The directory listed in your path is found to be non-existent: 1;/mnt/appl/software/libfabric/1.19.0-GCCcore-13.2.0/lib\n",
      "The directory listed in your path is found to be non-existent: 1;/mnt/appl/software/libevent/2.1.12-GCCcore-13.2.0/lib\n",
      "The directory listed in your path is found to be non-existent: 1;/mnt/appl/software/OpenSSL/1.1/lib\n",
      "The directory listed in your path is found to be non-existent: 1;/mnt/appl/software/hwloc/2.9.2-GCCcore-13.2.0/lib\n",
      "The directory listed in your path is found to be non-existent: 1;/mnt/appl/software/libpciaccess/0.17-GCCcore-13.2.0/lib\n",
      "The directory listed in your path is found to be non-existent: 1;/mnt/appl/software/libxml2/2.11.5-GCCcore-13.2.0/lib\n",
      "The directory listed in your path is found to be non-existent: 1;/mnt/appl/software/XZ/5.4.4-GCCcore-13.2.0/lib\n",
      "The directory listed in your path is found to be non-existent: 1;/mnt/appl/software/numactl/2.0.16-GCCcore-13.2.0/lib\n",
      "The directory listed in your path is found to be non-existent: 1;/mnt/appl/software/binutils/2.40-GCCcore-13.2.0/lib\n",
      "The directory listed in your path is found to be non-existent: 1;/mnt/appl/software/zlib/1.2.13-GCCcore-13.2.0/lib\n",
      "The directory listed in your path is found to be non-existent: GCCcore/13.2.0\n",
      "The directory listed in your path is found to be non-existent: 1;zlib/1.2.13-GCCcore-13.2.0\n",
      "The directory listed in your path is found to be non-existent: 1;binutils/2.40-GCCcore-13.2.0\n",
      "The directory listed in your path is found to be non-existent: 1;GCC/13.2.0\n",
      "The directory listed in your path is found to be non-existent: 1;numactl/2.0.16-GCCcore-13.2.0\n",
      "The directory listed in your path is found to be non-existent: 1;XZ/5.4.4-GCCcore-13.2.0\n",
      "The directory listed in your path is found to be non-existent: 1;libxml2/2.11.5-GCCcore-13.2.0\n",
      "The directory listed in your path is found to be non-existent: 1;libpciaccess/0.17-GCCcore-13.2.0\n",
      "The directory listed in your path is found to be non-existent: 1;hwloc/2.9.2-GCCcore-13.2.0\n",
      "The directory listed in your path is found to be non-existent: 1;OpenSSL/1.1\n",
      "The directory listed in your path is found to be non-existent: 1;libevent/2.1.12-GCCcore-13.2.0\n",
      "The directory listed in your path is found to be non-existent: 1;libfabric/1.19.0-GCCcore-13.2.0\n",
      "The directory listed in your path is found to be non-existent: 1;UCC/1.2.0-GCCcore-13.2.0\n",
      "The directory listed in your path is found to be non-existent: 1;OpenBLAS/0.3.24-GCC-13.2.0\n",
      "The directory listed in your path is found to be non-existent: 1;FlexiBLAS/3.3.1-GCC-13.2.0\n",
      "The directory listed in your path is found to be non-existent: 1;FFTW/3.3.10-GCC-13.2.0\n",
      "The directory listed in your path is found to be non-existent: 1;PMIx/4.2.5-GCCcore-13.2.0\n",
      "The directory listed in your path is found to be non-existent: 1;OpenMPI/4.1.5-GCC-13.2.0\n",
      "The directory listed in your path is found to be non-existent: 1;gompi/2023b\n",
      "The directory listed in your path is found to be non-existent: 1;FFTW.MPI/3.3.10-gompi-2023b\n",
      "The directory listed in your path is found to be non-existent: 1;ScaLAPACK/2.2.0-gompi-2023b-fb\n",
      "The directory listed in your path is found to be non-existent: 1;foss/2023b\n",
      "The directory listed in your path is found to be non-existent: 1;bzip2/1.0.8-GCCcore-13.2.0\n",
      "The directory listed in your path is found to be non-existent: 1;ncurses/6.4-GCCcore-13.2.0\n",
      "The directory listed in your path is found to be non-existent: 1;libreadline/8.2-GCCcore-13.2.0\n",
      "The directory listed in your path is found to be non-existent: 1;Tcl/8.6.13-GCCcore-13.2.0\n",
      "The directory listed in your path is found to be non-existent: 1;SQLite/3.43.1-GCCcore-13.2.0\n",
      "The directory listed in your path is found to be non-existent: 1;libffi/3.4.4-GCCcore-13.2.0\n",
      "The directory listed in your path is found to be non-existent: 1;Python/3.11.5-GCCcore-13.2.0\n",
      "The directory listed in your path is found to be non-existent: 1;CUDA/12.4.0\n",
      "The directory listed in your path is found to be non-existent: 1;Ninja/1.11.1-GCCcore-13.2.0\n",
      "The directory listed in your path is found to be non-existent: 1;cffi/1.15.1-GCCcore-13.2.0\n",
      "The directory listed in your path is found to be non-existent: 1;cryptography/41.0.5-GCCcore-13.2.0\n",
      "The directory listed in your path is found to be non-existent: 1;virtualenv/20.24.6-GCCcore-13.2.0\n",
      "The directory listed in your path is found to be non-existent: 1;Python-bundle-PyPI/2023.10-GCCcore-13.2.0\n",
      "The directory listed in your path is found to be non-existent: 1;Abseil/20240116.1-GCCcore-13.2.0\n",
      "The directory listed in your path is found to be non-existent: 1;protobuf/25.3-GCCcore-13.2.0\n",
      "The directory listed in your path is found to be non-existent: 1;protobuf-python/4.25.3-GCCcore-13.2.0\n",
      "The directory listed in your path is found to be non-existent: 1;pybind11/2.11.1-GCCcore-13.2.0\n",
      "The directory listed in your path is found to be non-existent: 1;gfbf/2023b\n",
      "The directory listed in your path is found to be non-existent: 1;SciPy-bundle/2023.11-gfbf-2023b\n",
      "The directory listed in your path is found to be non-existent: 1;libyaml/0.2.5-GCCcore-13.2.0\n",
      "The directory listed in your path is found to be non-existent: 1;PyYAML/6.0.1-GCCcore-13.2.0\n",
      "The directory listed in your path is found to be non-existent: 1;GMP/6.3.0-GCCcore-13.2.0\n",
      "The directory listed in your path is found to be non-existent: 1;MPFR/4.2.1-GCCcore-13.2.0\n",
      "The directory listed in your path is found to be non-existent: 1;NASM/2.16.01-GCCcore-13.2.0\n",
      "The directory listed in your path is found to be non-existent: 1;x264/20231019-GCCcore-13.2.0\n",
      "The directory listed in your path is found to be non-existent: 1;LAME/3.100-GCCcore-13.2.0\n",
      "The directory listed in your path is found to be non-existent: 1;x265/3.5-GCCcore-13.2.0\n",
      "The directory listed in your path is found to be non-existent: 1;expat/2.5.0-GCCcore-13.2.0\n",
      "The directory listed in your path is found to be non-existent: 1;libpng/1.6.40-GCCcore-13.2.0\n",
      "The directory listed in your path is found to be non-existent: 1;Brotli/1.1.0-GCCcore-13.2.0\n",
      "The directory listed in your path is found to be non-existent: 1;freetype/2.13.2-GCCcore-13.2.0\n",
      "The directory listed in your path is found to be non-existent: 1;util-linux/2.39-GCCcore-13.2.0\n",
      "The directory listed in your path is found to be non-existent: 1;fontconfig/2.14.2-GCCcore-13.2.0\n",
      "The directory listed in your path is found to be non-existent: 1;xorg-macros/1.20.0-GCCcore-13.2.0\n",
      "The directory listed in your path is found to be non-existent: 1;X11/20231019-GCCcore-13.2.0\n",
      "The directory listed in your path is found to be non-existent: 1;FriBidi/1.0.13-GCCcore-13.2.0\n",
      "The directory listed in your path is found to be non-existent: 1;SDL2/2.28.5-GCCcore-13.2.0\n",
      "The directory listed in your path is found to be non-existent: 1;FFmpeg/6.0-GCCcore-13.2.0\n",
      "The directory listed in your path is found to be non-existent: 1;libjpeg-turbo/3.0.1-GCCcore-13.2.0\n",
      "The directory listed in your path is found to be non-existent: 1;jbigkit/2.1-GCCcore-13.2.0\n",
      "The directory listed in your path is found to be non-existent: 1;gzip/1.13-GCCcore-13.2.0\n",
      "The directory listed in your path is found to be non-existent: 1;lz4/1.9.4-GCCcore-13.2.0\n",
      "The directory listed in your path is found to be non-existent: 1;zstd/1.5.5-GCCcore-13.2.0\n",
      "The directory listed in your path is found to be non-existent: 1;libdeflate/1.19-GCCcore-13.2.0\n",
      "The directory listed in your path is found to be non-existent: 1;LibTIFF/4.6.0-GCCcore-13.2.0\n",
      "The directory listed in your path is found to be non-existent: 1;Pillow/10.2.0-GCCcore-13.2.0\n",
      "The directory listed in your path is found to be non-existent: 1;expecttest/0.2.1-GCCcore-13.2.0\n",
      "The directory listed in your path is found to be non-existent: 1;networkx/3.2.1-gfbf-2023b\n",
      "The directory listed in your path is found to be non-existent: 1;MPC/1.3.1-GCCcore-13.2.0\n",
      "The directory listed in your path is found to be non-existent: 1;gmpy2/2.1.5-GCC-13.2.0\n",
      "The directory listed in your path is found to be non-existent: 1;sympy/1.13.1-gfbf-2023b\n",
      "The directory listed in your path is found to be non-existent: 1;Z3/4.13.0-GCCcore-13.2.0\n",
      "The directory listed in your path is found to be non-existent: 1;cuDNN/9.5.0.50-CUDA-12.4.0\n",
      "The directory listed in your path is found to be non-existent: 1;UCX/1.15.0-GCCcore-13.2.0\n",
      "The directory listed in your path is found to be non-existent: 1;GDRCopy/2.4-GCCcore-13.2.0\n",
      "The directory listed in your path is found to be non-existent: 1;UCX-CUDA/1.15.0-GCCcore-13.2.0-CUDA-12.4.0\n",
      "The directory listed in your path is found to be non-existent: 1;magma/2.7.2-foss-2023b-CUDA-12.4.0\n",
      "The directory listed in your path is found to be non-existent: 1;NCCL/2.20.5-GCCcore-13.2.0-CUDA-12.4.0\n",
      "The directory listed in your path is found to be non-existent: 1;PyTorch/2.6.0-foss-2023b-CUDA-12.4.0\n",
      "The directory listed in your path is found to be non-existent: 1;Triton/3.1.1-foss-2023b-CUDA-12.4.0\n",
      "The directory listed in your path is found to be non-existent: 1;xformers/0.0.29.post3-foss-2023b-CUDA-12.4.0\n",
      "The directory listed in your path is found to be non-existent: 1;OpenPGM/5.2.122-GCCcore-13.2.0\n",
      "The directory listed in your path is found to be non-existent: 1;libsodium/1.0.19-GCCcore-13.2.0\n",
      "The directory listed in your path is found to be non-existent: 1;ZeroMQ/4.3.5-GCCcore-13.2.0\n",
      "The directory listed in your path is found to be non-existent: 1;libxslt/1.1.38-GCCcore-13.2.0\n",
      "The directory listed in your path is found to be non-existent: 1;lxml/4.9.3-GCCcore-13.2.0\n",
      "The directory listed in your path is found to be non-existent: 1;hatchling/1.18.0-GCCcore-13.2.0\n",
      "The directory listed in your path is found to be non-existent: 1;BeautifulSoup/4.12.2-GCCcore-13.2.0\n",
      "The directory listed in your path is found to be non-existent: 1;jedi/0.19.1-GCCcore-13.2.0\n",
      "The directory listed in your path is found to be non-existent: 1;IPython/8.17.2-GCCcore-13.2.0\n",
      "The directory listed in your path is found to be non-existent: 1;PyZMQ/25.1.2-GCCcore-13.2.0\n",
      "The directory listed in your path is found to be non-existent: 1;tornado/6.4-GCCcore-13.2.0\n",
      "The directory listed in your path is found to be non-existent: 1;jupyter-server/2.14.0-GCCcore-13.2.0\n",
      "The directory listed in your path is found to be non-existent: 1;JupyterLab/4.2.0-GCCcore-13.2.0\n",
      "The directory listed in your path is found to be non-existent: 1;JupyterNotebook/7.2.0-GCCcore-13.2.0\n",
      "The directory listed in your path is found to be non-existent: 1;typing-extensions/4.11.0-GCCcore-13.2.0\n",
      "The directory listed in your path is found to be non-existent: 1;/mnt/appl/software/ZeroMQ/4.3.5-GCCcore-13.2.0/lib/pkgconfig\n",
      "The directory listed in your path is found to be non-existent: 1;/mnt/appl/software/libsodium/1.0.19-GCCcore-13.2.0/lib/pkgconfig\n",
      "The directory listed in your path is found to be non-existent: 1;/mnt/appl/software/OpenPGM/5.2.122-GCCcore-13.2.0/lib/pkgconfig\n",
      "The directory listed in your path is found to be non-existent: 1;/mnt/appl/software/NCCL/2.20.5-GCCcore-13.2.0-CUDA-12.4.0/lib/pkgconfig\n",
      "The directory listed in your path is found to be non-existent: 1;/mnt/appl/software/magma/2.7.2-foss-2023b-CUDA-12.4.0/lib/pkgconfig\n",
      "The directory listed in your path is found to be non-existent: 1;/mnt/appl/software/UCX/1.15.0-GCCcore-13.2.0/lib/pkgconfig\n",
      "The directory listed in your path is found to be non-existent: 1;/mnt/appl/software/LibTIFF/4.6.0-GCCcore-13.2.0/lib/pkgconfig\n",
      "The directory listed in your path is found to be non-existent: 1;/mnt/appl/software/libdeflate/1.19-GCCcore-13.2.0/lib/pkgconfig\n",
      "The directory listed in your path is found to be non-existent: 1;/mnt/appl/software/zstd/1.5.5-GCCcore-13.2.0/lib/pkgconfig\n",
      "The directory listed in your path is found to be non-existent: 1;/mnt/appl/software/lz4/1.9.4-GCCcore-13.2.0/lib/pkgconfig\n",
      "The directory listed in your path is found to be non-existent: 1;/mnt/appl/software/libjpeg-turbo/3.0.1-GCCcore-13.2.0/lib/pkgconfig\n",
      "The directory listed in your path is found to be non-existent: 1;/mnt/appl/software/FFmpeg/6.0-GCCcore-13.2.0/lib/pkgconfig\n",
      "The directory listed in your path is found to be non-existent: 1;/mnt/appl/software/SDL2/2.28.5-GCCcore-13.2.0/lib/pkgconfig\n",
      "The directory listed in your path is found to be non-existent: 1;/mnt/appl/software/FriBidi/1.0.13-GCCcore-13.2.0/lib/pkgconfig\n",
      "The directory listed in your path is found to be non-existent: 1;/mnt/appl/software/X11/20231019-GCCcore-13.2.0/share/pkgconfig\n",
      "The directory listed in your path is found to be non-existent: 1;/mnt/appl/software/X11/20231019-GCCcore-13.2.0/lib/pkgconfig\n",
      "The directory listed in your path is found to be non-existent: 1;/mnt/appl/software/xorg-macros/1.20.0-GCCcore-13.2.0/share/pkgconfig\n",
      "The directory listed in your path is found to be non-existent: 1;/mnt/appl/software/fontconfig/2.14.2-GCCcore-13.2.0/lib/pkgconfig\n",
      "The directory listed in your path is found to be non-existent: 1;/mnt/appl/software/util-linux/2.39-GCCcore-13.2.0/lib/pkgconfig\n",
      "The directory listed in your path is found to be non-existent: 1;/mnt/appl/software/freetype/2.13.2-GCCcore-13.2.0/lib/pkgconfig\n",
      "The directory listed in your path is found to be non-existent: 1;/mnt/appl/software/Brotli/1.1.0-GCCcore-13.2.0/lib/pkgconfig\n",
      "The directory listed in your path is found to be non-existent: 1;/mnt/appl/software/libpng/1.6.40-GCCcore-13.2.0/lib/pkgconfig\n",
      "The directory listed in your path is found to be non-existent: 1;/mnt/appl/software/expat/2.5.0-GCCcore-13.2.0/lib/pkgconfig\n",
      "The directory listed in your path is found to be non-existent: 1;/mnt/appl/software/x265/3.5-GCCcore-13.2.0/lib/pkgconfig\n",
      "The directory listed in your path is found to be non-existent: 1;/mnt/appl/software/x264/20231019-GCCcore-13.2.0/lib/pkgconfig\n",
      "The directory listed in your path is found to be non-existent: 1;/mnt/appl/software/MPFR/4.2.1-GCCcore-13.2.0/lib/pkgconfig\n",
      "The directory listed in your path is found to be non-existent: 1;/mnt/appl/software/GMP/6.3.0-GCCcore-13.2.0/lib/pkgconfig\n",
      "The directory listed in your path is found to be non-existent: 1;/mnt/appl/software/libyaml/0.2.5-GCCcore-13.2.0/lib/pkgconfig\n",
      "The directory listed in your path is found to be non-existent: 1;/mnt/appl/software/pybind11/2.11.1-GCCcore-13.2.0/share/pkgconfig\n",
      "The directory listed in your path is found to be non-existent: 1;/mnt/appl/software/protobuf/25.3-GCCcore-13.2.0/lib/pkgconfig\n",
      "The directory listed in your path is found to be non-existent: 1;/mnt/appl/software/Abseil/20240116.1-GCCcore-13.2.0/lib/pkgconfig\n",
      "The directory listed in your path is found to be non-existent: 1;/mnt/appl/software/CUDA/12.4.0/pkgconfig\n",
      "The directory listed in your path is found to be non-existent: 1;/mnt/appl/software/Python/3.11.5-GCCcore-13.2.0/lib/pkgconfig\n",
      "The directory listed in your path is found to be non-existent: 1;/mnt/appl/software/libffi/3.4.4-GCCcore-13.2.0/lib/pkgconfig\n",
      "The directory listed in your path is found to be non-existent: 1;/mnt/appl/software/SQLite/3.43.1-GCCcore-13.2.0/lib/pkgconfig\n",
      "The directory listed in your path is found to be non-existent: 1;/mnt/appl/software/Tcl/8.6.13-GCCcore-13.2.0/lib/pkgconfig\n",
      "The directory listed in your path is found to be non-existent: 1;/mnt/appl/software/libreadline/8.2-GCCcore-13.2.0/lib/pkgconfig\n",
      "The directory listed in your path is found to be non-existent: 1;/mnt/appl/software/bzip2/1.0.8-GCCcore-13.2.0/lib/pkgconfig\n",
      "The directory listed in your path is found to be non-existent: 1;/mnt/appl/software/ScaLAPACK/2.2.0-gompi-2023b-fb/lib/pkgconfig\n",
      "The directory listed in your path is found to be non-existent: 1;/mnt/appl/software/OpenMPI/4.1.5-GCC-13.2.0/lib/pkgconfig\n",
      "The directory listed in your path is found to be non-existent: 1;/mnt/appl/software/PMIx/4.2.5-GCCcore-13.2.0/lib/pkgconfig\n",
      "The directory listed in your path is found to be non-existent: 1;/mnt/appl/software/FFTW/3.3.10-GCC-13.2.0/lib/pkgconfig\n",
      "The directory listed in your path is found to be non-existent: 1;/mnt/appl/software/FlexiBLAS/3.3.1-GCC-13.2.0/lib/pkgconfig\n",
      "The directory listed in your path is found to be non-existent: 1;/mnt/appl/software/OpenBLAS/0.3.24-GCC-13.2.0/lib/pkgconfig\n",
      "The directory listed in your path is found to be non-existent: 1;/mnt/appl/software/libfabric/1.19.0-GCCcore-13.2.0/lib/pkgconfig\n",
      "The directory listed in your path is found to be non-existent: 1;/mnt/appl/software/libevent/2.1.12-GCCcore-13.2.0/lib/pkgconfig\n",
      "The directory listed in your path is found to be non-existent: 1;/mnt/appl/software/OpenSSL/1.1/lib/pkgconfig\n",
      "The directory listed in your path is found to be non-existent: 1;/mnt/appl/software/hwloc/2.9.2-GCCcore-13.2.0/lib/pkgconfig\n",
      "The directory listed in your path is found to be non-existent: 1;/mnt/appl/software/libpciaccess/0.17-GCCcore-13.2.0/lib/pkgconfig\n",
      "The directory listed in your path is found to be non-existent: 1;/mnt/appl/software/libxml2/2.11.5-GCCcore-13.2.0/lib/pkgconfig\n",
      "The directory listed in your path is found to be non-existent: 1;/mnt/appl/software/XZ/5.4.4-GCCcore-13.2.0/lib/pkgconfig\n",
      "The directory listed in your path is found to be non-existent: 1;/mnt/appl/software/numactl/2.0.16-GCCcore-13.2.0/lib/pkgconfig\n",
      "The directory listed in your path is found to be non-existent: 1;/mnt/appl/software/zlib/1.2.13-GCCcore-13.2.0/lib/pkgconfig\n",
      "The directory listed in your path is found to be non-existent: /etc/pki/tls/certs\n",
      "The directory listed in your path is found to be non-existent: 1;/mnt/appl/software/ZeroMQ/4.3.5-GCCcore-13.2.0/include\n",
      "The directory listed in your path is found to be non-existent: 1;/mnt/appl/software/libsodium/1.0.19-GCCcore-13.2.0/include\n",
      "The directory listed in your path is found to be non-existent: 1;/mnt/appl/software/OpenPGM/5.2.122-GCCcore-13.2.0/include\n",
      "The directory listed in your path is found to be non-existent: 1;/mnt/appl/software/NCCL/2.20.5-GCCcore-13.2.0-CUDA-12.4.0/include\n",
      "The directory listed in your path is found to be non-existent: 1;/mnt/appl/software/magma/2.7.2-foss-2023b-CUDA-12.4.0/include\n",
      "The directory listed in your path is found to be non-existent: 1;/mnt/appl/software/GDRCopy/2.4-GCCcore-13.2.0/include\n",
      "The directory listed in your path is found to be non-existent: 1;/mnt/appl/software/UCX/1.15.0-GCCcore-13.2.0/include\n",
      "The directory listed in your path is found to be non-existent: 1;/mnt/appl/software/cuDNN/9.5.0.50-CUDA-12.4.0/include\n",
      "The directory listed in your path is found to be non-existent: 1;/mnt/appl/software/Z3/4.13.0-GCCcore-13.2.0/include\n",
      "The directory listed in your path is found to be non-existent: 1;/mnt/appl/software/MPC/1.3.1-GCCcore-13.2.0/include\n",
      "The directory listed in your path is found to be non-existent: 1;/mnt/appl/software/LibTIFF/4.6.0-GCCcore-13.2.0/include\n",
      "The directory listed in your path is found to be non-existent: 1;/mnt/appl/software/libdeflate/1.19-GCCcore-13.2.0/include\n",
      "The directory listed in your path is found to be non-existent: 1;/mnt/appl/software/zstd/1.5.5-GCCcore-13.2.0/include\n",
      "The directory listed in your path is found to be non-existent: 1;/mnt/appl/software/lz4/1.9.4-GCCcore-13.2.0/include\n",
      "The directory listed in your path is found to be non-existent: 1;/mnt/appl/software/jbigkit/2.1-GCCcore-13.2.0/include\n",
      "The directory listed in your path is found to be non-existent: 1;/mnt/appl/software/libjpeg-turbo/3.0.1-GCCcore-13.2.0/include\n",
      "The directory listed in your path is found to be non-existent: 1;/mnt/appl/software/FFmpeg/6.0-GCCcore-13.2.0/include\n",
      "The directory listed in your path is found to be non-existent: 1;/mnt/appl/software/SDL2/2.28.5-GCCcore-13.2.0/include\n",
      "The directory listed in your path is found to be non-existent: 1;/mnt/appl/software/FriBidi/1.0.13-GCCcore-13.2.0/include\n",
      "The directory listed in your path is found to be non-existent: 1;/mnt/appl/software/X11/20231019-GCCcore-13.2.0/include\n",
      "The directory listed in your path is found to be non-existent: 1;/mnt/appl/software/fontconfig/2.14.2-GCCcore-13.2.0/include\n",
      "The directory listed in your path is found to be non-existent: 1;/mnt/appl/software/util-linux/2.39-GCCcore-13.2.0/include\n",
      "The directory listed in your path is found to be non-existent: 1;/mnt/appl/software/freetype/2.13.2-GCCcore-13.2.0/include/freetype2\n",
      "The directory listed in your path is found to be non-existent: 1;/mnt/appl/software/Brotli/1.1.0-GCCcore-13.2.0/include\n",
      "The directory listed in your path is found to be non-existent: 1;/mnt/appl/software/libpng/1.6.40-GCCcore-13.2.0/include\n",
      "The directory listed in your path is found to be non-existent: 1;/mnt/appl/software/expat/2.5.0-GCCcore-13.2.0/include\n",
      "The directory listed in your path is found to be non-existent: 1;/mnt/appl/software/x265/3.5-GCCcore-13.2.0/include\n",
      "The directory listed in your path is found to be non-existent: 1;/mnt/appl/software/LAME/3.100-GCCcore-13.2.0/include\n",
      "The directory listed in your path is found to be non-existent: 1;/mnt/appl/software/x264/20231019-GCCcore-13.2.0/include\n",
      "The directory listed in your path is found to be non-existent: 1;/mnt/appl/software/MPFR/4.2.1-GCCcore-13.2.0/include\n",
      "The directory listed in your path is found to be non-existent: 1;/mnt/appl/software/GMP/6.3.0-GCCcore-13.2.0/include\n",
      "The directory listed in your path is found to be non-existent: 1;/mnt/appl/software/libyaml/0.2.5-GCCcore-13.2.0/include\n",
      "The directory listed in your path is found to be non-existent: 1;/mnt/appl/software/SciPy-bundle/2023.11-gfbf-2023b/lib/python3.11/site-packages/numpy/core/include\n",
      "The directory listed in your path is found to be non-existent: 1;/mnt/appl/software/pybind11/2.11.1-GCCcore-13.2.0/include\n",
      "The directory listed in your path is found to be non-existent: 1;/mnt/appl/software/protobuf/25.3-GCCcore-13.2.0/include\n",
      "The directory listed in your path is found to be non-existent: 1;/mnt/appl/software/Abseil/20240116.1-GCCcore-13.2.0/include\n",
      "The directory listed in your path is found to be non-existent: 1;/mnt/appl/software/CUDA/12.4.0/nvvm/include\n",
      "The directory listed in your path is found to be non-existent: 1;/mnt/appl/software/CUDA/12.4.0/extras/CUPTI/include\n",
      "The directory listed in your path is found to be non-existent: 1;/mnt/appl/software/CUDA/12.4.0/include\n",
      "The directory listed in your path is found to be non-existent: 1;/mnt/appl/software/Python/3.11.5-GCCcore-13.2.0/include\n",
      "The directory listed in your path is found to be non-existent: 1;/mnt/appl/software/libffi/3.4.4-GCCcore-13.2.0/include\n",
      "The directory listed in your path is found to be non-existent: 1;/mnt/appl/software/SQLite/3.43.1-GCCcore-13.2.0/include\n",
      "The directory listed in your path is found to be non-existent: 1;/mnt/appl/software/Tcl/8.6.13-GCCcore-13.2.0/include\n",
      "The directory listed in your path is found to be non-existent: 1;/mnt/appl/software/libreadline/8.2-GCCcore-13.2.0/include\n",
      "The directory listed in your path is found to be non-existent: 1;/mnt/appl/software/ncurses/6.4-GCCcore-13.2.0/include\n",
      "The directory listed in your path is found to be non-existent: 1;/mnt/appl/software/bzip2/1.0.8-GCCcore-13.2.0/include\n",
      "The directory listed in your path is found to be non-existent: 1;/mnt/appl/software/FFTW.MPI/3.3.10-gompi-2023b/include\n",
      "The directory listed in your path is found to be non-existent: 1;/mnt/appl/software/OpenMPI/4.1.5-GCC-13.2.0/include\n",
      "The directory listed in your path is found to be non-existent: 1;/mnt/appl/software/PMIx/4.2.5-GCCcore-13.2.0/include\n",
      "The directory listed in your path is found to be non-existent: 1;/mnt/appl/software/FFTW/3.3.10-GCC-13.2.0/include\n",
      "The directory listed in your path is found to be non-existent: 1;/mnt/appl/software/FlexiBLAS/3.3.1-GCC-13.2.0/include\n",
      "The directory listed in your path is found to be non-existent: 1;/mnt/appl/software/OpenBLAS/0.3.24-GCC-13.2.0/include\n",
      "The directory listed in your path is found to be non-existent: 1;/mnt/appl/software/UCC/1.2.0-GCCcore-13.2.0/include\n",
      "The directory listed in your path is found to be non-existent: 1;/mnt/appl/software/libfabric/1.19.0-GCCcore-13.2.0/include\n",
      "The directory listed in your path is found to be non-existent: 1;/mnt/appl/software/libevent/2.1.12-GCCcore-13.2.0/include\n",
      "The directory listed in your path is found to be non-existent: 1;/mnt/appl/software/OpenSSL/1.1/include\n",
      "The directory listed in your path is found to be non-existent: 1;/mnt/appl/software/hwloc/2.9.2-GCCcore-13.2.0/include\n",
      "The directory listed in your path is found to be non-existent: 1;/mnt/appl/software/libpciaccess/0.17-GCCcore-13.2.0/include\n",
      "The directory listed in your path is found to be non-existent: 1;/mnt/appl/software/libxml2/2.11.5-GCCcore-13.2.0/include/libxml2\n",
      "The directory listed in your path is found to be non-existent: 1;/mnt/appl/software/libxml2/2.11.5-GCCcore-13.2.0/include\n",
      "The directory listed in your path is found to be non-existent: 1;/mnt/appl/software/XZ/5.4.4-GCCcore-13.2.0/include\n",
      "The directory listed in your path is found to be non-existent: 1;/mnt/appl/software/numactl/2.0.16-GCCcore-13.2.0/include\n",
      "The directory listed in your path is found to be non-existent: 1;/mnt/appl/software/binutils/2.40-GCCcore-13.2.0/include\n",
      "The directory listed in your path is found to be non-existent: 1;/mnt/appl/software/zlib/1.2.13-GCCcore-13.2.0/include\n",
      "The directory listed in your path is found to be non-existent: 1;/mnt/appl/software/JupyterLab/4.2.0-GCCcore-13.2.0/share\n",
      "The directory listed in your path is found to be non-existent: 1;/mnt/appl/software/jupyter-server/2.14.0-GCCcore-13.2.0/share\n",
      "The directory listed in your path is found to be non-existent: 1;/mnt/appl/software/IPython/8.17.2-GCCcore-13.2.0/share\n",
      "The directory listed in your path is found to be non-existent: 1;/mnt/appl/software/libxslt/1.1.38-GCCcore-13.2.0/share\n",
      "The directory listed in your path is found to be non-existent: 1;/mnt/appl/software/ZeroMQ/4.3.5-GCCcore-13.2.0/share\n",
      "The directory listed in your path is found to be non-existent: 1;/mnt/appl/software/UCX/1.15.0-GCCcore-13.2.0/share\n",
      "The directory listed in your path is found to be non-existent: 1;/mnt/appl/software/sympy/1.13.1-gfbf-2023b/share\n",
      "The directory listed in your path is found to be non-existent: 1;/mnt/appl/software/MPC/1.3.1-GCCcore-13.2.0/share\n",
      "The directory listed in your path is found to be non-existent: 1;/mnt/appl/software/LibTIFF/4.6.0-GCCcore-13.2.0/share\n",
      "The directory listed in your path is found to be non-existent: 1;/mnt/appl/software/zstd/1.5.5-GCCcore-13.2.0/share\n",
      "The directory listed in your path is found to be non-existent: 1;/mnt/appl/software/lz4/1.9.4-GCCcore-13.2.0/share\n",
      "The directory listed in your path is found to be non-existent: 1;/mnt/appl/software/gzip/1.13-GCCcore-13.2.0/share\n",
      "The directory listed in your path is found to be non-existent: 1;/mnt/appl/software/libjpeg-turbo/3.0.1-GCCcore-13.2.0/share\n",
      "The directory listed in your path is found to be non-existent: 1;/mnt/appl/software/FFmpeg/6.0-GCCcore-13.2.0/share\n",
      "The directory listed in your path is found to be non-existent: 1;/mnt/appl/software/SDL2/2.28.5-GCCcore-13.2.0/share\n",
      "The directory listed in your path is found to be non-existent: 1;/mnt/appl/software/FriBidi/1.0.13-GCCcore-13.2.0/share\n",
      "The directory listed in your path is found to be non-existent: 1;/mnt/appl/software/X11/20231019-GCCcore-13.2.0/share\n",
      "The directory listed in your path is found to be non-existent: 1;/mnt/appl/software/xorg-macros/1.20.0-GCCcore-13.2.0/share\n",
      "The directory listed in your path is found to be non-existent: 1;/mnt/appl/software/fontconfig/2.14.2-GCCcore-13.2.0/share\n",
      "The directory listed in your path is found to be non-existent: 1;/mnt/appl/software/util-linux/2.39-GCCcore-13.2.0/share\n",
      "The directory listed in your path is found to be non-existent: 1;/mnt/appl/software/freetype/2.13.2-GCCcore-13.2.0/share\n",
      "The directory listed in your path is found to be non-existent: 1;/mnt/appl/software/libpng/1.6.40-GCCcore-13.2.0/share\n",
      "The directory listed in your path is found to be non-existent: 1;/mnt/appl/software/expat/2.5.0-GCCcore-13.2.0/share\n",
      "The directory listed in your path is found to be non-existent: 1;/mnt/appl/software/LAME/3.100-GCCcore-13.2.0/share\n",
      "The directory listed in your path is found to be non-existent: 1;/mnt/appl/software/NASM/2.16.01-GCCcore-13.2.0/share\n",
      "The directory listed in your path is found to be non-existent: 1;/mnt/appl/software/MPFR/4.2.1-GCCcore-13.2.0/share\n",
      "The directory listed in your path is found to be non-existent: 1;/mnt/appl/software/GMP/6.3.0-GCCcore-13.2.0/share\n",
      "The directory listed in your path is found to be non-existent: 1;/mnt/appl/software/pybind11/2.11.1-GCCcore-13.2.0/share\n",
      "The directory listed in your path is found to be non-existent: 1;/mnt/appl/software/CUDA/12.4.0/share\n",
      "The directory listed in your path is found to be non-existent: 1;/mnt/appl/software/Python/3.11.5-GCCcore-13.2.0/share\n",
      "The directory listed in your path is found to be non-existent: 1;/mnt/appl/software/libffi/3.4.4-GCCcore-13.2.0/share\n",
      "The directory listed in your path is found to be non-existent: 1;/mnt/appl/software/SQLite/3.43.1-GCCcore-13.2.0/share\n",
      "The directory listed in your path is found to be non-existent: 1;/mnt/appl/software/Tcl/8.6.13-GCCcore-13.2.0/share\n",
      "The directory listed in your path is found to be non-existent: 1;/mnt/appl/software/libreadline/8.2-GCCcore-13.2.0/share\n",
      "The directory listed in your path is found to be non-existent: 1;/mnt/appl/software/ncurses/6.4-GCCcore-13.2.0/share\n",
      "The directory listed in your path is found to be non-existent: 1;/mnt/appl/software/OpenMPI/4.1.5-GCC-13.2.0/share\n",
      "The directory listed in your path is found to be non-existent: 1;/mnt/appl/software/PMIx/4.2.5-GCCcore-13.2.0/share\n",
      "The directory listed in your path is found to be non-existent: 1;/mnt/appl/software/FFTW/3.3.10-GCC-13.2.0/share\n",
      "The directory listed in your path is found to be non-existent: 1;/mnt/appl/software/FlexiBLAS/3.3.1-GCC-13.2.0/share\n",
      "The directory listed in your path is found to be non-existent: 1;/mnt/appl/software/libfabric/1.19.0-GCCcore-13.2.0/share\n",
      "The directory listed in your path is found to be non-existent: 1;/mnt/appl/software/OpenSSL/1.1/share\n",
      "The directory listed in your path is found to be non-existent: 1;/mnt/appl/software/hwloc/2.9.2-GCCcore-13.2.0/share\n",
      "The directory listed in your path is found to be non-existent: 1;/mnt/appl/software/libxml2/2.11.5-GCCcore-13.2.0/share\n",
      "The directory listed in your path is found to be non-existent: 1;/mnt/appl/software/XZ/5.4.4-GCCcore-13.2.0/share\n",
      "The directory listed in your path is found to be non-existent: 1;/mnt/appl/software/numactl/2.0.16-GCCcore-13.2.0/share\n",
      "The directory listed in your path is found to be non-existent: 1;/mnt/appl/software/binutils/2.40-GCCcore-13.2.0/share\n",
      "The directory listed in your path is found to be non-existent: 1;/mnt/appl/software/zlib/1.2.13-GCCcore-13.2.0/share\n",
      "The directory listed in your path is found to be non-existent: 1;/mnt/appl/software/GCCcore/13.2.0/share\n",
      "The directory listed in your path is found to be non-existent: /usr/modulefiles\n",
      "The directory listed in your path is found to be non-existent: /home/mlynatom/.jupyter/lab/user-settings\n",
      "The directory listed in your path is found to be non-existent: 1;/mnt/appl/software/JupyterNotebook/7.2.0-GCCcore-13.2.0/lib/python3.11/site-packages\n",
      "The directory listed in your path is found to be non-existent: 1;/mnt/appl/software/JupyterLab/4.2.0-GCCcore-13.2.0/lib/python3.11/site-packages\n",
      "The directory listed in your path is found to be non-existent: 1;/mnt/appl/software/jupyter-server/2.14.0-GCCcore-13.2.0/lib/python3.11/site-packages\n",
      "The directory listed in your path is found to be non-existent: 1;/mnt/appl/software/tornado/6.4-GCCcore-13.2.0/lib/python3.11/site-packages\n",
      "The directory listed in your path is found to be non-existent: 1;/mnt/appl/software/PyZMQ/25.1.2-GCCcore-13.2.0/lib/python3.11/site-packages\n",
      "The directory listed in your path is found to be non-existent: 1;/mnt/appl/software/IPython/8.17.2-GCCcore-13.2.0/lib/python3.11/site-packages\n",
      "The directory listed in your path is found to be non-existent: 1;/mnt/appl/software/jedi/0.19.1-GCCcore-13.2.0/lib/python3.11/site-packages\n",
      "The directory listed in your path is found to be non-existent: 1;/mnt/appl/software/BeautifulSoup/4.12.2-GCCcore-13.2.0/lib/python3.11/site-packages\n",
      "The directory listed in your path is found to be non-existent: 1;/mnt/appl/software/hatchling/1.18.0-GCCcore-13.2.0/lib/python3.11/site-packages\n",
      "The directory listed in your path is found to be non-existent: 1;/mnt/appl/software/lxml/4.9.3-GCCcore-13.2.0/lib/python3.11/site-packages\n",
      "The directory listed in your path is found to be non-existent: 1;/mnt/appl/software/xformers/0.0.29.post3-foss-2023b-CUDA-12.4.0/lib/python3.11/site-packages\n",
      "The directory listed in your path is found to be non-existent: 1;/mnt/appl/software/Triton/3.1.1-foss-2023b-CUDA-12.4.0/lib/python3.11/site-packages\n",
      "The directory listed in your path is found to be non-existent: 1;/mnt/appl/software/PyTorch/2.6.0-foss-2023b-CUDA-12.4.0/lib/python3.11/site-packages\n",
      "The directory listed in your path is found to be non-existent: 1;/mnt/appl/software/Z3/4.13.0-GCCcore-13.2.0/lib/python3.11/site-packages\n",
      "The directory listed in your path is found to be non-existent: 1;/mnt/appl/software/sympy/1.13.1-gfbf-2023b/lib/python3.11/site-packages\n",
      "The directory listed in your path is found to be non-existent: 1;/mnt/appl/software/gmpy2/2.1.5-GCC-13.2.0/lib/python3.11/site-packages\n",
      "The directory listed in your path is found to be non-existent: 1;/mnt/appl/software/networkx/3.2.1-gfbf-2023b/lib/python3.11/site-packages\n",
      "The directory listed in your path is found to be non-existent: 1;/mnt/appl/software/expecttest/0.2.1-GCCcore-13.2.0/lib/python3.11/site-packages\n",
      "The directory listed in your path is found to be non-existent: 1;/mnt/appl/software/Pillow/10.2.0-GCCcore-13.2.0/lib/python3.11/site-packages\n",
      "The directory listed in your path is found to be non-existent: 1;/mnt/appl/software/PyYAML/6.0.1-GCCcore-13.2.0/lib/python3.11/site-packages\n",
      "The directory listed in your path is found to be non-existent: 1;/mnt/appl/software/SciPy-bundle/2023.11-gfbf-2023b/lib/python3.11/site-packages\n",
      "The directory listed in your path is found to be non-existent: 1;/mnt/appl/software/pybind11/2.11.1-GCCcore-13.2.0/lib/python3.11/site-packages\n",
      "The directory listed in your path is found to be non-existent: 1;/mnt/appl/software/protobuf-python/4.25.3-GCCcore-13.2.0/lib/python3.11/site-packages\n",
      "The directory listed in your path is found to be non-existent: 1;/mnt/appl/software/Python-bundle-PyPI/2023.10-GCCcore-13.2.0/lib/python3.11/site-packages\n",
      "The directory listed in your path is found to be non-existent: 1;/mnt/appl/software/virtualenv/20.24.6-GCCcore-13.2.0/lib/python3.11/site-packages\n",
      "The directory listed in your path is found to be non-existent: 1;/mnt/appl/software/cryptography/41.0.5-GCCcore-13.2.0/lib/python3.11/site-packages\n",
      "The directory listed in your path is found to be non-existent: 1;/mnt/appl/software/cffi/1.15.1-GCCcore-13.2.0/lib/python3.11/site-packages\n",
      "The directory listed in your path is found to be non-existent: 1;/mnt/appl/software/Python/3.11.5-GCCcore-13.2.0/easybuild/python\n",
      "The directory listed in your path is found to be non-existent: /run/user/498831/vscode-git-bcd00f8b17.sock\n",
      "The directory listed in your path is found to be non-existent: GCCcore/13.2.0\n",
      "The directory listed in your path is found to be non-existent: zlib/1.2.13-GCCcore-13.2.0\n",
      "The directory listed in your path is found to be non-existent: binutils/2.40-GCCcore-13.2.0\n",
      "The directory listed in your path is found to be non-existent: GCC/13.2.0\n",
      "The directory listed in your path is found to be non-existent: numactl/2.0.16-GCCcore-13.2.0\n",
      "The directory listed in your path is found to be non-existent: XZ/5.4.4-GCCcore-13.2.0\n",
      "The directory listed in your path is found to be non-existent: libxml2/2.11.5-GCCcore-13.2.0\n",
      "The directory listed in your path is found to be non-existent: libpciaccess/0.17-GCCcore-13.2.0\n",
      "The directory listed in your path is found to be non-existent: hwloc/2.9.2-GCCcore-13.2.0\n",
      "The directory listed in your path is found to be non-existent: OpenSSL/1.1\n",
      "The directory listed in your path is found to be non-existent: libevent/2.1.12-GCCcore-13.2.0\n",
      "The directory listed in your path is found to be non-existent: libfabric/1.19.0-GCCcore-13.2.0\n",
      "The directory listed in your path is found to be non-existent: UCC/1.2.0-GCCcore-13.2.0\n",
      "The directory listed in your path is found to be non-existent: OpenBLAS/0.3.24-GCC-13.2.0\n",
      "The directory listed in your path is found to be non-existent: FlexiBLAS/3.3.1-GCC-13.2.0\n",
      "The directory listed in your path is found to be non-existent: FFTW/3.3.10-GCC-13.2.0\n",
      "The directory listed in your path is found to be non-existent: PMIx/4.2.5-GCCcore-13.2.0\n",
      "The directory listed in your path is found to be non-existent: OpenMPI/4.1.5-GCC-13.2.0\n",
      "The directory listed in your path is found to be non-existent: gompi/2023b\n",
      "The directory listed in your path is found to be non-existent: FFTW.MPI/3.3.10-gompi-2023b\n",
      "The directory listed in your path is found to be non-existent: ScaLAPACK/2.2.0-gompi-2023b-fb\n",
      "The directory listed in your path is found to be non-existent: foss/2023b\n",
      "The directory listed in your path is found to be non-existent: bzip2/1.0.8-GCCcore-13.2.0\n",
      "The directory listed in your path is found to be non-existent: ncurses/6.4-GCCcore-13.2.0\n",
      "The directory listed in your path is found to be non-existent: libreadline/8.2-GCCcore-13.2.0\n",
      "The directory listed in your path is found to be non-existent: Tcl/8.6.13-GCCcore-13.2.0\n",
      "The directory listed in your path is found to be non-existent: SQLite/3.43.1-GCCcore-13.2.0\n",
      "The directory listed in your path is found to be non-existent: libffi/3.4.4-GCCcore-13.2.0\n",
      "The directory listed in your path is found to be non-existent: Python/3.11.5-GCCcore-13.2.0\n",
      "The directory listed in your path is found to be non-existent: CUDA/12.4.0\n",
      "The directory listed in your path is found to be non-existent: Ninja/1.11.1-GCCcore-13.2.0\n",
      "The directory listed in your path is found to be non-existent: cffi/1.15.1-GCCcore-13.2.0\n",
      "The directory listed in your path is found to be non-existent: cryptography/41.0.5-GCCcore-13.2.0\n",
      "The directory listed in your path is found to be non-existent: virtualenv/20.24.6-GCCcore-13.2.0\n",
      "The directory listed in your path is found to be non-existent: Python-bundle-PyPI/2023.10-GCCcore-13.2.0\n",
      "The directory listed in your path is found to be non-existent: Abseil/20240116.1-GCCcore-13.2.0\n",
      "The directory listed in your path is found to be non-existent: protobuf/25.3-GCCcore-13.2.0\n",
      "The directory listed in your path is found to be non-existent: protobuf-python/4.25.3-GCCcore-13.2.0\n",
      "The directory listed in your path is found to be non-existent: pybind11/2.11.1-GCCcore-13.2.0\n",
      "The directory listed in your path is found to be non-existent: gfbf/2023b\n",
      "The directory listed in your path is found to be non-existent: SciPy-bundle/2023.11-gfbf-2023b\n",
      "The directory listed in your path is found to be non-existent: libyaml/0.2.5-GCCcore-13.2.0\n",
      "The directory listed in your path is found to be non-existent: PyYAML/6.0.1-GCCcore-13.2.0\n",
      "The directory listed in your path is found to be non-existent: GMP/6.3.0-GCCcore-13.2.0\n",
      "The directory listed in your path is found to be non-existent: MPFR/4.2.1-GCCcore-13.2.0\n",
      "The directory listed in your path is found to be non-existent: NASM/2.16.01-GCCcore-13.2.0\n",
      "The directory listed in your path is found to be non-existent: x264/20231019-GCCcore-13.2.0\n",
      "The directory listed in your path is found to be non-existent: LAME/3.100-GCCcore-13.2.0\n",
      "The directory listed in your path is found to be non-existent: x265/3.5-GCCcore-13.2.0\n",
      "The directory listed in your path is found to be non-existent: expat/2.5.0-GCCcore-13.2.0\n",
      "The directory listed in your path is found to be non-existent: libpng/1.6.40-GCCcore-13.2.0\n",
      "The directory listed in your path is found to be non-existent: Brotli/1.1.0-GCCcore-13.2.0\n",
      "The directory listed in your path is found to be non-existent: freetype/2.13.2-GCCcore-13.2.0\n",
      "The directory listed in your path is found to be non-existent: util-linux/2.39-GCCcore-13.2.0\n",
      "The directory listed in your path is found to be non-existent: fontconfig/2.14.2-GCCcore-13.2.0\n",
      "The directory listed in your path is found to be non-existent: xorg-macros/1.20.0-GCCcore-13.2.0\n",
      "The directory listed in your path is found to be non-existent: X11/20231019-GCCcore-13.2.0\n",
      "The directory listed in your path is found to be non-existent: FriBidi/1.0.13-GCCcore-13.2.0\n",
      "The directory listed in your path is found to be non-existent: SDL2/2.28.5-GCCcore-13.2.0\n",
      "The directory listed in your path is found to be non-existent: FFmpeg/6.0-GCCcore-13.2.0\n",
      "The directory listed in your path is found to be non-existent: libjpeg-turbo/3.0.1-GCCcore-13.2.0\n",
      "The directory listed in your path is found to be non-existent: jbigkit/2.1-GCCcore-13.2.0\n",
      "The directory listed in your path is found to be non-existent: gzip/1.13-GCCcore-13.2.0\n",
      "The directory listed in your path is found to be non-existent: lz4/1.9.4-GCCcore-13.2.0\n",
      "The directory listed in your path is found to be non-existent: zstd/1.5.5-GCCcore-13.2.0\n",
      "The directory listed in your path is found to be non-existent: libdeflate/1.19-GCCcore-13.2.0\n",
      "The directory listed in your path is found to be non-existent: LibTIFF/4.6.0-GCCcore-13.2.0\n",
      "The directory listed in your path is found to be non-existent: Pillow/10.2.0-GCCcore-13.2.0\n",
      "The directory listed in your path is found to be non-existent: expecttest/0.2.1-GCCcore-13.2.0\n",
      "The directory listed in your path is found to be non-existent: networkx/3.2.1-gfbf-2023b\n",
      "The directory listed in your path is found to be non-existent: MPC/1.3.1-GCCcore-13.2.0\n",
      "The directory listed in your path is found to be non-existent: gmpy2/2.1.5-GCC-13.2.0\n",
      "The directory listed in your path is found to be non-existent: sympy/1.13.1-gfbf-2023b\n",
      "The directory listed in your path is found to be non-existent: Z3/4.13.0-GCCcore-13.2.0\n",
      "The directory listed in your path is found to be non-existent: cuDNN/9.5.0.50-CUDA-12.4.0\n",
      "The directory listed in your path is found to be non-existent: UCX/1.15.0-GCCcore-13.2.0\n",
      "The directory listed in your path is found to be non-existent: GDRCopy/2.4-GCCcore-13.2.0\n",
      "The directory listed in your path is found to be non-existent: UCX-CUDA/1.15.0-GCCcore-13.2.0-CUDA-12.4.0\n",
      "The directory listed in your path is found to be non-existent: magma/2.7.2-foss-2023b-CUDA-12.4.0\n",
      "The directory listed in your path is found to be non-existent: NCCL/2.20.5-GCCcore-13.2.0-CUDA-12.4.0\n",
      "The directory listed in your path is found to be non-existent: PyTorch/2.6.0-foss-2023b-CUDA-12.4.0\n",
      "The directory listed in your path is found to be non-existent: Triton/3.1.1-foss-2023b-CUDA-12.4.0\n",
      "The directory listed in your path is found to be non-existent: xformers/0.0.29.post3-foss-2023b-CUDA-12.4.0\n",
      "The directory listed in your path is found to be non-existent: OpenPGM/5.2.122-GCCcore-13.2.0\n",
      "The directory listed in your path is found to be non-existent: libsodium/1.0.19-GCCcore-13.2.0\n",
      "The directory listed in your path is found to be non-existent: ZeroMQ/4.3.5-GCCcore-13.2.0\n",
      "The directory listed in your path is found to be non-existent: libxslt/1.1.38-GCCcore-13.2.0\n",
      "The directory listed in your path is found to be non-existent: lxml/4.9.3-GCCcore-13.2.0\n",
      "The directory listed in your path is found to be non-existent: hatchling/1.18.0-GCCcore-13.2.0\n",
      "The directory listed in your path is found to be non-existent: BeautifulSoup/4.12.2-GCCcore-13.2.0\n",
      "The directory listed in your path is found to be non-existent: jedi/0.19.1-GCCcore-13.2.0\n",
      "The directory listed in your path is found to be non-existent: IPython/8.17.2-GCCcore-13.2.0\n",
      "The directory listed in your path is found to be non-existent: PyZMQ/25.1.2-GCCcore-13.2.0\n",
      "The directory listed in your path is found to be non-existent: tornado/6.4-GCCcore-13.2.0\n",
      "The directory listed in your path is found to be non-existent: jupyter-server/2.14.0-GCCcore-13.2.0\n",
      "The directory listed in your path is found to be non-existent: JupyterLab/4.2.0-GCCcore-13.2.0\n",
      "The directory listed in your path is found to be non-existent: JupyterNotebook/7.2.0-GCCcore-13.2.0\n",
      "The directory listed in your path is found to be non-existent: typing-extensions/4.11.0-GCCcore-13.2.0\n",
      "The directory listed in your path is found to be non-existent: 1;/mnt/appl/software/libxslt/1.1.38-GCCcore-13.2.0/share/man\n",
      "The directory listed in your path is found to be non-existent: 1;/mnt/appl/software/ZeroMQ/4.3.5-GCCcore-13.2.0/share/man\n",
      "The directory listed in your path is found to be non-existent: 1;/mnt/appl/software/sympy/1.13.1-gfbf-2023b/share/man\n",
      "The directory listed in your path is found to be non-existent: 1;/mnt/appl/software/LibTIFF/4.6.0-GCCcore-13.2.0/share/man\n",
      "The directory listed in your path is found to be non-existent: 1;/mnt/appl/software/zstd/1.5.5-GCCcore-13.2.0/share/man\n",
      "The directory listed in your path is found to be non-existent: 1;/mnt/appl/software/lz4/1.9.4-GCCcore-13.2.0/share/man\n",
      "The directory listed in your path is found to be non-existent: 1;/mnt/appl/software/gzip/1.13-GCCcore-13.2.0/share/man\n",
      "The directory listed in your path is found to be non-existent: 1;/mnt/appl/software/libjpeg-turbo/3.0.1-GCCcore-13.2.0/share/man\n",
      "The directory listed in your path is found to be non-existent: 1;/mnt/appl/software/FFmpeg/6.0-GCCcore-13.2.0/share/man\n",
      "The directory listed in your path is found to be non-existent: 1;/mnt/appl/software/FriBidi/1.0.13-GCCcore-13.2.0/share/man\n",
      "The directory listed in your path is found to be non-existent: 1;/mnt/appl/software/X11/20231019-GCCcore-13.2.0/share/man\n",
      "The directory listed in your path is found to be non-existent: 1;/mnt/appl/software/util-linux/2.39-GCCcore-13.2.0/share/man\n",
      "The directory listed in your path is found to be non-existent: 1;/mnt/appl/software/freetype/2.13.2-GCCcore-13.2.0/share/man\n",
      "The directory listed in your path is found to be non-existent: 1;/mnt/appl/software/libpng/1.6.40-GCCcore-13.2.0/share/man\n",
      "The directory listed in your path is found to be non-existent: 1;/mnt/appl/software/LAME/3.100-GCCcore-13.2.0/share/man\n",
      "The directory listed in your path is found to be non-existent: 1;/mnt/appl/software/NASM/2.16.01-GCCcore-13.2.0/share/man\n",
      "The directory listed in your path is found to be non-existent: 1;/mnt/appl/software/Python/3.11.5-GCCcore-13.2.0/share/man\n",
      "The directory listed in your path is found to be non-existent: 1;/mnt/appl/software/libffi/3.4.4-GCCcore-13.2.0/share/man\n",
      "The directory listed in your path is found to be non-existent: 1;/mnt/appl/software/SQLite/3.43.1-GCCcore-13.2.0/share/man\n",
      "The directory listed in your path is found to be non-existent: 1;/mnt/appl/software/Tcl/8.6.13-GCCcore-13.2.0/share/man\n",
      "The directory listed in your path is found to be non-existent: 1;/mnt/appl/software/Tcl/8.6.13-GCCcore-13.2.0/man\n",
      "The directory listed in your path is found to be non-existent: 1;/mnt/appl/software/libreadline/8.2-GCCcore-13.2.0/share/man\n",
      "The directory listed in your path is found to be non-existent: 1;/mnt/appl/software/ncurses/6.4-GCCcore-13.2.0/share/man\n",
      "The directory listed in your path is found to be non-existent: 1;/mnt/appl/software/bzip2/1.0.8-GCCcore-13.2.0/man\n",
      "The directory listed in your path is found to be non-existent: 1;/mnt/appl/software/OpenMPI/4.1.5-GCC-13.2.0/share/man\n",
      "The directory listed in your path is found to be non-existent: 1;/mnt/appl/software/PMIx/4.2.5-GCCcore-13.2.0/share/man\n",
      "The directory listed in your path is found to be non-existent: 1;/mnt/appl/software/FFTW/3.3.10-GCC-13.2.0/share/man\n",
      "The directory listed in your path is found to be non-existent: 1;/mnt/appl/software/FlexiBLAS/3.3.1-GCC-13.2.0/share/man\n",
      "The directory listed in your path is found to be non-existent: 1;/mnt/appl/software/libfabric/1.19.0-GCCcore-13.2.0/share/man\n",
      "The directory listed in your path is found to be non-existent: 1;/mnt/appl/software/OpenSSL/1.1/share/man\n",
      "The directory listed in your path is found to be non-existent: 1;/mnt/appl/software/hwloc/2.9.2-GCCcore-13.2.0/share/man\n",
      "The directory listed in your path is found to be non-existent: 1;/mnt/appl/software/libxml2/2.11.5-GCCcore-13.2.0/share/man\n",
      "The directory listed in your path is found to be non-existent: 1;/mnt/appl/software/XZ/5.4.4-GCCcore-13.2.0/share/man\n",
      "The directory listed in your path is found to be non-existent: 1;/mnt/appl/software/numactl/2.0.16-GCCcore-13.2.0/share/man\n",
      "The directory listed in your path is found to be non-existent: 1;/mnt/appl/software/binutils/2.40-GCCcore-13.2.0/share/man\n",
      "The directory listed in your path is found to be non-existent: 1;/mnt/appl/software/zlib/1.2.13-GCCcore-13.2.0/share/man\n",
      "The directory listed in your path is found to be non-existent: 1;/mnt/appl/software/GCCcore/13.2.0/share/man\n",
      "The directory listed in your path is found to be non-existent: //matplotlib_inline.backend_inline\n",
      "The directory listed in your path is found to be non-existent: /etc/ssl/certs/ca-bundle.crt\n",
      "The directory listed in your path is found to be non-existent: 1;/mnt/appl/software/GCCcore/13.2.0/lib64\n",
      "The directory listed in your path is found to be non-existent: 1;/mnt/appl/software/ZeroMQ/4.3.5-GCCcore-13.2.0/lib\n",
      "The directory listed in your path is found to be non-existent: 1;/mnt/appl/software/libsodium/1.0.19-GCCcore-13.2.0/lib\n",
      "The directory listed in your path is found to be non-existent: 1;/mnt/appl/software/OpenPGM/5.2.122-GCCcore-13.2.0/lib\n",
      "The directory listed in your path is found to be non-existent: 1;/mnt/appl/software/PyTorch/2.6.0-foss-2023b-CUDA-12.4.0/lib/python3.11/site-packages/torch/lib\n",
      "The directory listed in your path is found to be non-existent: 1;/mnt/appl/software/NCCL/2.20.5-GCCcore-13.2.0-CUDA-12.4.0/lib\n",
      "The directory listed in your path is found to be non-existent: 1;/mnt/appl/software/magma/2.7.2-foss-2023b-CUDA-12.4.0/lib\n",
      "The directory listed in your path is found to be non-existent: 1;/mnt/appl/software/GDRCopy/2.4-GCCcore-13.2.0/lib\n",
      "The directory listed in your path is found to be non-existent: 1;/mnt/appl/software/UCX/1.15.0-GCCcore-13.2.0/lib\n",
      "The directory listed in your path is found to be non-existent: 1;/mnt/appl/software/cuDNN/9.5.0.50-CUDA-12.4.0/lib\n",
      "The directory listed in your path is found to be non-existent: 1;/mnt/appl/software/Z3/4.13.0-GCCcore-13.2.0/lib\n",
      "The directory listed in your path is found to be non-existent: 1;/mnt/appl/software/MPC/1.3.1-GCCcore-13.2.0/lib\n",
      "The directory listed in your path is found to be non-existent: 1;/mnt/appl/software/LibTIFF/4.6.0-GCCcore-13.2.0/lib\n",
      "The directory listed in your path is found to be non-existent: 1;/mnt/appl/software/libdeflate/1.19-GCCcore-13.2.0/lib\n",
      "The directory listed in your path is found to be non-existent: 1;/mnt/appl/software/zstd/1.5.5-GCCcore-13.2.0/lib\n",
      "The directory listed in your path is found to be non-existent: 1;/mnt/appl/software/lz4/1.9.4-GCCcore-13.2.0/lib\n",
      "The directory listed in your path is found to be non-existent: 1;/mnt/appl/software/jbigkit/2.1-GCCcore-13.2.0/lib\n",
      "The directory listed in your path is found to be non-existent: 1;/mnt/appl/software/libjpeg-turbo/3.0.1-GCCcore-13.2.0/lib\n",
      "The directory listed in your path is found to be non-existent: 1;/mnt/appl/software/FFmpeg/6.0-GCCcore-13.2.0/lib\n",
      "The directory listed in your path is found to be non-existent: 1;/mnt/appl/software/SDL2/2.28.5-GCCcore-13.2.0/lib\n",
      "The directory listed in your path is found to be non-existent: 1;/mnt/appl/software/FriBidi/1.0.13-GCCcore-13.2.0/lib\n",
      "The directory listed in your path is found to be non-existent: 1;/mnt/appl/software/X11/20231019-GCCcore-13.2.0/lib\n",
      "The directory listed in your path is found to be non-existent: 1;/mnt/appl/software/fontconfig/2.14.2-GCCcore-13.2.0/lib\n",
      "The directory listed in your path is found to be non-existent: 1;/mnt/appl/software/util-linux/2.39-GCCcore-13.2.0/lib\n",
      "The directory listed in your path is found to be non-existent: 1;/mnt/appl/software/freetype/2.13.2-GCCcore-13.2.0/lib\n",
      "The directory listed in your path is found to be non-existent: 1;/mnt/appl/software/Brotli/1.1.0-GCCcore-13.2.0/lib\n",
      "The directory listed in your path is found to be non-existent: 1;/mnt/appl/software/libpng/1.6.40-GCCcore-13.2.0/lib\n",
      "The directory listed in your path is found to be non-existent: 1;/mnt/appl/software/expat/2.5.0-GCCcore-13.2.0/lib\n",
      "The directory listed in your path is found to be non-existent: 1;/mnt/appl/software/x265/3.5-GCCcore-13.2.0/lib\n",
      "The directory listed in your path is found to be non-existent: 1;/mnt/appl/software/LAME/3.100-GCCcore-13.2.0/lib\n",
      "The directory listed in your path is found to be non-existent: 1;/mnt/appl/software/x264/20231019-GCCcore-13.2.0/lib\n",
      "The directory listed in your path is found to be non-existent: 1;/mnt/appl/software/MPFR/4.2.1-GCCcore-13.2.0/lib\n",
      "The directory listed in your path is found to be non-existent: 1;/mnt/appl/software/GMP/6.3.0-GCCcore-13.2.0/lib\n",
      "The directory listed in your path is found to be non-existent: 1;/mnt/appl/software/libyaml/0.2.5-GCCcore-13.2.0/lib\n",
      "The directory listed in your path is found to be non-existent: 1;/mnt/appl/software/SciPy-bundle/2023.11-gfbf-2023b/lib/python3.11/site-packages/numpy/core/lib\n",
      "The directory listed in your path is found to be non-existent: 1;/mnt/appl/software/protobuf/25.3-GCCcore-13.2.0/lib\n",
      "The directory listed in your path is found to be non-existent: 1;/mnt/appl/software/Abseil/20240116.1-GCCcore-13.2.0/lib\n",
      "The directory listed in your path is found to be non-existent: 1;/mnt/appl/software/CUDA/12.4.0/nvvm/lib64\n",
      "The directory listed in your path is found to be non-existent: 1;/mnt/appl/software/CUDA/12.4.0/extras/CUPTI/lib64\n",
      "The directory listed in your path is found to be non-existent: 1;/mnt/appl/software/CUDA/12.4.0/lib\n",
      "The directory listed in your path is found to be non-existent: 1;/mnt/appl/software/Python/3.11.5-GCCcore-13.2.0/lib\n",
      "The directory listed in your path is found to be non-existent: 1;/mnt/appl/software/libffi/3.4.4-GCCcore-13.2.0/lib64\n",
      "The directory listed in your path is found to be non-existent: 1;/mnt/appl/software/SQLite/3.43.1-GCCcore-13.2.0/lib\n",
      "The directory listed in your path is found to be non-existent: 1;/mnt/appl/software/Tcl/8.6.13-GCCcore-13.2.0/lib\n",
      "The directory listed in your path is found to be non-existent: 1;/mnt/appl/software/libreadline/8.2-GCCcore-13.2.0/lib\n",
      "The directory listed in your path is found to be non-existent: 1;/mnt/appl/software/ncurses/6.4-GCCcore-13.2.0/lib\n",
      "The directory listed in your path is found to be non-existent: 1;/mnt/appl/software/bzip2/1.0.8-GCCcore-13.2.0/lib\n",
      "The directory listed in your path is found to be non-existent: 1;/mnt/appl/software/ScaLAPACK/2.2.0-gompi-2023b-fb/lib\n",
      "The directory listed in your path is found to be non-existent: 1;/mnt/appl/software/FFTW.MPI/3.3.10-gompi-2023b/lib\n",
      "The directory listed in your path is found to be non-existent: 1;/mnt/appl/software/OpenMPI/4.1.5-GCC-13.2.0/lib\n",
      "The directory listed in your path is found to be non-existent: 1;/mnt/appl/software/PMIx/4.2.5-GCCcore-13.2.0/lib\n",
      "The directory listed in your path is found to be non-existent: 1;/mnt/appl/software/FFTW/3.3.10-GCC-13.2.0/lib\n",
      "The directory listed in your path is found to be non-existent: 1;/mnt/appl/software/FlexiBLAS/3.3.1-GCC-13.2.0/lib\n",
      "The directory listed in your path is found to be non-existent: 1;/mnt/appl/software/OpenBLAS/0.3.24-GCC-13.2.0/lib\n",
      "The directory listed in your path is found to be non-existent: 1;/mnt/appl/software/UCC/1.2.0-GCCcore-13.2.0/lib\n",
      "The directory listed in your path is found to be non-existent: 1;/mnt/appl/software/libfabric/1.19.0-GCCcore-13.2.0/lib\n",
      "The directory listed in your path is found to be non-existent: 1;/mnt/appl/software/libevent/2.1.12-GCCcore-13.2.0/lib\n",
      "The directory listed in your path is found to be non-existent: 1;/mnt/appl/software/OpenSSL/1.1/lib\n",
      "The directory listed in your path is found to be non-existent: 1;/mnt/appl/software/hwloc/2.9.2-GCCcore-13.2.0/lib\n",
      "The directory listed in your path is found to be non-existent: 1;/mnt/appl/software/libpciaccess/0.17-GCCcore-13.2.0/lib\n",
      "The directory listed in your path is found to be non-existent: 1;/mnt/appl/software/libxml2/2.11.5-GCCcore-13.2.0/lib\n",
      "The directory listed in your path is found to be non-existent: 1;/mnt/appl/software/XZ/5.4.4-GCCcore-13.2.0/lib\n",
      "The directory listed in your path is found to be non-existent: 1;/mnt/appl/software/numactl/2.0.16-GCCcore-13.2.0/lib\n",
      "The directory listed in your path is found to be non-existent: 1;/mnt/appl/software/binutils/2.40-GCCcore-13.2.0/lib\n",
      "The directory listed in your path is found to be non-existent: 1;/mnt/appl/software/zlib/1.2.13-GCCcore-13.2.0/lib\n",
      "The directory listed in your path is found to be non-existent: 1;/mnt/appl/software/GCCcore/13.2.0/lib64\n",
      "The directory listed in your path is found to be non-existent: /run/user/498831/vscode-ipc-6ac2aeb1-43c7-453b-9ad5-0320866c2f6f.sock\n",
      "Found duplicate CUDA runtime files (see below).\n",
      "\n",
      "We select the PyTorch default CUDA runtime, which is 12.4,\n",
      "but this might mismatch with the CUDA version that is needed for bitsandbytes.\n",
      "To override this behavior set the `BNB_CUDA_VERSION=<version string, e.g. 122>` environmental variable.\n",
      "\n",
      "For example, if you want to use the CUDA version 122,\n",
      "    BNB_CUDA_VERSION=122 python ...\n",
      "\n",
      "OR set the environmental variable in your .bashrc:\n",
      "    export BNB_CUDA_VERSION=122\n",
      "\n",
      "In the case of a manual override, make sure you set LD_LIBRARY_PATH, e.g.\n",
      "export LD_LIBRARY_PATH=$LD_LIBRARY_PATH:/usr/local/cuda-11.2,\n",
      "* Found CUDA runtime at: /mnt/appl/software/CUDA/12.4.0/lib/libcudart.so.12.4.99\n",
      "* Found CUDA runtime at: /mnt/appl/software/CUDA/12.4.0/lib/libcudart.so.12\n",
      "* Found CUDA runtime at: /mnt/appl/software/CUDA/12.4.0/lib/libcudart.so\n",
      "* Found CUDA runtime at: /mnt/appl/software/CUDA/12.4.0/lib/libcudart.so.12.4.99\n",
      "* Found CUDA runtime at: /mnt/appl/software/CUDA/12.4.0/lib/libcudart.so.12\n",
      "* Found CUDA runtime at: /mnt/appl/software/CUDA/12.4.0/lib/libcudart.so\n",
      "++++++++++++++++++++++++++++++++++++++++++++++++++++++++++++\n",
      "++++++++++++++++++++++ DEBUG INFO END ++++++++++++++++++++++\n",
      "++++++++++++++++++++++++++++++++++++++++++++++++++++++++++++\n",
      "Checking that the library is importable and CUDA is callable...\n",
      "SUCCESS!\n",
      "Installation was successful!\n"
     ]
    }
   ],
   "source": [
    "!python -m bitsandbytes"
   ]
  },
  {
   "cell_type": "code",
   "execution_count": 1,
   "metadata": {},
   "outputs": [
    {
     "name": "stdout",
     "output_type": "stream",
     "text": [
      "🦥 Unsloth: Will patch your computer to enable 2x faster free finetuning.\n",
      "🦥 Unsloth Zoo will now patch everything to make training faster!\n"
     ]
    }
   ],
   "source": [
    "from unsloth import FastLanguageModel, is_bfloat16_supported\n",
    "\n",
    "from unsloth import UnslothTrainingArguments, UnslothTrainer\n",
    "from datasets import load_dataset\n",
    "\n",
    "import torch\n",
    "\n",
    "# random state\n",
    "SEED = 42\n",
    "\n",
    "# reproducibility\n",
    "# ## torch\n",
    "# torch.manual_seed(SEED)\n",
    "\n",
    "# ## python\n",
    "# import random\n",
    "# random.seed(SEED)\n",
    "\n",
    "# ## numpy\n",
    "# import numpy as np\n",
    "# np.random.seed(SEED)"
   ]
  },
  {
   "cell_type": "markdown",
   "metadata": {},
   "source": [
    "## 🧠 Load Model"
   ]
  },
  {
   "cell_type": "code",
   "execution_count": 2,
   "metadata": {},
   "outputs": [
    {
     "name": "stdout",
     "output_type": "stream",
     "text": [
      "==((====))==  Unsloth 2025.3.3: Fast Llama patching. Transformers: 4.49.0.\n",
      "   \\\\   /|    NVIDIA A100-SXM4-80GB. Num GPUs = 1. Max memory: 79.254 GB. Platform: Linux.\n",
      "O^O/ \\_/ \\    Torch: 2.6.0. CUDA: 8.0. CUDA Toolkit: 12.4. Triton: 3.2.0\n",
      "\\        /    Bfloat16 = TRUE. FA [Xformers = 0.0.29.post3. FA2 = False]\n",
      " \"-____-\"     Free license: http://github.com/unslothai/unsloth\n",
      "Unsloth: Fast downloading is enabled - ignore downloading bars which are red colored!\n"
     ]
    },
    {
     "data": {
      "application/vnd.jupyter.widget-view+json": {
       "model_id": "0a97166ffa714007983796057d5e89ca",
       "version_major": 2,
       "version_minor": 0
      },
      "text/plain": [
       "Loading checkpoint shards:   0%|          | 0/4 [00:00<?, ?it/s]"
      ]
     },
     "metadata": {},
     "output_type": "display_data"
    }
   ],
   "source": [
    "max_seq_length = 512 # Choose any! We auto support RoPE Scaling internally!\n",
    "dtype = torch.bfloat16 # None for auto detection. Float16 for Tesla T4, V100, Bfloat16 for Ampere+\n",
    "load_in_4bit = False # Use 4bit quantization to reduce memory usage. Can be False.\n",
    "\n",
    "model_id = \"meta-llama/Llama-3.1-8B\"\n",
    "\n",
    "model, tokenizer = FastLanguageModel.from_pretrained(\n",
    "    model_name = model_id,\n",
    "    max_seq_length = max_seq_length,\n",
    "    dtype = dtype,\n",
    "    load_in_4bit = load_in_4bit,\n",
    "    # token = \"hf_...\", # use one if using gated models like meta-llama/Llama-2-7b-hf\n",
    ")"
   ]
  },
  {
   "cell_type": "markdown",
   "metadata": {},
   "source": [
    "## Init LoRA"
   ]
  },
  {
   "cell_type": "code",
   "execution_count": 3,
   "metadata": {},
   "outputs": [],
   "source": [
    "from peft import LoftQConfig\n",
    "\n",
    "\"\"\"\n",
    "    This is the sub-configuration class to store the configuration of a [`LoraModel`].\n",
    "\n",
    "    Args:\n",
    "        bits_pattern (`dict`): The mapping from layer names or regexp expression to bits which are different from the\n",
    "            default bits specified by `bits`. For example, `{model.decoder.layers.0.encoder_attn.k_proj: 2`}.\n",
    "        bits (`int`): Quantization bits for LoftQ.\n",
    "        iter (`int`): Alternating iterations for LoftQ.\n",
    "        fake (`bool`): True: use fp16/fp32; used for first time to save weights. False: use bitsandbytes 4bit linear\n",
    "            models. weights can't be saved. Recommend to set to True, save the weights and load the saved weights in 4\n",
    "            bits.\n",
    "    \"\"\"\n",
    "\n",
    "loftq_config = LoftQConfig(loftq_bits=4)"
   ]
  },
  {
   "cell_type": "code",
   "execution_count": 4,
   "metadata": {},
   "outputs": [
    {
     "name": "stdout",
     "output_type": "stream",
     "text": [
      "Unsloth: Offloading input_embeddings to disk to save VRAM\n",
      "Unsloth: Offloading output_embeddings to disk to save VRAM\n"
     ]
    },
    {
     "name": "stderr",
     "output_type": "stream",
     "text": [
      "Unsloth 2025.3.3 patched 32 layers with 32 QKV layers, 32 O layers and 32 MLP layers.\n"
     ]
    },
    {
     "name": "stdout",
     "output_type": "stream",
     "text": [
      "Unsloth: Training embed_tokens in mixed precision to save VRAM\n",
      "Unsloth: Training lm_head in mixed precision to save VRAM\n"
     ]
    }
   ],
   "source": [
    "model = FastLanguageModel.get_peft_model(\n",
    "    model,\n",
    "    r = 256, # Choose any number > 0 ! Suggested 8, 16, 32, 64, 128\n",
    "    target_modules = [\"q_proj\", \"k_proj\", \"v_proj\", \"o_proj\",\n",
    "                      \"gate_proj\", \"up_proj\", \"down_proj\",\n",
    "                      \"embed_tokens\", \"lm_head\"], #now also embeddings and lm_head\n",
    "    lora_alpha = 1,\n",
    "    lora_dropout = 0, # Supports any, but = 0 is optimized\n",
    "    bias = \"none\",    # Supports any, but = \"none\" is optimized\n",
    "    # [NEW] \"unsloth\" uses 30% less VRAM, fits 2x larger batch sizes!\n",
    "    use_gradient_checkpointing = \"unsloth\", # True or \"unsloth\" for very long context\n",
    "    random_state = SEED,\n",
    "    use_rslora = True,  # We support rank stabilized LoRA\n",
    "    #init_lora_weights = \"loftq\",\n",
    "    #loftq_config = loftq_config, # And LoftQ\n",
    ")"
   ]
  },
  {
   "cell_type": "markdown",
   "metadata": {},
   "source": [
    "## Prepare Data"
   ]
  },
  {
   "cell_type": "code",
   "execution_count": null,
   "metadata": {},
   "outputs": [
    {
     "data": {
      "application/vnd.jupyter.widget-view+json": {
       "model_id": "48078f130ab64045918b293706680e49",
       "version_major": 2,
       "version_minor": 0
      },
      "text/plain": [
       "Resolving data files:   0%|          | 0/25 [00:00<?, ?it/s]"
      ]
     },
     "metadata": {},
     "output_type": "display_data"
    },
    {
     "data": {
      "text/plain": [
       "IterableDataset({\n",
       "    features: ['text'],\n",
       "    n_shards: 25\n",
       "})"
      ]
     },
     "execution_count": 5,
     "metadata": {},
     "output_type": "execute_result"
    }
   ],
   "source": [
    "# from datasets import load_dataset\n",
    "\n",
    "# # this dataset has already fixed encoding using ftfy (as is used by me in the preprocessing steps of other datasets)\n",
    "dataset_cs = load_dataset(\"HuggingFaceFW/fineweb-2\", \"ces_Latn\", split=\"train\", streaming=True)\n",
    "#we need only texts\n",
    "dataset_cs = dataset_cs.remove_columns([\"id\", \"dump\", \"url\", \"date\", \"file_path\", \"language\", \"language_score\", \"language_script\", \"minhash_cluster_size\", \"top_langs\"])\n",
    "#shuffle to be sure we select \"random sample\"\n",
    "dataset_cs = dataset_cs.shuffle(seed=42)\n",
    "dataset_cs"
   ]
  },
  {
   "cell_type": "code",
   "execution_count": 6,
   "metadata": {},
   "outputs": [
    {
     "ename": "AttributeError",
     "evalue": "'IterableDataset' object has no attribute 'select'",
     "output_type": "error",
     "traceback": [
      "\u001b[0;31m---------------------------------------------------------------------------\u001b[0m",
      "\u001b[0;31mAttributeError\u001b[0m                            Traceback (most recent call last)",
      "Cell \u001b[0;32mIn[6], line 1\u001b[0m\n\u001b[0;32m----> 1\u001b[0m dataset_cs \u001b[38;5;241m=\u001b[39m \u001b[43mdataset_cs\u001b[49m\u001b[38;5;241;43m.\u001b[39;49m\u001b[43mselect\u001b[49m(\u001b[38;5;28mrange\u001b[39m(\u001b[38;5;241m19531250\u001b[39m))\n\u001b[1;32m      2\u001b[0m dataset_cs\n",
      "\u001b[0;31mAttributeError\u001b[0m: 'IterableDataset' object has no attribute 'select'"
     ]
    }
   ],
   "source": [
    "dataset_cs = dataset_cs.select(range(19531250))\n",
    "dataset_cs"
   ]
  },
  {
   "cell_type": "code",
   "execution_count": 18,
   "metadata": {},
   "outputs": [
    {
     "data": {
      "text/plain": [
       "19073.486328125"
      ]
     },
     "execution_count": 18,
     "metadata": {},
     "output_type": "execute_result"
    }
   ],
   "source": [
    "19531250/1024"
   ]
  },
  {
   "cell_type": "code",
   "execution_count": 7,
   "metadata": {},
   "outputs": [
    {
     "data": {
      "text/plain": [
       "IterableDataset({\n",
       "    features: ['text'],\n",
       "    n_shards: 25\n",
       "})"
      ]
     },
     "execution_count": 7,
     "metadata": {},
     "output_type": "execute_result"
    }
   ],
   "source": [
    "dataset_cs = dataset_cs.take(19531250)\n",
    "dataset_cs"
   ]
  },
  {
   "cell_type": "code",
   "execution_count": 10,
   "metadata": {},
   "outputs": [
    {
     "data": {
      "text/plain": [
       "19531250.0"
      ]
     },
     "execution_count": 10,
     "metadata": {},
     "output_type": "execute_result"
    }
   ],
   "source": [
    "x=10000000000/512\n",
    "x"
   ]
  },
  {
   "cell_type": "code",
   "execution_count": 8,
   "metadata": {},
   "outputs": [
    {
     "ename": "TypeError",
     "evalue": "object of type 'IterableDataset' has no len()",
     "output_type": "error",
     "traceback": [
      "\u001b[0;31m---------------------------------------------------------------------------\u001b[0m",
      "\u001b[0;31mTypeError\u001b[0m                                 Traceback (most recent call last)",
      "Cell \u001b[0;32mIn[8], line 1\u001b[0m\n\u001b[0;32m----> 1\u001b[0m \u001b[38;5;28;43mlen\u001b[39;49m\u001b[43m(\u001b[49m\u001b[43mdataset_cs\u001b[49m\u001b[43m)\u001b[49m\n",
      "\u001b[0;31mTypeError\u001b[0m: object of type 'IterableDataset' has no len()"
     ]
    }
   ],
   "source": [
    "len(dataset_cs)"
   ]
  },
  {
   "cell_type": "code",
   "execution_count": 18,
   "metadata": {},
   "outputs": [
    {
     "data": {
      "text/plain": [
       "32104170496"
      ]
     },
     "execution_count": 18,
     "metadata": {},
     "output_type": "execute_result"
    }
   ],
   "source": [
    "num_all_tokens = len(dataset_cs)*512 #number of tokens when using 512 tokens per data point\n",
    "num_all_tokens"
   ]
  },
  {
   "cell_type": "code",
   "execution_count": 14,
   "metadata": {},
   "outputs": [
    {
     "data": {
      "text/plain": [
       "524288"
      ]
     },
     "execution_count": 14,
     "metadata": {},
     "output_type": "execute_result"
    }
   ],
   "source": [
    "#number of tokens per batch (processed in one step)\n",
    "global_batch_size = 1024\n",
    "\n",
    "tokens_per_step = global_batch_size*max_seq_length\n",
    "tokens_per_step"
   ]
  },
  {
   "cell_type": "code",
   "execution_count": 17,
   "metadata": {},
   "outputs": [
    {
     "data": {
      "text/plain": [
       "19073.486328125"
      ]
     },
     "execution_count": 17,
     "metadata": {},
     "output_type": "execute_result"
    }
   ],
   "source": [
    "#number of steps to process 10 B tokens\n",
    "num_steps = 10e9/tokens_per_step\n",
    "num_steps"
   ]
  },
  {
   "cell_type": "code",
   "execution_count": 16,
   "metadata": {},
   "outputs": [
    {
     "data": {
      "text/plain": [
       "61233.845703125"
      ]
     },
     "execution_count": 16,
     "metadata": {},
     "output_type": "execute_result"
    }
   ],
   "source": [
    "#determine step number when len of dataset is not available when streaming\n",
    "len(dataset_cs) / 1024"
   ]
  },
  {
   "cell_type": "code",
   "execution_count": null,
   "metadata": {},
   "outputs": [],
   "source": [
    "# dataset_en = load_dataset(\"HuggingFaceFW/fineweb-edu\", \"sample-10BT\", split=\"train\")\n",
    "# dataset_en\n"
   ]
  },
  {
   "cell_type": "code",
   "execution_count": null,
   "metadata": {},
   "outputs": [],
   "source": [
    "# dataset_en = dataset_en.remove_columns([\"id\", \"dump\", \"url\", \"file_path\", \"language\", \"language_score\", \"token_count\", \"score\", \"int_score\"])\n",
    "# dataset_en.shuffle(seed=42)\n",
    "# dataset_en"
   ]
  },
  {
   "cell_type": "code",
   "execution_count": null,
   "metadata": {},
   "outputs": [],
   "source": [
    "# from datasets import concatenate_datasets\n",
    "# #select 40000 samples (for the initial exp.)\n",
    "\n",
    "# dataset_cs = dataset_cs.select(range(30000))\n",
    "# dataset_en = dataset_en.select(range(10000))\n",
    "\n",
    "# dataset = concatenate_datasets([dataset_cs, dataset_en])\n",
    "# dataset"
   ]
  },
  {
   "cell_type": "code",
   "execution_count": null,
   "metadata": {},
   "outputs": [],
   "source": [
    "# dataset.save_to_disk(\"data/pretraining/init_31mix_cs-en\")"
   ]
  },
  {
   "cell_type": "code",
   "execution_count": null,
   "metadata": {},
   "outputs": [
    {
     "data": {
      "text/plain": [
       "Dataset({\n",
       "    features: ['text'],\n",
       "    num_rows: 40000\n",
       "})"
      ]
     },
     "execution_count": 7,
     "metadata": {},
     "output_type": "execute_result"
    }
   ],
   "source": [
    "# from datasets import load_from_disk\n",
    "# dataset = load_from_disk(\"data/pretraining/init_31mix_cs-en\")\n",
    "# dataset"
   ]
  },
  {
   "cell_type": "code",
   "execution_count": 9,
   "metadata": {},
   "outputs": [],
   "source": [
    "dataset = dataset_cs"
   ]
  },
  {
   "cell_type": "code",
   "execution_count": 10,
   "metadata": {},
   "outputs": [
    {
     "data": {
      "text/plain": [
       "IterableDataset({\n",
       "    features: ['text'],\n",
       "    n_shards: 25\n",
       "})"
      ]
     },
     "execution_count": 10,
     "metadata": {},
     "output_type": "execute_result"
    }
   ],
   "source": [
    "dataset"
   ]
  },
  {
   "cell_type": "code",
   "execution_count": 11,
   "metadata": {},
   "outputs": [],
   "source": [
    "def preprocess_function(examples):\n",
    "    return {\"text\": [example + tokenizer.eos_token for example in examples[\"text\"]]}\n",
    "\n",
    "dataset = dataset.map(preprocess_function, batched=True)"
   ]
  },
  {
   "cell_type": "code",
   "execution_count": null,
   "metadata": {},
   "outputs": [],
   "source": [
    "# for row in dataset[:5][\"text\"]:\n",
    "#     print(\"=========================\")\n",
    "#     print(row)"
   ]
  },
  {
   "cell_type": "markdown",
   "metadata": {},
   "source": [
    "## Load Prepared Data"
   ]
  },
  {
   "cell_type": "code",
   "execution_count": 5,
   "metadata": {},
   "outputs": [
    {
     "data": {
      "application/vnd.jupyter.widget-view+json": {
       "model_id": "a9fc5403a7824f1ca8afcc238a9f551d",
       "version_major": 2,
       "version_minor": 0
      },
      "text/plain": [
       "Loading dataset from disk:   0%|          | 0/134 [00:00<?, ?it/s]"
      ]
     },
     "metadata": {},
     "output_type": "display_data"
    },
    {
     "data": {
      "text/plain": [
       "Dataset({\n",
       "    features: ['text'],\n",
       "    num_rows: 100000\n",
       "})"
      ]
     },
     "execution_count": 5,
     "metadata": {},
     "output_type": "execute_result"
    }
   ],
   "source": [
    "from datasets import load_from_disk, load_dataset\n",
    "\n",
    "dataset = load_from_disk(\"data/pretraining/fineweb-2_ces_Latn_19531250_llama_preprocessed\")\n",
    "#dataset = dataset.select(range(1953125))\n",
    "dataset = dataset.select(range(100000))\n",
    "#dataset = dataset.to_iterable_dataset()\n",
    "dataset"
   ]
  },
  {
   "cell_type": "markdown",
   "metadata": {},
   "source": [
    "## Train the model"
   ]
  },
  {
   "cell_type": "markdown",
   "metadata": {},
   "source": [
    "### Trainer Modifications"
   ]
  },
  {
   "cell_type": "code",
   "execution_count": null,
   "metadata": {},
   "outputs": [],
   "source": [
    "class UnslothKLLossTrainer(UnslothTrainer):\n",
    "    def __init__(self, ref_model, kl_weight=0.1, *args, **kwargs):\n",
    "        super().__init__(*args, **kwargs)\n",
    "        self.ref_model = ref_model\n",
    "        self.ref_model.eval()\n",
    "        self.kl_weight = kl_weight\n",
    "\n",
    "    def compute_loss(self, model, inputs, return_outputs=False, num_items_in_batch=None):\n",
    "        labels = inputs.pop(\"labels\")\n",
    "        outputs = model(**inputs)\n",
    "        logits = outputs.logits\n",
    "\n",
    "        #account for the actual number of items in the batch\n",
    "        if num_items_in_batch is not None:\n",
    "            effective_batch_size = num_items_in_batch\n",
    "        else:\n",
    "            effective_batch_size = labels.size(0)\n",
    "        \n",
    "        #cross entropy loss\n",
    "        loss_fct = torch.nn.CrossEntropyLoss(reduction=\"sum\")\n",
    "        loss_ce = loss_fct(logits.view(-1, logits.shape[-1]), labels.view(-1))\n",
    "        loss_ce = loss_ce / effective_batch_size # Scale by actual number of items\n",
    "\n",
    "        # KL loss\n",
    "        with torch.no_grad():\n",
    "            ref_outputs = self.ref_model(**inputs)\n",
    "            ref_logits = ref_outputs.logits\n",
    "        \n",
    "        loss_kl_fct = torch.nn.KLDivLoss(reduction=\"sum\")\n",
    "        loss_kl = loss_kl_fct(\n",
    "            torch.nn.functional.log_softmax(logits, dim=-1),\n",
    "            torch.nn.functional.softmax(ref_logits, dim=-1),\n",
    "        )\n",
    "        loss_kl = loss_kl / effective_batch_size # Scale by actual number of items\n",
    "\n",
    "        total_loss = loss_ce + self.kl_weight*loss_kl\n",
    "\n",
    "        return (total_loss, outputs) if return_outputs else total_loss\n",
    "\n",
    "from transformers.utils.import_utils import is_torch_xla_available\n",
    "#from transformers.trainer_utils import SaveStrategy\n",
    "from typing import Dict\n",
    "import numpy as np\n",
    "\n",
    "class PerplexityTrainer(UnslothTrainer):\n",
    "    # def training_step(self, model, inputs, num_items_in_batch):\n",
    "    #     loss = super().training_step(model, inputs, num_items_in_batch)\n",
    "\n",
    "    #     # log perplexity\n",
    "    #     perplexity = torch.exp(loss)\n",
    "    #     self.log({\"train_perplexity\": perplexity})\n",
    "\n",
    "    #     return loss\n",
    "    def _maybe_log_save_evaluate(self, tr_loss, grad_norm, model, trial, epoch, ignore_keys_for_eval):\n",
    "        if self.control.should_log and self.state.global_step > self._globalstep_last_logged:\n",
    "            if is_torch_xla_available():\n",
    "                xm.mark_step()\n",
    "\n",
    "            logs: Dict[str, float] = {}\n",
    "\n",
    "            # all_gather + mean() to get average loss over all processes\n",
    "            tr_loss_scalar = self._nested_gather(tr_loss).mean().item()\n",
    "\n",
    "            # reset tr_loss to zero\n",
    "            tr_loss -= tr_loss\n",
    "\n",
    "            loss = round(tr_loss_scalar / (self.state.global_step - self._globalstep_last_logged), 4)\n",
    "            logs[\"loss\"] = loss\n",
    "\n",
    "            #PERPLEXITY\n",
    "            logs[\"perplexity\"] = round(float(np.exp(tr_loss_scalar)), 4)\n",
    "            #########################\n",
    "\n",
    "\n",
    "            if grad_norm is not None:\n",
    "                logs[\"grad_norm\"] = grad_norm.detach().item() if isinstance(grad_norm, torch.Tensor) else grad_norm\n",
    "            logs[\"learning_rate\"] = self._get_learning_rate()\n",
    "\n",
    "            self._total_loss_scalar += tr_loss_scalar\n",
    "            self._globalstep_last_logged = self.state.global_step\n",
    "            self.store_flos()\n",
    "\n",
    "            self.log(logs)\n",
    "\n",
    "        metrics = None\n",
    "        if self.control.should_evaluate:\n",
    "            metrics = self._evaluate(trial, ignore_keys_for_eval)\n",
    "\n",
    "        if self.control.should_save:\n",
    "            self._save_checkpoint(model, metrics=metrics)\n",
    "            self.control = self.callback_handler.on_save(self.args, self.state, self.control)\n",
    "\n",
    "TrainerClass = PerplexityTrainer"
   ]
  },
  {
   "cell_type": "code",
   "execution_count": 9,
   "metadata": {},
   "outputs": [],
   "source": [
    "from transformers import EvalPrediction\n",
    "import numpy as np\n",
    "\n",
    "#prepare perplexity computation\n",
    "def compute_metrics(pred: EvalPrediction):\n",
    "    losses = pred.losses\n",
    "\n",
    "    mean_loss = np.mean(losses)\n",
    "\n",
    "    try:\n",
    "        perplexity = np.exp(mean_loss)\n",
    "    except OverflowError:\n",
    "        perplexity = float(\"inf\")\n",
    "\n",
    "    return {\"perplexity\": perplexity}\n"
   ]
  },
  {
   "cell_type": "markdown",
   "metadata": {},
   "source": [
    "### Training"
   ]
  },
  {
   "cell_type": "code",
   "execution_count": null,
   "metadata": {},
   "outputs": [],
   "source": [
    "#!export WANDB_NO_VERIFY=true"
   ]
  },
  {
   "cell_type": "code",
   "execution_count": 6,
   "metadata": {},
   "outputs": [
    {
     "data": {
      "application/vnd.jupyter.widget-view+json": {
       "model_id": "e58a3f12390c4c6f8fe9d1d87a34e0ef",
       "version_major": 2,
       "version_minor": 0
      },
      "text/plain": [
       "Converting train dataset to ChatML (num_proc=12):   0%|          | 0/100000 [00:00<?, ? examples/s]"
      ]
     },
     "metadata": {},
     "output_type": "display_data"
    },
    {
     "data": {
      "application/vnd.jupyter.widget-view+json": {
       "model_id": "3ef67d4975304e49a7041baa158dcdcc",
       "version_major": 2,
       "version_minor": 0
      },
      "text/plain": [
       "Applying chat template to train dataset (num_proc=12):   0%|          | 0/100000 [00:00<?, ? examples/s]"
      ]
     },
     "metadata": {},
     "output_type": "display_data"
    },
    {
     "data": {
      "application/vnd.jupyter.widget-view+json": {
       "model_id": "5532e3d1fd4d4678afa327e176fe703b",
       "version_major": 2,
       "version_minor": 0
      },
      "text/plain": [
       "Tokenizing train dataset (num_proc=12):   0%|          | 0/100000 [00:00<?, ? examples/s]"
      ]
     },
     "metadata": {},
     "output_type": "display_data"
    },
    {
     "data": {
      "application/vnd.jupyter.widget-view+json": {
       "model_id": "eaf69693c5ae47beb29ae654a890be12",
       "version_major": 2,
       "version_minor": 0
      },
      "text/plain": [
       "Truncating train dataset (num_proc=12):   0%|          | 0/100000 [00:00<?, ? examples/s]"
      ]
     },
     "metadata": {},
     "output_type": "display_data"
    }
   ],
   "source": [
    "trainer = UnslothTrainer(\n",
    "    model = model,\n",
    "    tokenizer = tokenizer,\n",
    "    train_dataset = dataset,\n",
    "    dataset_text_field = \"text\",\n",
    "    max_seq_length = max_seq_length,\n",
    "    dataset_num_proc = 12,\n",
    "    # ref_model=copy.deepcopy(model),\n",
    "    #compute_metrics=compute_metrics,\n",
    "    #packing=True,\n",
    "    \n",
    "    args = UnslothTrainingArguments(\n",
    "        #group_by_length = True,\n",
    "        per_device_train_batch_size = 256,\n",
    "        gradient_accumulation_steps = 8,\n",
    "        warmup_ratio = 0.05,\n",
    "        num_train_epochs = 1, # Set this for 1 full training run. - not supported for streaming -> use max_steps (here 61234=dataset_len/global_batch_size)\n",
    "        #max_steps = 19000,\n",
    "        learning_rate = 5e-4,\n",
    "        embedding_learning_rate = 5e-4/2,\n",
    "        #fp16 = not is_bfloat16_supported(),\n",
    "        bf16 = True,\n",
    "        tf32 =True,\n",
    "        logging_steps = 1,\n",
    "        optim = \"adamw_8bit\",\n",
    "        weight_decay = 0.01,\n",
    "        lr_scheduler_type = \"cosine\",\n",
    "        seed = SEED,\n",
    "        output_dir = \"outputs\",\n",
    "        report_to = \"none\", # Use this for WandB etc\n",
    "        run_name=\"llama3.1-8b-cp-exp-loftq\",\n",
    "        # eval_strategy = \"steps\",\n",
    "        # eval_steps = 50,\n",
    "        \n",
    "    ),\n",
    ")"
   ]
  },
  {
   "cell_type": "code",
   "execution_count": 7,
   "metadata": {},
   "outputs": [
    {
     "name": "stdout",
     "output_type": "stream",
     "text": [
      "GPU = NVIDIA A100-SXM4-80GB. Max memory = 79.254 GB.\n",
      "17.506 GB of memory reserved.\n"
     ]
    }
   ],
   "source": [
    "#Show current memory stats\n",
    "gpu_stats = torch.cuda.get_device_properties(0)\n",
    "start_gpu_memory = round(torch.cuda.max_memory_reserved() / 1024 / 1024 / 1024, 3)\n",
    "max_memory = round(gpu_stats.total_memory / 1024 / 1024 / 1024, 3)\n",
    "print(f\"GPU = {gpu_stats.name}. Max memory = {max_memory} GB.\")\n",
    "print(f\"{start_gpu_memory} GB of memory reserved.\")"
   ]
  },
  {
   "cell_type": "code",
   "execution_count": 8,
   "metadata": {},
   "outputs": [
    {
     "name": "stderr",
     "output_type": "stream",
     "text": [
      "==((====))==  Unsloth - 2x faster free finetuning | Num GPUs used = 1\n",
      "   \\\\   /|    Num examples = 100,000 | Num Epochs = 1 | Total steps = 48\n",
      "O^O/ \\_/ \\    Batch size per device = 256 | Gradient accumulation steps = 8\n",
      "\\        /    Data Parallel GPUs = 1 | Total batch size (256 x 8 x 1) = 2,048\n",
      " \"-____-\"     Trainable parameters = 1,721,761,792/9,752,023,040 (17.66% trained)\n"
     ]
    },
    {
     "name": "stdout",
     "output_type": "stream",
     "text": [
      "Unsloth: Will smartly offload gradients to save VRAM!\n"
     ]
    },
    {
     "data": {
      "text/html": [
       "\n",
       "    <div>\n",
       "      \n",
       "      <progress value='6' max='48' style='width:300px; height:20px; vertical-align: middle;'></progress>\n",
       "      [ 6/48 19:54 < 3:29:01, 0.00 it/s, Epoch 0.10/1]\n",
       "    </div>\n",
       "    <table border=\"1\" class=\"dataframe\">\n",
       "  <thead>\n",
       " <tr style=\"text-align: left;\">\n",
       "      <th>Step</th>\n",
       "      <th>Training Loss</th>\n",
       "    </tr>\n",
       "  </thead>\n",
       "  <tbody>\n",
       "    <tr>\n",
       "      <td>1</td>\n",
       "      <td>2.282200</td>\n",
       "    </tr>\n",
       "    <tr>\n",
       "      <td>2</td>\n",
       "      <td>2.277200</td>\n",
       "    </tr>\n",
       "    <tr>\n",
       "      <td>3</td>\n",
       "      <td>2.271200</td>\n",
       "    </tr>\n",
       "    <tr>\n",
       "      <td>4</td>\n",
       "      <td>2.260900</td>\n",
       "    </tr>\n",
       "  </tbody>\n",
       "</table><p>"
      ],
      "text/plain": [
       "<IPython.core.display.HTML object>"
      ]
     },
     "metadata": {},
     "output_type": "display_data"
    },
    {
     "ename": "KeyboardInterrupt",
     "evalue": "",
     "output_type": "error",
     "traceback": [
      "\u001b[0;31m---------------------------------------------------------------------------\u001b[0m",
      "\u001b[0;31mKeyboardInterrupt\u001b[0m                         Traceback (most recent call last)",
      "Cell \u001b[0;32mIn[8], line 1\u001b[0m\n\u001b[0;32m----> 1\u001b[0m trainer_stats \u001b[38;5;241m=\u001b[39m \u001b[43mtrainer\u001b[49m\u001b[38;5;241;43m.\u001b[39;49m\u001b[43mtrain\u001b[49m\u001b[43m(\u001b[49m\u001b[43m)\u001b[49m\n",
      "File \u001b[0;32m~/master-thesis-repository-tomas-mlynar/venv/unsloth_venv/lib/python3.11/site-packages/transformers/trainer.py:2241\u001b[0m, in \u001b[0;36mTrainer.train\u001b[0;34m(self, resume_from_checkpoint, trial, ignore_keys_for_eval, **kwargs)\u001b[0m\n\u001b[1;32m   2239\u001b[0m         hf_hub_utils\u001b[38;5;241m.\u001b[39menable_progress_bars()\n\u001b[1;32m   2240\u001b[0m \u001b[38;5;28;01melse\u001b[39;00m:\n\u001b[0;32m-> 2241\u001b[0m     \u001b[38;5;28;01mreturn\u001b[39;00m \u001b[43minner_training_loop\u001b[49m\u001b[43m(\u001b[49m\n\u001b[1;32m   2242\u001b[0m \u001b[43m        \u001b[49m\u001b[43margs\u001b[49m\u001b[38;5;241;43m=\u001b[39;49m\u001b[43margs\u001b[49m\u001b[43m,\u001b[49m\n\u001b[1;32m   2243\u001b[0m \u001b[43m        \u001b[49m\u001b[43mresume_from_checkpoint\u001b[49m\u001b[38;5;241;43m=\u001b[39;49m\u001b[43mresume_from_checkpoint\u001b[49m\u001b[43m,\u001b[49m\n\u001b[1;32m   2244\u001b[0m \u001b[43m        \u001b[49m\u001b[43mtrial\u001b[49m\u001b[38;5;241;43m=\u001b[39;49m\u001b[43mtrial\u001b[49m\u001b[43m,\u001b[49m\n\u001b[1;32m   2245\u001b[0m \u001b[43m        \u001b[49m\u001b[43mignore_keys_for_eval\u001b[49m\u001b[38;5;241;43m=\u001b[39;49m\u001b[43mignore_keys_for_eval\u001b[49m\u001b[43m,\u001b[49m\n\u001b[1;32m   2246\u001b[0m \u001b[43m    \u001b[49m\u001b[43m)\u001b[49m\n",
      "File \u001b[0;32m<string>:306\u001b[0m, in \u001b[0;36m_fast_inner_training_loop\u001b[0;34m(self, batch_size, args, resume_from_checkpoint, trial, ignore_keys_for_eval)\u001b[0m\n",
      "File \u001b[0;32m<string>:73\u001b[0m, in \u001b[0;36m_unsloth_training_step\u001b[0;34m(***failed resolving arguments***)\u001b[0m\n",
      "File \u001b[0;32m~/master-thesis-repository-tomas-mlynar/venv/unsloth_venv/lib/python3.11/site-packages/accelerate/accelerator.py:2359\u001b[0m, in \u001b[0;36mAccelerator.backward\u001b[0;34m(self, loss, **kwargs)\u001b[0m\n\u001b[1;32m   2357\u001b[0m     \u001b[38;5;28mself\u001b[39m\u001b[38;5;241m.\u001b[39mlomo_backward(loss, learning_rate)\n\u001b[1;32m   2358\u001b[0m \u001b[38;5;28;01melse\u001b[39;00m:\n\u001b[0;32m-> 2359\u001b[0m     \u001b[43mloss\u001b[49m\u001b[38;5;241;43m.\u001b[39;49m\u001b[43mbackward\u001b[49m\u001b[43m(\u001b[49m\u001b[38;5;241;43m*\u001b[39;49m\u001b[38;5;241;43m*\u001b[39;49m\u001b[43mkwargs\u001b[49m\u001b[43m)\u001b[49m\n",
      "File \u001b[0;32m/mnt/appl/software/PyTorch/2.6.0-foss-2023b-CUDA-12.4.0/lib/python3.11/site-packages/torch/_tensor.py:626\u001b[0m, in \u001b[0;36mTensor.backward\u001b[0;34m(self, gradient, retain_graph, create_graph, inputs)\u001b[0m\n\u001b[1;32m    616\u001b[0m \u001b[38;5;28;01mif\u001b[39;00m has_torch_function_unary(\u001b[38;5;28mself\u001b[39m):\n\u001b[1;32m    617\u001b[0m     \u001b[38;5;28;01mreturn\u001b[39;00m handle_torch_function(\n\u001b[1;32m    618\u001b[0m         Tensor\u001b[38;5;241m.\u001b[39mbackward,\n\u001b[1;32m    619\u001b[0m         (\u001b[38;5;28mself\u001b[39m,),\n\u001b[0;32m   (...)\u001b[0m\n\u001b[1;32m    624\u001b[0m         inputs\u001b[38;5;241m=\u001b[39minputs,\n\u001b[1;32m    625\u001b[0m     )\n\u001b[0;32m--> 626\u001b[0m \u001b[43mtorch\u001b[49m\u001b[38;5;241;43m.\u001b[39;49m\u001b[43mautograd\u001b[49m\u001b[38;5;241;43m.\u001b[39;49m\u001b[43mbackward\u001b[49m\u001b[43m(\u001b[49m\n\u001b[1;32m    627\u001b[0m \u001b[43m    \u001b[49m\u001b[38;5;28;43mself\u001b[39;49m\u001b[43m,\u001b[49m\u001b[43m \u001b[49m\u001b[43mgradient\u001b[49m\u001b[43m,\u001b[49m\u001b[43m \u001b[49m\u001b[43mretain_graph\u001b[49m\u001b[43m,\u001b[49m\u001b[43m \u001b[49m\u001b[43mcreate_graph\u001b[49m\u001b[43m,\u001b[49m\u001b[43m \u001b[49m\u001b[43minputs\u001b[49m\u001b[38;5;241;43m=\u001b[39;49m\u001b[43minputs\u001b[49m\n\u001b[1;32m    628\u001b[0m \u001b[43m\u001b[49m\u001b[43m)\u001b[49m\n",
      "File \u001b[0;32m/mnt/appl/software/PyTorch/2.6.0-foss-2023b-CUDA-12.4.0/lib/python3.11/site-packages/torch/autograd/__init__.py:347\u001b[0m, in \u001b[0;36mbackward\u001b[0;34m(tensors, grad_tensors, retain_graph, create_graph, grad_variables, inputs)\u001b[0m\n\u001b[1;32m    342\u001b[0m     retain_graph \u001b[38;5;241m=\u001b[39m create_graph\n\u001b[1;32m    344\u001b[0m \u001b[38;5;66;03m# The reason we repeat the same comment below is that\u001b[39;00m\n\u001b[1;32m    345\u001b[0m \u001b[38;5;66;03m# some Python versions print out the first line of a multi-line function\u001b[39;00m\n\u001b[1;32m    346\u001b[0m \u001b[38;5;66;03m# calls in the traceback and some print out the last line\u001b[39;00m\n\u001b[0;32m--> 347\u001b[0m \u001b[43m_engine_run_backward\u001b[49m\u001b[43m(\u001b[49m\n\u001b[1;32m    348\u001b[0m \u001b[43m    \u001b[49m\u001b[43mtensors\u001b[49m\u001b[43m,\u001b[49m\n\u001b[1;32m    349\u001b[0m \u001b[43m    \u001b[49m\u001b[43mgrad_tensors_\u001b[49m\u001b[43m,\u001b[49m\n\u001b[1;32m    350\u001b[0m \u001b[43m    \u001b[49m\u001b[43mretain_graph\u001b[49m\u001b[43m,\u001b[49m\n\u001b[1;32m    351\u001b[0m \u001b[43m    \u001b[49m\u001b[43mcreate_graph\u001b[49m\u001b[43m,\u001b[49m\n\u001b[1;32m    352\u001b[0m \u001b[43m    \u001b[49m\u001b[43minputs\u001b[49m\u001b[43m,\u001b[49m\n\u001b[1;32m    353\u001b[0m \u001b[43m    \u001b[49m\u001b[43mallow_unreachable\u001b[49m\u001b[38;5;241;43m=\u001b[39;49m\u001b[38;5;28;43;01mTrue\u001b[39;49;00m\u001b[43m,\u001b[49m\n\u001b[1;32m    354\u001b[0m \u001b[43m    \u001b[49m\u001b[43maccumulate_grad\u001b[49m\u001b[38;5;241;43m=\u001b[39;49m\u001b[38;5;28;43;01mTrue\u001b[39;49;00m\u001b[43m,\u001b[49m\n\u001b[1;32m    355\u001b[0m \u001b[43m\u001b[49m\u001b[43m)\u001b[49m\n",
      "File \u001b[0;32m/mnt/appl/software/PyTorch/2.6.0-foss-2023b-CUDA-12.4.0/lib/python3.11/site-packages/torch/autograd/graph.py:823\u001b[0m, in \u001b[0;36m_engine_run_backward\u001b[0;34m(t_outputs, *args, **kwargs)\u001b[0m\n\u001b[1;32m    821\u001b[0m     unregister_hooks \u001b[38;5;241m=\u001b[39m _register_logging_hooks_on_whole_graph(t_outputs)\n\u001b[1;32m    822\u001b[0m \u001b[38;5;28;01mtry\u001b[39;00m:\n\u001b[0;32m--> 823\u001b[0m     \u001b[38;5;28;01mreturn\u001b[39;00m \u001b[43mVariable\u001b[49m\u001b[38;5;241;43m.\u001b[39;49m\u001b[43m_execution_engine\u001b[49m\u001b[38;5;241;43m.\u001b[39;49m\u001b[43mrun_backward\u001b[49m\u001b[43m(\u001b[49m\u001b[43m  \u001b[49m\u001b[38;5;66;43;03m# Calls into the C++ engine to run the backward pass\u001b[39;49;00m\n\u001b[1;32m    824\u001b[0m \u001b[43m        \u001b[49m\u001b[43mt_outputs\u001b[49m\u001b[43m,\u001b[49m\u001b[43m \u001b[49m\u001b[38;5;241;43m*\u001b[39;49m\u001b[43margs\u001b[49m\u001b[43m,\u001b[49m\u001b[43m \u001b[49m\u001b[38;5;241;43m*\u001b[39;49m\u001b[38;5;241;43m*\u001b[39;49m\u001b[43mkwargs\u001b[49m\n\u001b[1;32m    825\u001b[0m \u001b[43m    \u001b[49m\u001b[43m)\u001b[49m  \u001b[38;5;66;03m# Calls into the C++ engine to run the backward pass\u001b[39;00m\n\u001b[1;32m    826\u001b[0m \u001b[38;5;28;01mfinally\u001b[39;00m:\n\u001b[1;32m    827\u001b[0m     \u001b[38;5;28;01mif\u001b[39;00m attach_logging_hooks:\n",
      "\u001b[0;31mKeyboardInterrupt\u001b[0m: "
     ]
    }
   ],
   "source": [
    "trainer_stats = trainer.train()"
   ]
  },
  {
   "cell_type": "code",
   "execution_count": 15,
   "metadata": {},
   "outputs": [
    {
     "name": "stdout",
     "output_type": "stream",
     "text": [
      "4329.0353 seconds used for training.\n",
      "72.15 minutes used for training.\n",
      "Peak reserved memory = 19.932 GB.\n",
      "Peak reserved memory for training = 17.297 GB.\n",
      "Peak reserved memory % of max memory = 50.613 %.\n",
      "Peak reserved memory for training % of max memory = 43.922 %.\n"
     ]
    }
   ],
   "source": [
    "#Show final memory and time stats\n",
    "used_memory = round(torch.cuda.max_memory_reserved() / 1024 / 1024 / 1024, 3)\n",
    "used_memory_for_lora = round(used_memory - start_gpu_memory, 3)\n",
    "used_percentage = round(used_memory         /max_memory*100, 3)\n",
    "lora_percentage = round(used_memory_for_lora/max_memory*100, 3)\n",
    "print(f\"{trainer_stats.metrics['train_runtime']} seconds used for training.\")\n",
    "print(f\"{round(trainer_stats.metrics['train_runtime']/60, 2)} minutes used for training.\")\n",
    "print(f\"Peak reserved memory = {used_memory} GB.\")\n",
    "print(f\"Peak reserved memory for training = {used_memory_for_lora} GB.\")\n",
    "print(f\"Peak reserved memory % of max memory = {used_percentage} %.\")\n",
    "print(f\"Peak reserved memory for training % of max memory = {lora_percentage} %.\")"
   ]
  }
 ],
 "metadata": {
  "kernelspec": {
   "display_name": "Python 3 (ipykernel)",
   "language": "python",
   "name": "python3"
  },
  "language_info": {
   "codemirror_mode": {
    "name": "ipython",
    "version": 3
   },
   "file_extension": ".py",
   "mimetype": "text/x-python",
   "name": "python",
   "nbconvert_exporter": "python",
   "pygments_lexer": "ipython3",
   "version": "3.11.5"
  }
 },
 "nbformat": 4,
 "nbformat_minor": 2
}
