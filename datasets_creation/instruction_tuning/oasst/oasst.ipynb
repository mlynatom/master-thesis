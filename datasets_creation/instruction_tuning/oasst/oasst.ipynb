{
 "cells": [
  {
   "cell_type": "markdown",
   "metadata": {},
   "source": [
    "## Process Open Assitant dataset"
   ]
  },
  {
   "cell_type": "code",
   "execution_count": 15,
   "metadata": {},
   "outputs": [
    {
     "data": {
      "text/plain": [
       "DatasetDict({\n",
       "    train: Dataset({\n",
       "        features: ['message_id', 'parent_id', 'user_id', 'created_date', 'text', 'role', 'lang', 'review_count', 'review_result', 'deleted', 'rank', 'synthetic', 'model_name', 'detoxify', 'message_tree_id', 'tree_state', 'emojis', 'labels'],\n",
       "        num_rows: 128575\n",
       "    })\n",
       "    validation: Dataset({\n",
       "        features: ['message_id', 'parent_id', 'user_id', 'created_date', 'text', 'role', 'lang', 'review_count', 'review_result', 'deleted', 'rank', 'synthetic', 'model_name', 'detoxify', 'message_tree_id', 'tree_state', 'emojis', 'labels'],\n",
       "        num_rows: 6599\n",
       "    })\n",
       "})"
      ]
     },
     "execution_count": 15,
     "metadata": {},
     "output_type": "execute_result"
    }
   ],
   "source": [
    "from datasets import load_dataset\n",
    "\n",
    "dataset = load_dataset(\"OpenAssistant/oasst2\")\n",
    "dataset"
   ]
  },
  {
   "cell_type": "code",
   "execution_count": 16,
   "metadata": {},
   "outputs": [
    {
     "data": {
      "text/plain": [
       "DatasetDict({\n",
       "    train: Dataset({\n",
       "        features: ['message_id', 'parent_id', 'user_id', 'created_date', 'text', 'role', 'lang', 'review_count', 'review_result', 'deleted', 'rank', 'synthetic', 'model_name', 'detoxify', 'message_tree_id', 'tree_state', 'emojis', 'labels'],\n",
       "        num_rows: 12\n",
       "    })\n",
       "    validation: Dataset({\n",
       "        features: ['message_id', 'parent_id', 'user_id', 'created_date', 'text', 'role', 'lang', 'review_count', 'review_result', 'deleted', 'rank', 'synthetic', 'model_name', 'detoxify', 'message_tree_id', 'tree_state', 'emojis', 'labels'],\n",
       "        num_rows: 0\n",
       "    })\n",
       "})"
      ]
     },
     "execution_count": 16,
     "metadata": {},
     "output_type": "execute_result"
    }
   ],
   "source": [
    "## filter only cs rows\n",
    "\n",
    "dataset = dataset.filter(lambda example: example['lang'] == 'cs')\n",
    "dataset"
   ]
  },
  {
   "cell_type": "code",
   "execution_count": 17,
   "metadata": {},
   "outputs": [
    {
     "name": "stdout",
     "output_type": "stream",
     "text": [
      "Jaké je hlavní město Japonska? bc35002a-5a15-443e-a710-65bdf6180df8\n",
      "Hlavním městem Japonska je Tokio (japonsky 東京), oficiálním názvem Metropolitní město Tokio (japonsky 東京都). bc35002a-5a15-443e-a710-65bdf6180df8\n",
      "Jaké je hlavní město České republiky? bc35002a-5a15-443e-a710-65bdf6180df8\n",
      "Hlavním městem České republiky je Praha. bc35002a-5a15-443e-a710-65bdf6180df8\n",
      "Hlavní město České republiky je Praha. bc35002a-5a15-443e-a710-65bdf6180df8\n",
      "Hlavním městem České republiky je **Praha**. bc35002a-5a15-443e-a710-65bdf6180df8\n",
      "Hlavní město Japonska je Tokio. bc35002a-5a15-443e-a710-65bdf6180df8\n",
      "Kolik obyvatelů má Tokio? bc35002a-5a15-443e-a710-65bdf6180df8\n",
      "V roce 2021 mělo Tokio 13 960 236 obyvatel. bc35002a-5a15-443e-a710-65bdf6180df8\n",
      "Tokio má dle dat z roku 2021 **13 960 236** obyvatel. bc35002a-5a15-443e-a710-65bdf6180df8\n",
      "Hlavní město Japonska je Tokio. bc35002a-5a15-443e-a710-65bdf6180df8\n",
      "Jaká jsou další velká města v Japonsku? bc35002a-5a15-443e-a710-65bdf6180df8\n"
     ]
    }
   ],
   "source": [
    "for i in range(12):\n",
    "    print(dataset[\"train\"][i]['text'],dataset[\"train\"][i]['message_tree_id'] )"
   ]
  },
  {
   "cell_type": "code",
   "execution_count": 18,
   "metadata": {},
   "outputs": [],
   "source": [
    "from ftfy import fix_text\n",
    "\n",
    "dataset_new = []\n",
    "dataset_new.append({\"id\": dataset[\"train\"][0]['message_tree_id'], \"conversations\": [\n",
    "    {\"role\": \"user\", \"content\": fix_text(dataset[\"train\"][0]['text'])},\n",
    "    {\"role\": \"assistant\", \"content\": fix_text(dataset[\"train\"][1]['text'])}\n",
    "]})\n",
    "\n",
    "dataset_new.append({\"id\": dataset[\"train\"][2]['message_tree_id'], \"conversations\": [\n",
    "    {\"role\": \"user\", \"content\": fix_text(dataset[\"train\"][2]['text'])},\n",
    "    {\"role\": \"assistant\", \"content\": fix_text(dataset[\"train\"][3]['text'])}\n",
    "]})\n",
    "\n",
    "\n",
    "dataset_new.append({\"id\": dataset[\"train\"][7]['message_tree_id'], \"conversations\": [\n",
    "    {\"role\": \"user\", \"content\": fix_text(dataset[\"train\"][7]['text'])},\n",
    "    {\"role\": \"assistant\", \"content\": fix_text(dataset[\"train\"][8]['text'])}\n",
    "]})"
   ]
  },
  {
   "cell_type": "code",
   "execution_count": 19,
   "metadata": {},
   "outputs": [
    {
     "data": {
      "text/plain": [
       "[{'id': 'bc35002a-5a15-443e-a710-65bdf6180df8',\n",
       "  'conversations': [{'role': 'user',\n",
       "    'content': 'Jaké je hlavní město Japonska?'},\n",
       "   {'role': 'assistant',\n",
       "    'content': 'Hlavním městem Japonska je Tokio (japonsky 東京), oficiálním názvem Metropolitní město Tokio (japonsky 東京都).'}]},\n",
       " {'id': 'bc35002a-5a15-443e-a710-65bdf6180df8',\n",
       "  'conversations': [{'role': 'user',\n",
       "    'content': 'Jaké je hlavní město České republiky?'},\n",
       "   {'role': 'assistant',\n",
       "    'content': 'Hlavním městem České republiky je Praha.'}]},\n",
       " {'id': 'bc35002a-5a15-443e-a710-65bdf6180df8',\n",
       "  'conversations': [{'role': 'user', 'content': 'Kolik obyvatelů má Tokio?'},\n",
       "   {'role': 'assistant',\n",
       "    'content': 'V roce 2021 mělo Tokio 13 960 236 obyvatel.'}]}]"
      ]
     },
     "execution_count": 19,
     "metadata": {},
     "output_type": "execute_result"
    }
   ],
   "source": [
    "dataset_new"
   ]
  },
  {
   "cell_type": "code",
   "execution_count": 22,
   "metadata": {},
   "outputs": [
    {
     "data": {
      "text/plain": [
       "Dataset({\n",
       "    features: ['id', 'conversations'],\n",
       "    num_rows: 3\n",
       "})"
      ]
     },
     "execution_count": 22,
     "metadata": {},
     "output_type": "execute_result"
    }
   ],
   "source": [
    "from datasets import Dataset\n",
    "\n",
    "dataset = Dataset.from_list(dataset_new)\n",
    "dataset"
   ]
  },
  {
   "cell_type": "code",
   "execution_count": 23,
   "metadata": {},
   "outputs": [
    {
     "data": {
      "application/vnd.jupyter.widget-view+json": {
       "model_id": "14b2616a1ab74ab0bf3463e8fcade57f",
       "version_major": 2,
       "version_minor": 0
      },
      "text/plain": [
       "Saving the dataset (0/1 shards):   0%|          | 0/3 [00:00<?, ? examples/s]"
      ]
     },
     "metadata": {},
     "output_type": "display_data"
    }
   ],
   "source": [
    "\n",
    "\n",
    "\n",
    "dataset.save_to_disk(\"/home/mlynatom/master-thesis-repository-tomas-mlynar/datasets/instruction_tuning/share_gpt/oasst/oasst2_cs_itformat\")"
   ]
  },
  {
   "cell_type": "markdown",
   "metadata": {},
   "source": [
    "## Oasst1"
   ]
  },
  {
   "cell_type": "code",
   "execution_count": 24,
   "metadata": {},
   "outputs": [
    {
     "data": {
      "application/vnd.jupyter.widget-view+json": {
       "model_id": "79b4f0802e1444a6bc25379f0cff26ac",
       "version_major": 2,
       "version_minor": 0
      },
      "text/plain": [
       "README.md:   0%|          | 0.00/10.2k [00:00<?, ?B/s]"
      ]
     },
     "metadata": {},
     "output_type": "display_data"
    },
    {
     "data": {
      "application/vnd.jupyter.widget-view+json": {
       "model_id": "56da1ba779db4799b2559123dd1d5cd6",
       "version_major": 2,
       "version_minor": 0
      },
      "text/plain": [
       "(…)-00000-of-00001-b42a775f407cee45.parquet:   0%|          | 0.00/39.5M [00:00<?, ?B/s]"
      ]
     },
     "metadata": {},
     "output_type": "display_data"
    },
    {
     "data": {
      "application/vnd.jupyter.widget-view+json": {
       "model_id": "5e00d86a3b784ceb82482b3ed06fbf25",
       "version_major": 2,
       "version_minor": 0
      },
      "text/plain": [
       "(…)-00000-of-00001-134b8fd0c89408b6.parquet:   0%|          | 0.00/2.08M [00:00<?, ?B/s]"
      ]
     },
     "metadata": {},
     "output_type": "display_data"
    },
    {
     "data": {
      "application/vnd.jupyter.widget-view+json": {
       "model_id": "34fffe5da4694e2f9423b5908c24bac8",
       "version_major": 2,
       "version_minor": 0
      },
      "text/plain": [
       "Generating train split:   0%|          | 0/84437 [00:00<?, ? examples/s]"
      ]
     },
     "metadata": {},
     "output_type": "display_data"
    },
    {
     "data": {
      "application/vnd.jupyter.widget-view+json": {
       "model_id": "c893d401568c46c99e44f956c0eeb13a",
       "version_major": 2,
       "version_minor": 0
      },
      "text/plain": [
       "Generating validation split:   0%|          | 0/4401 [00:00<?, ? examples/s]"
      ]
     },
     "metadata": {},
     "output_type": "display_data"
    }
   ],
   "source": [
    "dataset = load_dataset(\"OpenAssistant/oasst1\")"
   ]
  },
  {
   "cell_type": "code",
   "execution_count": 25,
   "metadata": {},
   "outputs": [
    {
     "data": {
      "application/vnd.jupyter.widget-view+json": {
       "model_id": "bdc0efea0081497aad39a5bda4a0ae07",
       "version_major": 2,
       "version_minor": 0
      },
      "text/plain": [
       "Filter:   0%|          | 0/84437 [00:00<?, ? examples/s]"
      ]
     },
     "metadata": {},
     "output_type": "display_data"
    },
    {
     "data": {
      "application/vnd.jupyter.widget-view+json": {
       "model_id": "4cfc884c96094549ad1651ce37d6914b",
       "version_major": 2,
       "version_minor": 0
      },
      "text/plain": [
       "Filter:   0%|          | 0/4401 [00:00<?, ? examples/s]"
      ]
     },
     "metadata": {},
     "output_type": "display_data"
    },
    {
     "data": {
      "text/plain": [
       "DatasetDict({\n",
       "    train: Dataset({\n",
       "        features: ['message_id', 'parent_id', 'user_id', 'created_date', 'text', 'role', 'lang', 'review_count', 'review_result', 'deleted', 'rank', 'synthetic', 'model_name', 'detoxify', 'message_tree_id', 'tree_state', 'emojis', 'labels'],\n",
       "        num_rows: 12\n",
       "    })\n",
       "    validation: Dataset({\n",
       "        features: ['message_id', 'parent_id', 'user_id', 'created_date', 'text', 'role', 'lang', 'review_count', 'review_result', 'deleted', 'rank', 'synthetic', 'model_name', 'detoxify', 'message_tree_id', 'tree_state', 'emojis', 'labels'],\n",
       "        num_rows: 0\n",
       "    })\n",
       "})"
      ]
     },
     "execution_count": 25,
     "metadata": {},
     "output_type": "execute_result"
    }
   ],
   "source": [
    "## filter only cs rows\n",
    "dataset = dataset.filter(lambda example: example['lang'] == 'cs')\n",
    "dataset"
   ]
  }
 ],
 "metadata": {
  "kernelspec": {
   "display_name": "Python 3 (ipykernel)",
   "language": "python",
   "name": "python3"
  },
  "language_info": {
   "codemirror_mode": {
    "name": "ipython",
    "version": 3
   },
   "file_extension": ".py",
   "mimetype": "text/x-python",
   "name": "python",
   "nbconvert_exporter": "python",
   "pygments_lexer": "ipython3",
   "version": "3.12.3"
  }
 },
 "nbformat": 4,
 "nbformat_minor": 2
}
