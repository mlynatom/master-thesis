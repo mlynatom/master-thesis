{
 "cells": [
  {
   "cell_type": "markdown",
   "metadata": {},
   "source": [
    "# Transform ASK library"
   ]
  },
  {
   "cell_type": "code",
   "execution_count": 1,
   "metadata": {},
   "outputs": [
    {
     "data": {
      "text/plain": [
       "Dataset({\n",
       "    features: ['title', 'question', 'answer', 'okres', 'library', 'category', 'used_sources', 'date', 'url', 'id', 'language', 'question_diacritics_korektor', 'answer_diacritics_korektor', 'question_spell_korektor', 'answer_spell_korektor'],\n",
       "    num_rows: 16273\n",
       "})"
      ]
     },
     "execution_count": 1,
     "metadata": {},
     "output_type": "execute_result"
    }
   ],
   "source": [
    "from datasets import load_dataset\n",
    "\n",
    "dataset = load_dataset(\"ctu-aic/ask_library_cs\", split=\"train\")\n",
    "dataset"
   ]
  },
  {
   "cell_type": "markdown",
   "metadata": {},
   "source": [
    "## Korektor"
   ]
  },
  {
   "cell_type": "code",
   "execution_count": 10,
   "metadata": {},
   "outputs": [
    {
     "name": "stdout",
     "output_type": "stream",
     "text": [
      "Usage: /home/mlynatom/korektor/korektor-2.0.0-bin/bin-linux64/korektor [options] model_configuration\n",
      "Options: --input=untokenized|untokenized_lines|segmented|vertical|horizontal\n",
      "         --output=original|xml|vertical|horizontal\n",
      "         --corrections=maximum_number_of_corrections\n",
      "         --viterbi_order=viterbi_decoding_order\n",
      "         --viterbi_beam_size=maximum_viterbi_beam_size\n",
      "         --viterbi_stage_pruning=maximum_viterbi_stage_cost_increment\n",
      "         --context_free\n",
      "         --version\n",
      "         --help\n"
     ]
    }
   ],
   "source": [
    "!/home/mlynatom/korektor/korektor-2.0.0-bin/bin-linux64/korektor"
   ]
  },
  {
   "cell_type": "code",
   "execution_count": null,
   "metadata": {},
   "outputs": [
    {
     "name": "stdout",
     "output_type": "stream",
     "text": [
      "čau jak se máš?\n"
     ]
    }
   ],
   "source": [
    "import subprocess\n",
    "\n",
    "def call_\n",
    "\n",
    "command = \"echo 'cau jak se mas?' | /home/mlynatom/korektor/korektor-2.0.0-bin/bin-linux64/korektor /home/mlynatom/korektor/korektor-czech-130202/diacritics_h2mor.conf\"\n",
    "\n",
    "result = subprocess.run(command, shell=True, text=True, capture_output=True)\n",
    "\n",
    "print(result.stdout.strip())"
   ]
  },
  {
   "cell_type": "code",
   "execution_count": 14,
   "metadata": {},
   "outputs": [],
   "source": [
    "#korektor\n",
    "import requests\n",
    "import subprocess\n",
    "\n",
    "korektor_url = \"https://lindat.mff.cuni.cz/services/korektor/api/correct\"\n",
    "url_model_diacritics = 'czech-diacritics_generator-130202'\n",
    "url_model_spell = 'czech-spellchecker-130202'\n",
    "\n",
    "korektor_path = \"/home/mlynatom/korektor/korektor-2.0.0-bin/bin-linux64/korektor\"\n",
    "path_model_diacritics = \"/home/mlynatom/korektor/korektor-czech-130202/diacritics_h2mor.conf\"\n",
    "path_model_spell = \"/home/mlynatom/korektor/korektor-czech-130202/spellchecking_h2mor.conf\"\n",
    "\n",
    "\n",
    "def correct_text(text, model, korektor_url=None, korektor_path=None):\n",
    "    if korektor_url is None and korektor_path is None:\n",
    "        raise ValueError(\"Either korektor_url or korektor_path must be provided\")\n",
    "    elif korektor_url is not None:\n",
    "        params = {\n",
    "            'model': model,\n",
    "            'data': text,\n",
    "        }\n",
    "        response = requests.post(korektor_url, data=params)\n",
    "        if response.status_code != 200:\n",
    "            raise Exception(f\"Failed to correct text: {response.text}\")\n",
    "        corrected_text = response.json()['result']\n",
    "    else:\n",
    "        command = f\"echo '{text}' | {korektor_path} {model}\"\n",
    "        result = subprocess.run(command, shell=True, text=True, capture_output=True)\n",
    "        corrected_text = result.stdout.strip()\n",
    "    return corrected_text\n",
    "\n"
   ]
  },
  {
   "cell_type": "code",
   "execution_count": 15,
   "metadata": {},
   "outputs": [
    {
     "data": {
      "text/plain": [
       "'Toto je testovací věta bez diakritiky.'"
      ]
     },
     "execution_count": 15,
     "metadata": {},
     "output_type": "execute_result"
    }
   ],
   "source": [
    "correct_text(\"Toto je testovací veta bez diakritiky.\", korektor_path = korektor_path, model = path_model_diacritics)"
   ]
  },
  {
   "cell_type": "code",
   "execution_count": 16,
   "metadata": {},
   "outputs": [],
   "source": [
    "def correct_map(example):\n",
    "    if example['language'] == 'cs':\n",
    "        example['question_diacritics_korektor'] = correct_text(example['question'],korektor_path = korektor_path, model = path_model_diacritics)\n",
    "        example['answer_diacritics_korektor'] = correct_text(example['answer'],korektor_path = korektor_path, model = path_model_diacritics)\n",
    "        example['question_spell_korektor'] = correct_text(example['question'], korektor_path = korektor_path, model = path_model_spell)\n",
    "        example['answer_spell_korektor'] = correct_text(example['answer'], korektor_path = korektor_path, model = path_model_spell)\n",
    "    else:\n",
    "        example['question_diacritics_korektor'] = \"\"\n",
    "        example['answer_diacritics_korektor'] = \"\"\n",
    "        example['question_spell_korektor'] = \"\"\n",
    "        example['answer_spell_korektor'] = \"\"\n",
    "    return example"
   ]
  },
  {
   "cell_type": "code",
   "execution_count": 17,
   "metadata": {},
   "outputs": [
    {
     "data": {
      "application/vnd.jupyter.widget-view+json": {
       "model_id": "4999d50163614c21a5983fcd77d85fc0",
       "version_major": 2,
       "version_minor": 0
      },
      "text/plain": [
       "Map:   0%|          | 0/16273 [00:00<?, ? examples/s]"
      ]
     },
     "metadata": {},
     "output_type": "display_data"
    }
   ],
   "source": [
    "dataset = dataset.map(correct_map)"
   ]
  },
  {
   "cell_type": "code",
   "execution_count": 18,
   "metadata": {},
   "outputs": [
    {
     "data": {
      "text/plain": [
       "Dataset({\n",
       "    features: ['title', 'question', 'answer', 'okres', 'library', 'category', 'used_sources', 'date', 'url', 'id', 'language', 'question_diacritics_korektor', 'answer_diacritics_korektor', 'question_spell_korektor', 'answer_spell_korektor'],\n",
       "    num_rows: 16273\n",
       "})"
      ]
     },
     "execution_count": 18,
     "metadata": {},
     "output_type": "execute_result"
    }
   ],
   "source": [
    "dataset"
   ]
  },
  {
   "cell_type": "code",
   "execution_count": 25,
   "metadata": {},
   "outputs": [
    {
     "data": {
      "application/vnd.jupyter.widget-view+json": {
       "model_id": "1de78548be354fd890a6cd87f2e1c1e3",
       "version_major": 2,
       "version_minor": 0
      },
      "text/plain": [
       "VBox(children=(HTML(value='<center> <img\\nsrc=https://huggingface.co/front/assets/huggingface_logo-noborder.sv…"
      ]
     },
     "metadata": {},
     "output_type": "display_data"
    }
   ],
   "source": [
    "from huggingface_hub import login\n",
    "login()"
   ]
  },
  {
   "cell_type": "code",
   "execution_count": 26,
   "metadata": {},
   "outputs": [
    {
     "data": {
      "application/vnd.jupyter.widget-view+json": {
       "model_id": "803ed0d94e184fbb8e76250c886b0118",
       "version_major": 2,
       "version_minor": 0
      },
      "text/plain": [
       "Uploading the dataset shards:   0%|          | 0/1 [00:00<?, ?it/s]"
      ]
     },
     "metadata": {},
     "output_type": "display_data"
    },
    {
     "data": {
      "application/vnd.jupyter.widget-view+json": {
       "model_id": "7cd9dc2fa8344348aae3004aab828fc2",
       "version_major": 2,
       "version_minor": 0
      },
      "text/plain": [
       "Creating parquet from Arrow format:   0%|          | 0/17 [00:00<?, ?ba/s]"
      ]
     },
     "metadata": {},
     "output_type": "display_data"
    },
    {
     "data": {
      "text/plain": [
       "CommitInfo(commit_url='https://huggingface.co/datasets/ctu-aic/ask_library_cs/commit/df8ccc4930f65e92cfbb11eb56195e545ac6e36a', commit_message='Columns with corrected text using korektor', commit_description='', oid='df8ccc4930f65e92cfbb11eb56195e545ac6e36a', pr_url=None, repo_url=RepoUrl('https://huggingface.co/datasets/ctu-aic/ask_library_cs', endpoint='https://huggingface.co', repo_type='dataset', repo_id='ctu-aic/ask_library_cs'), pr_revision=None, pr_num=None)"
      ]
     },
     "execution_count": 26,
     "metadata": {},
     "output_type": "execute_result"
    }
   ],
   "source": [
    "dataset.push_to_hub(\"ctu-aic/ask_library_cs\", commit_message=\"Columns with corrected text using korektor\")"
   ]
  },
  {
   "cell_type": "markdown",
   "metadata": {},
   "source": [
    "## Other"
   ]
  },
  {
   "cell_type": "code",
   "execution_count": null,
   "metadata": {},
   "outputs": [
    {
     "data": {
      "application/vnd.jupyter.widget-view+json": {
       "model_id": "a801673f73ce4ca082497bc28871b268",
       "version_major": 2,
       "version_minor": 0
      },
      "text/plain": [
       "Filter:   0%|          | 0/16273 [00:00<?, ? examples/s]"
      ]
     },
     "metadata": {},
     "output_type": "display_data"
    }
   ],
   "source": [
    "import nltk\n",
    "\n",
    "def filter_correct_diacritics(example):\n",
    "    edit_distance_q = nltk.edit_distance(example['question'], example['question_diacritics_korektor'])\n",
    "    edit_distance_a = nltk.edit_distance(example['answer'], example['answer_diacritics_korektor'])\n",
    "    threshold = len(example['question']) / 2\n",
    "\n",
    "    return edit_distance_q < threshold and edit_distance_a < threshold\n",
    "\n",
    "def filter_correct_spell(example):\n",
    "    return example['question'] == example['question_spell_korektor'] and example['answer'] == example['answer_spell_korektor']\n",
    "\n",
    "\n",
    "correct_diacritics = dataset.filter(filter_correct_diacritics)\n",
    "#correct_spell = dataset.filter(filter_correct_spell)"
   ]
  },
  {
   "cell_type": "code",
   "execution_count": 4,
   "metadata": {},
   "outputs": [
    {
     "data": {
      "text/plain": [
       "{'title': 'Advence a konvence',\n",
       " 'question': 'Jaký je rozdíl mezi advekcí a konvekcí (týká seatmosféry)?',\n",
       " 'answer': 'Dobrý den, jako advekce se v meteorologii označuje přemísťování vzduchových hmot daných vlastností ve vodorovném směru nebo přenos určité veličiny nebo fyzikální vlastnosti vzduchu (teploty, tlaku) vodorovným prouděním (větrem) v atmosféře. Konvekce znamená uspořádaný pohyb vzduchu v atmosféře ve vertikálním směru, např. termická konvekce vzniká při nestabilním zvrstvení atmosféry, při kterém teplejší vzduch stoupá vzhůru, ohřívá chladnější vyšší vrstvy atmosféry, vznikají stoupavé vzdušné proudy. Konvekční pohyby mohou mít nespojitý charakter, tj. probíhají ve formě pohybu jednotlivých vzduchových \"bublin\", nebo nabývají tvaru spojitých vertikálních vzdušných proudů. Konvekce je zpravidla doprovázena turbulencí a spolu s ní se významně podílí na promíchávání vzduchu a přenosu tepla i vodní páry od zemského povrchu do atmosféry. Konvekce se vyskytuje jen v teplejších ročních obdobích, ve dne za jasného nebo jen lehce oblačného počasí. Použité zdroje: Technický slovník naučný. A-Č. Praha: Encyklopedický dům, 2001. Str. 33. ISBN 80-86044-17-3. Technický slovník naučný. K-L. Praha: Encyklopedický dům, 2003. Str. 179. ISBN 80-86044-21-1. Meteorologický slovník výkladový terminologický. Praha: Ministerstvo životního prostředí ČR, 1993. Str. 148. ISBN 80-85368-45-5.',\n",
       " 'okres': None,\n",
       " 'library': 'Národní knihovna ČR',\n",
       " 'category': 'Geografie. Geologie. Vědy o zemi',\n",
       " 'used_sources': None,\n",
       " 'date': Timestamp('2010-01-07 10:36:00'),\n",
       " 'url': 'https://www.ptejteseknihovny.cz/dotazy/advence-a-konvence',\n",
       " 'id': 100,\n",
       " 'language': 'cs',\n",
       " 'question_diacritics_korektor': 'Jaký je rozdíl mezi advekcí a konvekcí (týká seatmosféry)?',\n",
       " 'answer_diacritics_korektor': 'Dobrý den, jako advekce se v meteorologii označuje přemísťování vzduchových hmot daných vlastností ve vodorovném směru nebo přenos určité veličiny nebo fyzikální vlastnosti vzduchu (teploty, tlaku) vodorovným prouděním (větrem) v atmosféře. Konvekce znamená uspořádaný pohyb vzduchu v atmosféře ve vertikálním směru, např. termická konvekce vzniká při nestabilním zvrstvení atmosféry, při kterém teplejší vzduch stoupá vzhůru, ohřívá chladnější vyšší vrstvy atmosféry, vznikají stoupavé vzdušné proudy. Konvekční pohyby mohou mít nespojitý charakter, tj. probíhají ve formě pohybu jednotlivých vzduchových \"bublin\", nebo nabývají tvaru spojitých vertikálních vzdušných proudů. Konvekce je zpravidla doprovázena turbulencí a spolu s ní se významně podílí na promíchávání vzduchu a přenosu tepla i vodní páry od zemského povrchu do atmosféry. Konvekce se vyskytuje jen v teplejších ročních obdobích, ve dne za jasného nebo jen lehce oblačného počasí. Použité zdroje: Technický slovník naučný. A-Č. Praha: Encyklopedický dům, 2001. Str. 33. ISBN 80-86044-17-3. Technický slovník naučný. K-L. Praha: Encyklopedický dům, 2003. Str. 179. ISBN 80-86044-21-1. Meteorologický slovník výkladový terminologický. Praha: Ministerstvo životního prostředí ČR, 1993. Str. 148. ISBN 80-85368-45-5.',\n",
       " 'question_spell_korektor': 'Jaký je rozdíl mezi addukcí a konvencí (týká atmosféry)?',\n",
       " 'answer_spell_korektor': 'Dobrý den, jako addukce se v meteorologii označuje přemísťování vzduchových hmot daných vlastností ve vodorovném směru nebo přenos určité veličiny nebo fyzikální vlastnosti vzduchu (teploty, tlaku) vodorovným prouděním (větrem) v atmosféře. Konvence znamená uspořádaný pohyb vzduchu v atmosféře ve vertikálním směru, např. termická konvence vzniká při nestabilním vrstvení atmosféry, při kterém teplejší vzduch stoupá vzhůru, ohřívá chladnější vyšší vrstvy atmosféry, vznikají stoupavé vzdušné proudy. Konvenční pohyby mohou mít nespojitý charakter, tj. probíhají ve formě pohybu jednotlivých vzduchových \"bublin\", nebo nabývají tvaru spojitých vertikálních vzdušných proudů. Konvence je zpravidla doprovázena turbulencí a spolu s ní se významně podílí na promíchávání vzduchu a přenosu tepla i vodní páry od zemského povrchu do atmosféry. Konvence se vyskytuje jen v teplejších ročních obdobích, ve dne za jasného nebo jen lehce oblačného počasí. Použité zdroje: Technický slovník naučný. A-Č. Praha: Encyklopedický dům, 2001. Str. 33. ISBN 80-86044-17-3. Technický slovník naučný. K-L. Praha: Encyklopedický dům, 2003. Str. 179. ISBN 80-86044-21-1. Meteorologický slovník výkladový terminologický. Praha: Ministerstvo životního prostředí ČR, 1993. Str. 148. ISBN 80-85368-45-5.'}"
      ]
     },
     "execution_count": 4,
     "metadata": {},
     "output_type": "execute_result"
    }
   ],
   "source": [
    "dataset[100]"
   ]
  },
  {
   "cell_type": "code",
   "execution_count": 4,
   "metadata": {},
   "outputs": [
    {
     "data": {
      "text/plain": [
       "Dataset({\n",
       "    features: ['title', 'question', 'answer', 'okres', 'library', 'category', 'used_sources', 'date', 'url', 'id', 'language', 'question_diacritics_korektor', 'answer_diacritics_korektor', 'question_spell_korektor', 'answer_spell_korektor'],\n",
       "    num_rows: 16273\n",
       "})"
      ]
     },
     "execution_count": 4,
     "metadata": {},
     "output_type": "execute_result"
    }
   ],
   "source": [
    "dataset"
   ]
  },
  {
   "cell_type": "code",
   "execution_count": 5,
   "metadata": {},
   "outputs": [
    {
     "data": {
      "text/plain": [
       "False"
      ]
     },
     "execution_count": 5,
     "metadata": {},
     "output_type": "execute_result"
    }
   ],
   "source": [
    "correct_diacritics[0][\"question\"] == correct_diacritics[0][\"question_diacritics_korektor\"]"
   ]
  },
  {
   "cell_type": "code",
   "execution_count": 6,
   "metadata": {},
   "outputs": [
    {
     "data": {
      "text/plain": [
       "{'title': 'e-knihy',\n",
       " 'question': 'Dobrý den, nemohu se prosím přihlásit přes zadané údaje, hlásí to chybně zadaný pin nebo čtenářské číslo, delší období jsem knihy nevypůjčovala, chci teď v době koronaviru zkusit e-lerning. Děkuji za odpověď.',\n",
       " 'answer': 'Vážená paní,  moc mě to mrzí, ale v databázi čtenářů Vás již nemáme. Podle Nařízení na ochranu osobních údajů nemůžeme spravovat údaje čtenářů déle než šest měsíců od propadlé registrace. Potom musíme všechny Vaše údaje zarchivovat. Nabídnout Vám mohu založení nového čtenářského konta, toto lze však učinit až v okamžiku znovuotevření knihovny.  Momentálně můžete zkusit e-knihy, které jdou stahovat zdarma, více informací získáte na tomto webu -https://protiviru.knihovny.cz/  Děkuji za pochopení a přeji pevné zdraví',\n",
       " 'okres': 'Hradec Králové',\n",
       " 'library': 'Knihovna města Hradce Králové',\n",
       " 'category': 'Informace o knihovně',\n",
       " 'used_sources': None,\n",
       " 'date': Timestamp('2020-03-23 08:00:00'),\n",
       " 'url': 'https://www.ptejteseknihovny.cz/dotazy/-3',\n",
       " 'id': 0,\n",
       " 'language': 'cs',\n",
       " 'question_diacritics_korektor': 'Dobrý den, nemohu se prosím přihlásit přes zadané údaje, hlásí to chybně žádaný pin nebo čtenářské číslo, delší období jsem knihy nevypůjčovala, chci teď v době koronaviru zkusit e-lerning. Děkuji za odpověď.',\n",
       " 'answer_diacritics_korektor': 'Vážená paní,  moc mě to mrzí, ale v databázi čtenářů Vás již nemáme. Podle Nařízení na ochranu osobních údajů nemůžeme spravovat údaje čtenářů déle než šest měsíců od propadlé registrace. Potom musíme všechny Vaše údaje zarchivovat. Nabídnout Vám mohu založení nového čtenářského konta, toto lze však učinit až v okamžiku znovuotevření knihovny.  Momentálně můžete zkusit e-knihy, které jdou stahovat zdarma, více informací získáte na tomto webu -https://protiviru.knihovny.cz/  Děkuji za pochopení a přeji pevné zdraví',\n",
       " 'question_spell_korektor': 'Dobrý den, nemohu se prosím přihlásit přes zadané údaje, hlásí to chybně zadaný pin nebo čtenářské číslo, delší období jsem knihy nevypůjčovala, chci teď v době koronaviru zkusit e-learning. Děkuji za odpověď.',\n",
       " 'answer_spell_korektor': 'Vážená paní,  moc mě to mrzí, ale v databázi čtenářů vás již nemáme. Podle nařízení na ochranu osobních údajů nemůžeme spravovat údaje čtenářů déle než šest měsíců od propadlé registrace. Potom musíme všechny vaše údaje archivovat. Nabídnout vám mohu založení nového čtenářského konta, toto lze však učinit až v okamžiku znovuotevření knihovny.  Momentálně můžete zkusit e-knihy, které jdou stahovat zdarma, více informací získáte na tomto webu -http://protivětru.knihovny.cz/  děkuji za pochopení a přeji pevné zdraví'}"
      ]
     },
     "execution_count": 6,
     "metadata": {},
     "output_type": "execute_result"
    }
   ],
   "source": [
    "correct_diacritics[0]"
   ]
  },
  {
   "cell_type": "code",
   "execution_count": 7,
   "metadata": {},
   "outputs": [
    {
     "name": "stdout",
     "output_type": "stream",
     "text": [
      "Original question: Dobrý den, nemohu se prosím přihlásit přes zadané údaje, hlásí to chybně zadaný pin nebo čtenářské číslo, delší období jsem knihy nevypůjčovala, chci teď v době koronaviru zkusit e-lerning. Děkuji za odpověď.\n",
      "Corrected question: Dobrý den, nemohu se prosím přihlásit přes zadané údaje, hlásí to chybně žádaný pin nebo čtenářské číslo, delší období jsem knihy nevypůjčovala, chci teď v době koronaviru zkusit e-lerning. Děkuji za odpověď.\n",
      "Original answer: Vážená paní,  moc mě to mrzí, ale v databázi čtenářů Vás již nemáme. Podle Nařízení na ochranu osobních údajů nemůžeme spravovat údaje čtenářů déle než šest měsíců od propadlé registrace. Potom musíme všechny Vaše údaje zarchivovat. Nabídnout Vám mohu založení nového čtenářského konta, toto lze však učinit až v okamžiku znovuotevření knihovny.  Momentálně můžete zkusit e-knihy, které jdou stahovat zdarma, více informací získáte na tomto webu -https://protiviru.knihovny.cz/  Děkuji za pochopení a přeji pevné zdraví\n",
      "Corrected answer: Vážená paní,  moc mě to mrzí, ale v databázi čtenářů Vás již nemáme. Podle Nařízení na ochranu osobních údajů nemůžeme spravovat údaje čtenářů déle než šest měsíců od propadlé registrace. Potom musíme všechny Vaše údaje zarchivovat. Nabídnout Vám mohu založení nového čtenářského konta, toto lze však učinit až v okamžiku znovuotevření knihovny.  Momentálně můžete zkusit e-knihy, které jdou stahovat zdarma, více informací získáte na tomto webu -https://protiviru.knihovny.cz/  Děkuji za pochopení a přeji pevné zdraví\n",
      "\n",
      "\\sd\n"
     ]
    }
   ],
   "source": [
    "#what are differences between original and corrected text\n",
    "def diff_text(example):\n",
    "    print(f\"Original question: {example['question']}\")\n",
    "    print(f\"Corrected question: {example['question_diacritics_korektor']}\")\n",
    "    print(f\"Original answer: {example['answer']}\")\n",
    "    print(f\"Corrected answer: {example['answer_diacritics_korektor']}\")\n",
    "    print()\n",
    "\n",
    "diff_text(correct_diacritics[0])\n",
    "print(\"\\sd\")"
   ]
  },
  {
   "cell_type": "code",
   "execution_count": 8,
   "metadata": {},
   "outputs": [
    {
     "name": "stdout",
     "output_type": "stream",
     "text": [
      "z ž\n",
      "a á\n"
     ]
    }
   ],
   "source": [
    "q = correct_diacritics[0][\"question\"]\n",
    "for i in range(len(q)):\n",
    "    if q[i] != correct_diacritics[0][\"question_diacritics_korektor\"][i]:\n",
    "        print(q[i], correct_diacritics[0][\"question_diacritics_korektor\"][i])"
   ]
  },
  {
   "cell_type": "code",
   "execution_count": 31,
   "metadata": {},
   "outputs": [
    {
     "data": {
      "text/plain": [
       "Dataset({\n",
       "    features: ['title', 'question', 'answer', 'okres', 'library', 'category', 'used_sources', 'date', 'url', 'id', 'language', 'question_diacritics_korektor', 'answer_diacritics_korektor', 'question_spell_korektor', 'answer_spell_korektor'],\n",
       "    num_rows: 91\n",
       "})"
      ]
     },
     "execution_count": 31,
     "metadata": {},
     "output_type": "execute_result"
    }
   ],
   "source": [
    "correct_spell"
   ]
  },
  {
   "cell_type": "code",
   "execution_count": 2,
   "metadata": {},
   "outputs": [
    {
     "data": {
      "text/plain": [
       "Dataset({\n",
       "    features: ['title', 'question', 'answer', 'okres', 'library', 'category', 'used_sources', 'date', 'url', 'id', 'language'],\n",
       "    num_rows: 15789\n",
       "})"
      ]
     },
     "execution_count": 2,
     "metadata": {},
     "output_type": "execute_result"
    }
   ],
   "source": [
    "#filter czech\n",
    "dataset = dataset.filter(lambda example: example['language'] == 'cs')\n",
    "dataset"
   ]
  },
  {
   "cell_type": "code",
   "execution_count": 3,
   "metadata": {},
   "outputs": [
    {
     "data": {
      "text/plain": [
       "{'title': 'brát či dávat',\n",
       " 'question': 'když mě svrbí dlaň říká se ,že budu brát, ale pravánebo levá, brát či dávat',\n",
       " 'answer': 'Dobrá den, k Vašemu dotazu se nám podařilo dohledat následující informace : u Romů se dodnes traduje několik pověr ve spojení s penězi. V jedné z nich se říká, že když vás svrbí levá dlaň, znamená to, že v nejbližší době obdržíte nějaké peníze. A když vás naopak svrbí pravá dlaň, Romové říkají, že budete muset něco zaplatit. Levá bere, pravá dává. Nejsem pověrčivý, ale říká se, že jsou věci mezi nebem a zemí. U nás tomu věřila pouze matka: když si škrábala levou dlaň, říkala, že už brzy přijde listonoška a přinese jí peníze. My jsme se jen posmívali, ale vždy tomu tak bylo. Nikdy se nestalo, že by ji tato pověra zklamala. V životě jsem se několikrát přesvědčil, že znamení této pověry je pravdivé a dnes už jí věřím i já. Vždy si vzpomenu, jak nám matka vysvětlovala, že každé svrbění levé dlaně není stejné. Podle ní vás začne svrbět levá dlaň vždy dva až tři dny před tím, než dostanete peníze. A prý záleží i na tom, kde přesně dlaň svrbí. Čím více ke středu, tím více peněz dostanete. Když svrbí pouze kolem prstů, znamená to, že částka nebude velká. Po celou dobu svrbění levé dlaně o tom nesmíte s nikým mluvit a také se nesmíte svrbění dlaně zbavovat, jinak by kouzlo pominulo. zdroj: http://www.romanohangos.cekit.cz/clanek.php?id_clanek=333 http://www.e-kniha.com/mezi-nebem-a-zemi.html',\n",
       " 'okres': None,\n",
       " 'library': 'Národní knihovna ČR',\n",
       " 'category': 'Antropologie, etnografie',\n",
       " 'used_sources': None,\n",
       " 'date': Timestamp('2011-08-01 11:06:00'),\n",
       " 'url': 'https://www.ptejteseknihovny.cz/dotazy/brat-ci-davat',\n",
       " 'id': 931,\n",
       " 'language': 'cs'}"
      ]
     },
     "execution_count": 3,
     "metadata": {},
     "output_type": "execute_result"
    }
   ],
   "source": [
    "dataset[895]"
   ]
  },
  {
   "cell_type": "code",
   "execution_count": 4,
   "metadata": {},
   "outputs": [],
   "source": [
    "#filter all newline and whitespace characters\n",
    "import re\n",
    "\n",
    "def clean_text(example):\n",
    "    #match all whitespace characters and replace them with a single space\n",
    "    example['question'] = re.sub(r'\\s+', ' ', example['question']).strip()\n",
    "    example['answer'] = re.sub(r'\\s+', ' ', example['answer']).strip()\n",
    "    return example\n",
    "\n",
    "dataset = dataset.map(clean_text)"
   ]
  },
  {
   "cell_type": "code",
   "execution_count": null,
   "metadata": {},
   "outputs": [],
   "source": []
  },
  {
   "cell_type": "code",
   "execution_count": 27,
   "metadata": {},
   "outputs": [
    {
     "name": "stdout",
     "output_type": "stream",
     "text": [
      "<Response [200]>\n"
     ]
    },
    {
     "data": {
      "text/plain": [
       "'Jak se máš?'"
      ]
     },
     "execution_count": 27,
     "metadata": {},
     "output_type": "execute_result"
    }
   ],
   "source": [
    "correct_text(\"Jak se mas?\")"
   ]
  },
  {
   "cell_type": "code",
   "execution_count": 15,
   "metadata": {},
   "outputs": [
    {
     "data": {
      "application/vnd.jupyter.widget-view+json": {
       "model_id": "9b56e8b8e01744da9be6d8ac53742b65",
       "version_major": 2,
       "version_minor": 0
      },
      "text/plain": [
       "Filter:   0%|          | 0/15789 [00:00<?, ? examples/s]"
      ]
     },
     "metadata": {},
     "output_type": "display_data"
    },
    {
     "data": {
      "text/plain": [
       "Dataset({\n",
       "    features: ['title', 'question', 'answer', 'okres', 'library', 'category', 'used_sources', 'date', 'url', 'id', 'language'],\n",
       "    num_rows: 2282\n",
       "})"
      ]
     },
     "execution_count": 15,
     "metadata": {},
     "output_type": "execute_result"
    }
   ],
   "source": [
    "FILTER_STRINGS = [\"Děkuji za odpověď.\", \"Prosíme o laskavou odpověď\", \"Mnohokrát děkuji.\", \"děkuji\", \"Děkuji a velice se těším na odpověď.\"]\n",
    "\n",
    "#strip the strings!\n",
    "\n",
    "#diacritics restoration ufal bert/czaccent/korektor ufal/GECCC finetuned ufal\n",
    "\n",
    "#filter out containing links -> too few -> another link filtering?\n",
    "\n",
    "#look at the data without these greetings\n",
    "FILTER_GREETING = [\"Vážený paní\", \"Dobrý den\", \"Vážený pane\", \"Vážený čtenáři\", \"Vážená paní\", \"Dobré odpoledne\"]\n",
    "dataset_g = dataset.filter(lambda x: not any(greeting in x['answer'] for greeting in FILTER_GREETING) and not any(greeting.lower() in x['answer'] for greeting in FILTER_STRINGS))\n",
    "dataset_g"
   ]
  },
  {
   "cell_type": "code",
   "execution_count": 16,
   "metadata": {},
   "outputs": [
    {
     "data": {
      "text/plain": [
       "{'title': 'ČERNÝ, Jan. Knieha lékarska, kteráž slove herbář aneb Zelinář',\n",
       " 'question': 'Dobrý den, hledám informace o knize Knieha lekarska Kteraz slowe herbarz, Mikuláše Klaudiána, z roku 1517. Za jakoukoliv zprávu předem děkuji.',\n",
       " 'answer': 'Dobry den, pravdepodobne mate na mysli herbar Jana Cerneho: CERNY, Jan (Niger). Knieha lekarska kteraz slowe herbarz: aneb zelinarz :welmi vziteczna: z mnohych knieh latinskych. y zskutecznych praczij wybrana:poczina se sstiastnie... Norimberk, 1517. Podrobny bibliograficky zaznam knihy vcetne informaci o knihovnach, ktere herbar ve svych sbirkach vlastni, naleznete v databazi Knihopis Digital -http://db.knihopis.org/l.dll?cll~1758, soucasti zaznamu jsou i nahledy nekterych stranek -http://db.knihopis.org/l.dll?cli~1758&TL=. Pokud byste mel zajem, muzete si napr. v NK CR vypujcit kriticke vydani Kniehy lekarske z roku 1981. Podminkou je platny ctenarsky prukaz NK CR (http://www.nkp.cz/pages/page.php3?nazev=Jak_to_tady_chodi&submenu3=98),knihu si muzete objednat prostrednictvim Elektronickeho katalogu NK CR - baze NKC (http://sigma.nkp.cz/cze/nkc). Soucasti knihy je uvod, ktery herbar blize charakerizuje. ČERNÝ, Jan. Knieha lékarska, kteráž slove herbář aneb Zelinář. Praha : Avicenum, 1981. 463 s. Resume: Prvni kriticke vydani zakladniho spisu ceskeho humanistickeho lekare, ktery poprve vysel v Norimberce r. 1517. Cerneho cesky psany herbar se vyznacuje kritickym pristupme k dane problematice a snahou o usporadani tehdejsiho chaotickeho botanickeho nazvoslovi. Cerny dava kazde rostline jediny cesky nazev a podrobnym popisem umoznuje jeji presne urceni. Herbar doplnuje pojednani o lecivych vodach z bylin. Nize uvadime strucne charakteristiky herbare, velmi podrobne o herbari pojednava publikace Ceske tistene herbare 16. stoleti. Dale vysla i kniha Prvy cesky tisteny herbar Jana Cerného z r. 1517, ktera je vsak v NK CR vzhledem ke svemu spatnemu fyzickemu stavu jiz pro uzivatele nepristupna.Zakladni zivotopisne udaje o J.Cernem naleznete napr. v Ottove slovniku naucnem -http://encyklopedie.seznam.cz/heslo/234693-cerny-jan-prosluly-lekar. BOHATCOVA, Mirjam. Ceske tistene herbare 16. stoleti. Praha: Narodni knihovna v Praze, 1991. 123 s. ISBN 80-7050-103-0. SEDIVY, Emil. Prvy cesky tisteny herbar Jana Cerného z r. 1517 : Prisp. k nazvoslovi lekarnickemu, lecitelskemu a ved prirodnich na poc. XVI. stol. v Cechách. Praha (Kr. Vinohrady) : E. Sedivy : Csl. lekarnicka spolec., [1905]. 14 s. SCHOTT, Heinz. Kronika mediciny. Praha : Fortuna Print, 1994. s. 129. ISBN 80-85873-16-8.V Norimberku byl vydan herbar Jana Cerneho Kniha lekarska, ktera slove herbar aneb zelinar velimi uzitecna, z mnohych knih latinskych a z mnohych uzitecnych praci vybrana. Je to prvy cesky tisteny herbar, jedenacty v Evrope. Vysel jeste ve dvou dalsich vydanich (r. 1544 v Praze a r. 1554 v Olomouci). NIKLICEK, Ladislav ; STEIN, Karel. Dejiny mediciny v datech a faktech. Praha: Avicenum, 1985. s. 62.V Norimberku byla vydana (peci Mikulase Klaudyanaú prace J. Cerneho nazvana Kniha lekarska ... Je to prvni cesky tisteny herbar (jedenacty v Evrope), opatreny drevorytinami rostlin a jejich presnymi popisy. Cerny uvedl mnoho zkusenosti z vlastni lekarske praxe (napr. proti syfilis indikoval mast, jejiz hlavni slozkou byla rtut). ...',\n",
       " 'okres': None,\n",
       " 'library': 'Národní knihovna ČR',\n",
       " 'category': 'Informace o vydaných dokumentech',\n",
       " 'used_sources': None,\n",
       " 'date': Timestamp('2007-11-27 11:17:00'),\n",
       " 'url': 'https://www.ptejteseknihovny.cz/dotazy/cerny-jan-knieha-lekarska-kteraz-slove-herbar-aneb-zelinar',\n",
       " 'id': 1175,\n",
       " 'language': 'cs'}"
      ]
     },
     "execution_count": 16,
     "metadata": {},
     "output_type": "execute_result"
    }
   ],
   "source": [
    "dataset_g[202]"
   ]
  },
  {
   "cell_type": "code",
   "execution_count": 11,
   "metadata": {},
   "outputs": [
    {
     "name": "stderr",
     "output_type": "stream",
     "text": [
      "[nltk_data] Downloading package punkt_tab to\n",
      "[nltk_data]     /home/mlynatom/nltk_data...\n",
      "[nltk_data]   Package punkt_tab is already up-to-date!\n"
     ]
    }
   ],
   "source": [
    "import re\n",
    "import nltk\n",
    "nltk.download('punkt_tab')\n",
    "\n",
    "def remove_url(text:str) -> str:\n",
    "    url_in_brackets_pattern = re.compile(r'\\s*\\([^)(]*https?:\\/\\/[^\\s()]+[^)(]*\\)')\n",
    "    if \"http\" in text:\n",
    "        #remove urls in brackets\n",
    "        text = re.sub(url_in_brackets_pattern, '', text)\n",
    "\n",
    "        #if url still in the answer\n",
    "        if \"http\" in text:\n",
    "            #handle standalone urls\n",
    "            ##obtain sentences\n",
    "            sentences=nltk.tokenize.sent_tokenize(text, language=\"czech\")\n",
    "            ##find sentences without urls\n",
    "            filtered_sentences = [sentence for sentence in sentences if \"http\" not in sentence]\n",
    "            \n",
    "            text = \" \".join(filtered_sentences)\n",
    "\n",
    "    \n",
    "    return text"
   ]
  },
  {
   "cell_type": "code",
   "execution_count": 18,
   "metadata": {},
   "outputs": [
    {
     "data": {
      "text/plain": [
       "'Dobry den, pravdepodobne mate na mysli herbar Jana Cerneho: CERNY, Jan (Niger). Knieha lekarska kteraz slowe herbarz: aneb zelinarz :welmi vziteczna: z mnohych knieh latinskych. y zskutecznych praczij wybrana:poczina se sstiastnie... Norimberk, 1517. Podrobny bibliograficky zaznam knihy vcetne informaci o knihovnach, ktere herbar ve svych sbirkach vlastni, naleznete v databazi Knihopis Digital -http://db.knihopis.org/l.dll?cll~1758, soucasti zaznamu jsou i nahledy nekterych stranek -http://db.knihopis.org/l.dll?cli~1758&TL=. Pokud byste mel zajem, muzete si napr. v NK CR vypujcit kriticke vydani Kniehy lekarske z roku 1981. Podminkou je platny ctenarsky prukaz NK CR (http://www.nkp.cz/pages/page.php3?nazev=Jak_to_tady_chodi&submenu3=98),knihu si muzete objednat prostrednictvim Elektronickeho katalogu NK CR - baze NKC (http://sigma.nkp.cz/cze/nkc). Soucasti knihy je uvod, ktery herbar blize charakerizuje. ČERNÝ, Jan. Knieha lékarska, kteráž slove herbář aneb Zelinář. Praha : Avicenum, 1981. 463 s. Resume: Prvni kriticke vydani zakladniho spisu ceskeho humanistickeho lekare, ktery poprve vysel v Norimberce r. 1517. Cerneho cesky psany herbar se vyznacuje kritickym pristupme k dane problematice a snahou o usporadani tehdejsiho chaotickeho botanickeho nazvoslovi. Cerny dava kazde rostline jediny cesky nazev a podrobnym popisem umoznuje jeji presne urceni. Herbar doplnuje pojednani o lecivych vodach z bylin. Nize uvadime strucne charakteristiky herbare, velmi podrobne o herbari pojednava publikace Ceske tistene herbare 16. stoleti. Dale vysla i kniha Prvy cesky tisteny herbar Jana Cerného z r. 1517, ktera je vsak v NK CR vzhledem ke svemu spatnemu fyzickemu stavu jiz pro uzivatele nepristupna.Zakladni zivotopisne udaje o J.Cernem naleznete napr. v Ottove slovniku naucnem -http://encyklopedie.seznam.cz/heslo/234693-cerny-jan-prosluly-lekar. BOHATCOVA, Mirjam. Ceske tistene herbare 16. stoleti. Praha: Narodni knihovna v Praze, 1991. 123 s. ISBN 80-7050-103-0. SEDIVY, Emil. Prvy cesky tisteny herbar Jana Cerného z r. 1517 : Prisp. k nazvoslovi lekarnickemu, lecitelskemu a ved prirodnich na poc. XVI. stol. v Cechách. Praha (Kr. Vinohrady) : E. Sedivy : Csl. lekarnicka spolec., [1905]. 14 s. SCHOTT, Heinz. Kronika mediciny. Praha : Fortuna Print, 1994. s. 129. ISBN 80-85873-16-8.V Norimberku byl vydan herbar Jana Cerneho Kniha lekarska, ktera slove herbar aneb zelinar velimi uzitecna, z mnohych knih latinskych a z mnohych uzitecnych praci vybrana. Je to prvy cesky tisteny herbar, jedenacty v Evrope. Vysel jeste ve dvou dalsich vydanich (r. 1544 v Praze a r. 1554 v Olomouci). NIKLICEK, Ladislav ; STEIN, Karel. Dejiny mediciny v datech a faktech. Praha: Avicenum, 1985. s. 62.V Norimberku byla vydana (peci Mikulase Klaudyanaú prace J. Cerneho nazvana Kniha lekarska ... Je to prvni cesky tisteny herbar (jedenacty v Evrope), opatreny drevorytinami rostlin a jejich presnymi popisy. Cerny uvedl mnoho zkusenosti z vlastni lekarske praxe (napr. proti syfilis indikoval mast, jejiz hlavni slozkou byla rtut). ...'"
      ]
     },
     "execution_count": 18,
     "metadata": {},
     "output_type": "execute_result"
    }
   ],
   "source": [
    "dataset_g[\"answer\"][202]"
   ]
  },
  {
   "cell_type": "code",
   "execution_count": 19,
   "metadata": {},
   "outputs": [
    {
     "data": {
      "text/plain": [
       "'Dobry den, pravdepodobne mate na mysli herbar Jana Cerneho: CERNY, Jan (Niger). Knieha lekarska kteraz slowe herbarz: aneb zelinarz :welmi vziteczna: z mnohych knieh latinskych. y zskutecznych praczij wybrana:poczina se sstiastnie... Norimberk, 1517. Pokud byste mel zajem, muzete si napr. v NK CR vypujcit kriticke vydani Kniehy lekarske z roku 1981. Podminkou je platny ctenarsky prukaz NK CR,knihu si muzete objednat prostrednictvim Elektronickeho katalogu NK CR - baze NKC. Soucasti knihy je uvod, ktery herbar blize charakerizuje. ČERNÝ, Jan. Knieha lékarska, kteráž slove herbář aneb Zelinář. Praha : Avicenum, 1981. 463 s. Resume: Prvni kriticke vydani zakladniho spisu ceskeho humanistickeho lekare, ktery poprve vysel v Norimberce r. 1517. Cerneho cesky psany herbar se vyznacuje kritickym pristupme k dane problematice a snahou o usporadani tehdejsiho chaotickeho botanickeho nazvoslovi. Cerny dava kazde rostline jediny cesky nazev a podrobnym popisem umoznuje jeji presne urceni. Herbar doplnuje pojednani o lecivych vodach z bylin. Nize uvadime strucne charakteristiky herbare, velmi podrobne o herbari pojednava publikace Ceske tistene herbare 16. stoleti. Dale vysla i kniha Prvy cesky tisteny herbar Jana Cerného z r. 1517, ktera je vsak v NK CR vzhledem ke svemu spatnemu fyzickemu stavu jiz pro uzivatele nepristupna.Zakladni zivotopisne udaje o J.Cernem naleznete napr. BOHATCOVA, Mirjam. Ceske tistene herbare 16. stoleti. Praha: Narodni knihovna v Praze, 1991. 123 s. ISBN 80-7050-103-0. SEDIVY, Emil. Prvy cesky tisteny herbar Jana Cerného z r. 1517 : Prisp. k nazvoslovi lekarnickemu, lecitelskemu a ved prirodnich na poc. XVI. stol. v Cechách. Praha (Kr. Vinohrady) : E. Sedivy : Csl. lekarnicka spolec., [1905]. 14 s. SCHOTT, Heinz. Kronika mediciny. Praha : Fortuna Print, 1994. s. 129. ISBN 80-85873-16-8.V Norimberku byl vydan herbar Jana Cerneho Kniha lekarska, ktera slove herbar aneb zelinar velimi uzitecna, z mnohych knih latinskych a z mnohych uzitecnych praci vybrana. Je to prvy cesky tisteny herbar, jedenacty v Evrope. Vysel jeste ve dvou dalsich vydanich (r. 1544 v Praze a r. 1554 v Olomouci). NIKLICEK, Ladislav ; STEIN, Karel. Dejiny mediciny v datech a faktech. Praha: Avicenum, 1985. s. 62.V Norimberku byla vydana (peci Mikulase Klaudyanaú prace J. Cerneho nazvana Kniha lekarska ... Je to prvni cesky tisteny herbar (jedenacty v Evrope), opatreny drevorytinami rostlin a jejich presnymi popisy. Cerny uvedl mnoho zkusenosti z vlastni lekarske praxe (napr. proti syfilis indikoval mast, jejiz hlavni slozkou byla rtut). ...'"
      ]
     },
     "execution_count": 19,
     "metadata": {},
     "output_type": "execute_result"
    }
   ],
   "source": [
    "remove_url(dataset_g[\"answer\"][202])"
   ]
  }
 ],
 "metadata": {
  "kernelspec": {
   "display_name": "master_venv",
   "language": "python",
   "name": "python3"
  },
  "language_info": {
   "codemirror_mode": {
    "name": "ipython",
    "version": 3
   },
   "file_extension": ".py",
   "mimetype": "text/x-python",
   "name": "python",
   "nbconvert_exporter": "python",
   "pygments_lexer": "ipython3",
   "version": "3.10.12"
  }
 },
 "nbformat": 4,
 "nbformat_minor": 2
}
