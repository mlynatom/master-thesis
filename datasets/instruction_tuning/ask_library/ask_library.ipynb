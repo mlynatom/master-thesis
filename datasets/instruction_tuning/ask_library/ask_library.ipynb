{
 "cells": [
  {
   "cell_type": "markdown",
   "metadata": {},
   "source": [
    "# Transform ASK library"
   ]
  },
  {
   "cell_type": "code",
   "execution_count": 5,
   "metadata": {},
   "outputs": [
    {
     "data": {
      "text/plain": [
       "Dataset({\n",
       "    features: ['title', 'question', 'answer', 'okres', 'library', 'category', 'used_sources', 'date', 'url', 'id', 'language'],\n",
       "    num_rows: 16273\n",
       "})"
      ]
     },
     "execution_count": 5,
     "metadata": {},
     "output_type": "execute_result"
    }
   ],
   "source": [
    "from datasets import load_dataset\n",
    "\n",
    "dataset = load_dataset(\"ctu-aic/ask_library_cs\", split=\"train\")\n",
    "dataset"
   ]
  },
  {
   "cell_type": "markdown",
   "metadata": {},
   "source": [
    "## Korektor"
   ]
  },
  {
   "cell_type": "code",
   "execution_count": 15,
   "metadata": {},
   "outputs": [],
   "source": [
    "#korektor\n",
    "import requests\n",
    "\n",
    "korektor_url = \"https://lindat.mff.cuni.cz/services/korektor/api/correct\"\n",
    "\n",
    "def correct_text(text, model='czech-diacritics_generator-130202'):\n",
    "    params = {\n",
    "        'model': model,\n",
    "        'data': text,\n",
    "    }\n",
    "    response = requests.post(korektor_url, data=params)\n",
    "    if response.status_code != 200:\n",
    "        raise Exception(f\"Failed to correct text: {response.text}\")\n",
    "    return response.json()['result']\n",
    "\n"
   ]
  },
  {
   "cell_type": "code",
   "execution_count": 16,
   "metadata": {},
   "outputs": [
    {
     "data": {
      "text/plain": [
       "'Toto je testovací věta bez diakritiky.'"
      ]
     },
     "execution_count": 16,
     "metadata": {},
     "output_type": "execute_result"
    }
   ],
   "source": [
    "correct_text(\"Toto je testovací veta bez diakritiky.\")"
   ]
  },
  {
   "cell_type": "code",
   "execution_count": 17,
   "metadata": {},
   "outputs": [],
   "source": [
    "def correct_map(example):\n",
    "    if example['language'] == 'cs':\n",
    "        example['question_diacritics_korektor'] = correct_text(example['question'])\n",
    "        example['answer_diacritics_korektor'] = correct_text(example['answer'])\n",
    "        example['question_spell_korektor'] = correct_text(example['question'], model='czech-spellchecker-130202')\n",
    "        example['answer_spell_korektor'] = correct_text(example['answer'], model='czech-spellchecker-130202')\n",
    "    else:\n",
    "        example['question_diacritics_korektor'] = \"\"\n",
    "        example['answer_diacritics_korektor'] = \"\"\n",
    "        example['question_spell_korektor'] = \"\"\n",
    "        example['answer_spell_korektor'] = \"\"\n",
    "    return example"
   ]
  },
  {
   "cell_type": "code",
   "execution_count": 18,
   "metadata": {},
   "outputs": [
    {
     "data": {
      "application/vnd.jupyter.widget-view+json": {
       "model_id": "3fb07393823a42e0a2cdb72a03ec09e6",
       "version_major": 2,
       "version_minor": 0
      },
      "text/plain": [
       "Map:   0%|          | 0/16273 [00:00<?, ? examples/s]"
      ]
     },
     "metadata": {},
     "output_type": "display_data"
    },
    {
     "ename": "Exception",
     "evalue": "Failed to correct text: <html>\n<head><title>429 Too many requests</title></head>\n<body bgcolor=\"white\">\n<center><h1>429 Too many requests</h1></center>\n<center><h3>If you want to continue using our services, please contact us at this email address:</h3> <h2>lindat-help [at sign] ufal.mff.cuni.cz</h2></center>\n</body>\n</html>\n",
     "output_type": "error",
     "traceback": [
      "\u001b[0;31m---------------------------------------------------------------------------\u001b[0m",
      "\u001b[0;31mException\u001b[0m                                 Traceback (most recent call last)",
      "Cell \u001b[0;32mIn[18], line 1\u001b[0m\n\u001b[0;32m----> 1\u001b[0m dataset \u001b[38;5;241m=\u001b[39m \u001b[43mdataset\u001b[49m\u001b[38;5;241;43m.\u001b[39;49m\u001b[43mmap\u001b[49m\u001b[43m(\u001b[49m\u001b[43mcorrect_map\u001b[49m\u001b[43m)\u001b[49m\n",
      "File \u001b[0;32m~/master-thesis-repository-tomas-mlynar/venv/master_venv/lib/python3.12/site-packages/datasets/arrow_dataset.py:560\u001b[0m, in \u001b[0;36mtransmit_format.<locals>.wrapper\u001b[0;34m(*args, **kwargs)\u001b[0m\n\u001b[1;32m    553\u001b[0m self_format \u001b[38;5;241m=\u001b[39m {\n\u001b[1;32m    554\u001b[0m     \u001b[38;5;124m\"\u001b[39m\u001b[38;5;124mtype\u001b[39m\u001b[38;5;124m\"\u001b[39m: \u001b[38;5;28mself\u001b[39m\u001b[38;5;241m.\u001b[39m_format_type,\n\u001b[1;32m    555\u001b[0m     \u001b[38;5;124m\"\u001b[39m\u001b[38;5;124mformat_kwargs\u001b[39m\u001b[38;5;124m\"\u001b[39m: \u001b[38;5;28mself\u001b[39m\u001b[38;5;241m.\u001b[39m_format_kwargs,\n\u001b[1;32m    556\u001b[0m     \u001b[38;5;124m\"\u001b[39m\u001b[38;5;124mcolumns\u001b[39m\u001b[38;5;124m\"\u001b[39m: \u001b[38;5;28mself\u001b[39m\u001b[38;5;241m.\u001b[39m_format_columns,\n\u001b[1;32m    557\u001b[0m     \u001b[38;5;124m\"\u001b[39m\u001b[38;5;124moutput_all_columns\u001b[39m\u001b[38;5;124m\"\u001b[39m: \u001b[38;5;28mself\u001b[39m\u001b[38;5;241m.\u001b[39m_output_all_columns,\n\u001b[1;32m    558\u001b[0m }\n\u001b[1;32m    559\u001b[0m \u001b[38;5;66;03m# apply actual function\u001b[39;00m\n\u001b[0;32m--> 560\u001b[0m out: Union[\u001b[38;5;124m\"\u001b[39m\u001b[38;5;124mDataset\u001b[39m\u001b[38;5;124m\"\u001b[39m, \u001b[38;5;124m\"\u001b[39m\u001b[38;5;124mDatasetDict\u001b[39m\u001b[38;5;124m\"\u001b[39m] \u001b[38;5;241m=\u001b[39m \u001b[43mfunc\u001b[49m\u001b[43m(\u001b[49m\u001b[38;5;28;43mself\u001b[39;49m\u001b[43m,\u001b[49m\u001b[43m \u001b[49m\u001b[38;5;241;43m*\u001b[39;49m\u001b[43margs\u001b[49m\u001b[43m,\u001b[49m\u001b[43m \u001b[49m\u001b[38;5;241;43m*\u001b[39;49m\u001b[38;5;241;43m*\u001b[39;49m\u001b[43mkwargs\u001b[49m\u001b[43m)\u001b[49m\n\u001b[1;32m    561\u001b[0m datasets: List[\u001b[38;5;124m\"\u001b[39m\u001b[38;5;124mDataset\u001b[39m\u001b[38;5;124m\"\u001b[39m] \u001b[38;5;241m=\u001b[39m \u001b[38;5;28mlist\u001b[39m(out\u001b[38;5;241m.\u001b[39mvalues()) \u001b[38;5;28;01mif\u001b[39;00m \u001b[38;5;28misinstance\u001b[39m(out, \u001b[38;5;28mdict\u001b[39m) \u001b[38;5;28;01melse\u001b[39;00m [out]\n\u001b[1;32m    562\u001b[0m \u001b[38;5;66;03m# re-apply format to the output\u001b[39;00m\n",
      "File \u001b[0;32m~/master-thesis-repository-tomas-mlynar/venv/master_venv/lib/python3.12/site-packages/datasets/arrow_dataset.py:3035\u001b[0m, in \u001b[0;36mDataset.map\u001b[0;34m(self, function, with_indices, with_rank, input_columns, batched, batch_size, drop_last_batch, remove_columns, keep_in_memory, load_from_cache_file, cache_file_name, writer_batch_size, features, disable_nullable, fn_kwargs, num_proc, suffix_template, new_fingerprint, desc)\u001b[0m\n\u001b[1;32m   3029\u001b[0m \u001b[38;5;28;01mif\u001b[39;00m transformed_dataset \u001b[38;5;129;01mis\u001b[39;00m \u001b[38;5;28;01mNone\u001b[39;00m:\n\u001b[1;32m   3030\u001b[0m     \u001b[38;5;28;01mwith\u001b[39;00m hf_tqdm(\n\u001b[1;32m   3031\u001b[0m         unit\u001b[38;5;241m=\u001b[39m\u001b[38;5;124m\"\u001b[39m\u001b[38;5;124m examples\u001b[39m\u001b[38;5;124m\"\u001b[39m,\n\u001b[1;32m   3032\u001b[0m         total\u001b[38;5;241m=\u001b[39mpbar_total,\n\u001b[1;32m   3033\u001b[0m         desc\u001b[38;5;241m=\u001b[39mdesc \u001b[38;5;129;01mor\u001b[39;00m \u001b[38;5;124m\"\u001b[39m\u001b[38;5;124mMap\u001b[39m\u001b[38;5;124m\"\u001b[39m,\n\u001b[1;32m   3034\u001b[0m     ) \u001b[38;5;28;01mas\u001b[39;00m pbar:\n\u001b[0;32m-> 3035\u001b[0m \u001b[43m        \u001b[49m\u001b[38;5;28;43;01mfor\u001b[39;49;00m\u001b[43m \u001b[49m\u001b[43mrank\u001b[49m\u001b[43m,\u001b[49m\u001b[43m \u001b[49m\u001b[43mdone\u001b[49m\u001b[43m,\u001b[49m\u001b[43m \u001b[49m\u001b[43mcontent\u001b[49m\u001b[43m \u001b[49m\u001b[38;5;129;43;01min\u001b[39;49;00m\u001b[43m \u001b[49m\u001b[43mDataset\u001b[49m\u001b[38;5;241;43m.\u001b[39;49m\u001b[43m_map_single\u001b[49m\u001b[43m(\u001b[49m\u001b[38;5;241;43m*\u001b[39;49m\u001b[38;5;241;43m*\u001b[39;49m\u001b[43mdataset_kwargs\u001b[49m\u001b[43m)\u001b[49m\u001b[43m:\u001b[49m\n\u001b[1;32m   3036\u001b[0m \u001b[43m            \u001b[49m\u001b[38;5;28;43;01mif\u001b[39;49;00m\u001b[43m \u001b[49m\u001b[43mdone\u001b[49m\u001b[43m:\u001b[49m\n\u001b[1;32m   3037\u001b[0m \u001b[43m                \u001b[49m\u001b[43mshards_done\u001b[49m\u001b[43m \u001b[49m\u001b[38;5;241;43m+\u001b[39;49m\u001b[38;5;241;43m=\u001b[39;49m\u001b[43m \u001b[49m\u001b[38;5;241;43m1\u001b[39;49m\n",
      "File \u001b[0;32m~/master-thesis-repository-tomas-mlynar/venv/master_venv/lib/python3.12/site-packages/datasets/arrow_dataset.py:3408\u001b[0m, in \u001b[0;36mDataset._map_single\u001b[0;34m(shard, function, with_indices, with_rank, input_columns, batched, batch_size, drop_last_batch, remove_columns, keep_in_memory, cache_file_name, writer_batch_size, features, disable_nullable, fn_kwargs, new_fingerprint, rank, offset)\u001b[0m\n\u001b[1;32m   3406\u001b[0m _time \u001b[38;5;241m=\u001b[39m time\u001b[38;5;241m.\u001b[39mtime()\n\u001b[1;32m   3407\u001b[0m \u001b[38;5;28;01mfor\u001b[39;00m i, example \u001b[38;5;129;01min\u001b[39;00m shard_iterable:\n\u001b[0;32m-> 3408\u001b[0m     example \u001b[38;5;241m=\u001b[39m \u001b[43mapply_function_on_filtered_inputs\u001b[49m\u001b[43m(\u001b[49m\u001b[43mexample\u001b[49m\u001b[43m,\u001b[49m\u001b[43m \u001b[49m\u001b[43mi\u001b[49m\u001b[43m,\u001b[49m\u001b[43m \u001b[49m\u001b[43moffset\u001b[49m\u001b[38;5;241;43m=\u001b[39;49m\u001b[43moffset\u001b[49m\u001b[43m)\u001b[49m\n\u001b[1;32m   3409\u001b[0m     \u001b[38;5;28;01mif\u001b[39;00m update_data:\n\u001b[1;32m   3410\u001b[0m         \u001b[38;5;28;01mif\u001b[39;00m i \u001b[38;5;241m==\u001b[39m \u001b[38;5;241m0\u001b[39m:\n",
      "File \u001b[0;32m~/master-thesis-repository-tomas-mlynar/venv/master_venv/lib/python3.12/site-packages/datasets/arrow_dataset.py:3300\u001b[0m, in \u001b[0;36mDataset._map_single.<locals>.apply_function_on_filtered_inputs\u001b[0;34m(pa_inputs, indices, check_same_num_examples, offset)\u001b[0m\n\u001b[1;32m   3298\u001b[0m \u001b[38;5;28;01mif\u001b[39;00m with_rank:\n\u001b[1;32m   3299\u001b[0m     additional_args \u001b[38;5;241m+\u001b[39m\u001b[38;5;241m=\u001b[39m (rank,)\n\u001b[0;32m-> 3300\u001b[0m processed_inputs \u001b[38;5;241m=\u001b[39m \u001b[43mfunction\u001b[49m\u001b[43m(\u001b[49m\u001b[38;5;241;43m*\u001b[39;49m\u001b[43mfn_args\u001b[49m\u001b[43m,\u001b[49m\u001b[43m \u001b[49m\u001b[38;5;241;43m*\u001b[39;49m\u001b[43madditional_args\u001b[49m\u001b[43m,\u001b[49m\u001b[43m \u001b[49m\u001b[38;5;241;43m*\u001b[39;49m\u001b[38;5;241;43m*\u001b[39;49m\u001b[43mfn_kwargs\u001b[49m\u001b[43m)\u001b[49m\n\u001b[1;32m   3301\u001b[0m \u001b[38;5;28;01mif\u001b[39;00m \u001b[38;5;28misinstance\u001b[39m(processed_inputs, LazyDict):\n\u001b[1;32m   3302\u001b[0m     processed_inputs \u001b[38;5;241m=\u001b[39m {\n\u001b[1;32m   3303\u001b[0m         k: v \u001b[38;5;28;01mfor\u001b[39;00m k, v \u001b[38;5;129;01min\u001b[39;00m processed_inputs\u001b[38;5;241m.\u001b[39mdata\u001b[38;5;241m.\u001b[39mitems() \u001b[38;5;28;01mif\u001b[39;00m k \u001b[38;5;129;01mnot\u001b[39;00m \u001b[38;5;129;01min\u001b[39;00m processed_inputs\u001b[38;5;241m.\u001b[39mkeys_to_format\n\u001b[1;32m   3304\u001b[0m     }\n",
      "Cell \u001b[0;32mIn[17], line 6\u001b[0m, in \u001b[0;36mcorrect_map\u001b[0;34m(example)\u001b[0m\n\u001b[1;32m      4\u001b[0m     example[\u001b[38;5;124m'\u001b[39m\u001b[38;5;124manswer_diacritics_korektor\u001b[39m\u001b[38;5;124m'\u001b[39m] \u001b[38;5;241m=\u001b[39m correct_text(example[\u001b[38;5;124m'\u001b[39m\u001b[38;5;124manswer\u001b[39m\u001b[38;5;124m'\u001b[39m])\n\u001b[1;32m      5\u001b[0m     example[\u001b[38;5;124m'\u001b[39m\u001b[38;5;124mquestion_spell_korektor\u001b[39m\u001b[38;5;124m'\u001b[39m] \u001b[38;5;241m=\u001b[39m correct_text(example[\u001b[38;5;124m'\u001b[39m\u001b[38;5;124mquestion\u001b[39m\u001b[38;5;124m'\u001b[39m], model\u001b[38;5;241m=\u001b[39m\u001b[38;5;124m'\u001b[39m\u001b[38;5;124mczech-spellchecker-130202\u001b[39m\u001b[38;5;124m'\u001b[39m)\n\u001b[0;32m----> 6\u001b[0m     example[\u001b[38;5;124m'\u001b[39m\u001b[38;5;124manswer_spell_korektor\u001b[39m\u001b[38;5;124m'\u001b[39m] \u001b[38;5;241m=\u001b[39m \u001b[43mcorrect_text\u001b[49m\u001b[43m(\u001b[49m\u001b[43mexample\u001b[49m\u001b[43m[\u001b[49m\u001b[38;5;124;43m'\u001b[39;49m\u001b[38;5;124;43manswer\u001b[39;49m\u001b[38;5;124;43m'\u001b[39;49m\u001b[43m]\u001b[49m\u001b[43m,\u001b[49m\u001b[43m \u001b[49m\u001b[43mmodel\u001b[49m\u001b[38;5;241;43m=\u001b[39;49m\u001b[38;5;124;43m'\u001b[39;49m\u001b[38;5;124;43mczech-spellchecker-130202\u001b[39;49m\u001b[38;5;124;43m'\u001b[39;49m\u001b[43m)\u001b[49m\n\u001b[1;32m      7\u001b[0m \u001b[38;5;28;01melse\u001b[39;00m:\n\u001b[1;32m      8\u001b[0m     example[\u001b[38;5;124m'\u001b[39m\u001b[38;5;124mquestion_diacritics_korektor\u001b[39m\u001b[38;5;124m'\u001b[39m] \u001b[38;5;241m=\u001b[39m \u001b[38;5;124m\"\u001b[39m\u001b[38;5;124m\"\u001b[39m\n",
      "Cell \u001b[0;32mIn[15], line 13\u001b[0m, in \u001b[0;36mcorrect_text\u001b[0;34m(text, model)\u001b[0m\n\u001b[1;32m     11\u001b[0m response \u001b[38;5;241m=\u001b[39m requests\u001b[38;5;241m.\u001b[39mpost(korektor_url, data\u001b[38;5;241m=\u001b[39mparams)\n\u001b[1;32m     12\u001b[0m \u001b[38;5;28;01mif\u001b[39;00m response\u001b[38;5;241m.\u001b[39mstatus_code \u001b[38;5;241m!=\u001b[39m \u001b[38;5;241m200\u001b[39m:\n\u001b[0;32m---> 13\u001b[0m     \u001b[38;5;28;01mraise\u001b[39;00m \u001b[38;5;167;01mException\u001b[39;00m(\u001b[38;5;124mf\u001b[39m\u001b[38;5;124m\"\u001b[39m\u001b[38;5;124mFailed to correct text: \u001b[39m\u001b[38;5;132;01m{\u001b[39;00mresponse\u001b[38;5;241m.\u001b[39mtext\u001b[38;5;132;01m}\u001b[39;00m\u001b[38;5;124m\"\u001b[39m)\n\u001b[1;32m     14\u001b[0m \u001b[38;5;28;01mreturn\u001b[39;00m response\u001b[38;5;241m.\u001b[39mjson()[\u001b[38;5;124m'\u001b[39m\u001b[38;5;124mresult\u001b[39m\u001b[38;5;124m'\u001b[39m]\n",
      "\u001b[0;31mException\u001b[0m: Failed to correct text: <html>\n<head><title>429 Too many requests</title></head>\n<body bgcolor=\"white\">\n<center><h1>429 Too many requests</h1></center>\n<center><h3>If you want to continue using our services, please contact us at this email address:</h3> <h2>lindat-help [at sign] ufal.mff.cuni.cz</h2></center>\n</body>\n</html>\n"
     ]
    }
   ],
   "source": [
    "dataset = dataset.map(correct_map)"
   ]
  },
  {
   "cell_type": "markdown",
   "metadata": {},
   "source": [
    "## Other"
   ]
  },
  {
   "cell_type": "code",
   "execution_count": 2,
   "metadata": {},
   "outputs": [
    {
     "data": {
      "text/plain": [
       "Dataset({\n",
       "    features: ['title', 'question', 'answer', 'okres', 'library', 'category', 'used_sources', 'date', 'url', 'id', 'language'],\n",
       "    num_rows: 15789\n",
       "})"
      ]
     },
     "execution_count": 2,
     "metadata": {},
     "output_type": "execute_result"
    }
   ],
   "source": [
    "#filter czech\n",
    "dataset = dataset.filter(lambda example: example['language'] == 'cs')\n",
    "dataset"
   ]
  },
  {
   "cell_type": "code",
   "execution_count": 3,
   "metadata": {},
   "outputs": [
    {
     "data": {
      "text/plain": [
       "{'title': 'brát či dávat',\n",
       " 'question': 'když mě svrbí dlaň říká se ,že budu brát, ale pravánebo levá, brát či dávat',\n",
       " 'answer': 'Dobrá den, k Vašemu dotazu se nám podařilo dohledat následující informace : u Romů se dodnes traduje několik pověr ve spojení s penězi. V jedné z nich se říká, že když vás svrbí levá dlaň, znamená to, že v nejbližší době obdržíte nějaké peníze. A když vás naopak svrbí pravá dlaň, Romové říkají, že budete muset něco zaplatit. Levá bere, pravá dává. Nejsem pověrčivý, ale říká se, že jsou věci mezi nebem a zemí. U nás tomu věřila pouze matka: když si škrábala levou dlaň, říkala, že už brzy přijde listonoška a přinese jí peníze. My jsme se jen posmívali, ale vždy tomu tak bylo. Nikdy se nestalo, že by ji tato pověra zklamala. V životě jsem se několikrát přesvědčil, že znamení této pověry je pravdivé a dnes už jí věřím i já. Vždy si vzpomenu, jak nám matka vysvětlovala, že každé svrbění levé dlaně není stejné. Podle ní vás začne svrbět levá dlaň vždy dva až tři dny před tím, než dostanete peníze. A prý záleží i na tom, kde přesně dlaň svrbí. Čím více ke středu, tím více peněz dostanete. Když svrbí pouze kolem prstů, znamená to, že částka nebude velká. Po celou dobu svrbění levé dlaně o tom nesmíte s nikým mluvit a také se nesmíte svrbění dlaně zbavovat, jinak by kouzlo pominulo. zdroj: http://www.romanohangos.cekit.cz/clanek.php?id_clanek=333 http://www.e-kniha.com/mezi-nebem-a-zemi.html',\n",
       " 'okres': None,\n",
       " 'library': 'Národní knihovna ČR',\n",
       " 'category': 'Antropologie, etnografie',\n",
       " 'used_sources': None,\n",
       " 'date': Timestamp('2011-08-01 11:06:00'),\n",
       " 'url': 'https://www.ptejteseknihovny.cz/dotazy/brat-ci-davat',\n",
       " 'id': 931,\n",
       " 'language': 'cs'}"
      ]
     },
     "execution_count": 3,
     "metadata": {},
     "output_type": "execute_result"
    }
   ],
   "source": [
    "dataset[895]"
   ]
  },
  {
   "cell_type": "code",
   "execution_count": 4,
   "metadata": {},
   "outputs": [],
   "source": [
    "#filter all newline and whitespace characters\n",
    "import re\n",
    "\n",
    "def clean_text(example):\n",
    "    #match all whitespace characters and replace them with a single space\n",
    "    example['question'] = re.sub(r'\\s+', ' ', example['question']).strip()\n",
    "    example['answer'] = re.sub(r'\\s+', ' ', example['answer']).strip()\n",
    "    return example\n",
    "\n",
    "dataset = dataset.map(clean_text)"
   ]
  },
  {
   "cell_type": "code",
   "execution_count": null,
   "metadata": {},
   "outputs": [],
   "source": []
  },
  {
   "cell_type": "code",
   "execution_count": 27,
   "metadata": {},
   "outputs": [
    {
     "name": "stdout",
     "output_type": "stream",
     "text": [
      "<Response [200]>\n"
     ]
    },
    {
     "data": {
      "text/plain": [
       "'Jak se máš?'"
      ]
     },
     "execution_count": 27,
     "metadata": {},
     "output_type": "execute_result"
    }
   ],
   "source": [
    "correct_text(\"Jak se mas?\")"
   ]
  },
  {
   "cell_type": "code",
   "execution_count": 15,
   "metadata": {},
   "outputs": [
    {
     "data": {
      "application/vnd.jupyter.widget-view+json": {
       "model_id": "9b56e8b8e01744da9be6d8ac53742b65",
       "version_major": 2,
       "version_minor": 0
      },
      "text/plain": [
       "Filter:   0%|          | 0/15789 [00:00<?, ? examples/s]"
      ]
     },
     "metadata": {},
     "output_type": "display_data"
    },
    {
     "data": {
      "text/plain": [
       "Dataset({\n",
       "    features: ['title', 'question', 'answer', 'okres', 'library', 'category', 'used_sources', 'date', 'url', 'id', 'language'],\n",
       "    num_rows: 2282\n",
       "})"
      ]
     },
     "execution_count": 15,
     "metadata": {},
     "output_type": "execute_result"
    }
   ],
   "source": [
    "FILTER_STRINGS = [\"Děkuji za odpověď.\", \"Prosíme o laskavou odpověď\", \"Mnohokrát děkuji.\", \"děkuji\", \"Děkuji a velice se těším na odpověď.\"]\n",
    "\n",
    "#strip the strings!\n",
    "\n",
    "#diacritics restoration ufal bert/czaccent/korektor ufal/GECCC finetuned ufal\n",
    "\n",
    "#filter out containing links -> too few -> another link filtering?\n",
    "\n",
    "#look at the data without these greetings\n",
    "FILTER_GREETING = [\"Vážený paní\", \"Dobrý den\", \"Vážený pane\", \"Vážený čtenáři\", \"Vážená paní\", \"Dobré odpoledne\"]\n",
    "dataset_g = dataset.filter(lambda x: not any(greeting in x['answer'] for greeting in FILTER_GREETING) and not any(greeting.lower() in x['answer'] for greeting in FILTER_STRINGS))\n",
    "dataset_g"
   ]
  },
  {
   "cell_type": "code",
   "execution_count": 16,
   "metadata": {},
   "outputs": [
    {
     "data": {
      "text/plain": [
       "{'title': 'ČERNÝ, Jan. Knieha lékarska, kteráž slove herbář aneb Zelinář',\n",
       " 'question': 'Dobrý den, hledám informace o knize Knieha lekarska Kteraz slowe herbarz, Mikuláše Klaudiána, z roku 1517. Za jakoukoliv zprávu předem děkuji.',\n",
       " 'answer': 'Dobry den, pravdepodobne mate na mysli herbar Jana Cerneho: CERNY, Jan (Niger). Knieha lekarska kteraz slowe herbarz: aneb zelinarz :welmi vziteczna: z mnohych knieh latinskych. y zskutecznych praczij wybrana:poczina se sstiastnie... Norimberk, 1517. Podrobny bibliograficky zaznam knihy vcetne informaci o knihovnach, ktere herbar ve svych sbirkach vlastni, naleznete v databazi Knihopis Digital -http://db.knihopis.org/l.dll?cll~1758, soucasti zaznamu jsou i nahledy nekterych stranek -http://db.knihopis.org/l.dll?cli~1758&TL=. Pokud byste mel zajem, muzete si napr. v NK CR vypujcit kriticke vydani Kniehy lekarske z roku 1981. Podminkou je platny ctenarsky prukaz NK CR (http://www.nkp.cz/pages/page.php3?nazev=Jak_to_tady_chodi&submenu3=98),knihu si muzete objednat prostrednictvim Elektronickeho katalogu NK CR - baze NKC (http://sigma.nkp.cz/cze/nkc). Soucasti knihy je uvod, ktery herbar blize charakerizuje. ČERNÝ, Jan. Knieha lékarska, kteráž slove herbář aneb Zelinář. Praha : Avicenum, 1981. 463 s. Resume: Prvni kriticke vydani zakladniho spisu ceskeho humanistickeho lekare, ktery poprve vysel v Norimberce r. 1517. Cerneho cesky psany herbar se vyznacuje kritickym pristupme k dane problematice a snahou o usporadani tehdejsiho chaotickeho botanickeho nazvoslovi. Cerny dava kazde rostline jediny cesky nazev a podrobnym popisem umoznuje jeji presne urceni. Herbar doplnuje pojednani o lecivych vodach z bylin. Nize uvadime strucne charakteristiky herbare, velmi podrobne o herbari pojednava publikace Ceske tistene herbare 16. stoleti. Dale vysla i kniha Prvy cesky tisteny herbar Jana Cerného z r. 1517, ktera je vsak v NK CR vzhledem ke svemu spatnemu fyzickemu stavu jiz pro uzivatele nepristupna.Zakladni zivotopisne udaje o J.Cernem naleznete napr. v Ottove slovniku naucnem -http://encyklopedie.seznam.cz/heslo/234693-cerny-jan-prosluly-lekar. BOHATCOVA, Mirjam. Ceske tistene herbare 16. stoleti. Praha: Narodni knihovna v Praze, 1991. 123 s. ISBN 80-7050-103-0. SEDIVY, Emil. Prvy cesky tisteny herbar Jana Cerného z r. 1517 : Prisp. k nazvoslovi lekarnickemu, lecitelskemu a ved prirodnich na poc. XVI. stol. v Cechách. Praha (Kr. Vinohrady) : E. Sedivy : Csl. lekarnicka spolec., [1905]. 14 s. SCHOTT, Heinz. Kronika mediciny. Praha : Fortuna Print, 1994. s. 129. ISBN 80-85873-16-8.V Norimberku byl vydan herbar Jana Cerneho Kniha lekarska, ktera slove herbar aneb zelinar velimi uzitecna, z mnohych knih latinskych a z mnohych uzitecnych praci vybrana. Je to prvy cesky tisteny herbar, jedenacty v Evrope. Vysel jeste ve dvou dalsich vydanich (r. 1544 v Praze a r. 1554 v Olomouci). NIKLICEK, Ladislav ; STEIN, Karel. Dejiny mediciny v datech a faktech. Praha: Avicenum, 1985. s. 62.V Norimberku byla vydana (peci Mikulase Klaudyanaú prace J. Cerneho nazvana Kniha lekarska ... Je to prvni cesky tisteny herbar (jedenacty v Evrope), opatreny drevorytinami rostlin a jejich presnymi popisy. Cerny uvedl mnoho zkusenosti z vlastni lekarske praxe (napr. proti syfilis indikoval mast, jejiz hlavni slozkou byla rtut). ...',\n",
       " 'okres': None,\n",
       " 'library': 'Národní knihovna ČR',\n",
       " 'category': 'Informace o vydaných dokumentech',\n",
       " 'used_sources': None,\n",
       " 'date': Timestamp('2007-11-27 11:17:00'),\n",
       " 'url': 'https://www.ptejteseknihovny.cz/dotazy/cerny-jan-knieha-lekarska-kteraz-slove-herbar-aneb-zelinar',\n",
       " 'id': 1175,\n",
       " 'language': 'cs'}"
      ]
     },
     "execution_count": 16,
     "metadata": {},
     "output_type": "execute_result"
    }
   ],
   "source": [
    "dataset_g[202]"
   ]
  },
  {
   "cell_type": "code",
   "execution_count": 11,
   "metadata": {},
   "outputs": [
    {
     "name": "stderr",
     "output_type": "stream",
     "text": [
      "[nltk_data] Downloading package punkt_tab to\n",
      "[nltk_data]     /home/mlynatom/nltk_data...\n",
      "[nltk_data]   Package punkt_tab is already up-to-date!\n"
     ]
    }
   ],
   "source": [
    "import re\n",
    "import nltk\n",
    "nltk.download('punkt_tab')\n",
    "\n",
    "def remove_url(text:str) -> str:\n",
    "    url_in_brackets_pattern = re.compile(r'\\s*\\([^)(]*https?:\\/\\/[^\\s()]+[^)(]*\\)')\n",
    "    if \"http\" in text:\n",
    "        #remove urls in brackets\n",
    "        text = re.sub(url_in_brackets_pattern, '', text)\n",
    "\n",
    "        #if url still in the answer\n",
    "        if \"http\" in text:\n",
    "            #handle standalone urls\n",
    "            ##obtain sentences\n",
    "            sentences=nltk.tokenize.sent_tokenize(text, language=\"czech\")\n",
    "            ##find sentences without urls\n",
    "            filtered_sentences = [sentence for sentence in sentences if \"http\" not in sentence]\n",
    "            \n",
    "            text = \" \".join(filtered_sentences)\n",
    "\n",
    "    \n",
    "    return text"
   ]
  },
  {
   "cell_type": "code",
   "execution_count": 18,
   "metadata": {},
   "outputs": [
    {
     "data": {
      "text/plain": [
       "'Dobry den, pravdepodobne mate na mysli herbar Jana Cerneho: CERNY, Jan (Niger). Knieha lekarska kteraz slowe herbarz: aneb zelinarz :welmi vziteczna: z mnohych knieh latinskych. y zskutecznych praczij wybrana:poczina se sstiastnie... Norimberk, 1517. Podrobny bibliograficky zaznam knihy vcetne informaci o knihovnach, ktere herbar ve svych sbirkach vlastni, naleznete v databazi Knihopis Digital -http://db.knihopis.org/l.dll?cll~1758, soucasti zaznamu jsou i nahledy nekterych stranek -http://db.knihopis.org/l.dll?cli~1758&TL=. Pokud byste mel zajem, muzete si napr. v NK CR vypujcit kriticke vydani Kniehy lekarske z roku 1981. Podminkou je platny ctenarsky prukaz NK CR (http://www.nkp.cz/pages/page.php3?nazev=Jak_to_tady_chodi&submenu3=98),knihu si muzete objednat prostrednictvim Elektronickeho katalogu NK CR - baze NKC (http://sigma.nkp.cz/cze/nkc). Soucasti knihy je uvod, ktery herbar blize charakerizuje. ČERNÝ, Jan. Knieha lékarska, kteráž slove herbář aneb Zelinář. Praha : Avicenum, 1981. 463 s. Resume: Prvni kriticke vydani zakladniho spisu ceskeho humanistickeho lekare, ktery poprve vysel v Norimberce r. 1517. Cerneho cesky psany herbar se vyznacuje kritickym pristupme k dane problematice a snahou o usporadani tehdejsiho chaotickeho botanickeho nazvoslovi. Cerny dava kazde rostline jediny cesky nazev a podrobnym popisem umoznuje jeji presne urceni. Herbar doplnuje pojednani o lecivych vodach z bylin. Nize uvadime strucne charakteristiky herbare, velmi podrobne o herbari pojednava publikace Ceske tistene herbare 16. stoleti. Dale vysla i kniha Prvy cesky tisteny herbar Jana Cerného z r. 1517, ktera je vsak v NK CR vzhledem ke svemu spatnemu fyzickemu stavu jiz pro uzivatele nepristupna.Zakladni zivotopisne udaje o J.Cernem naleznete napr. v Ottove slovniku naucnem -http://encyklopedie.seznam.cz/heslo/234693-cerny-jan-prosluly-lekar. BOHATCOVA, Mirjam. Ceske tistene herbare 16. stoleti. Praha: Narodni knihovna v Praze, 1991. 123 s. ISBN 80-7050-103-0. SEDIVY, Emil. Prvy cesky tisteny herbar Jana Cerného z r. 1517 : Prisp. k nazvoslovi lekarnickemu, lecitelskemu a ved prirodnich na poc. XVI. stol. v Cechách. Praha (Kr. Vinohrady) : E. Sedivy : Csl. lekarnicka spolec., [1905]. 14 s. SCHOTT, Heinz. Kronika mediciny. Praha : Fortuna Print, 1994. s. 129. ISBN 80-85873-16-8.V Norimberku byl vydan herbar Jana Cerneho Kniha lekarska, ktera slove herbar aneb zelinar velimi uzitecna, z mnohych knih latinskych a z mnohych uzitecnych praci vybrana. Je to prvy cesky tisteny herbar, jedenacty v Evrope. Vysel jeste ve dvou dalsich vydanich (r. 1544 v Praze a r. 1554 v Olomouci). NIKLICEK, Ladislav ; STEIN, Karel. Dejiny mediciny v datech a faktech. Praha: Avicenum, 1985. s. 62.V Norimberku byla vydana (peci Mikulase Klaudyanaú prace J. Cerneho nazvana Kniha lekarska ... Je to prvni cesky tisteny herbar (jedenacty v Evrope), opatreny drevorytinami rostlin a jejich presnymi popisy. Cerny uvedl mnoho zkusenosti z vlastni lekarske praxe (napr. proti syfilis indikoval mast, jejiz hlavni slozkou byla rtut). ...'"
      ]
     },
     "execution_count": 18,
     "metadata": {},
     "output_type": "execute_result"
    }
   ],
   "source": [
    "dataset_g[\"answer\"][202]"
   ]
  },
  {
   "cell_type": "code",
   "execution_count": 19,
   "metadata": {},
   "outputs": [
    {
     "data": {
      "text/plain": [
       "'Dobry den, pravdepodobne mate na mysli herbar Jana Cerneho: CERNY, Jan (Niger). Knieha lekarska kteraz slowe herbarz: aneb zelinarz :welmi vziteczna: z mnohych knieh latinskych. y zskutecznych praczij wybrana:poczina se sstiastnie... Norimberk, 1517. Pokud byste mel zajem, muzete si napr. v NK CR vypujcit kriticke vydani Kniehy lekarske z roku 1981. Podminkou je platny ctenarsky prukaz NK CR,knihu si muzete objednat prostrednictvim Elektronickeho katalogu NK CR - baze NKC. Soucasti knihy je uvod, ktery herbar blize charakerizuje. ČERNÝ, Jan. Knieha lékarska, kteráž slove herbář aneb Zelinář. Praha : Avicenum, 1981. 463 s. Resume: Prvni kriticke vydani zakladniho spisu ceskeho humanistickeho lekare, ktery poprve vysel v Norimberce r. 1517. Cerneho cesky psany herbar se vyznacuje kritickym pristupme k dane problematice a snahou o usporadani tehdejsiho chaotickeho botanickeho nazvoslovi. Cerny dava kazde rostline jediny cesky nazev a podrobnym popisem umoznuje jeji presne urceni. Herbar doplnuje pojednani o lecivych vodach z bylin. Nize uvadime strucne charakteristiky herbare, velmi podrobne o herbari pojednava publikace Ceske tistene herbare 16. stoleti. Dale vysla i kniha Prvy cesky tisteny herbar Jana Cerného z r. 1517, ktera je vsak v NK CR vzhledem ke svemu spatnemu fyzickemu stavu jiz pro uzivatele nepristupna.Zakladni zivotopisne udaje o J.Cernem naleznete napr. BOHATCOVA, Mirjam. Ceske tistene herbare 16. stoleti. Praha: Narodni knihovna v Praze, 1991. 123 s. ISBN 80-7050-103-0. SEDIVY, Emil. Prvy cesky tisteny herbar Jana Cerného z r. 1517 : Prisp. k nazvoslovi lekarnickemu, lecitelskemu a ved prirodnich na poc. XVI. stol. v Cechách. Praha (Kr. Vinohrady) : E. Sedivy : Csl. lekarnicka spolec., [1905]. 14 s. SCHOTT, Heinz. Kronika mediciny. Praha : Fortuna Print, 1994. s. 129. ISBN 80-85873-16-8.V Norimberku byl vydan herbar Jana Cerneho Kniha lekarska, ktera slove herbar aneb zelinar velimi uzitecna, z mnohych knih latinskych a z mnohych uzitecnych praci vybrana. Je to prvy cesky tisteny herbar, jedenacty v Evrope. Vysel jeste ve dvou dalsich vydanich (r. 1544 v Praze a r. 1554 v Olomouci). NIKLICEK, Ladislav ; STEIN, Karel. Dejiny mediciny v datech a faktech. Praha: Avicenum, 1985. s. 62.V Norimberku byla vydana (peci Mikulase Klaudyanaú prace J. Cerneho nazvana Kniha lekarska ... Je to prvni cesky tisteny herbar (jedenacty v Evrope), opatreny drevorytinami rostlin a jejich presnymi popisy. Cerny uvedl mnoho zkusenosti z vlastni lekarske praxe (napr. proti syfilis indikoval mast, jejiz hlavni slozkou byla rtut). ...'"
      ]
     },
     "execution_count": 19,
     "metadata": {},
     "output_type": "execute_result"
    }
   ],
   "source": [
    "remove_url(dataset_g[\"answer\"][202])"
   ]
  }
 ],
 "metadata": {
  "kernelspec": {
   "display_name": "Python 3 (ipykernel)",
   "language": "python",
   "name": "python3"
  },
  "language_info": {
   "codemirror_mode": {
    "name": "ipython",
    "version": 3
   },
   "file_extension": ".py",
   "mimetype": "text/x-python",
   "name": "python",
   "nbconvert_exporter": "python",
   "pygments_lexer": "ipython3",
   "version": "3.12.3"
  }
 },
 "nbformat": 4,
 "nbformat_minor": 2
}
