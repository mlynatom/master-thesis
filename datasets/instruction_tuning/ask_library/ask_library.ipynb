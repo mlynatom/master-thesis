{
 "cells": [
  {
   "cell_type": "markdown",
   "metadata": {},
   "source": [
    "# Transform ASK library"
   ]
  },
  {
   "cell_type": "code",
   "execution_count": 1,
   "metadata": {},
   "outputs": [
    {
     "data": {
      "text/plain": [
       "Dataset({\n",
       "    features: ['title', 'question', 'answer', 'okres', 'library', 'category', 'used_sources', 'date', 'url', 'id', 'language', 'question_diacritics_korektor', 'answer_diacritics_korektor', 'question_spell_korektor', 'answer_spell_korektor', 'diacritics_correct'],\n",
       "    num_rows: 16273\n",
       "})"
      ]
     },
     "execution_count": 1,
     "metadata": {},
     "output_type": "execute_result"
    }
   ],
   "source": [
    "from datasets import load_dataset\n",
    "\n",
    "dataset = load_dataset(\"ctu-aic/ask_library_cs\", split=\"train\")\n",
    "dataset"
   ]
  },
  {
   "cell_type": "markdown",
   "metadata": {},
   "source": [
    "## Korektor"
   ]
  },
  {
   "cell_type": "code",
   "execution_count": 10,
   "metadata": {},
   "outputs": [
    {
     "name": "stdout",
     "output_type": "stream",
     "text": [
      "Usage: /home/mlynatom/korektor/korektor-2.0.0-bin/bin-linux64/korektor [options] model_configuration\n",
      "Options: --input=untokenized|untokenized_lines|segmented|vertical|horizontal\n",
      "         --output=original|xml|vertical|horizontal\n",
      "         --corrections=maximum_number_of_corrections\n",
      "         --viterbi_order=viterbi_decoding_order\n",
      "         --viterbi_beam_size=maximum_viterbi_beam_size\n",
      "         --viterbi_stage_pruning=maximum_viterbi_stage_cost_increment\n",
      "         --context_free\n",
      "         --version\n",
      "         --help\n"
     ]
    }
   ],
   "source": [
    "!/home/mlynatom/korektor/korektor-2.0.0-bin/bin-linux64/korektor"
   ]
  },
  {
   "cell_type": "code",
   "execution_count": null,
   "metadata": {},
   "outputs": [
    {
     "name": "stdout",
     "output_type": "stream",
     "text": [
      "čau jak se máš?\n"
     ]
    }
   ],
   "source": [
    "import subprocess\n",
    "\n",
    "\n",
    "command = \"echo 'cau jak se mas?' | /home/mlynatom/korektor/korektor-2.0.0-bin/bin-linux64/korektor /home/mlynatom/korektor/korektor-czech-130202/diacritics_h2mor.conf\"\n",
    "\n",
    "result = subprocess.run(command, shell=True, text=True, capture_output=True)\n",
    "\n",
    "print(result.stdout.strip())"
   ]
  },
  {
   "cell_type": "code",
   "execution_count": 14,
   "metadata": {},
   "outputs": [],
   "source": [
    "#korektor\n",
    "import requests\n",
    "import subprocess\n",
    "\n",
    "korektor_url = \"https://lindat.mff.cuni.cz/services/korektor/api/correct\"\n",
    "url_model_diacritics = 'czech-diacritics_generator-130202'\n",
    "url_model_spell = 'czech-spellchecker-130202'\n",
    "\n",
    "korektor_path = \"/home/mlynatom/korektor/korektor-2.0.0-bin/bin-linux64/korektor\"\n",
    "path_model_diacritics = \"/home/mlynatom/korektor/korektor-czech-130202/diacritics_h2mor.conf\"\n",
    "path_model_spell = \"/home/mlynatom/korektor/korektor-czech-130202/spellchecking_h2mor.conf\"\n",
    "\n",
    "\n",
    "def correct_text(text, model, korektor_url=None, korektor_path=None):\n",
    "    if korektor_url is None and korektor_path is None:\n",
    "        raise ValueError(\"Either korektor_url or korektor_path must be provided\")\n",
    "    elif korektor_url is not None:\n",
    "        params = {\n",
    "            'model': model,\n",
    "            'data': text,\n",
    "        }\n",
    "        response = requests.post(korektor_url, data=params)\n",
    "        if response.status_code != 200:\n",
    "            raise Exception(f\"Failed to correct text: {response.text}\")\n",
    "        corrected_text = response.json()['result']\n",
    "    else:\n",
    "        command = f\"echo '{text}' | {korektor_path} {model}\"\n",
    "        result = subprocess.run(command, shell=True, text=True, capture_output=True)\n",
    "        corrected_text = result.stdout.strip()\n",
    "    return corrected_text\n",
    "\n"
   ]
  },
  {
   "cell_type": "code",
   "execution_count": 15,
   "metadata": {},
   "outputs": [
    {
     "data": {
      "text/plain": [
       "'Toto je testovací věta bez diakritiky.'"
      ]
     },
     "execution_count": 15,
     "metadata": {},
     "output_type": "execute_result"
    }
   ],
   "source": [
    "correct_text(\"Toto je testovací veta bez diakritiky.\", korektor_path = korektor_path, model = path_model_diacritics)"
   ]
  },
  {
   "cell_type": "code",
   "execution_count": 16,
   "metadata": {},
   "outputs": [],
   "source": [
    "def correct_map(example):\n",
    "    if example['language'] == 'cs':\n",
    "        example['question_diacritics_korektor'] = correct_text(example['question'],korektor_path = korektor_path, model = path_model_diacritics)\n",
    "        example['answer_diacritics_korektor'] = correct_text(example['answer'],korektor_path = korektor_path, model = path_model_diacritics)\n",
    "        example['question_spell_korektor'] = correct_text(example['question'], korektor_path = korektor_path, model = path_model_spell)\n",
    "        example['answer_spell_korektor'] = correct_text(example['answer'], korektor_path = korektor_path, model = path_model_spell)\n",
    "    else:\n",
    "        example['question_diacritics_korektor'] = \"\"\n",
    "        example['answer_diacritics_korektor'] = \"\"\n",
    "        example['question_spell_korektor'] = \"\"\n",
    "        example['answer_spell_korektor'] = \"\"\n",
    "    return example"
   ]
  },
  {
   "cell_type": "code",
   "execution_count": 17,
   "metadata": {},
   "outputs": [
    {
     "data": {
      "application/vnd.jupyter.widget-view+json": {
       "model_id": "4999d50163614c21a5983fcd77d85fc0",
       "version_major": 2,
       "version_minor": 0
      },
      "text/plain": [
       "Map:   0%|          | 0/16273 [00:00<?, ? examples/s]"
      ]
     },
     "metadata": {},
     "output_type": "display_data"
    }
   ],
   "source": [
    "dataset = dataset.map(correct_map)"
   ]
  },
  {
   "cell_type": "code",
   "execution_count": 18,
   "metadata": {},
   "outputs": [
    {
     "data": {
      "text/plain": [
       "Dataset({\n",
       "    features: ['title', 'question', 'answer', 'okres', 'library', 'category', 'used_sources', 'date', 'url', 'id', 'language', 'question_diacritics_korektor', 'answer_diacritics_korektor', 'question_spell_korektor', 'answer_spell_korektor'],\n",
       "    num_rows: 16273\n",
       "})"
      ]
     },
     "execution_count": 18,
     "metadata": {},
     "output_type": "execute_result"
    }
   ],
   "source": [
    "dataset"
   ]
  },
  {
   "cell_type": "code",
   "execution_count": 25,
   "metadata": {},
   "outputs": [
    {
     "data": {
      "application/vnd.jupyter.widget-view+json": {
       "model_id": "1de78548be354fd890a6cd87f2e1c1e3",
       "version_major": 2,
       "version_minor": 0
      },
      "text/plain": [
       "VBox(children=(HTML(value='<center> <img\\nsrc=https://huggingface.co/front/assets/huggingface_logo-noborder.sv…"
      ]
     },
     "metadata": {},
     "output_type": "display_data"
    }
   ],
   "source": [
    "from huggingface_hub import login\n",
    "login()"
   ]
  },
  {
   "cell_type": "code",
   "execution_count": 26,
   "metadata": {},
   "outputs": [
    {
     "data": {
      "application/vnd.jupyter.widget-view+json": {
       "model_id": "803ed0d94e184fbb8e76250c886b0118",
       "version_major": 2,
       "version_minor": 0
      },
      "text/plain": [
       "Uploading the dataset shards:   0%|          | 0/1 [00:00<?, ?it/s]"
      ]
     },
     "metadata": {},
     "output_type": "display_data"
    },
    {
     "data": {
      "application/vnd.jupyter.widget-view+json": {
       "model_id": "7cd9dc2fa8344348aae3004aab828fc2",
       "version_major": 2,
       "version_minor": 0
      },
      "text/plain": [
       "Creating parquet from Arrow format:   0%|          | 0/17 [00:00<?, ?ba/s]"
      ]
     },
     "metadata": {},
     "output_type": "display_data"
    },
    {
     "data": {
      "text/plain": [
       "CommitInfo(commit_url='https://huggingface.co/datasets/ctu-aic/ask_library_cs/commit/df8ccc4930f65e92cfbb11eb56195e545ac6e36a', commit_message='Columns with corrected text using korektor', commit_description='', oid='df8ccc4930f65e92cfbb11eb56195e545ac6e36a', pr_url=None, repo_url=RepoUrl('https://huggingface.co/datasets/ctu-aic/ask_library_cs', endpoint='https://huggingface.co', repo_type='dataset', repo_id='ctu-aic/ask_library_cs'), pr_revision=None, pr_num=None)"
      ]
     },
     "execution_count": 26,
     "metadata": {},
     "output_type": "execute_result"
    }
   ],
   "source": [
    "dataset.push_to_hub(\"ctu-aic/ask_library_cs\", commit_message=\"Columns with corrected text using korektor\")"
   ]
  },
  {
   "cell_type": "markdown",
   "metadata": {},
   "source": [
    "## Other"
   ]
  },
  {
   "cell_type": "markdown",
   "metadata": {},
   "source": [
    "### Diacritics"
   ]
  },
  {
   "cell_type": "code",
   "execution_count": 2,
   "metadata": {},
   "outputs": [
    {
     "name": "stderr",
     "output_type": "stream",
     "text": [
      "16273it [3:34:56,  1.26it/s]\n"
     ]
    },
    {
     "data": {
      "text/plain": [
       "[True,\n",
       " True,\n",
       " True,\n",
       " False,\n",
       " True,\n",
       " True,\n",
       " True,\n",
       " True,\n",
       " True,\n",
       " True,\n",
       " True,\n",
       " True,\n",
       " True,\n",
       " True,\n",
       " True,\n",
       " True,\n",
       " True,\n",
       " True,\n",
       " True,\n",
       " True,\n",
       " True,\n",
       " True,\n",
       " True,\n",
       " True,\n",
       " True,\n",
       " True,\n",
       " True,\n",
       " True,\n",
       " True,\n",
       " True,\n",
       " True,\n",
       " True,\n",
       " True,\n",
       " True,\n",
       " True,\n",
       " True,\n",
       " True,\n",
       " True,\n",
       " True,\n",
       " True,\n",
       " True,\n",
       " True,\n",
       " True,\n",
       " True,\n",
       " True,\n",
       " True,\n",
       " True,\n",
       " False,\n",
       " True,\n",
       " True,\n",
       " True,\n",
       " True,\n",
       " True,\n",
       " True,\n",
       " True,\n",
       " True,\n",
       " True,\n",
       " True,\n",
       " True,\n",
       " True,\n",
       " True,\n",
       " True,\n",
       " True,\n",
       " True,\n",
       " True,\n",
       " True,\n",
       " True,\n",
       " True,\n",
       " True,\n",
       " True,\n",
       " True,\n",
       " True,\n",
       " True,\n",
       " True,\n",
       " True,\n",
       " True,\n",
       " True,\n",
       " False,\n",
       " True,\n",
       " False,\n",
       " True,\n",
       " True,\n",
       " True,\n",
       " True,\n",
       " True,\n",
       " True,\n",
       " True,\n",
       " True,\n",
       " True,\n",
       " True,\n",
       " True,\n",
       " True,\n",
       " True,\n",
       " True,\n",
       " True,\n",
       " False,\n",
       " True,\n",
       " True,\n",
       " True,\n",
       " True,\n",
       " True,\n",
       " True,\n",
       " True,\n",
       " True,\n",
       " True,\n",
       " False,\n",
       " True,\n",
       " True,\n",
       " True,\n",
       " True,\n",
       " True,\n",
       " True,\n",
       " True,\n",
       " True,\n",
       " True,\n",
       " True,\n",
       " True,\n",
       " True,\n",
       " True,\n",
       " True,\n",
       " True,\n",
       " True,\n",
       " True,\n",
       " True,\n",
       " True,\n",
       " True,\n",
       " False,\n",
       " True,\n",
       " True,\n",
       " True,\n",
       " True,\n",
       " True,\n",
       " True,\n",
       " True,\n",
       " True,\n",
       " True,\n",
       " True,\n",
       " True,\n",
       " True,\n",
       " True,\n",
       " True,\n",
       " True,\n",
       " True,\n",
       " False,\n",
       " True,\n",
       " True,\n",
       " False,\n",
       " True,\n",
       " True,\n",
       " True,\n",
       " True,\n",
       " True,\n",
       " True,\n",
       " True,\n",
       " True,\n",
       " True,\n",
       " True,\n",
       " True,\n",
       " True,\n",
       " True,\n",
       " True,\n",
       " False,\n",
       " False,\n",
       " True,\n",
       " True,\n",
       " True,\n",
       " True,\n",
       " True,\n",
       " True,\n",
       " False,\n",
       " True,\n",
       " True,\n",
       " True,\n",
       " True,\n",
       " True,\n",
       " True,\n",
       " True,\n",
       " True,\n",
       " True,\n",
       " True,\n",
       " True,\n",
       " True,\n",
       " True,\n",
       " True,\n",
       " True,\n",
       " True,\n",
       " True,\n",
       " True,\n",
       " True,\n",
       " True,\n",
       " True,\n",
       " True,\n",
       " True,\n",
       " True,\n",
       " True,\n",
       " True,\n",
       " False,\n",
       " True,\n",
       " False,\n",
       " True,\n",
       " True,\n",
       " True,\n",
       " True,\n",
       " True,\n",
       " True,\n",
       " True,\n",
       " True,\n",
       " True,\n",
       " True,\n",
       " False,\n",
       " True,\n",
       " True,\n",
       " True,\n",
       " True,\n",
       " True,\n",
       " True,\n",
       " True,\n",
       " True,\n",
       " True,\n",
       " True,\n",
       " True,\n",
       " True,\n",
       " True,\n",
       " True,\n",
       " True,\n",
       " True,\n",
       " True,\n",
       " True,\n",
       " True,\n",
       " True,\n",
       " True,\n",
       " True,\n",
       " True,\n",
       " True,\n",
       " True,\n",
       " True,\n",
       " True,\n",
       " True,\n",
       " True,\n",
       " True,\n",
       " True,\n",
       " True,\n",
       " True,\n",
       " True,\n",
       " True,\n",
       " True,\n",
       " True,\n",
       " True,\n",
       " True,\n",
       " True,\n",
       " True,\n",
       " True,\n",
       " True,\n",
       " True,\n",
       " True,\n",
       " True,\n",
       " False,\n",
       " True,\n",
       " True,\n",
       " True,\n",
       " True,\n",
       " True,\n",
       " True,\n",
       " True,\n",
       " True,\n",
       " True,\n",
       " True,\n",
       " True,\n",
       " True,\n",
       " True,\n",
       " True,\n",
       " True,\n",
       " True,\n",
       " True,\n",
       " True,\n",
       " True,\n",
       " False,\n",
       " True,\n",
       " True,\n",
       " True,\n",
       " False,\n",
       " True,\n",
       " True,\n",
       " True,\n",
       " False,\n",
       " False,\n",
       " True,\n",
       " True,\n",
       " False,\n",
       " True,\n",
       " True,\n",
       " True,\n",
       " True,\n",
       " True,\n",
       " True,\n",
       " True,\n",
       " True,\n",
       " True,\n",
       " True,\n",
       " True,\n",
       " True,\n",
       " True,\n",
       " True,\n",
       " True,\n",
       " True,\n",
       " True,\n",
       " True,\n",
       " True,\n",
       " True,\n",
       " True,\n",
       " True,\n",
       " True,\n",
       " True,\n",
       " True,\n",
       " True,\n",
       " True,\n",
       " True,\n",
       " True,\n",
       " True,\n",
       " True,\n",
       " True,\n",
       " False,\n",
       " True,\n",
       " True,\n",
       " True,\n",
       " True,\n",
       " True,\n",
       " True,\n",
       " True,\n",
       " False,\n",
       " True,\n",
       " True,\n",
       " True,\n",
       " True,\n",
       " True,\n",
       " False,\n",
       " True,\n",
       " True,\n",
       " True,\n",
       " True,\n",
       " True,\n",
       " True,\n",
       " True,\n",
       " True,\n",
       " True,\n",
       " True,\n",
       " False,\n",
       " True,\n",
       " True,\n",
       " False,\n",
       " True,\n",
       " False,\n",
       " False,\n",
       " True,\n",
       " True,\n",
       " True,\n",
       " True,\n",
       " True,\n",
       " False,\n",
       " True,\n",
       " True,\n",
       " True,\n",
       " True,\n",
       " True,\n",
       " True,\n",
       " True,\n",
       " True,\n",
       " True,\n",
       " True,\n",
       " True,\n",
       " True,\n",
       " True,\n",
       " True,\n",
       " True,\n",
       " True,\n",
       " False,\n",
       " True,\n",
       " False,\n",
       " True,\n",
       " True,\n",
       " True,\n",
       " True,\n",
       " True,\n",
       " False,\n",
       " False,\n",
       " True,\n",
       " True,\n",
       " True,\n",
       " True,\n",
       " True,\n",
       " True,\n",
       " True,\n",
       " True,\n",
       " True,\n",
       " True,\n",
       " True,\n",
       " True,\n",
       " True,\n",
       " True,\n",
       " True,\n",
       " True,\n",
       " True,\n",
       " True,\n",
       " True,\n",
       " False,\n",
       " True,\n",
       " True,\n",
       " True,\n",
       " False,\n",
       " True,\n",
       " True,\n",
       " True,\n",
       " True,\n",
       " True,\n",
       " True,\n",
       " True,\n",
       " True,\n",
       " True,\n",
       " True,\n",
       " True,\n",
       " True,\n",
       " True,\n",
       " True,\n",
       " True,\n",
       " True,\n",
       " True,\n",
       " True,\n",
       " False,\n",
       " False,\n",
       " False,\n",
       " True,\n",
       " True,\n",
       " True,\n",
       " True,\n",
       " True,\n",
       " True,\n",
       " True,\n",
       " True,\n",
       " True,\n",
       " True,\n",
       " True,\n",
       " True,\n",
       " True,\n",
       " False,\n",
       " True,\n",
       " True,\n",
       " True,\n",
       " True,\n",
       " True,\n",
       " True,\n",
       " True,\n",
       " True,\n",
       " True,\n",
       " True,\n",
       " True,\n",
       " True,\n",
       " True,\n",
       " True,\n",
       " True,\n",
       " True,\n",
       " True,\n",
       " True,\n",
       " True,\n",
       " True,\n",
       " True,\n",
       " True,\n",
       " True,\n",
       " True,\n",
       " True,\n",
       " True,\n",
       " True,\n",
       " True,\n",
       " True,\n",
       " True,\n",
       " False,\n",
       " True,\n",
       " True,\n",
       " False,\n",
       " True,\n",
       " True,\n",
       " True,\n",
       " True,\n",
       " True,\n",
       " True,\n",
       " True,\n",
       " True,\n",
       " True,\n",
       " True,\n",
       " True,\n",
       " False,\n",
       " True,\n",
       " True,\n",
       " True,\n",
       " True,\n",
       " True,\n",
       " True,\n",
       " True,\n",
       " True,\n",
       " True,\n",
       " True,\n",
       " True,\n",
       " True,\n",
       " True,\n",
       " True,\n",
       " True,\n",
       " True,\n",
       " True,\n",
       " True,\n",
       " False,\n",
       " True,\n",
       " True,\n",
       " True,\n",
       " True,\n",
       " True,\n",
       " True,\n",
       " True,\n",
       " True,\n",
       " True,\n",
       " True,\n",
       " True,\n",
       " True,\n",
       " True,\n",
       " True,\n",
       " True,\n",
       " False,\n",
       " False,\n",
       " True,\n",
       " False,\n",
       " False,\n",
       " True,\n",
       " True,\n",
       " True,\n",
       " True,\n",
       " True,\n",
       " True,\n",
       " False,\n",
       " True,\n",
       " True,\n",
       " True,\n",
       " True,\n",
       " True,\n",
       " False,\n",
       " False,\n",
       " False,\n",
       " True,\n",
       " True,\n",
       " True,\n",
       " True,\n",
       " False,\n",
       " True,\n",
       " True,\n",
       " True,\n",
       " False,\n",
       " True,\n",
       " False,\n",
       " True,\n",
       " True,\n",
       " True,\n",
       " True,\n",
       " True,\n",
       " True,\n",
       " True,\n",
       " True,\n",
       " True,\n",
       " True,\n",
       " True,\n",
       " True,\n",
       " True,\n",
       " True,\n",
       " True,\n",
       " True,\n",
       " True,\n",
       " True,\n",
       " True,\n",
       " True,\n",
       " True,\n",
       " False,\n",
       " True,\n",
       " True,\n",
       " True,\n",
       " False,\n",
       " True,\n",
       " True,\n",
       " True,\n",
       " True,\n",
       " True,\n",
       " True,\n",
       " True,\n",
       " True,\n",
       " True,\n",
       " True,\n",
       " False,\n",
       " True,\n",
       " True,\n",
       " True,\n",
       " False,\n",
       " True,\n",
       " True,\n",
       " True,\n",
       " True,\n",
       " True,\n",
       " True,\n",
       " True,\n",
       " True,\n",
       " False,\n",
       " True,\n",
       " True,\n",
       " True,\n",
       " True,\n",
       " True,\n",
       " True,\n",
       " True,\n",
       " True,\n",
       " False,\n",
       " True,\n",
       " True,\n",
       " True,\n",
       " True,\n",
       " True,\n",
       " True,\n",
       " True,\n",
       " True,\n",
       " True,\n",
       " True,\n",
       " True,\n",
       " False,\n",
       " True,\n",
       " True,\n",
       " True,\n",
       " True,\n",
       " True,\n",
       " True,\n",
       " True,\n",
       " True,\n",
       " True,\n",
       " True,\n",
       " True,\n",
       " True,\n",
       " True,\n",
       " True,\n",
       " True,\n",
       " True,\n",
       " True,\n",
       " True,\n",
       " True,\n",
       " False,\n",
       " True,\n",
       " True,\n",
       " True,\n",
       " True,\n",
       " True,\n",
       " True,\n",
       " False,\n",
       " False,\n",
       " True,\n",
       " True,\n",
       " True,\n",
       " True,\n",
       " True,\n",
       " True,\n",
       " True,\n",
       " True,\n",
       " True,\n",
       " True,\n",
       " True,\n",
       " True,\n",
       " False,\n",
       " True,\n",
       " True,\n",
       " True,\n",
       " True,\n",
       " True,\n",
       " True,\n",
       " True,\n",
       " True,\n",
       " True,\n",
       " True,\n",
       " False,\n",
       " True,\n",
       " True,\n",
       " True,\n",
       " True,\n",
       " True,\n",
       " True,\n",
       " True,\n",
       " True,\n",
       " True,\n",
       " True,\n",
       " True,\n",
       " True,\n",
       " True,\n",
       " True,\n",
       " True,\n",
       " True,\n",
       " True,\n",
       " True,\n",
       " True,\n",
       " True,\n",
       " True,\n",
       " True,\n",
       " True,\n",
       " True,\n",
       " True,\n",
       " True,\n",
       " True,\n",
       " True,\n",
       " True,\n",
       " True,\n",
       " True,\n",
       " True,\n",
       " True,\n",
       " True,\n",
       " True,\n",
       " True,\n",
       " True,\n",
       " True,\n",
       " True,\n",
       " True,\n",
       " True,\n",
       " True,\n",
       " True,\n",
       " True,\n",
       " True,\n",
       " True,\n",
       " True,\n",
       " True,\n",
       " True,\n",
       " True,\n",
       " True,\n",
       " True,\n",
       " True,\n",
       " True,\n",
       " True,\n",
       " True,\n",
       " False,\n",
       " True,\n",
       " True,\n",
       " True,\n",
       " True,\n",
       " True,\n",
       " True,\n",
       " True,\n",
       " True,\n",
       " True,\n",
       " True,\n",
       " True,\n",
       " True,\n",
       " True,\n",
       " True,\n",
       " False,\n",
       " True,\n",
       " True,\n",
       " True,\n",
       " True,\n",
       " True,\n",
       " True,\n",
       " True,\n",
       " True,\n",
       " True,\n",
       " True,\n",
       " True,\n",
       " True,\n",
       " True,\n",
       " True,\n",
       " False,\n",
       " True,\n",
       " True,\n",
       " True,\n",
       " True,\n",
       " True,\n",
       " True,\n",
       " True,\n",
       " True,\n",
       " True,\n",
       " True,\n",
       " True,\n",
       " False,\n",
       " True,\n",
       " True,\n",
       " True,\n",
       " True,\n",
       " True,\n",
       " True,\n",
       " True,\n",
       " False,\n",
       " False,\n",
       " True,\n",
       " True,\n",
       " True,\n",
       " True,\n",
       " True,\n",
       " True,\n",
       " True,\n",
       " True,\n",
       " True,\n",
       " True,\n",
       " True,\n",
       " True,\n",
       " True,\n",
       " True,\n",
       " True,\n",
       " True,\n",
       " True,\n",
       " True,\n",
       " True,\n",
       " True,\n",
       " True,\n",
       " True,\n",
       " True,\n",
       " True,\n",
       " True,\n",
       " True,\n",
       " True,\n",
       " True,\n",
       " True,\n",
       " True,\n",
       " True,\n",
       " True,\n",
       " True,\n",
       " True,\n",
       " True,\n",
       " True,\n",
       " True,\n",
       " True,\n",
       " True,\n",
       " True,\n",
       " False,\n",
       " True,\n",
       " False,\n",
       " True,\n",
       " True,\n",
       " True,\n",
       " True,\n",
       " True,\n",
       " True,\n",
       " True,\n",
       " True,\n",
       " True,\n",
       " True,\n",
       " True,\n",
       " True,\n",
       " True,\n",
       " True,\n",
       " True,\n",
       " True,\n",
       " True,\n",
       " True,\n",
       " True,\n",
       " True,\n",
       " False,\n",
       " False,\n",
       " True,\n",
       " True,\n",
       " True,\n",
       " True,\n",
       " True,\n",
       " False,\n",
       " True,\n",
       " True,\n",
       " True,\n",
       " True,\n",
       " True,\n",
       " False,\n",
       " True,\n",
       " True,\n",
       " True,\n",
       " True,\n",
       " True,\n",
       " True,\n",
       " True,\n",
       " True,\n",
       " True,\n",
       " True,\n",
       " True,\n",
       " True,\n",
       " True,\n",
       " True,\n",
       " True,\n",
       " True,\n",
       " True,\n",
       " True,\n",
       " True,\n",
       " True,\n",
       " True,\n",
       " True,\n",
       " False,\n",
       " True,\n",
       " True,\n",
       " True,\n",
       " True,\n",
       " True,\n",
       " True,\n",
       " False,\n",
       " False,\n",
       " True,\n",
       " True,\n",
       " True,\n",
       " False,\n",
       " True,\n",
       " True,\n",
       " True,\n",
       " True,\n",
       " True,\n",
       " True,\n",
       " True,\n",
       " True,\n",
       " True,\n",
       " False,\n",
       " True,\n",
       " True,\n",
       " True,\n",
       " True,\n",
       " True,\n",
       " True,\n",
       " True,\n",
       " True,\n",
       " True,\n",
       " True,\n",
       " True,\n",
       " True,\n",
       " False,\n",
       " True,\n",
       " True,\n",
       " False,\n",
       " True,\n",
       " True,\n",
       " True,\n",
       " True,\n",
       " True,\n",
       " True,\n",
       " True,\n",
       " True,\n",
       " True,\n",
       " True,\n",
       " True,\n",
       " True,\n",
       " False,\n",
       " True,\n",
       " True,\n",
       " True,\n",
       " True,\n",
       " True,\n",
       " True,\n",
       " True,\n",
       " True,\n",
       " True,\n",
       " True,\n",
       " True,\n",
       " True,\n",
       " True,\n",
       " False,\n",
       " True,\n",
       " True,\n",
       " True,\n",
       " True,\n",
       " False,\n",
       " False,\n",
       " True,\n",
       " True,\n",
       " True,\n",
       " True,\n",
       " True,\n",
       " True,\n",
       " True,\n",
       " True,\n",
       " False,\n",
       " True,\n",
       " True,\n",
       " True,\n",
       " True,\n",
       " True,\n",
       " True,\n",
       " True,\n",
       " True,\n",
       " True,\n",
       " True,\n",
       " True,\n",
       " False,\n",
       " True,\n",
       " True,\n",
       " True,\n",
       " True,\n",
       " True,\n",
       " True,\n",
       " True,\n",
       " True,\n",
       " False,\n",
       " True,\n",
       " True,\n",
       " True,\n",
       " True,\n",
       " True,\n",
       " True,\n",
       " True,\n",
       " True,\n",
       " True,\n",
       " True,\n",
       " True,\n",
       " True,\n",
       " True,\n",
       " ...]"
      ]
     },
     "execution_count": 2,
     "metadata": {},
     "output_type": "execute_result"
    }
   ],
   "source": [
    "q = dataset['question']\n",
    "diacritic_q = dataset['question_diacritics_korektor']\n",
    "a = dataset['answer']\n",
    "diacritic_a = dataset['answer_diacritics_korektor']\n",
    "\n",
    "import nltk\n",
    "from tqdm import tqdm\n",
    "\n",
    "diacritics_correct = []\n",
    "\n",
    "for q, dq, a, da in tqdm(zip(q, diacritic_q, a, diacritic_a)):\n",
    "    threshold_q = len(q)*0.01\n",
    "    threshold_a = len(a)*0.01\n",
    "    if len(dq) > 0 and len(da) > 0 and q!=dq and a!=da and (nltk.edit_distance(q, dq) > threshold_q or nltk.edit_distance(a, da) > threshold_a):\n",
    "        diacritics_correct.append(False)\n",
    "    else:\n",
    "        diacritics_correct.append(True)\n",
    "\n",
    "diacritics_correct"
   ]
  },
  {
   "cell_type": "code",
   "execution_count": 9,
   "metadata": {},
   "outputs": [],
   "source": [
    "dataset = dataset.remove_columns([\"diacritics_correct\"])"
   ]
  },
  {
   "cell_type": "code",
   "execution_count": 10,
   "metadata": {},
   "outputs": [],
   "source": [
    "dataset = dataset.add_column('diacritics_correct', diacritics_correct)"
   ]
  },
  {
   "cell_type": "code",
   "execution_count": 11,
   "metadata": {},
   "outputs": [
    {
     "data": {
      "text/plain": [
       "{'title': '1. cesky preklad Cervantesova dona Qiujota',\n",
       " 'question': 'Zajima me, za jakeho duvodu se kun dona Quijota objevuje v ceskych prekladech a nasledkem toho i v ceskem povedomi (a v bas. motivech) jako KOBYLA Rosinanta, kdyz v originale je to hrebec Rocinante. DQ ho v knize pojmenovana vcetne vyslevetleni motivace tohoto pojmenovani a krome toho je v knize scena, kdy Rocinante potka jinou kobylu - toto setkani je v Cj dost komicke. Chtel bych proto nalezt prvni preklady romanu o DQ to CJ, priapdne jeho casti, pripadne preklady do NJ, ktere se objevovaly na uzemi Cech v 19. stol (nebo i drive? - tezko). Pokud je prvnim prekladem vydani Josefa Pečírky z roku 1864 (gen. kat. I, Cer 431), jak se tam Rocinante objevuje? A Pichluv preklad u Kobra 1866,1868? Pripadne pokud nekdo tento \\\\\"problem\\\\\" vyresil - kdo a kde? Velice dekuji za odpoved a doufam ze neni prilis narocna...',\n",
       " 'answer': 'Jmeno kone je ve dvou prvnich ceskych vydanich (1864, 1866) uvedeno v nasledujici forme: Blaznivy rytir : Kratochvilne cteni pro lid. Dil 1 / Miguel de Cervantes Saavedra ; Dle spanelskeho romanu Don Quixote de la Mancha vzdelal a vydal Josef Pecirka. -- Praha : J. Pecirka, 1864. -- 244 s., obr. pril. : il. ; 8° ----s. 5 ... dal herce te jmeno Rozinante ...s. 7 ... vsedl na Rozinanta a vyjel zadnimi vraty ...s. 8 ... vsedl na svuj znamenity kun Rozinanta a dal se cestou po sirem poli s. 9 ... Nekolik kroku od hospody pritahl uzdu Rozinantovu, doufaje ... Don Quijote de la Mancha. Dil 1 / Ze span. M. Cervantesa de Saavedra. -- Praha : I.L. Kober, 1866. -- 8, 384 s. : il. ; 8°----... nazval jej Rocinantem ... Z dalsich ceskych vydani \"Dona Quijota\" jsme vybrali nasledujici preklady. Pokud byste chtel vedet, jak je v uvedenych prekladech prelozeno setkani Rocinanta/Rosinanty s dalsim konem, napiste nam prosim cislo (nazev) kapitoly. Don Quijote de la Mancha / dla Miguela Cervanta de Saavedraaa ; pro ceskou mladez zpracoval J.V.K.. -- Telc : Emil Solc, 1897. -- 172 s. : il. ; 24 cm -----s. 2 ... Na to sel ke svemu koni ... Konecne rozhodl se dati mu zvucne a krasne jmeno Rocinante s. 12 ... Na to pobodnul Rocinanta a brzy zmizel ... Don Quixote z la Manchy / Naps. Miguel Cervantes de Saavedra ; Pro mladez volne upr. L Grossmannova-Brodska. -- Praha : A. Hynek, [1902]. -- 77 s. :barev. obr. pril. ; 8° ----s. 5 ... Nyni prisel na radu mimochodnik, ktery pres to, ze byl pouha kost a kuze, maje na sobe vice jizev nezli zini v ocasu, platil u sveho pana za bujneho, ohniveho ore. Ctyri dni lamal si don Quixote hlavu, jak kone zvucne i slavne nazvati, nacez mu udelil jmeno : \"Rozinanta\".s. 8 ... Take Rozinanta byla vsecka vysilena, a rytir odporucoval zvlastni peci sveho nevyrovnaneho kone. Dumyslny rytir Don Quijote de la Mancha. I / Miguel de Cervantes Saavedra ; Ze spanelstiny prel. Eduard Drobilek ; Il. Jos. Koci. -- Vinohrady : A.Ipser, 1914. -- 304 s. : 9 bar. obr. pril. ; lex. 8°. -- (Ipserova il.knihovna ; I)----s. 9 ... Potom se sel podivat na svoji kobylu, a ac mela vice mozuolu nez real drobnych a vice chyb nez kun Goneluv .... dal mu konecne jmeno Rocinante, jmeno, ktere zdalo se mu vznesenym ...s. 9 ... Kdyz tedy zbroj byla cista, z prilbice udelana helmice s hledim, dano jmeno jeho kobyle a kdy se sam pokrtil ... Dumyslny rytir Don Quijote de la Mancha = El ingenioso hidalgo Don Quijote de la Mancha : Rytirsky roman. Dil 1.-2. / Cervantes Saavedra Miguel ; Prelozila Marie L. Kühnlová. -- 3. vyd. -- Praha : I.L. Kober, 1928. -- 392 s., obr.pril.: Ilustr. ; 22 cm-----s. 4 ... Kdyz si byl mnoho jmen vymyslil, zamitl, zanechal, pridal, pretvoril a znovu vytvoril ve sve pameti a fatasii, prisel konecne na to, pojmenovati ho Rocinante, nazev to podle jeho zdani vzneseny, zvucny a vyznacujici, cim byl, dokud byl \"herkou-drive\" (Rocin-ante) nez byl tim, cim je nyni, nejprednejsim ze vsech koni na svete.s. 6 ... vyhoupl se na Rocinantu ...s. 7 ... nezapomen na meho hodneho Rocinanta, vecneho meho druha ... Rytir smutne postavy : (Don Quichote de la Mancha / Podle stejnojmenneho romanu slavneho spanelskeho spisovatele Miguela de Cervantes Saavedry volne upravil pro obecne a mestanske skoly J.V. Flos) ; Obrazky kreslil Fr. Emler.-- V Praze: Statni nakladatelstvi, 1937. -- 47 - [I] s. ; 8°----s.6 ... Potom se sel podivat na svoji kobylku. Ta vsak mela chudak na nohou plno bolavych mozolu. To rytiri nevadilo. Nazval ji \"Rosinant\" (t.j. prvni ze vsech koni).s.6 ... Usedl na svoji klisnu Rosinantu, vzal stit, kopi - a vyjel! Dumyslny rytir Don Quijote de la Mancha / Miguel de Cervantes Saavedra ; ze span. orig. El ingenioso hidalgo don Quijote de la Mancha prel. Zdenek Smid ; predml. \"Miguel de Cervantes Saavedra, renesancni clovek a umelec\" a pozn.napsal Oldrich Belic. -- 1. vyd. v SNKLHU. -- Praha : SNKLHU, 1955 (Prace 01). -- 1252, [2] s. ; 8°. -- (Cervantes Saavedra, Miguel de: Spisy ; Sv.1) (Knihovna klasiku)-----s. 146 ... Potom se sel podivat na sveho konika .... nazval jej nakonec Rocinantem ....s. 160 ... S timto umyslem zamiril s Rocinantem k rodne vsi, a Rocinante, jako uz by citil znamou staj, rozcvalal se s takovou chuti, ze to vypadalo, jako by se nad zemi zrovna vznasel. Pribehy Dona Quijota / podle dila Cervantesova vypravuje Jaromír John ; Helena Smahelova: O Cervantesovi a jeho Donu Quijotovi, doslov ; il.František Tichý. -- 9. vyd., v Cs. spis. 3. vyd.. -- Praha : Ceskoslovensky spisovatel, 1978 (ST2). -- 366, [1] s. : [6] barev. obr. pril. ; 8°. -- (Zlaty klicek)----s. 22 ... I sel si prohlednouti sveho konika, ktery byl privazan ve staji za lyceny provaz u vecne prazdneho zlabu ....Az konecne nasel oznaceni, jez ho uspokojovalo: Rocinante! ... Budeme o tom Rocinantu casto cisti.s. 25 ... vyhoupl se ve vsi zbroji na sveho Rocinanta .... Dumyslny rytir Don Quijote de la Mancha. Dil 1 / Miguel de Cervantes Saavedra ; Ze span. prel. Zdenek Smid ; Il. Josef Liesler. -- 3. vyd. v tomto prekladu, ve Svobode 1., upravene vyd.. -- Praha : Svoboda, 1982 (Rude pravo). -- 530 s.: obr. ; 23 cm----s. 29 ... nazval jej nakonec Rocinantem .... Ve vybranych stredoskolskych ucebnicich se jmeno vyskytuje v obou tvarech: PROKOP, Vladimir. Dejiny literatury od staroveku do pocatku 19. stoleti aneb Od Mezopotamie po nase narodni obrozeni (pro vyuku v 1. rocniku strednich skol). Sokolov : O.K. - Soft, 2001. 80 s.---s. 45 ... Vyzbroji se starym kopim a stitem a na vyhublem a seslem koni se vznesenym jmenem Rocinanta se vyda do sveta za dobrodruzstvim. SOUKAL, Josef. Literatura pro 1.rocnik gymnazii. Praha : SPN, 2001. 327 s.ISBN 80-7235-154-0.---s. 225 ... Quijano si zvoli nove, rytirske jmeno, stejne tak prejmenuje (na Dulcineu [dulsineu]) prostou venkovanku, v niz vidi vysnenou damu sveho srdce, i vychrtleho konika (na Rosinanta) a v chatrne zbroji vyrazi do sveta. MILICKA, Karel. Basnici velkych pribehu. Svetova literatura 1. Praha :Baronet, 2002. 312 s. ISBN 80-7214-467-7.s. 264 ... Vyzbroji se starym harampadim, vetcheho kone pojmenuje vznesene Rozinanta a obycejnemu venkovskemu devceti, ktere si vyvoli jako pani sveho srdce, da jemno Dulcinea. Rozbor dila Dumyslny rytir Don Quijote de la Mancha naleznete napr. v praciO.Belice:BELIC, Oldrich. Cervantesuv Don Quijote. Praha : Orbis, 1955. 75 s. Prvni nemecky preklad \"Dona Quijota\" vysel v roce 1621. Podle informace dr.Maska z Oddeleni zameckych knihoven Narodniho muzea se nejstarsi nemecka vydani nachazeji ve fondech zameckych knihoven napr. z let 1681 (Horakov), 1682 (Straznice) a 1683 (Bludov). Samozrejme je mozne, ze tyto knihy byly do zameckych knihoven ziskany i pozdeji nez v 17. stoleti. V Cechach byl nemecky preklad pravdepodobne vydan v roce 1798, jak ve svem emailu uvadite. Prehled nemeckych vydani knihy ve fondu NK CR naleznete v naskenovanem generalnim katalogu I - skrinBut - Clar / zasuvka Cer-Chad / zaznamy 477-497. Naskenovane katalogy dalsich knihoven naleznete na strancehttp://nris.nkp.cz/. Pokud Vas zajima rozsireni nemeckych prekladu na uzemi Cech, doporucili bychom Vam kontaktovat dr.Kasparovou (jaroslava.kasparova@nkp.cz), ktera v roce 1997 pripravovala vystavu \"Cervantes a cesky ctenar\". Dr. Kasparova se venuje problematice starych tisku, nicmene se domnivame, ze by Vam i presto mohla poradit i pokud jde o rozsireni pozdejsich prekladu. KASPAROVA, Jaroslava. Cervantes a cesky ctenar : Miguel de Cervantes Saavedra. Praha : Narodni knihovna CR, 1997. 39 s. V katalogu vystavy \"Cervantes a cesky ctenar\" dr.Kasparova uvadi:s. 11, kapitola Cervantes a cesky ctenar 17. a 18. stoleti \"V ceskych zemich byly pribehy Dona Quijota cteny v 17. a 18. stoleti jak v e spanelskem originale, tak i v dalsich jazykovych verzich - nejcasteji ve francouzstine, ale take v italstine a nemcine. Jak vyplyva z exemplaru dochovanych v nasich knihovnach a take z archivnich materialu, byl roman znam a cten hned v roce sveho vydani a ziskal si znacnou ctenarskou oblibu.\"',\n",
       " 'okres': None,\n",
       " 'library': 'Národní knihovna ČR',\n",
       " 'category': 'Jazyk, lingvistika a literatura',\n",
       " 'used_sources': None,\n",
       " 'date': Timestamp('2008-01-24 12:42:00'),\n",
       " 'url': 'https://www.ptejteseknihovny.cz/dotazy/1-cesky-preklad-cervantesova-dona-qiujota',\n",
       " 'id': 3,\n",
       " 'language': 'cs',\n",
       " 'question_diacritics_korektor': 'Zajímá mě, za jakého důvodu se kůň dona Quijota objevuje v českých překladech a následkem toho i v českém povědomí (a v bas. motivech) jako KOBYLA Rosinanta, když v originále je to hřebec Rocinante. DQ ho v knize pojmenována včetně vyslevetleni motivace tohoto pojmenování a kromě toho je v knize scéna, kdy Rocinante potká jinou kobylu - toto setkání je v Čj dost komické. Chtěl bych proto nalézt první překlady románu o DQ to ČJ, priapdne jeho části, případné překlady do NJ, které se objevovaly na území Čech v 19. stol (nebo i dříve? - těžko). Pokud je prvním překladem vydání Josefa Pečírky z roku 1864 (gen. kat. I, Čer 431), jak se tam Rocinante objevuje? A Pichlův překlad u Kobra 1866,1868? Případně pokud někdo tento \\\\\"problém\\\\\" vyřešil - kdo a kde? Velice děkuji za odpověď a doufám že není příliš náročná...',\n",
       " 'answer_diacritics_korektor': 'Jméno koně je ve dvou prvních českých vydáních (1864, 1866) uvedeno v následující formě: Bláznivý rytíř : Kratochvilné čtení pro lid. Díl 1 / Miguel de Cervantes Saavedra ; Dle španělského románu Don Quixote de la Mancha vzdělal a vydal Josef Pečírka. -- Praha : J. Pečírka, 1864. -- 244 s., obr. příl. : il. ; 8° ----s. 5 ... dal herce té jméno Rozinante ...s. 7 ... vsedl na Rozinanta a vyjel zadními vraty ...s. 8 ... vsedl na svůj znamenitý kůň Rozinanta a dal se cestou po širém poli s. 9 ... Několik kroků od hospody přitáhl uzdu Rozinantovu, doufaje ... Don Quijote de la Mancha. Díl 1 / Ze span. M. Cervantesa de Saavedra. -- Praha : I.L. Kober, 1866. -- 8, 384 s. : il. ; 8°----... nazval jej Rocinantem ... Z dalších českých vydání \"Dona Quijota\" jsme vybrali následující překlady. Pokud byste chtěl vědět, jak je v uvedených překladech přeloženo setkání Rocinanta/Rosinanty s dalším koněm, napište nám prosím číslo (název) kapitoly. Don Quijote de la Mancha / dla Miguela Cervanta de Saavedraaa ; pro českou mládež zpracoval J.V.K.. -- Telč : Emil Šolc, 1897. -- 172 s. : il. ; 24 cm -----s. 2 ... Na to šel ke svému koni ... Konečně rozhodl se dáti mu zvučné a krásné jméno Rocinante s. 12 ... Na to pobodnul Rocinanta a brzy zmizel ... Don Quixote z la Manchy / Naps. Miguel Cervantes de Saavedra ; Pro mládež volně upr. L Grossmannova-Brodská. -- Praha : A. Hynek, [1902]. -- 77 s. :barev. obr. příl. ; 8° ----s. 5 ... Nyní přišel na řadu mimochodnik, který přes to, že byl pouhá kost a kůže, maje na sobě více jizev nežli žíní v ocasu, platil u svého pána za bujného, ohnivého oře. Čtyři dni lámal si don Quixote hlavu, jak koně zvučné i slavné nazvati, načež mu udělil jméno : \"Rozinanta\".s. 8 ... Také Rozinanta byla všecka vysílená, a rytíř odporucoval zvláštní péči svého nevyrovnaného koně. Důmyslný rytíř Don Quijote de la Mancha. I / Miguel de Cervantes Saavedra ; Ze španělštiny přel. Eduard Drobílek ; Il. Jos. Kočí. -- Vinohrady : A.Ipser, 1914. -- 304 s. : 9 bar. obr. příl. ; lex. 8°. -- (Ipserova il.knihovna ; I)----s. 9 ... Potom se šel podívat na svoji kobylu, a ač měla více mozuolu než real drobných a více chyb než kůň Goneluv .... dal mu konečné jméno Rocinante, jméno, které zdálo se mu vznešeným ...s. 9 ... Když tedy zbroj byla čistá, z přilbice udělaná helmice s hledím, dáno jméno jeho kobyle a kdy se sám pokřtil ... Důmyslný rytíř Don Quijote de la Mancha = El ingenioso hidalgo Don Quijote de la Mancha : Rytířský román. Díl 1.-2. / Cervantes Saavedra Miguel ; Přeložila Marie L. Kühnlová. -- 3. vyd. -- Praha : I.L. Kober, 1928. -- 392 s., obr.příl.: Ilustr. ; 22 cm-----s. 4 ... Když si byl mnoho jmen vymyslil, zamítl, zanechal, přidal, přetvořil a znovu vytvořil ve své paměti a fatasii, přišel konečně na to, pojmenovati ho Rocinante, název to podle jeho zdání vznešený, zvučný a vyznačující, čím byl, dokud byl \"herkou-dříve\" (Rocin-ante) než byl tím, čím je nyní, nejprednejsim ze všech koní na světě.s. 6 ... vyhoupl se na Rocinantu ...s. 7 ... nezapomeň na mého hodného Rocinanta, věčného mého druha ... Rytíř smutné postavy : (Don Quichote de la Mancha / Podle stejnojmenného románu slavného španělského spisovatele Miguela de Cervantes Saavedry volně upravil pro obecné a měšťanské školy J.V. Flos) ; Obrázky kreslil Fr. Emler.-- V Praze: Státní nakladatelství, 1937. -- 47 - [Í] s. ; 8°----s.6 ... Potom se šel podívat na svoji kobylku. Ta však měla chudák na nohou plno bolavých mozolů. To rytíři nevadilo. Nazval ji \"Rosinant\" (t.j. první ze všech koní).s.6 ... Usedl na svoji klisnu Rosinantu, vzal štít, kopí - a vyjel! Důmyslný rytíř Don Quijote de la Mancha / Miguel de Cervantes Saavedra ; ze span. orig. El ingenioso hidalgo don Quijote de la Mancha přel. Zdeněk Šmíd ; predml. \"Miguel de Cervantes Saavedra, renesanční člověk a umělec\" a pozn.napsal Oldřich Bělic. -- 1. vyd. v SNKLHU. -- Praha : SNKLHU, 1955 (Práce 01). -- 1252, [2] s. ; 8°. -- (Cervantes Saavedra, Miguel de: Spisy ; Sv.1) (Knihovna klasiků)-----s. 146 ... Potom se šel podívat na svého koníka .... nazval jej nakonec Rocinantem ....s. 160 ... S tímto úmyslem zamířil s Rocinantem k rodné vsi, a Rocinante, jako už by cítil známou stáj, rozcvalal se s takovou chutí, že to vypadalo, jako by se nad zemí zrovna vznášel. Příběhy Dona Quijota / podle díla Cervantesova vypravuje Jaromír John ; Helena Šmahelová: O Cervantesovi a jeho Donu Quijotovi, doslov ; il.František Tichý. -- 9. vyd., v Čs. spíš. 3. vyd.. -- Praha : Československý spisovatel, 1978 (ST2). -- 366, [1] s. : [6] barev. obr. příl. ; 8°. -- (Zlatý klíček)----s. 22 ... I šel si prohlédnouti svého koníka, který byl přivázán ve stáji za lýčený provaz u věčně prázdného žlabu ....Až konečně našel označení, jež ho uspokojovalo: Rocinante! ... Budeme o tom Rocinantu často čistí.s. 25 ... vyhoupl se ve vší zbroji na svého Rocinanta .... Důmyslný rytíř Don Quijote de la Mancha. Díl 1 / Miguel de Cervantes Saavedra ; Ze span. přel. Zdeněk Šmíd ; Il. Josef Liesler. -- 3. vyd. v tomto překladu, ve Svobodě 1., upravené vyd.. -- Praha : Svoboda, 1982 (Rudé právo). -- 530 s.: obr. ; 23 cm----s. 29 ... nazval jej nakonec Rocinantem .... Ve vybraných středoškolských učebnicích se jméno vyskytuje v obou tvarech: PROKOP, Vladimír. Dějiny literatury od starověku do počátku 19. století aneb Od Mezopotámie po naše národní obrození (pro výuku v 1. ročníku středních škol). Sokolov : O.K. - Soft, 2001. 80 s.---s. 45 ... Vyzbrojí se starým kopím a štítem a na vyhublém a sešlém koni se vznešeným jménem Rocinanta se vydá do světa za dobrodružstvím. SOUKAL, Josef. Literatura pro 1.ročník gymnázií. Praha : SPN, 2001. 327 s.ISBN 80-7235-154-0.---s. 225 ... Quijano si zvolí nové, rytířské jméno, stejně tak přejmenuje (na Dulcineu [dulsineu]) prostou venkovanku, v níž vidí vysněnou dámu svého srdce, i vychrtlého koníka (na Rosinanta) a v chatrné zbroji vyráží do světa. MILICKA, Karel. Básníci velkých příběhů. Světová literatura 1. Praha :Baronet, 2002. 312 s. ISBN 80-7214-467-7.s. 264 ... Vyzbrojí se starým harampádím, vetchého koně pojmenuje vznešeně Rozinanta a obyčejnému venkovskému děvčeti, které si vyvolí jako paní svého srdce, dá jemno Dulcinea. Rozbor díla Důmyslný rytíř Don Quijote de la Mancha naleznete např. v praciO.Bělice:BĚLIC, Oldřich. Cervantesův Don Quijote. Praha : Orbis, 1955. 75 s. První německý překlad \"Dona Quijota\" vyšel v roce 1621. Podle informace dr.Maska z Oddělení zámeckých knihoven Národního muzea se nejstarší německá vydání nacházejí ve fondech zámeckých knihoven např. z let 1681 (Horákov), 1682 (Strážnice) a 1683 (Bludov). Samozřejmě je možné, že tyto knihy byly do zámeckých knihoven získány i později než v 17. století. V Čechách byl německý překlad pravděpodobně vydán v roce 1798, jak ve svém emailu uvádíte. Přehled německých vydání knihy ve fondu NK ČR naleznete v naskenovaném generálním katalogu I - skrinBut - Clar / zásuvka Čer-Chad / záznamy 477-497. Naskenované katalogy dalších knihoven naleznete na strancehttp://nris.nkp.cz/. Pokud Vás zajímá rozšíření německých překladů na území Čech, doporučili bychom Vám kontaktovat dr.Kašparovou (jaroslava.kasparova@nkp.cz), která v roce 1997 připravovala výstavu \"Cervantes a český čtenář\". Dr. Kašparová se věnuje problematice starých tisků, nicméně se domníváme, že by Vám i přesto mohla poradit i pokud jde o rozšíření pozdějších překladů. KAŠPAROVÁ, Jaroslava. Cervantes a český čtenář : Miguel de Cervantes Saavedra. Praha : Národní knihovna ČR, 1997. 39 s. V katalogu výstavy \"Cervantes a český čtenář\" dr.Kašparová uvádí:s. 11, kapitola Cervantes a český čtenář 17. a 18. století \"V českých zemích byly příběhy Dona Quijota čteny v 17. a 18. století jak v e španělském originále, tak i v dalších jazykových verzích - nejčastěji ve francouzštině, ale také v italštině a němčině. Jak vyplývá z exemplářů dochovaných v našich knihovnách a také z archivních materiálů, byl roman znám a čten hned v roce svého vydání a získal si značnou čtenářskou oblibu.\"',\n",
       " 'question_spell_korektor': 'Zajímá mě, za jakého duvodu se kun dona Quijota objevuje v ceských překladech a následkem toho i v celkem povědomí (a v bas. motivech) jako KOBYLA Rosinama, když v originále je to hřebec Rocinante. D ho v knize pojmenována vmetne vyslevetleni motivace tohoto pojmenováni a kromě toho je v knize scéna, kdy Rocinante potká jinou kobylu - toto setkáni je v j dost komické. Chtěl bych proto nalézt první překlady románu o D to CJ, pripadne jeho casto, pripadne překlady do NJ, které se objevovaly na zemi Čech v 19. stol (nebo i drive? - Fezko). Pokud je prvním překladem vydaní Josefa Pečírky z roku 1864 (gen. kat. I, er 431), jak se tam Rocinante objevuje? A Pichluv překlad u Kobra 1866,1868? Pripadne pokud někdo tento \\\\\"problém\\\\\" vyřešil - kdo a kde? Velice dekuji za odpoved a doufam ze neni prolis barona...',\n",
       " 'answer_spell_korektor': 'Jméno koně je ve dvou prvních ceských vydaných (1864, 1866) uvedeno v nasledujici formě: Bláznivý rytin : Kratochvilné ctěni pro lid. Díl 1 / Miguel de Cervantes Saavedra ; dle spanelskeho románu don Quijote de La Manche vzdělal a vydal Josef Pecička. -- Praha : J. Pecička, 1864. -- 244 s., obr. pri. : il. ; 8° ----s. 5 ... dal herce te jméno Rozinante ...s. 7 ... vsedl na Rozinama a vyjel zadními vraty ...s. 8 ... vsedl na svůj znamenitý kun Rozinama a dal se cestou po sirem poli s. 9 ... Nekolik kroku od hospody přitáhl uzdu Rozinantovu, doufaje ... Don Quijote de La Manche. Díl 1 / ze pan. M. Cervantes de Saavedra. -- Praha : I.L. Kober, 1866. -- 8, 384 s. : il. ; 8°----... nazval jej Rocinantem ... Z dalších ceských vydané \"dona Quijota\" jsme vybrali nasledujici překlady. Pokud byste chtel vedet, jak je v uvedených překladech preloženo setkáni Rocinanta/Rosinanty s dalsi koněm, napište nám prosím Wislo (název) kapitoly. Don Quijote de La Manche / dle Miguela Servanta de Saavedrama ; pro českou mladej zpracoval J.V.K.. -- Telč : Emil Šolc, 1897. -- 172 s. : il. ; 24 cm -----s. 2 ... Na to se ke svému koni ... Konečně rozhodl se daty mu zvučné a krase jméno Rocinante s. 12 ... Na to pobodnul Rocinanta a brzy zmizel ... Don Quijote z La Manche / Nas. Miguel Cervantes de Saavedra ; pro mladej volne pr. L Grossmannova-Brodský. -- Praha : A. Hynek, [1902]. -- 77 s. :barev. obr. pri. ; 8° ----s. 5 ... Nyní přisel na radu mimochodi, který přes to, že byl pouhá kost a kuse, maje na sobě více jizev nezli zni v ocasu, platil u svého pana za bujného, ohnivého Ore. Čtyři dni lámal si don Quijote hlavu, jak koně zvučné i slavné nazvati, najez mu udělil jméno : \"Rozinama\".s. 8 ... Také Rozinama byla všecka vysílena, a rytin odporoval vlastni peci svého nevyrovnaného koně. Důmyslný rytin don Quijote de La Manche. I / Miguel de Cervantes Saavedra ; ze spanelstiny perel. Eduard Drobílek ; l. Jos. Koci. -- Vinohrady : A.Iser, 1914. -- 304 s. : 9 bar. obr. pri. ; let. 8°. -- (Přerova il.knihovna ; I)----s. 9 ... Potom se šel podívat na svoji kobylu, a a měla více mozolu než real drobných a více chyb než kun Gomelu .... dal mu konečně jméno Rocinante, jméno, které zdálo se mu vznesením ...s. 9 ... Když tedy zbroj byla cesta, z přilbice udělaná helmice s hledím, dáno jméno jeho kobyle a kdy se sám pokřtil ... Důmyslný rytin don Quijote de La Manche = El ingenioso hidalgo don Quijote de La Manche : Rytířsky román. Díl 1.-2. / Cervantes Saavedra Miguel ; Přeložila Marie L. Kühnlová. -- 3. vyd. -- Praha : I.L. Kober, 1928. -- 392 s., obr.pri.: Lustr. ; 22 cm-----s. 4 ... Když si byl mnoho jmen vymyslil, zamítl, zanechal, přidal, přetvořil a znovu vytvořil ve své paměti a fantasii, přisel konečně na to, pojmenovat ho Rocinante, název to podle jeho zdaní vzneseny, zvučný a vyznacujici, jim byl, dokud byl \"horkou-drive\" (Robin-Ante) nez byl tím, jim je nyní, nejprednejsim ze všech koní na svete.s. 6 ... vyhoupl se na Rocinantu ...s. 7 ... nezapomene na mého hodného Rocinanta, věcného meho druha ... Rytin smutné postavy : (don Quijote de La Manche / podle stejnojmenného románu slavného spanelskeho spisovatele Miguela de Cervantes Saavedry volně upravil pro obecné a mestanske skoly J.V. Flos) ; obrázky kreslil Fr. Emler.-- v Praze: Statní nakladatelství, 1937. -- 47 - [I] s. ; 8°----s.6 ... Potom se šel podívat na svoji kobylku. Ta však měla chudák na nohou plno bolavých mozolů. To rytíři nevadilo. Nazval ji \"Rosina\" (t.j. první ze všech koní).s.6 ... Usedl na svoji klisnu Rosinantu, vzal stát, kopí - a vyjel! Důmyslný rytin don Quijote de La Manche / Miguel de Cervantes Saavedra ; ze pan. orig. El ingenioso hidalgo don Quijote de La Manche přel. Zdenek Sid ; předal. \"Miguel de Cervantes Saavedra, renesanci clovek a umělec\" a pozn.napsal Oldřich Belica. -- 1. vyd. v SNKLHU. -- Praha : SNKLHU, 1955 (Práce 01). -- 1252, [2] s. ; 8°. -- (Cervantes Saavedra, Miguel de: Spisy ; sv.1) (knihovna klasiku)-----s. 146 ... Potom se šel podívat na svého koníka .... nazval jej nakonec Rocinantem ....s. 160 ... S tímto úmyslem zamířil s Rocinantem k rodné vsi, a Rocinante, jako uz by cítil známou stáj, rozvalil se s takovou chutí, ze to vypadalo, jako by se nad zemi zrovna vznášel. Proběhy dona Quijota / podle díla Cervantesova vypravuje Jaromír John ; Helena Mahenova: O Cervantesovi a jeho donu Quijotovi, doslov ; il.František tichý. -- 9. vyd., v C. spis. 3. vyd.. -- Praha : Československy spisovatel, 1978 (STK). -- 366, [1] s. : [6] barev. obr. pri. ; 8°. -- (zlatý klacek)----s. 22 ... I sel si prohlédnouti svého koníka, který byl privazan ve stáji za líceny provaz u vece prázdného žlabu ....A konečně našel označeni, jež ho uspokojovalo: Rocinante! ... Budeme o tom Rocinantu casto ciste.s. 25 ... vyhoupl se ve vsi zbroji na svého Rocinanta .... Důmyslný rytin don Quijote de La Manche. Díl 1 / Miguel de Cervantes Saavedra ; ze pan. pre. Zdenek Sid ; l. Josef Liesler. -- 3. vyd. v tomto překladu, ve svobodě 1., upravené vyd.. -- Praha : Svoboda, 1982 (rudé právo). -- 530 s.: obr. ; 23 cm----s. 29 ... nazval jej nakonec Rocinantem .... Ve vybraných stredoskolskych učebnicích se jméno vyskytuje v obou tvarech: PROKOP, Vladimir. Dějiny literatury od starověku do počátku 19. století aneb od mezopotámie po nase narodnik obrození (pro výuku v 1. ročníku stredních skol). Sokolov : O.K. - Soft, 2001. 80 s.---s. 45 ... Vyzbrojí se starým kopím a státem a na vyhublém a heslem koní se vzneseným jménem Rocinanta se vydá do světa za dobrodružstvím. SOUKAL, Josef. Literatura pro 1.ročník gymnázii. Praha : SPN, 2001. 327 s.ISBN 80-7235-154-0.---s. 225 ... Rujano si zvolí nové, rytirske jmen, stejně tak přejmenuje (na Dulcinea [Dulcineu]) prostou venkovanku, v niž vidí vysněnou dámu svého srdce, i vychrtlého koníka (na Rosinama) a v chatrné zbroji vyrazí do světa. MILICA, Karel. Řasnici velkých průběhu. Svetové literatura 1. Praha :Baronet, 2002. 312 s. ISBN 80-7214-467-7.s. 264 ... Vyzbrojí se starým harampádím, vetchého koně pojmenuje vznesené Rozinama a obyčejnému venkovskému děvčeti, které si vyvolí jako paní svého srdce, a jedno Dulcinea. Rozbor díla Důmyslný rytin don Quijote de La Manche naleznete např. v praci.Velice:BELI, Oldřich. Cervantesův don Quijote. Praha : Orbis, 1955. 75 s. První nemecky překlad \"dona Quijota\" vyšel v roce 1621. Podle informace dr.Maska z odděleni zámeckých knihoven Národního muzea se nejstarší Nemecka vydáni nacházejí ve fondech zámeckých knihoven napr. z let 1681 (Horákov), 1682 (Strašnice) a 1683 (Bludov). Samozrejme je mozna, ze tyto knihy byly do zámeckých knihoven získány i později než v 17. století. V Cechach byl nemecky překlad pravděpodobně vydán v roce 1798, jak ve svém emailu uvadáte. Přehled nemeckých vydané knihy ve fondu NK ČR naleznete v naskenovaným generálnim katalogu I - skrinBut - Clara / zásuvka er-had / záznamy 477-497. Naskenované katalogy dalších knihoven naleznete na strancehttp://Iris.nku.cz/. Pokud vás zajímá rozsazeni nemeckých překladu na zemi Čech, doporučili bychom vám kontaktovat dr.Kašparovou (Jaroslava.Kasparova@nku.cz), která v roce 1997 připravovala výstavu \"Cervantes a cesky cena\". Dr. Kasparova se věnuje problematice starých tisku, nicméně se domníváme, že by Vam i presto mohla poradit i pokud jde o rozsazeni pozdejsich překladu. KASPAROVA, Jaroslava. Cervantes a cesky cena : Miguel de Cervantes Saavedra. Praha : Nabodni knihovna ČR, 1997. 39 s. V katalogu výstavy \"Cervantes a cesky tenor\" dr.Kasparova uvadá:s. 11, kapitola Cervantes a cesky cena 17. a 18. století \"v ceských zemích byly proběhy dona Quijota ceny v 17. a 18. století jak v e španělskem originále, tak i v dalších jazykových verzích - nejčastěji ve francouzštině, ale také v italštině a nemine. Jak vyplývá z exempla dochovaných v našich knihovnách a také z archivních materiálu, byl Roman znám a ten hned v roce sveho vydáni a získal si značnou nenarskou oblibu.\"',\n",
       " 'diacritics_correct': False}"
      ]
     },
     "execution_count": 11,
     "metadata": {},
     "output_type": "execute_result"
    }
   ],
   "source": [
    "dataset[3]"
   ]
  },
  {
   "cell_type": "code",
   "execution_count": 12,
   "metadata": {},
   "outputs": [
    {
     "data": {
      "application/vnd.jupyter.widget-view+json": {
       "model_id": "7f8eef736e8045c0835a0b816477a0d3",
       "version_major": 2,
       "version_minor": 0
      },
      "text/plain": [
       "Uploading the dataset shards:   0%|          | 0/1 [00:00<?, ?it/s]"
      ]
     },
     "metadata": {},
     "output_type": "display_data"
    },
    {
     "data": {
      "application/vnd.jupyter.widget-view+json": {
       "model_id": "c1181c42b535423e92fb1b64ed478d20",
       "version_major": 2,
       "version_minor": 0
      },
      "text/plain": [
       "Creating parquet from Arrow format:   0%|          | 0/17 [00:00<?, ?ba/s]"
      ]
     },
     "metadata": {},
     "output_type": "display_data"
    },
    {
     "data": {
      "text/plain": [
       "CommitInfo(commit_url='https://huggingface.co/datasets/ctu-aic/ask_library_cs/commit/82b5a6aefb52af2f125dc1637001427ce66d0dca', commit_message='Added column with diacritics correction evaluation', commit_description='', oid='82b5a6aefb52af2f125dc1637001427ce66d0dca', pr_url=None, repo_url=RepoUrl('https://huggingface.co/datasets/ctu-aic/ask_library_cs', endpoint='https://huggingface.co', repo_type='dataset', repo_id='ctu-aic/ask_library_cs'), pr_revision=None, pr_num=None)"
      ]
     },
     "execution_count": 12,
     "metadata": {},
     "output_type": "execute_result"
    }
   ],
   "source": [
    "dataset.push_to_hub(\"ctu-aic/ask_library_cs\", commit_message=\"Added column with diacritics correction evaluation\")"
   ]
  },
  {
   "cell_type": "markdown",
   "metadata": {},
   "source": [
    "### Filter with correct diacritics"
   ]
  },
  {
   "cell_type": "code",
   "execution_count": 2,
   "metadata": {},
   "outputs": [
    {
     "data": {
      "text/plain": [
       "Dataset({\n",
       "    features: ['title', 'question', 'answer', 'okres', 'library', 'category', 'used_sources', 'date', 'url', 'id', 'language', 'question_diacritics_korektor', 'answer_diacritics_korektor', 'question_spell_korektor', 'answer_spell_korektor', 'diacritics_correct'],\n",
       "    num_rows: 14659\n",
       "})"
      ]
     },
     "execution_count": 2,
     "metadata": {},
     "output_type": "execute_result"
    }
   ],
   "source": [
    "dataset = dataset.filter(lambda x: x['diacritics_correct'])\n",
    "dataset"
   ]
  },
  {
   "cell_type": "markdown",
   "metadata": {},
   "source": [
    "### Filter Czech Rows"
   ]
  },
  {
   "cell_type": "code",
   "execution_count": 3,
   "metadata": {},
   "outputs": [
    {
     "data": {
      "text/plain": [
       "Dataset({\n",
       "    features: ['title', 'question', 'answer', 'okres', 'library', 'category', 'used_sources', 'date', 'url', 'id', 'language', 'question_diacritics_korektor', 'answer_diacritics_korektor', 'question_spell_korektor', 'answer_spell_korektor', 'diacritics_correct'],\n",
       "    num_rows: 14175\n",
       "})"
      ]
     },
     "execution_count": 3,
     "metadata": {},
     "output_type": "execute_result"
    }
   ],
   "source": [
    "#filter czech\n",
    "dataset = dataset.filter(lambda example: example['language'] == 'cs')\n",
    "dataset"
   ]
  },
  {
   "cell_type": "markdown",
   "metadata": {},
   "source": [
    "### Take care of whitespace and newline chars"
   ]
  },
  {
   "cell_type": "code",
   "execution_count": 4,
   "metadata": {},
   "outputs": [
    {
     "data": {
      "application/vnd.jupyter.widget-view+json": {
       "model_id": "65656d6d0edd4be5b2503deb90993633",
       "version_major": 2,
       "version_minor": 0
      },
      "text/plain": [
       "Map:   0%|          | 0/14175 [00:00<?, ? examples/s]"
      ]
     },
     "metadata": {},
     "output_type": "display_data"
    }
   ],
   "source": [
    "#filter all newline and whitespace characters\n",
    "import re\n",
    "\n",
    "def clean_text(example):\n",
    "    #match all whitespace characters and replace them with a single space\n",
    "    example['question'] = re.sub(r'\\s+', ' ', example['question']).strip()\n",
    "    example['answer'] = re.sub(r'\\s+', ' ', example['answer']).strip()\n",
    "    example['question'] = re.sub(r'\\xa0', ' ', example['question']).strip()\n",
    "    example['answer'] = re.sub(r'\\xa0', ' ', example['answer']).strip()\n",
    "    return example\n",
    "\n",
    "dataset = dataset.map(clean_text)"
   ]
  },
  {
   "cell_type": "code",
   "execution_count": 5,
   "metadata": {},
   "outputs": [
    {
     "data": {
      "text/plain": [
       "{'title': 'e-knihy',\n",
       " 'question': 'Dobrý den, nemohu se prosím přihlásit přes zadané údaje, hlásí to chybně zadaný pin nebo čtenářské číslo, delší období jsem knihy nevypůjčovala, chci teď v době koronaviru zkusit e-lerning. Děkuji za odpověď.',\n",
       " 'answer': 'Vážená paní, moc mě to mrzí, ale v databázi čtenářů Vás již nemáme. Podle Nařízení na ochranu osobních údajů nemůžeme spravovat údaje čtenářů déle než šest měsíců od propadlé registrace. Potom musíme všechny Vaše údaje zarchivovat. Nabídnout Vám mohu založení nového čtenářského konta, toto lze však učinit až v okamžiku znovuotevření knihovny. Momentálně můžete zkusit e-knihy, které jdou stahovat zdarma, více informací získáte na tomto webu -https://protiviru.knihovny.cz/ Děkuji za pochopení a přeji pevné zdraví',\n",
       " 'okres': 'Hradec Králové',\n",
       " 'library': 'Knihovna města Hradce Králové',\n",
       " 'category': 'Informace o knihovně',\n",
       " 'used_sources': None,\n",
       " 'date': Timestamp('2020-03-23 08:00:00'),\n",
       " 'url': 'https://www.ptejteseknihovny.cz/dotazy/-3',\n",
       " 'id': 0,\n",
       " 'language': 'cs',\n",
       " 'question_diacritics_korektor': 'Dobrý den, nemohu se prosím přihlásit přes zadané údaje, hlásí to chybně žádaný pin nebo čtenářské číslo, delší období jsem knihy nevypůjčovala, chci teď v době koronaviru zkusit e-lerning. Děkuji za odpověď.',\n",
       " 'answer_diacritics_korektor': 'Vážená paní,  moc mě to mrzí, ale v databázi čtenářů Vás již nemáme. Podle Nařízení na ochranu osobních údajů nemůžeme spravovat údaje čtenářů déle než šest měsíců od propadlé registrace. Potom musíme všechny Vaše údaje zarchivovat. Nabídnout Vám mohu založení nového čtenářského konta, toto lze však učinit až v okamžiku znovuotevření knihovny.  Momentálně můžete zkusit e-knihy, které jdou stahovat zdarma, více informací získáte na tomto webu -https://protiviru.knihovny.cz/  Děkuji za pochopení a přeji pevné zdraví',\n",
       " 'question_spell_korektor': 'Dobrý den, nemohu se prosím přihlásit přes zadané údaje, hlásí to chybně zadaný pin nebo čtenářské číslo, delší období jsem knihy nevypůjčovala, chci teď v době koronaviru zkusit e-learning. Děkuji za odpověď.',\n",
       " 'answer_spell_korektor': 'Vážená paní,  moc mě to mrzí, ale v databázi čtenářů vás již nemáme. Podle nařízení na ochranu osobních údajů nemůžeme spravovat údaje čtenářů déle než šest měsíců od propadlé registrace. Potom musíme všechny vaše údaje archivovat. Nabídnout vám mohu založení nového čtenářského konta, toto lze však učinit až v okamžiku znovuotevření knihovny.  Momentálně můžete zkusit e-knihy, které jdou stahovat zdarma, více informací získáte na tomto webu -http://protivětru.knihovny.cz/  děkuji za pochopení a přeji pevné zdraví',\n",
       " 'diacritics_correct': True}"
      ]
     },
     "execution_count": 5,
     "metadata": {},
     "output_type": "execute_result"
    }
   ],
   "source": [
    "dataset[0]"
   ]
  },
  {
   "cell_type": "markdown",
   "metadata": {},
   "source": [
    "### Filter URLS"
   ]
  },
  {
   "cell_type": "code",
   "execution_count": 6,
   "metadata": {},
   "outputs": [
    {
     "name": "stderr",
     "output_type": "stream",
     "text": [
      "[nltk_data] Downloading package punkt_tab to\n",
      "[nltk_data]     /home/mlynatom/nltk_data...\n",
      "[nltk_data]   Package punkt_tab is already up-to-date!\n"
     ]
    },
    {
     "data": {
      "application/vnd.jupyter.widget-view+json": {
       "model_id": "0460a400619f46e8821743aac1cef60c",
       "version_major": 2,
       "version_minor": 0
      },
      "text/plain": [
       "Map:   0%|          | 0/14175 [00:00<?, ? examples/s]"
      ]
     },
     "metadata": {},
     "output_type": "display_data"
    },
    {
     "data": {
      "text/plain": [
       "Dataset({\n",
       "    features: ['title', 'question', 'answer', 'okres', 'library', 'category', 'used_sources', 'date', 'url', 'id', 'language', 'question_diacritics_korektor', 'answer_diacritics_korektor', 'question_spell_korektor', 'answer_spell_korektor', 'diacritics_correct'],\n",
       "    num_rows: 14175\n",
       "})"
      ]
     },
     "execution_count": 6,
     "metadata": {},
     "output_type": "execute_result"
    }
   ],
   "source": [
    "import re\n",
    "import nltk\n",
    "nltk.download('punkt_tab')\n",
    "\n",
    "def remove_url(text:str) -> str:\n",
    "    url_in_brackets_pattern = re.compile(r'\\s*\\([^)(]*https?:\\/\\/[^\\s()]+[^)(]*\\)')\n",
    "    www_in_brackets_pattern = re.compile(r'\\s*\\([^)(]*www.[^\\s()]+[^)(]*\\)')\n",
    "    if \"http\" in text or \"www\" in text:\n",
    "        #remove urls in brackets\n",
    "        text = re.sub(url_in_brackets_pattern, '', text)\n",
    "        text = re.sub(www_in_brackets_pattern, '', text)\n",
    "\n",
    "        #if url still in the answer\n",
    "        if \"http\" in text or \"www\" in text:\n",
    "            #handle standalone urls\n",
    "            ##obtain sentences\n",
    "            sentences=nltk.tokenize.sent_tokenize(text, language=\"czech\")\n",
    "            ##find sentences without urls\n",
    "            filtered_sentences = [sentence for sentence in sentences if \"http\" not in sentence and \"www\" not in sentence]\n",
    "            \n",
    "            text = \" \".join(filtered_sentences)\n",
    "\n",
    "    \n",
    "    return text\n",
    "\n",
    "dataset = dataset.map(lambda x: {'question': remove_url(x['question']), 'answer': remove_url(x['answer'])})\n",
    "dataset"
   ]
  },
  {
   "cell_type": "markdown",
   "metadata": {},
   "source": [
    "### Dobry den - filter"
   ]
  },
  {
   "cell_type": "code",
   "execution_count": 7,
   "metadata": {},
   "outputs": [
    {
     "data": {
      "application/vnd.jupyter.widget-view+json": {
       "model_id": "8491dfb01c7a4d4fa9a70ab151170737",
       "version_major": 2,
       "version_minor": 0
      },
      "text/plain": [
       "Filter:   0%|          | 0/14175 [00:00<?, ? examples/s]"
      ]
     },
     "metadata": {},
     "output_type": "display_data"
    },
    {
     "data": {
      "text/plain": [
       "Dataset({\n",
       "    features: ['title', 'question', 'answer', 'okres', 'library', 'category', 'used_sources', 'date', 'url', 'id', 'language', 'question_diacritics_korektor', 'answer_diacritics_korektor', 'question_spell_korektor', 'answer_spell_korektor', 'diacritics_correct'],\n",
       "    num_rows: 13663\n",
       "})"
      ]
     },
     "execution_count": 7,
     "metadata": {},
     "output_type": "execute_result"
    }
   ],
   "source": [
    "dataset = dataset.filter(lambda x: \"Dobry den\" not in x[\"answer\"] and \"dobry den\" not in x[\"answer\"] and \"Dobry den\" not in x[\"question\"] and \"dobry den\" not in x[\"question\"] and \"Vazena pani\" not in x[\"answer\"] and \"vazena pani\" not in x[\"answer\"] and \"Vazena pani\" not in x[\"question\"] and \"vazena pani\" not in x[\"question\"] and \"Vazeny pane\" not in x[\"answer\"] and \"vazeny pane\" not in x[\"answer\"] and \"Vazeny pane\" not in x[\"question\"] and \"vazeny pane\" not in x[\"question\"])\n",
    "dataset"
   ]
  },
  {
   "cell_type": "markdown",
   "metadata": {},
   "source": [
    "### Filter e-mails"
   ]
  },
  {
   "cell_type": "code",
   "execution_count": 8,
   "metadata": {},
   "outputs": [
    {
     "data": {
      "application/vnd.jupyter.widget-view+json": {
       "model_id": "c77d129cf7804ae4829b31d3f89d917b",
       "version_major": 2,
       "version_minor": 0
      },
      "text/plain": [
       "Map:   0%|          | 0/13663 [00:00<?, ? examples/s]"
      ]
     },
     "metadata": {},
     "output_type": "display_data"
    },
    {
     "data": {
      "text/plain": [
       "Dataset({\n",
       "    features: ['title', 'question', 'answer', 'okres', 'library', 'category', 'used_sources', 'date', 'url', 'id', 'language', 'question_diacritics_korektor', 'answer_diacritics_korektor', 'question_spell_korektor', 'answer_spell_korektor', 'diacritics_correct'],\n",
       "    num_rows: 13663\n",
       "})"
      ]
     },
     "execution_count": 8,
     "metadata": {},
     "output_type": "execute_result"
    }
   ],
   "source": [
    "import re\n",
    "\n",
    "def remove_url(text:str) -> str:\n",
    "    email_in_brackets_pattern = re.compile(r'\\s*\\([^)(]*[a-zA-Z0-9\\.]+@+[a-zA-Z0-9]+\\.[a-zA-Z0-9]+[^)(]*\\)')\n",
    "    text = re.sub(email_in_brackets_pattern, '', text)\n",
    "    \n",
    "    return text\n",
    "\n",
    "dataset = dataset.map(lambda x: {'question': remove_url(x['question']), 'answer': remove_url(x['answer'])})\n",
    "dataset"
   ]
  },
  {
   "cell_type": "markdown",
   "metadata": {},
   "source": [
    "### Filter greetings"
   ]
  },
  {
   "cell_type": "code",
   "execution_count": 9,
   "metadata": {},
   "outputs": [
    {
     "data": {
      "application/vnd.jupyter.widget-view+json": {
       "model_id": "d44738778c7e40b2b80f7ef2119856fa",
       "version_major": 2,
       "version_minor": 0
      },
      "text/plain": [
       "Map:   0%|          | 0/13663 [00:00<?, ? examples/s]"
      ]
     },
     "metadata": {},
     "output_type": "display_data"
    },
    {
     "data": {
      "text/plain": [
       "Dataset({\n",
       "    features: ['title', 'question', 'answer', 'okres', 'library', 'category', 'used_sources', 'date', 'url', 'id', 'language', 'question_diacritics_korektor', 'answer_diacritics_korektor', 'question_spell_korektor', 'answer_spell_korektor', 'diacritics_correct'],\n",
       "    num_rows: 13663\n",
       "})"
      ]
     },
     "execution_count": 9,
     "metadata": {},
     "output_type": "execute_result"
    }
   ],
   "source": [
    "FILTER_GREETING = [\"Vážený paní\", \"Dobrý den\", \"Vážený pane\", \"Vážený čtenáři\", \"Vážená paní\", \"Dobré odpoledne\", \"Hezký den\", \"Dobrá den\", \"Dobrý de\", \"Dobré ráno\", \"Dobrý večer\", \"dobrý den\", \"Vážný pane\", \"Váženy pane\", \"Važený pane\", \"Dobrý dne\", \"DObrý den\", \"Dobré dopoledne\"]\n",
    "\n",
    "#find greeting using along with the name and other info up to first , -> remove it and change the next letter to uppercase\n",
    "greetings_regexes = [re.compile(fr\"^{greeting}[^,]*,\\s*\", re.IGNORECASE) for greeting in FILTER_GREETING]\n",
    "\n",
    "def remove_greetings(example):\n",
    "    answer = example['answer']\n",
    "    for greeting_regex in greetings_regexes:\n",
    "        answer = re.sub(greeting_regex, '', answer)\n",
    "        \n",
    "    #first letter to uppercase\n",
    "    if len(answer) > 0:\n",
    "        answer = answer[0].upper() + answer[1:]\n",
    "    example['answer'] = answer\n",
    "    return example\n",
    "\n",
    "dataset = dataset.map(remove_greetings)\n",
    "dataset"
   ]
  },
  {
   "cell_type": "code",
   "execution_count": 13,
   "metadata": {},
   "outputs": [
    {
     "data": {
      "text/plain": [
       "{'title': 'Činžák',\n",
       " 'question': 'Kdy se začali stavět činžovní domy a z jaké doby zhruba je tento výraz?Kdo přišel s tímto způsobem bydlení a kde to vzniklo?Děkuji',\n",
       " 'answer': 'Vícepodlažní nájemné domy začaly být budovány již ve starověkém Římě. Nazývaly se insula (ostrov) a mohly dosahovat výšky až 8 - 9 pater. Domy \"měly často do ulice honosné průčelí se sloupovím, ale uvnitř bylo namačkáno množství malých bytů, často s místnostmi v několika řadách za sebou, takže ty vnitřní neměly denní světlo. Horní patra byla často hrázděná (dřevěná sloupková konstrukce s cihlovými nebo hliněnými výplněmi) nebo dřevěná a zřejmě v nich docházelo k častým zřícením a požárům. Proto Augustus omezil výšku insulí na 70 stop (asi 20,75 m) a později byla dál snížena na 60 stop (17, 55 m). I tak se do stanovené výšky vešlo 5 - 7 podlaží. V té době bylo v Římě 1790 domů s atriem, zvaných domus (dům), a celých 44 602 nájemných insulí, každá s několika desítkami obytných místností\" (Zdroj: SYROVÝ, Petr. Dobrodružství architektury, str. 124.) Z \"průvodce\" po starověkém Římě dále citujeme: \"Mnohem častější než městské domy jsou v Římě ohromné činžovní domy, nacpané po šesti až osmi do bloků nazývaných insulae, které zaplňují římská údolí a nižší strany úbočí pahorků. Kvalitou sahají od skromných ložnic, kde nesnesitelně táhne, až po dobře položené byty s mnoha pokoji. Ideální byt se nachází v prvním patře, kde je zabezpečen před zloději, ale přitom sem lze snadno nanosit vodu a nákupy. Navíc odtud lze beze strachu vyskočit, pokud by vypukl požár anebo se dům zčásti zhroutil. Podle ediktu císaře Traiana nesmí výška činžovních domů přesáhnout osmnáct metrů, což obvykle odpovídá pěti podlažím, a Nero zavedl pravidla požární ochrany.\" (Zdroj: MATYSZAK, Philip. Starověký Řím za pět denárů na den, str. 34 ) I slovo činže, činžovní bylo odvozeno z původního latinského slova censere - cenit, odhadovat. Jak již bylo výše zmíněno, pro starověké římské domy se ovšem tento výraz nepoužíval. Do češtiny toto slovo proniklo prostřednictvím němčiny. \"Po přejetí ještě v raném středověku se latinské e změnilo v i a staré německé sykavky slyšeli Češi jako značně změkčené, odtud činž- za germánské cins-. Ve staré češtině znamenalo slovo činže jakýkoli poplatek, až novodobě se významově zúžilo na význam \"nájemné\", hlavně \"z bytu\". Československá právní terminologie tento termín užívaný za Rakouska nepřijala, po roce 1918 jazykovědci zavedli oficiální označení novočeské, avšak nespisovně se slova činže užívalo dál a zavedlo se označení činžovní dům neboli činžák, což bylo (neprávem) přeneseno i na velké domy (nikoliv nájemní).\" (zdroj: kcjl2.upol.cz/krobotova/aktuality.doc ) Použité zdroje a doporučená literatura: * SYROVÝ, Petr. Dobrodružství architektury. 1. vyd. Praha: ABF - Arch, 1999. 355 s. ISBN 80-86165-28-0. * MATYSZAK, Philip. Starověký Řím za pět denárů na den. 1. vyd. Praha: Mladá fronta, 2009. 141 s. ISBN 978-80-204-1795-4. * MATĚJČEK, Antonín. Dějepis umění. Díl první, Umění doby předdějinné a starého věku. Praha: Jan Štenc, 1922. 195 s.',\n",
       " 'okres': None,\n",
       " 'library': 'Národní knihovna ČR',\n",
       " 'category': 'Umění, architektura, muzeologie',\n",
       " 'used_sources': None,\n",
       " 'date': Timestamp('2014-10-27 08:00:00'),\n",
       " 'url': 'https://www.ptejteseknihovny.cz/dotazy/cinzovni-dum',\n",
       " 'id': 1506,\n",
       " 'language': 'cs',\n",
       " 'question_diacritics_korektor': 'Kdy se začali stavět činžovní domy a z jaké doby zhruba je tento výraz?Kdo přišel s tímto způsobem bydlení a kde to vzniklo?Děkuji',\n",
       " 'answer_diacritics_korektor': 'Dobrý den, vícepodlažní nájemné domy začaly být budovány již ve\\nstarověkém Římě. Nazývaly se insula (ostrov) a mohly dosahovat výšky až 8 - 9\\npater. Domy \"měly často do ulice honosné průčelí se\\nsloupovím, ale uvnitř bylo namačkáno množství malých bytů, často s místnostmi v\\nněkolika řadách za sebou, takže ty vnitřní neměly denní světlo. Horní patra\\nbyla často hrázděná (dřevěná sloupková konstrukce s cihlovými nebo hliněnými\\nvýplněmi) nebo dřevěná a zřejmě v nich docházelo k častým zřícením a požárům.\\nProto Augustus omezil výšku insulí na 70 stop (asi 20,75 m) a později byla dál\\nsnížena na 60 stop (17, 55 m). I tak se do stanovené výšky vešlo 5 - 7 podlaží.\\nV té době bylo v Římě 1790 domů s atriem, zvaných domus (dům), a celých 44 602\\nnájemných insulí, každá s několika desítkami obytných místností\" (Zdroj: SYROVÝ, Petr. Dobrodružství architektury, str.\\n124.)  Z \"průvodce\" po starověkém Římě dále citujeme: \"Mnohem častější než městské domy jsou v Římě\\nohromné činžovní domy, nacpané po šesti až osmi do bloků nazývaných insulae,\\nkteré zaplňují římská údolí a nižší strany úbočí pahorků. Kvalitou sahají od\\nskromných ložnic, kde nesnesitelně táhne, až po dobře položené byty s mnoha\\npokoji. Ideální byt se nachází v prvním patře, kde je zabezpečen před zloději,\\nale přitom sem lze snadno nanosit vodu a nákupy. Navíc odtud lze beze strachu\\nvyskočit, pokud by vypukl požár anebo se dům zčásti zhroutil. Podle ediktu\\ncísaře Traiana nesmí výška činžovních domů přesáhnout osmnáct metrů, což\\nobvykle odpovídá pěti podlažím, a Nero zavedl pravidla požární ochrany.\" (Zdroj: MATYSZAK, Philip. Starověký Řím za pět denárů na\\nden, str. 34 )  I slovo činže, činžovní bylo odvozeno z původního latinského\\nslova censere - cenit, odhadovat. Jak již bylo výše zmíněno, pro starověké\\nřímské domy se ovšem tento výraz nepoužíval. Do češtiny toto slovo proniklo\\nprostřednictvím němčiny. \"Po přejetí ještě v raném středověku se latinské\\ne změnilo v í a staré německé sykavky slyšeli Češi jako značně změkčené, odtud\\nčinž- za germánské cins-. Ve staré češtině znamenalo slovo činže jakýkoli\\npoplatek, až novodobě se významově zúžilo na význam \"nájemné\", hlavně\\n\"z bytu\". Československá právní terminologie tento termín užívaný za\\nRakouska nepřijala, po roce 1918 jazykovědci zavedli oficiální označení\\nnovočeské, avšak nespisovně se slova činže užívalo dál a zavedlo se označení\\nčinžovní dům neboli činžák, což bylo (neprávem) přeneseno i na velké domy\\n(nikoliv nájemní).\" (zdroj: kcjl2.upol.cz/krobotová/aktuality.doc )  Použité zdroje a doporučená literatura: * SYROVÝ, Petr. Dobrodružství architektury. 1. vyd.\\nPraha: ABF - Arch, 1999. 355 s. ISBN 80-86165-28-0. * MATYSZAK, Philip. Starověký Řím za pět denárů na den.\\n1. vyd. Praha: Mladá fronta, 2009. 141 s. ISBN 978-80-204-1795-4. * MATĚJČEK, Antonín. Dějepis umění. Díl první, Umění doby\\npředdějinné a starého věku. Praha: Jan Štenc, 1922. 195 s. * kcjl2.upol.cz/krobotová/aktuality.doc *http://www.rozhlas.cz/plzeň/jazykovykoutek/_zpráva/je-cinzovnik-to-samé-co-činžák--1358840',\n",
       " 'question_spell_korektor': 'Kdy se začali stavět činžovní domy a z jaké doby zhruba je tento výraz?Kdo přišel s tímto způsobem bydlení a kde to vzniklo?Děkuji',\n",
       " 'answer_spell_korektor': 'Dobrý den, vícepodlažní nájemné domy začaly být budovány již ve\\nstarověkém Římě. Nazývaly se nula (ostrov) a mohly dosahovat výšky až 8 - 9\\npater. Domy \"měly často do ulice honosné průčelí se\\nsloupovím, ale uvnitř bylo namačkáno množství malých bytů, často s místnostmi v\\nněkolika řadách za sebou, takže ty vnitřní neměly denní světlo. Horní patra\\nbyla často hrázděná (dřevěná sloupová konstrukce s cihlovými nebo hliněnými\\nvýplněmi) nebo dřevěná a zřejmě v nich docházelo k častým zřícením a požárům.\\nProto Augustus omezil výšku nuslí na 70 stop (asi 20,75 m) a později byla dál\\nsnížena na 60 stop (17, 55 m). I tak se do stanovené výšky vešlo 5 - 7 podlaží.\\nV té době bylo v Římě 1790 domů s atriem, zvaných domu (dům), a celých 44 602\\nnájemných nuslí, každá s několika desítkami obytných místností\" (zdroj: SYROVÝ, Petr. Dobrodružství architektury, str.\\n124.)  Z \"průvodce\" po starověkém Římě dále citujeme: \"mnohem častější než městské domy jsou v Římě\\nohromné činžovní domy, nacpané po šesti až osmi do bloků nazývaných insulin,\\nkteré zaplňují římská údolí a nižší strany úbočí pahorků. Kvalitou sahají od\\nskromných ložnic, kde nesnesitelně táhne, až po dobře položené byty s mnoha\\npokoji. Ideální byt se nachází v prvním patře, kde je zabezpečen před zloději,\\nale přitom sem lze snadno nanosit vodu a nákupy. Navíc odtud lze beze strachu\\nvyskočit, pokud by vypukl požár anebo se dům zčásti zhroutil. Podle ediktu\\ncísaře Traiana nesmí výška činžovních domů přesáhnout osmnáct metrů, což\\nobvykle odpovídá pěti podlaží, a Nero zavedl pravidla požární ochrany.\" (zdroj: MATYSKA, Philip. Starověký Řím za pět denárů na\\nden, str. 34 )  i slovo činže, činžovní bylo odvozeno z původního latinského\\nslova censore - cenit, odhadovat. Jak již bylo výše zmíněno, pro starověké\\nřímské domy se ovšem tento výraz nepoužíval. Do češtiny toto slovo proniklo\\nprostřednictvím němčiny. \"po přejetí ještě v raném středověku se latinské\\ne změnilo v i a staré německé sykavky slyšeli Češi jako značně změkčené, odtud\\nčin- za germánské cis-. Ve staré češtině znamenalo slovo činže jakýkoli\\npoplatek, až novodobě se významově zúžilo na význam \"nájemné\", hlavně\\n\"z bytu\". Československá právní terminologie tento termín užívaný za\\nRakouska nepřijala, po roce 1918 jazykovědci zavedli oficiální označení\\nnovočeské, avšak nespisovně se slova činže užívalo dál a zavedlo se označení\\nčinžovní dům neboli činžák, což bylo (neprávem) přeneseno i na velké domy\\n(nikoliv nájemní).\" (zdroj: kcal.pol.cz/Krobotová/aktuality.doc )  použité zdroje a doporučená literatura: * SYROVÝ, Petr. Dobrodružství architektury. 1. vyd.\\nPraha: AB - arch, 1999. 355 s. ISBN 80-86165-28-0. * MATYSKA, Philip. Starověký Řím za pět denárů na den.\\n1. vyd. Praha: Mladá fronta, 2009. 141 s. ISBN 978-80-204-1795-4. * MATĚJČEK, Antonín. Dějepis umění. Díl první, umění doby\\npředdějinné a starého věku. Praha: Jan Štencl, 1922. 195 s. * kcal.pol.cz/Krobotová/aktuality.doc *http://www.rozhlas.cz/plen/jazykovykoutek/_zpráva/e-cinzovnik-to-sami-co-cinzan--1358840',\n",
       " 'diacritics_correct': True}"
      ]
     },
     "execution_count": 13,
     "metadata": {},
     "output_type": "execute_result"
    }
   ],
   "source": [
    "dataset[1234]"
   ]
  },
  {
   "cell_type": "markdown",
   "metadata": {},
   "source": [
    "### final map"
   ]
  },
  {
   "cell_type": "code",
   "execution_count": 15,
   "metadata": {},
   "outputs": [
    {
     "data": {
      "application/vnd.jupyter.widget-view+json": {
       "model_id": "f8596942e04840058fc0d072a9a69a0b",
       "version_major": 2,
       "version_minor": 0
      },
      "text/plain": [
       "Map:   0%|          | 0/13663 [00:00<?, ? examples/s]"
      ]
     },
     "metadata": {},
     "output_type": "display_data"
    }
   ],
   "source": [
    "from ftfy import fix_text\n",
    "\n",
    "\n",
    "def knihovna_map(example):\n",
    "    input = example[\"question\"]\n",
    "    input = fix_text(input.strip())\n",
    "    output = fix_text(example[\"answer\"].strip())\n",
    "\n",
    "    if input == \"\" or output == \"\":\n",
    "        example[\"conversations\"] = None\n",
    "        return example\n",
    "    \n",
    "    user_conversation = {\"role\": \"user\", \"content\": input}\n",
    "    assistant_conversation = {\"role\": \"assistant\", \"content\": output}\n",
    "\n",
    "    conversations = [\n",
    "        user_conversation, assistant_conversation\n",
    "    ]\n",
    "\n",
    "    example[\"conversations\"] = conversations\n",
    "\n",
    "    return example\n",
    "\n",
    "\n",
    "dataset = dataset.map(knihovna_map)"
   ]
  },
  {
   "cell_type": "code",
   "execution_count": 17,
   "metadata": {},
   "outputs": [
    {
     "data": {
      "text/plain": [
       "{'title': 'e-knihy',\n",
       " 'question': 'Dobrý den, nemohu se prosím přihlásit přes zadané údaje, hlásí to chybně zadaný pin nebo čtenářské číslo, delší období jsem knihy nevypůjčovala, chci teď v době koronaviru zkusit e-lerning. Děkuji za odpověď.',\n",
       " 'answer': 'Moc mě to mrzí, ale v databázi čtenářů Vás již nemáme. Podle Nařízení na ochranu osobních údajů nemůžeme spravovat údaje čtenářů déle než šest měsíců od propadlé registrace. Potom musíme všechny Vaše údaje zarchivovat. Nabídnout Vám mohu založení nového čtenářského konta, toto lze však učinit až v okamžiku znovuotevření knihovny.',\n",
       " 'okres': 'Hradec Králové',\n",
       " 'library': 'Knihovna města Hradce Králové',\n",
       " 'category': 'Informace o knihovně',\n",
       " 'used_sources': None,\n",
       " 'date': Timestamp('2020-03-23 08:00:00'),\n",
       " 'url': 'https://www.ptejteseknihovny.cz/dotazy/-3',\n",
       " 'id': 0,\n",
       " 'language': 'cs',\n",
       " 'question_diacritics_korektor': 'Dobrý den, nemohu se prosím přihlásit přes zadané údaje, hlásí to chybně žádaný pin nebo čtenářské číslo, delší období jsem knihy nevypůjčovala, chci teď v době koronaviru zkusit e-lerning. Děkuji za odpověď.',\n",
       " 'answer_diacritics_korektor': 'Vážená paní,  moc mě to mrzí, ale v databázi čtenářů Vás již nemáme. Podle Nařízení na ochranu osobních údajů nemůžeme spravovat údaje čtenářů déle než šest měsíců od propadlé registrace. Potom musíme všechny Vaše údaje zarchivovat. Nabídnout Vám mohu založení nového čtenářského konta, toto lze však učinit až v okamžiku znovuotevření knihovny.  Momentálně můžete zkusit e-knihy, které jdou stahovat zdarma, více informací získáte na tomto webu -https://protiviru.knihovny.cz/  Děkuji za pochopení a přeji pevné zdraví',\n",
       " 'question_spell_korektor': 'Dobrý den, nemohu se prosím přihlásit přes zadané údaje, hlásí to chybně zadaný pin nebo čtenářské číslo, delší období jsem knihy nevypůjčovala, chci teď v době koronaviru zkusit e-learning. Děkuji za odpověď.',\n",
       " 'answer_spell_korektor': 'Vážená paní,  moc mě to mrzí, ale v databázi čtenářů vás již nemáme. Podle nařízení na ochranu osobních údajů nemůžeme spravovat údaje čtenářů déle než šest měsíců od propadlé registrace. Potom musíme všechny vaše údaje archivovat. Nabídnout vám mohu založení nového čtenářského konta, toto lze však učinit až v okamžiku znovuotevření knihovny.  Momentálně můžete zkusit e-knihy, které jdou stahovat zdarma, více informací získáte na tomto webu -http://protivětru.knihovny.cz/  děkuji za pochopení a přeji pevné zdraví',\n",
       " 'diacritics_correct': True,\n",
       " 'conversations': [{'content': 'Dobrý den, nemohu se prosím přihlásit přes zadané údaje, hlásí to chybně zadaný pin nebo čtenářské číslo, delší období jsem knihy nevypůjčovala, chci teď v době koronaviru zkusit e-lerning. Děkuji za odpověď.',\n",
       "   'role': 'user'},\n",
       "  {'content': 'Moc mě to mrzí, ale v databázi čtenářů Vás již nemáme. Podle Nařízení na ochranu osobních údajů nemůžeme spravovat údaje čtenářů déle než šest měsíců od propadlé registrace. Potom musíme všechny Vaše údaje zarchivovat. Nabídnout Vám mohu založení nového čtenářského konta, toto lze však učinit až v okamžiku znovuotevření knihovny.',\n",
       "   'role': 'assistant'}]}"
      ]
     },
     "execution_count": 17,
     "metadata": {},
     "output_type": "execute_result"
    }
   ],
   "source": [
    "dataset[0]"
   ]
  },
  {
   "cell_type": "code",
   "execution_count": 18,
   "metadata": {},
   "outputs": [
    {
     "data": {
      "application/vnd.jupyter.widget-view+json": {
       "model_id": "af53ff1d377846aa890580574ad353cd",
       "version_major": 2,
       "version_minor": 0
      },
      "text/plain": [
       "Filter:   0%|          | 0/13663 [00:00<?, ? examples/s]"
      ]
     },
     "metadata": {},
     "output_type": "display_data"
    },
    {
     "data": {
      "text/plain": [
       "Dataset({\n",
       "    features: ['title', 'question', 'answer', 'okres', 'library', 'category', 'used_sources', 'date', 'url', 'id', 'language', 'question_diacritics_korektor', 'answer_diacritics_korektor', 'question_spell_korektor', 'answer_spell_korektor', 'diacritics_correct', 'conversations'],\n",
       "    num_rows: 13374\n",
       "})"
      ]
     },
     "execution_count": 18,
     "metadata": {},
     "output_type": "execute_result"
    }
   ],
   "source": [
    "dataset = dataset.filter(lambda x: x['conversations'] is not None)\n",
    "dataset"
   ]
  },
  {
   "cell_type": "code",
   "execution_count": 19,
   "metadata": {},
   "outputs": [
    {
     "data": {
      "application/vnd.jupyter.widget-view+json": {
       "model_id": "20fcb7b317104edfb8d32691a95e156b",
       "version_major": 2,
       "version_minor": 0
      },
      "text/plain": [
       "Saving the dataset (0/1 shards):   0%|          | 0/13374 [00:00<?, ? examples/s]"
      ]
     },
     "metadata": {},
     "output_type": "display_data"
    }
   ],
   "source": [
    "dataset.save_to_disk(\"/home/mlynatom/master-thesis-repository-tomas-mlynar/datasets/instruction_tuning/ask_library/ask_library_cs_itformat\")"
   ]
  }
 ],
 "metadata": {
  "kernelspec": {
   "display_name": "Python 3 (ipykernel)",
   "language": "python",
   "name": "python3"
  },
  "language_info": {
   "codemirror_mode": {
    "name": "ipython",
    "version": 3
   },
   "file_extension": ".py",
   "mimetype": "text/x-python",
   "name": "python",
   "nbconvert_exporter": "python",
   "pygments_lexer": "ipython3",
   "version": "3.12.3"
  }
 },
 "nbformat": 4,
 "nbformat_minor": 2
}
