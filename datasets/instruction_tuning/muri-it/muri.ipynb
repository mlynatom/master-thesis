{
 "cells": [
  {
   "cell_type": "markdown",
   "metadata": {},
   "source": [
    "## Process MURI-IT datset (backtranslation of culturax dataset, wiki + wikihow)"
   ]
  },
  {
   "cell_type": "code",
   "execution_count": 1,
   "metadata": {},
   "outputs": [
    {
     "data": {
      "application/vnd.jupyter.widget-view+json": {
       "model_id": "e60b75fa3aa74abfa0d41dbb753d9ce1",
       "version_major": 2,
       "version_minor": 0
      },
      "text/plain": [
       "README.md:   0%|          | 0.00/171k [00:00<?, ?B/s]"
      ]
     },
     "metadata": {},
     "output_type": "display_data"
    },
    {
     "data": {
      "application/vnd.jupyter.widget-view+json": {
       "model_id": "d631d1ebb7a948a5ab4f4d2db17191ce",
       "version_major": 2,
       "version_minor": 0
      },
      "text/plain": [
       "train-00000-of-00001.parquet:   0%|          | 0.00/35.3M [00:00<?, ?B/s]"
      ]
     },
     "metadata": {},
     "output_type": "display_data"
    },
    {
     "data": {
      "application/vnd.jupyter.widget-view+json": {
       "model_id": "071e5471154d408ea61dcb03b005a580",
       "version_major": 2,
       "version_minor": 0
      },
      "text/plain": [
       "validation-00000-of-00001.parquet:   0%|          | 0.00/2.05M [00:00<?, ?B/s]"
      ]
     },
     "metadata": {},
     "output_type": "display_data"
    },
    {
     "data": {
      "application/vnd.jupyter.widget-view+json": {
       "model_id": "5c288be8962f41bc9d9dd4f128b0f5b5",
       "version_major": 2,
       "version_minor": 0
      },
      "text/plain": [
       "test-00000-of-00001.parquet:   0%|          | 0.00/1.98M [00:00<?, ?B/s]"
      ]
     },
     "metadata": {},
     "output_type": "display_data"
    },
    {
     "data": {
      "application/vnd.jupyter.widget-view+json": {
       "model_id": "d125d623f2cd45b69b9b34e00ec39261",
       "version_major": 2,
       "version_minor": 0
      },
      "text/plain": [
       "Generating train split:   0%|          | 0/15875 [00:00<?, ? examples/s]"
      ]
     },
     "metadata": {},
     "output_type": "display_data"
    },
    {
     "data": {
      "application/vnd.jupyter.widget-view+json": {
       "model_id": "41937c64ed894447aaf41b009e0486d5",
       "version_major": 2,
       "version_minor": 0
      },
      "text/plain": [
       "Generating validation split:   0%|          | 0/882 [00:00<?, ? examples/s]"
      ]
     },
     "metadata": {},
     "output_type": "display_data"
    },
    {
     "data": {
      "application/vnd.jupyter.widget-view+json": {
       "model_id": "5d7595aec7b343c48703a414bc1e1a9c",
       "version_major": 2,
       "version_minor": 0
      },
      "text/plain": [
       "Generating test split:   0%|          | 0/881 [00:00<?, ? examples/s]"
      ]
     },
     "metadata": {},
     "output_type": "display_data"
    }
   ],
   "source": [
    "from datasets import load_dataset\n",
    "\n",
    "dataset = load_dataset(\"akoksal/muri-it-language-split\", \"ces\")"
   ]
  },
  {
   "cell_type": "code",
   "execution_count": 10,
   "metadata": {},
   "outputs": [
    {
     "data": {
      "text/plain": [
       "DatasetDict({\n",
       "    train: Dataset({\n",
       "        features: ['input', 'output', 'dataset_name', 'subdataset_name', 'language', 'split', 'language_name'],\n",
       "        num_rows: 15875\n",
       "    })\n",
       "    validation: Dataset({\n",
       "        features: ['input', 'output', 'dataset_name', 'subdataset_name', 'language', 'split', 'language_name'],\n",
       "        num_rows: 882\n",
       "    })\n",
       "    test: Dataset({\n",
       "        features: ['input', 'output', 'dataset_name', 'subdataset_name', 'language', 'split', 'language_name'],\n",
       "        num_rows: 881\n",
       "    })\n",
       "})"
      ]
     },
     "execution_count": 10,
     "metadata": {},
     "output_type": "execute_result"
    }
   ],
   "source": [
    "dataset"
   ]
  },
  {
   "cell_type": "code",
   "execution_count": null,
   "metadata": {},
   "outputs": [],
   "source": []
  },
  {
   "cell_type": "code",
   "execution_count": 8,
   "metadata": {},
   "outputs": [
    {
     "data": {
      "text/plain": [
       "{'MRI', 'SuperNaturalInstructionv2', 'WikiHow'}"
      ]
     },
     "execution_count": 8,
     "metadata": {},
     "output_type": "execute_result"
    }
   ],
   "source": [
    "set(dataset[\"train\"][\"dataset_name\"])"
   ]
  },
  {
   "cell_type": "code",
   "execution_count": 11,
   "metadata": {},
   "outputs": [
    {
     "data": {
      "text/plain": [
       "{None,\n",
       " 'culturax/OSCAR-2019',\n",
       " 'culturax/OSCAR-2109',\n",
       " 'culturax/OSCAR-2201',\n",
       " 'culturax/OSCAR-2301',\n",
       " 'culturax/mC4',\n",
       " 'task1370_newscomm_classification',\n",
       " 'task1374_newscomm_translation',\n",
       " 'task842_para_pdt_cs_en_translation',\n",
       " 'wikipedia'}"
      ]
     },
     "execution_count": 11,
     "metadata": {},
     "output_type": "execute_result"
    }
   ],
   "source": [
    "set(dataset[\"train\"][\"subdataset_name\"])"
   ]
  },
  {
   "cell_type": "code",
   "execution_count": 13,
   "metadata": {},
   "outputs": [],
   "source": [
    "def muri_map(example):\n",
    "    input = example[\"input\"]\n",
    "    output = example[\"output\"]\n",
    "    \n",
    "    user_conversation = {\"role\": \"user\", \"content\": input}\n",
    "    assistant_conversation = {\"role\": \"assistant\", \"content\": output}\n",
    "\n",
    "    conversations = [\n",
    "        user_conversation, assistant_conversation\n",
    "    ]\n",
    "\n",
    "    example[\"conversations\"] = conversations\n",
    "\n",
    "    return example"
   ]
  },
  {
   "cell_type": "code",
   "execution_count": 17,
   "metadata": {},
   "outputs": [
    {
     "data": {
      "application/vnd.jupyter.widget-view+json": {
       "model_id": "ad8ce403a72842c6b5e519ebbf78d748",
       "version_major": 2,
       "version_minor": 0
      },
      "text/plain": [
       "Map:   0%|          | 0/15875 [00:00<?, ? examples/s]"
      ]
     },
     "metadata": {},
     "output_type": "display_data"
    },
    {
     "data": {
      "application/vnd.jupyter.widget-view+json": {
       "model_id": "14b139ee4628471fab36f92f204c354f",
       "version_major": 2,
       "version_minor": 0
      },
      "text/plain": [
       "Map:   0%|          | 0/882 [00:00<?, ? examples/s]"
      ]
     },
     "metadata": {},
     "output_type": "display_data"
    },
    {
     "data": {
      "application/vnd.jupyter.widget-view+json": {
       "model_id": "8a91af64c8f041c3b53a79902b39d5e5",
       "version_major": 2,
       "version_minor": 0
      },
      "text/plain": [
       "Map:   0%|          | 0/881 [00:00<?, ? examples/s]"
      ]
     },
     "metadata": {},
     "output_type": "display_data"
    },
    {
     "data": {
      "text/plain": [
       "{'input': 'Popište polohu města Black Point v provincii Saskatchewan.',\n",
       " 'output': 'Black Point je obec v Saskatchewanu. Tato severská osada s asi 70 obyvateli leží na jižním břehu jezera Lac La Loche, blízko vesnice La Loche. Je přístupná po silnici Highway 956 , která odbočuje ze silnice Highway 155.\\n\\nReference \\n\\nObce v Saskatchewanu',\n",
       " 'dataset_name': 'MRI',\n",
       " 'subdataset_name': 'wikipedia',\n",
       " 'language': 'ces',\n",
       " 'split': 'train',\n",
       " 'language_name': 'Czech',\n",
       " 'conversations': [{'content': 'Popište polohu města Black Point v provincii Saskatchewan.',\n",
       "   'role': 'user'},\n",
       "  {'content': 'Black Point je obec v Saskatchewanu. Tato severská osada s asi 70 obyvateli leží na jižním břehu jezera Lac La Loche, blízko vesnice La Loche. Je přístupná po silnici Highway 956 , která odbočuje ze silnice Highway 155.\\n\\nReference \\n\\nObce v Saskatchewanu',\n",
       "   'role': 'assistant'}]}"
      ]
     },
     "execution_count": 17,
     "metadata": {},
     "output_type": "execute_result"
    }
   ],
   "source": [
    "dataset = dataset.map(muri_map)\n",
    "dataset[\"train\"][500]"
   ]
  },
  {
   "cell_type": "code",
   "execution_count": 18,
   "metadata": {},
   "outputs": [
    {
     "data": {
      "application/vnd.jupyter.widget-view+json": {
       "model_id": "e79eeae711044f7eb5f488dc7bd0bc47",
       "version_major": 2,
       "version_minor": 0
      },
      "text/plain": [
       "Saving the dataset (0/1 shards):   0%|          | 0/15875 [00:00<?, ? examples/s]"
      ]
     },
     "metadata": {},
     "output_type": "display_data"
    },
    {
     "data": {
      "application/vnd.jupyter.widget-view+json": {
       "model_id": "bcc358dd6f0b48f5b27e2367bdc09a23",
       "version_major": 2,
       "version_minor": 0
      },
      "text/plain": [
       "Saving the dataset (0/1 shards):   0%|          | 0/882 [00:00<?, ? examples/s]"
      ]
     },
     "metadata": {},
     "output_type": "display_data"
    },
    {
     "data": {
      "application/vnd.jupyter.widget-view+json": {
       "model_id": "0028f0ef9618414e934afef218228fac",
       "version_major": 2,
       "version_minor": 0
      },
      "text/plain": [
       "Saving the dataset (0/1 shards):   0%|          | 0/881 [00:00<?, ? examples/s]"
      ]
     },
     "metadata": {},
     "output_type": "display_data"
    }
   ],
   "source": [
    "dataset.save_to_disk(\"/home/mlynatom/master-thesis-repository-tomas-mlynar/datasets/instruction_tuning/muri-it/murit-it_cs_itformat\")"
   ]
  }
 ],
 "metadata": {
  "kernelspec": {
   "display_name": "Python 3 (ipykernel)",
   "language": "python",
   "name": "python3"
  }
 },
 "nbformat": 4,
 "nbformat_minor": 2
}
