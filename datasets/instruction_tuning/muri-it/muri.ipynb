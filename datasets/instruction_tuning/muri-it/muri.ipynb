{
 "cells": [
  {
   "cell_type": "markdown",
   "metadata": {},
   "source": [
    "## Process MURI-IT datset (backtranslation of culturax dataset, wiki + wikihow)"
   ]
  },
  {
   "cell_type": "code",
   "execution_count": 6,
   "metadata": {},
   "outputs": [],
   "source": [
    "def muri_map(example):\n",
    "    input = example[\"input\"]\n",
    "    output = example[\"output\"]\n",
    "    \n",
    "    user_conversation = {\"role\": \"user\", \"content\": input}\n",
    "    assistant_conversation = {\"role\": \"assistant\", \"content\": output}\n",
    "\n",
    "    conversations = [\n",
    "        user_conversation, assistant_conversation\n",
    "    ]\n",
    "\n",
    "    example[\"conversations\"] = conversations\n",
    "\n",
    "    return example"
   ]
  },
  {
   "cell_type": "markdown",
   "metadata": {},
   "source": [
    "## Czech"
   ]
  },
  {
   "cell_type": "code",
   "execution_count": 1,
   "metadata": {},
   "outputs": [
    {
     "data": {
      "application/vnd.jupyter.widget-view+json": {
       "model_id": "e60b75fa3aa74abfa0d41dbb753d9ce1",
       "version_major": 2,
       "version_minor": 0
      },
      "text/plain": [
       "README.md:   0%|          | 0.00/171k [00:00<?, ?B/s]"
      ]
     },
     "metadata": {},
     "output_type": "display_data"
    },
    {
     "data": {
      "application/vnd.jupyter.widget-view+json": {
       "model_id": "d631d1ebb7a948a5ab4f4d2db17191ce",
       "version_major": 2,
       "version_minor": 0
      },
      "text/plain": [
       "train-00000-of-00001.parquet:   0%|          | 0.00/35.3M [00:00<?, ?B/s]"
      ]
     },
     "metadata": {},
     "output_type": "display_data"
    },
    {
     "data": {
      "application/vnd.jupyter.widget-view+json": {
       "model_id": "071e5471154d408ea61dcb03b005a580",
       "version_major": 2,
       "version_minor": 0
      },
      "text/plain": [
       "validation-00000-of-00001.parquet:   0%|          | 0.00/2.05M [00:00<?, ?B/s]"
      ]
     },
     "metadata": {},
     "output_type": "display_data"
    },
    {
     "data": {
      "application/vnd.jupyter.widget-view+json": {
       "model_id": "5c288be8962f41bc9d9dd4f128b0f5b5",
       "version_major": 2,
       "version_minor": 0
      },
      "text/plain": [
       "test-00000-of-00001.parquet:   0%|          | 0.00/1.98M [00:00<?, ?B/s]"
      ]
     },
     "metadata": {},
     "output_type": "display_data"
    },
    {
     "data": {
      "application/vnd.jupyter.widget-view+json": {
       "model_id": "d125d623f2cd45b69b9b34e00ec39261",
       "version_major": 2,
       "version_minor": 0
      },
      "text/plain": [
       "Generating train split:   0%|          | 0/15875 [00:00<?, ? examples/s]"
      ]
     },
     "metadata": {},
     "output_type": "display_data"
    },
    {
     "data": {
      "application/vnd.jupyter.widget-view+json": {
       "model_id": "41937c64ed894447aaf41b009e0486d5",
       "version_major": 2,
       "version_minor": 0
      },
      "text/plain": [
       "Generating validation split:   0%|          | 0/882 [00:00<?, ? examples/s]"
      ]
     },
     "metadata": {},
     "output_type": "display_data"
    },
    {
     "data": {
      "application/vnd.jupyter.widget-view+json": {
       "model_id": "5d7595aec7b343c48703a414bc1e1a9c",
       "version_major": 2,
       "version_minor": 0
      },
      "text/plain": [
       "Generating test split:   0%|          | 0/881 [00:00<?, ? examples/s]"
      ]
     },
     "metadata": {},
     "output_type": "display_data"
    }
   ],
   "source": [
    "from datasets import load_dataset\n",
    "\n",
    "dataset = load_dataset(\"akoksal/muri-it-language-split\", \"ces\")"
   ]
  },
  {
   "cell_type": "code",
   "execution_count": 10,
   "metadata": {},
   "outputs": [
    {
     "data": {
      "text/plain": [
       "DatasetDict({\n",
       "    train: Dataset({\n",
       "        features: ['input', 'output', 'dataset_name', 'subdataset_name', 'language', 'split', 'language_name'],\n",
       "        num_rows: 15875\n",
       "    })\n",
       "    validation: Dataset({\n",
       "        features: ['input', 'output', 'dataset_name', 'subdataset_name', 'language', 'split', 'language_name'],\n",
       "        num_rows: 882\n",
       "    })\n",
       "    test: Dataset({\n",
       "        features: ['input', 'output', 'dataset_name', 'subdataset_name', 'language', 'split', 'language_name'],\n",
       "        num_rows: 881\n",
       "    })\n",
       "})"
      ]
     },
     "execution_count": 10,
     "metadata": {},
     "output_type": "execute_result"
    }
   ],
   "source": [
    "dataset"
   ]
  },
  {
   "cell_type": "code",
   "execution_count": 8,
   "metadata": {},
   "outputs": [
    {
     "data": {
      "text/plain": [
       "{'MRI', 'SuperNaturalInstructionv2', 'WikiHow'}"
      ]
     },
     "execution_count": 8,
     "metadata": {},
     "output_type": "execute_result"
    }
   ],
   "source": [
    "set(dataset[\"train\"][\"dataset_name\"])"
   ]
  },
  {
   "cell_type": "code",
   "execution_count": 11,
   "metadata": {},
   "outputs": [
    {
     "data": {
      "text/plain": [
       "{None,\n",
       " 'culturax/OSCAR-2019',\n",
       " 'culturax/OSCAR-2109',\n",
       " 'culturax/OSCAR-2201',\n",
       " 'culturax/OSCAR-2301',\n",
       " 'culturax/mC4',\n",
       " 'task1370_newscomm_classification',\n",
       " 'task1374_newscomm_translation',\n",
       " 'task842_para_pdt_cs_en_translation',\n",
       " 'wikipedia'}"
      ]
     },
     "execution_count": 11,
     "metadata": {},
     "output_type": "execute_result"
    }
   ],
   "source": [
    "set(dataset[\"train\"][\"subdataset_name\"])"
   ]
  },
  {
   "cell_type": "code",
   "execution_count": 17,
   "metadata": {},
   "outputs": [
    {
     "data": {
      "application/vnd.jupyter.widget-view+json": {
       "model_id": "ad8ce403a72842c6b5e519ebbf78d748",
       "version_major": 2,
       "version_minor": 0
      },
      "text/plain": [
       "Map:   0%|          | 0/15875 [00:00<?, ? examples/s]"
      ]
     },
     "metadata": {},
     "output_type": "display_data"
    },
    {
     "data": {
      "application/vnd.jupyter.widget-view+json": {
       "model_id": "14b139ee4628471fab36f92f204c354f",
       "version_major": 2,
       "version_minor": 0
      },
      "text/plain": [
       "Map:   0%|          | 0/882 [00:00<?, ? examples/s]"
      ]
     },
     "metadata": {},
     "output_type": "display_data"
    },
    {
     "data": {
      "application/vnd.jupyter.widget-view+json": {
       "model_id": "8a91af64c8f041c3b53a79902b39d5e5",
       "version_major": 2,
       "version_minor": 0
      },
      "text/plain": [
       "Map:   0%|          | 0/881 [00:00<?, ? examples/s]"
      ]
     },
     "metadata": {},
     "output_type": "display_data"
    },
    {
     "data": {
      "text/plain": [
       "{'input': 'Popište polohu města Black Point v provincii Saskatchewan.',\n",
       " 'output': 'Black Point je obec v Saskatchewanu. Tato severská osada s asi 70 obyvateli leží na jižním břehu jezera Lac La Loche, blízko vesnice La Loche. Je přístupná po silnici Highway 956 , která odbočuje ze silnice Highway 155.\\n\\nReference \\n\\nObce v Saskatchewanu',\n",
       " 'dataset_name': 'MRI',\n",
       " 'subdataset_name': 'wikipedia',\n",
       " 'language': 'ces',\n",
       " 'split': 'train',\n",
       " 'language_name': 'Czech',\n",
       " 'conversations': [{'content': 'Popište polohu města Black Point v provincii Saskatchewan.',\n",
       "   'role': 'user'},\n",
       "  {'content': 'Black Point je obec v Saskatchewanu. Tato severská osada s asi 70 obyvateli leží na jižním břehu jezera Lac La Loche, blízko vesnice La Loche. Je přístupná po silnici Highway 956 , která odbočuje ze silnice Highway 155.\\n\\nReference \\n\\nObce v Saskatchewanu',\n",
       "   'role': 'assistant'}]}"
      ]
     },
     "execution_count": 17,
     "metadata": {},
     "output_type": "execute_result"
    }
   ],
   "source": [
    "dataset = dataset.map(muri_map)\n",
    "dataset[\"train\"][500]"
   ]
  },
  {
   "cell_type": "code",
   "execution_count": 18,
   "metadata": {},
   "outputs": [
    {
     "data": {
      "application/vnd.jupyter.widget-view+json": {
       "model_id": "e79eeae711044f7eb5f488dc7bd0bc47",
       "version_major": 2,
       "version_minor": 0
      },
      "text/plain": [
       "Saving the dataset (0/1 shards):   0%|          | 0/15875 [00:00<?, ? examples/s]"
      ]
     },
     "metadata": {},
     "output_type": "display_data"
    },
    {
     "data": {
      "application/vnd.jupyter.widget-view+json": {
       "model_id": "bcc358dd6f0b48f5b27e2367bdc09a23",
       "version_major": 2,
       "version_minor": 0
      },
      "text/plain": [
       "Saving the dataset (0/1 shards):   0%|          | 0/882 [00:00<?, ? examples/s]"
      ]
     },
     "metadata": {},
     "output_type": "display_data"
    },
    {
     "data": {
      "application/vnd.jupyter.widget-view+json": {
       "model_id": "0028f0ef9618414e934afef218228fac",
       "version_major": 2,
       "version_minor": 0
      },
      "text/plain": [
       "Saving the dataset (0/1 shards):   0%|          | 0/881 [00:00<?, ? examples/s]"
      ]
     },
     "metadata": {},
     "output_type": "display_data"
    }
   ],
   "source": [
    "dataset.save_to_disk(\"/home/mlynatom/master-thesis-repository-tomas-mlynar/datasets/instruction_tuning/muri-it/murit-it_cs_itformat\")"
   ]
  },
  {
   "cell_type": "markdown",
   "metadata": {},
   "source": [
    "## English"
   ]
  },
  {
   "cell_type": "code",
   "execution_count": 2,
   "metadata": {},
   "outputs": [
    {
     "data": {
      "application/vnd.jupyter.widget-view+json": {
       "model_id": "b1ced304cbfc44f8a43d58d2907b970d",
       "version_major": 2,
       "version_minor": 0
      },
      "text/plain": [
       "train-00000-of-00001.parquet:  17%|#7        | 21.0M/123M [00:00<?, ?B/s]"
      ]
     },
     "metadata": {},
     "output_type": "display_data"
    },
    {
     "data": {
      "application/vnd.jupyter.widget-view+json": {
       "model_id": "9025b9f15b3e4320adbabfeb470682aa",
       "version_major": 2,
       "version_minor": 0
      },
      "text/plain": [
       "validation-00000-of-00001.parquet:   0%|          | 0.00/6.92M [00:00<?, ?B/s]"
      ]
     },
     "metadata": {},
     "output_type": "display_data"
    },
    {
     "data": {
      "application/vnd.jupyter.widget-view+json": {
       "model_id": "bd5ef54e2ee8427289e69d7e3f1b7b4e",
       "version_major": 2,
       "version_minor": 0
      },
      "text/plain": [
       "test-00000-of-00001.parquet:   0%|          | 0.00/7.21M [00:00<?, ?B/s]"
      ]
     },
     "metadata": {},
     "output_type": "display_data"
    },
    {
     "data": {
      "application/vnd.jupyter.widget-view+json": {
       "model_id": "8448b329b3e341999b9c0b0fadc70d44",
       "version_major": 2,
       "version_minor": 0
      },
      "text/plain": [
       "Generating train split:   0%|          | 0/113395 [00:00<?, ? examples/s]"
      ]
     },
     "metadata": {},
     "output_type": "display_data"
    },
    {
     "data": {
      "application/vnd.jupyter.widget-view+json": {
       "model_id": "5838fa88958043aa82c112839805db1d",
       "version_major": 2,
       "version_minor": 0
      },
      "text/plain": [
       "Generating validation split:   0%|          | 0/6300 [00:00<?, ? examples/s]"
      ]
     },
     "metadata": {},
     "output_type": "display_data"
    },
    {
     "data": {
      "application/vnd.jupyter.widget-view+json": {
       "model_id": "475ca44b26384bf2a816af4a00c52abc",
       "version_major": 2,
       "version_minor": 0
      },
      "text/plain": [
       "Generating test split:   0%|          | 0/6300 [00:00<?, ? examples/s]"
      ]
     },
     "metadata": {},
     "output_type": "display_data"
    },
    {
     "data": {
      "text/plain": [
       "DatasetDict({\n",
       "    train: Dataset({\n",
       "        features: ['input', 'output', 'dataset_name', 'subdataset_name', 'language', 'split', 'language_name'],\n",
       "        num_rows: 113395\n",
       "    })\n",
       "    validation: Dataset({\n",
       "        features: ['input', 'output', 'dataset_name', 'subdataset_name', 'language', 'split', 'language_name'],\n",
       "        num_rows: 6300\n",
       "    })\n",
       "    test: Dataset({\n",
       "        features: ['input', 'output', 'dataset_name', 'subdataset_name', 'language', 'split', 'language_name'],\n",
       "        num_rows: 6300\n",
       "    })\n",
       "})"
      ]
     },
     "execution_count": 2,
     "metadata": {},
     "output_type": "execute_result"
    }
   ],
   "source": [
    "from datasets import load_dataset\n",
    "\n",
    "dataset = load_dataset(\"akoksal/muri-it-language-split\", \"eng\")\n",
    "dataset"
   ]
  },
  {
   "cell_type": "code",
   "execution_count": 3,
   "metadata": {},
   "outputs": [
    {
     "data": {
      "text/plain": [
       "{'MRI', 'OpenAssistant', 'WikiHow', 'flan_v2_tulu', 'xP3'}"
      ]
     },
     "execution_count": 3,
     "metadata": {},
     "output_type": "execute_result"
    }
   ],
   "source": [
    "set(dataset[\"train\"][\"dataset_name\"])"
   ]
  },
  {
   "cell_type": "code",
   "execution_count": 4,
   "metadata": {},
   "outputs": [
    {
     "data": {
      "text/plain": [
       "{None,\n",
       " 'culturax/OSCAR-2019',\n",
       " 'culturax/OSCAR-2109',\n",
       " 'culturax/OSCAR-2201',\n",
       " 'culturax/OSCAR-2301',\n",
       " 'culturax/mC4',\n",
       " 'wikipedia'}"
      ]
     },
     "execution_count": 4,
     "metadata": {},
     "output_type": "execute_result"
    }
   ],
   "source": [
    "set(dataset[\"train\"][\"subdataset_name\"])"
   ]
  },
  {
   "cell_type": "code",
   "execution_count": 7,
   "metadata": {},
   "outputs": [
    {
     "data": {
      "application/vnd.jupyter.widget-view+json": {
       "model_id": "905721caa53e4db0b146128161e43de1",
       "version_major": 2,
       "version_minor": 0
      },
      "text/plain": [
       "Map:   0%|          | 0/113395 [00:00<?, ? examples/s]"
      ]
     },
     "metadata": {},
     "output_type": "display_data"
    },
    {
     "data": {
      "application/vnd.jupyter.widget-view+json": {
       "model_id": "90f25a3d3c0d4124952e0edc8ba4f933",
       "version_major": 2,
       "version_minor": 0
      },
      "text/plain": [
       "Map:   0%|          | 0/6300 [00:00<?, ? examples/s]"
      ]
     },
     "metadata": {},
     "output_type": "display_data"
    },
    {
     "data": {
      "application/vnd.jupyter.widget-view+json": {
       "model_id": "34cddf117b7940f28b1b27afcb058638",
       "version_major": 2,
       "version_minor": 0
      },
      "text/plain": [
       "Map:   0%|          | 0/6300 [00:00<?, ? examples/s]"
      ]
     },
     "metadata": {},
     "output_type": "display_data"
    },
    {
     "data": {
      "text/plain": [
       "{'input': 'Use a Urine Dipstick Test',\n",
       " 'output': 'A urine dipstick test is a type of fluid analysis used by medical professionals to screen for various diseases and health complications. When the test strip is saturated with urine, it changes color to indicate the presence of compounds like proteins, ketones, hemoglobin, and nitrites, as well as harmful pathogens. To use a subject’s urine to determine their health, it’s first necessary to collect a fresh sample. Afterwards, you can mark any changes on the strip and interpret your findings to make a diagnosis.\\n1. Wash your hands\\n2. Fill a sterile specimen container with urine\\n3. Dip the test strip into the urine.\\n4. Use an absorbent material to blot the edge of the strip against.\\n5. Turn the strip sideways before reading it.\\n6. Wait approximately 2 minutes for the results.\\n7. Compare the test squares to the color chart.\\n8. Read the test squares in chronological order.\\n9. Interpret the results carefully.\\n10. Test the urine right away.\\n11. Pay attention to the physical characteristics of the urine.\\n12. Keep in mind that a dipstick test is not infallible.',\n",
       " 'dataset_name': 'WikiHow',\n",
       " 'subdataset_name': None,\n",
       " 'language': 'eng',\n",
       " 'split': 'train',\n",
       " 'language_name': 'English',\n",
       " 'conversations': [{'content': 'Use a Urine Dipstick Test', 'role': 'user'},\n",
       "  {'content': 'A urine dipstick test is a type of fluid analysis used by medical professionals to screen for various diseases and health complications. When the test strip is saturated with urine, it changes color to indicate the presence of compounds like proteins, ketones, hemoglobin, and nitrites, as well as harmful pathogens. To use a subject’s urine to determine their health, it’s first necessary to collect a fresh sample. Afterwards, you can mark any changes on the strip and interpret your findings to make a diagnosis.\\n1. Wash your hands\\n2. Fill a sterile specimen container with urine\\n3. Dip the test strip into the urine.\\n4. Use an absorbent material to blot the edge of the strip against.\\n5. Turn the strip sideways before reading it.\\n6. Wait approximately 2 minutes for the results.\\n7. Compare the test squares to the color chart.\\n8. Read the test squares in chronological order.\\n9. Interpret the results carefully.\\n10. Test the urine right away.\\n11. Pay attention to the physical characteristics of the urine.\\n12. Keep in mind that a dipstick test is not infallible.',\n",
       "   'role': 'assistant'}]}"
      ]
     },
     "execution_count": 7,
     "metadata": {},
     "output_type": "execute_result"
    }
   ],
   "source": [
    "dataset = dataset.map(muri_map)\n",
    "dataset[\"train\"][500]"
   ]
  },
  {
   "cell_type": "code",
   "execution_count": 8,
   "metadata": {},
   "outputs": [
    {
     "data": {
      "application/vnd.jupyter.widget-view+json": {
       "model_id": "14216b8bf00b45bf83d6cc2ceab51a98",
       "version_major": 2,
       "version_minor": 0
      },
      "text/plain": [
       "Saving the dataset (0/1 shards):   0%|          | 0/113395 [00:00<?, ? examples/s]"
      ]
     },
     "metadata": {},
     "output_type": "display_data"
    },
    {
     "data": {
      "application/vnd.jupyter.widget-view+json": {
       "model_id": "17927a4342944129982fdece70e9d36d",
       "version_major": 2,
       "version_minor": 0
      },
      "text/plain": [
       "Saving the dataset (0/1 shards):   0%|          | 0/6300 [00:00<?, ? examples/s]"
      ]
     },
     "metadata": {},
     "output_type": "display_data"
    },
    {
     "data": {
      "application/vnd.jupyter.widget-view+json": {
       "model_id": "5d2a6a4fcef24734aaa16b4d07d9564f",
       "version_major": 2,
       "version_minor": 0
      },
      "text/plain": [
       "Saving the dataset (0/1 shards):   0%|          | 0/6300 [00:00<?, ? examples/s]"
      ]
     },
     "metadata": {},
     "output_type": "display_data"
    }
   ],
   "source": [
    "dataset.save_to_disk(\"/home/mlynatom/master-thesis-repository-tomas-mlynar/datasets/instruction_tuning/muri-it/murit-it_en_itformat\")"
   ]
  }
 ],
 "metadata": {
  "kernelspec": {
   "display_name": "Python 3 (ipykernel)",
   "language": "python",
   "name": "python3"
  },
  "language_info": {
   "codemirror_mode": {
    "name": "ipython",
    "version": 3
   },
   "file_extension": ".py",
   "mimetype": "text/x-python",
   "name": "python",
   "nbconvert_exporter": "python",
   "pygments_lexer": "ipython3",
   "version": "3.12.3"
  }
 },
 "nbformat": 4,
 "nbformat_minor": 2
}
