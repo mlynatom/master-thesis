{
 "cells": [
  {
   "cell_type": "markdown",
   "metadata": {},
   "source": [
    "# Process UJC cas dataset"
   ]
  },
  {
   "cell_type": "code",
   "execution_count": 66,
   "metadata": {},
   "outputs": [
    {
     "data": {
      "application/vnd.jupyter.widget-view+json": {
       "model_id": "ed847e401fb14d56affc6a96c136a331",
       "version_major": 2,
       "version_minor": 0
      },
      "text/plain": [
       "README.md:   0%|          | 0.00/4.90k [00:00<?, ?B/s]"
      ]
     },
     "metadata": {},
     "output_type": "display_data"
    },
    {
     "data": {
      "application/vnd.jupyter.widget-view+json": {
       "model_id": "eaced754455c492fa31e1ae4c3460bc6",
       "version_major": 2,
       "version_minor": 0
      },
      "text/plain": [
       "train-00000-of-00001.parquet:   0%|          | 0.00/7.23M [00:00<?, ?B/s]"
      ]
     },
     "metadata": {},
     "output_type": "display_data"
    },
    {
     "data": {
      "application/vnd.jupyter.widget-view+json": {
       "model_id": "a1706fea44ff4ecdb352020af73574be",
       "version_major": 2,
       "version_minor": 0
      },
      "text/plain": [
       "Generating train split:   0%|          | 0/12363 [00:00<?, ? examples/s]"
      ]
     },
     "metadata": {},
     "output_type": "display_data"
    }
   ],
   "source": [
    "from datasets import load_dataset\n",
    "\n",
    "\n",
    "dataset = load_dataset(\"ctu-aic/questions_ujc_cas_cs\", split=\"train\")"
   ]
  },
  {
   "cell_type": "code",
   "execution_count": 67,
   "metadata": {},
   "outputs": [
    {
     "data": {
      "text/plain": [
       "{'question': 'Jakou doporučujete příručku pro danou problematiku?',\n",
       " 'specific_question': 'Kde najdu informace o užívání tří teček?',\n",
       " 'keyword': 'tři tečky',\n",
       " 'answer': 'Doporučujeme vám Internetovou jazykovou příručku. Výklad věnující se užívání tří teček najdete v kapitole o interpunkci, konkrétní oddíl je zde: https://prirucka.ujc.cas.cz/?id=166.',\n",
       " 'last_usage': Timestamp('2023-01-09 00:00:00'),\n",
       " 'variants': None,\n",
       " 'id': 377,\n",
       " 'conversations': [{'content': 'Kde najdu informace o užívání tří teček?',\n",
       "   'role': 'user'},\n",
       "  {'content': 'Doporučujeme vám Internetovou jazykovou příručku. Výklad věnující se užívání tří teček najdete v kapitole o interpunkci, konkrétní oddíl je zde: https://prirucka.ujc.cas.cz/?id=166.',\n",
       "   'role': 'assistant'}]}"
      ]
     },
     "execution_count": 67,
     "metadata": {},
     "output_type": "execute_result"
    }
   ],
   "source": [
    "dataset[377]"
   ]
  },
  {
   "cell_type": "code",
   "execution_count": 68,
   "metadata": {},
   "outputs": [
    {
     "name": "stderr",
     "output_type": "stream",
     "text": [
      "[nltk_data] Downloading package punkt_tab to\n",
      "[nltk_data]     /home/mlynatom/nltk_data...\n",
      "[nltk_data]   Package punkt_tab is already up-to-date!\n"
     ]
    }
   ],
   "source": [
    "import re\n",
    "import nltk\n",
    "nltk.download('punkt_tab')\n",
    "\n",
    "def remove_url(text:str) -> str:\n",
    "    url_in_brackets_pattern = re.compile(r'\\s*\\([^)(]*https?:\\/\\/[^\\s()]+[^)(]*\\)')\n",
    "    if \"http\" in text:\n",
    "        #remove urls in brackets\n",
    "        text = re.sub(url_in_brackets_pattern, '', text)\n",
    "\n",
    "        #if url still in the answer\n",
    "        if \"http\" in text:\n",
    "            #handle standalone urls\n",
    "            ##obtain sentences\n",
    "            sentences=nltk.tokenize.sent_tokenize(text, language=\"czech\")\n",
    "            ##find sentences without urls\n",
    "            filtered_sentences = [sentence for sentence in sentences if \"http\" not in sentence]\n",
    "            \n",
    "            text = \" \".join(filtered_sentences)\n",
    "\n",
    "    \n",
    "    return text\n",
    "    "
   ]
  },
  {
   "cell_type": "code",
   "execution_count": 69,
   "metadata": {},
   "outputs": [],
   "source": [
    "from ftfy import fix_text\n",
    "\n",
    "\n",
    "def ujc_cas_map(example):\n",
    "    input = example[\"specific_question\"] if example[\"specific_question\"] is not None else example[\"question\"]\n",
    "    input = fix_text(input.strip())\n",
    "    input = remove_url(input)\n",
    "    output = fix_text(example[\"answer\"].strip())\n",
    "    output = remove_url(output)\n",
    "\n",
    "    if input == \"\" or output == \"\":\n",
    "        example[\"conversations\"] = []\n",
    "        return example\n",
    "    \n",
    "    user_conversation = {\"role\": \"user\", \"content\": input}\n",
    "    assistant_conversation = {\"role\": \"assistant\", \"content\": output}\n",
    "\n",
    "    conversations = [\n",
    "        user_conversation, assistant_conversation\n",
    "    ]\n",
    "\n",
    "    example[\"conversations\"] = conversations\n",
    "\n",
    "    return example"
   ]
  },
  {
   "cell_type": "code",
   "execution_count": 70,
   "metadata": {},
   "outputs": [
    {
     "data": {
      "application/vnd.jupyter.widget-view+json": {
       "model_id": "15b699aaae6540c8a438680682e97b05",
       "version_major": 2,
       "version_minor": 0
      },
      "text/plain": [
       "Map:   0%|          | 0/12363 [00:00<?, ? examples/s]"
      ]
     },
     "metadata": {},
     "output_type": "display_data"
    }
   ],
   "source": [
    "dataset = dataset.map(ujc_cas_map)"
   ]
  },
  {
   "cell_type": "code",
   "execution_count": 71,
   "metadata": {},
   "outputs": [
    {
     "data": {
      "text/plain": [
       "{'question': 'Jazykové poradenství ve světě',\n",
       " 'specific_question': 'Na koho se mohu s žádostí o odpověď na jazykový dotaz obrátit na Slovensku, máte tam nějakou partnerskou organizaci?',\n",
       " 'keyword': 'jazyková poradna',\n",
       " 'answer': 'V Bratislavě působí Jazyková poradňa Ľudovíta Štúra SAV, více informací a kontakty naleznete na adrese: https://jazykovaporadna.sme.sk/s/onas/.',\n",
       " 'last_usage': Timestamp('2017-01-19 00:00:00'),\n",
       " 'variants': None,\n",
       " 'id': 8710,\n",
       " 'conversations': []}"
      ]
     },
     "execution_count": 71,
     "metadata": {},
     "output_type": "execute_result"
    }
   ],
   "source": [
    "dataset[8710]"
   ]
  },
  {
   "cell_type": "code",
   "execution_count": 72,
   "metadata": {},
   "outputs": [
    {
     "data": {
      "application/vnd.jupyter.widget-view+json": {
       "model_id": "8988b672c7ec400fa31f91400156f4f2",
       "version_major": 2,
       "version_minor": 0
      },
      "text/plain": [
       "Uploading the dataset shards:   0%|          | 0/1 [00:00<?, ?it/s]"
      ]
     },
     "metadata": {},
     "output_type": "display_data"
    },
    {
     "data": {
      "application/vnd.jupyter.widget-view+json": {
       "model_id": "821b47a124d94e5fabf6755d0b8abf01",
       "version_major": 2,
       "version_minor": 0
      },
      "text/plain": [
       "Creating parquet from Arrow format:   0%|          | 0/13 [00:00<?, ?ba/s]"
      ]
     },
     "metadata": {},
     "output_type": "display_data"
    },
    {
     "data": {
      "text/plain": [
       "CommitInfo(commit_url='https://huggingface.co/datasets/ctu-aic/questions_ujc_cas_cs/commit/f81b4e85cec7439186b00217dc87853814e83b77', commit_message='Conversations urls removed', commit_description='', oid='f81b4e85cec7439186b00217dc87853814e83b77', pr_url=None, repo_url=RepoUrl('https://huggingface.co/datasets/ctu-aic/questions_ujc_cas_cs', endpoint='https://huggingface.co', repo_type='dataset', repo_id='ctu-aic/questions_ujc_cas_cs'), pr_revision=None, pr_num=None)"
      ]
     },
     "execution_count": 72,
     "metadata": {},
     "output_type": "execute_result"
    }
   ],
   "source": [
    "dataset.push_to_hub(\"ctu-aic/questions_ujc_cas_cs\", commit_message=\"Conversations urls removed\")"
   ]
  },
  {
   "cell_type": "code",
   "execution_count": 73,
   "metadata": {},
   "outputs": [
    {
     "data": {
      "application/vnd.jupyter.widget-view+json": {
       "model_id": "f334e402b7534d3f9e9131ec103e91a9",
       "version_major": 2,
       "version_minor": 0
      },
      "text/plain": [
       "Saving the dataset (0/1 shards):   0%|          | 0/12363 [00:00<?, ? examples/s]"
      ]
     },
     "metadata": {},
     "output_type": "display_data"
    }
   ],
   "source": [
    "dataset.save_to_disk(\"/home/mlynatom/master-thesis-repository-tomas-mlynar/datasets/instruction_tuning/ujc_cas/questions_ujc_cas_cs_itformat\")"
   ]
  }
 ],
 "metadata": {
  "kernelspec": {
   "display_name": "Python 3 (ipykernel)",
   "language": "python",
   "name": "python3"
  },
  "language_info": {
   "codemirror_mode": {
    "name": "ipython",
    "version": 3
   },
   "file_extension": ".py",
   "mimetype": "text/x-python",
   "name": "python",
   "nbconvert_exporter": "python",
   "pygments_lexer": "ipython3",
   "version": "3.12.3"
  }
 },
 "nbformat": 4,
 "nbformat_minor": 2
}
