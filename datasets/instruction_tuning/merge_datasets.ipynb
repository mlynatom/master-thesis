{
 "cells": [
  {
   "cell_type": "markdown",
   "metadata": {},
   "source": [
    "# Merge IT datasets"
   ]
  },
  {
   "cell_type": "code",
   "execution_count": 1,
   "metadata": {},
   "outputs": [],
   "source": [
    "IT_DATASETS_PATHS = [\n",
    "    \"datasets/instruction_tuning/bactrian-x/bactrian-x_cs_itformat\",\n",
    "    \"datasets/instruction_tuning/muri-it/murit-it_cs_itformat\",\n",
    "    \"datasets/instruction_tuning/oasst/oasst2_cs_itformat\",\n",
    "    \"datasets/instruction_tuning/share_gpt/ShareGPT_cs_itformat\",\n",
    "    \"datasets/instruction_tuning/ujc_cas/questions_ujc_cas_cs_itformat\",\n",
    "    \"datasets/instruction_tuning/ask_library/ask_library_cs_itformat\",\n",
    "]"
   ]
  },
  {
   "cell_type": "code",
   "execution_count": 2,
   "metadata": {},
   "outputs": [],
   "source": [
    "ID2DATASET = {\n",
    "    0: \"bactrian-x\",\n",
    "    1: \"muri-it\",\n",
    "    2: \"oasst2\",\n",
    "    3: \"share_gpt\",\n",
    "    4: \"questions_ujc_cas\",\n",
    "    5: \"ask_library\",\n",
    "}"
   ]
  },
  {
   "cell_type": "code",
   "execution_count": 3,
   "metadata": {},
   "outputs": [
    {
     "data": {
      "text/plain": [
       "[Dataset({\n",
       "     features: ['instruction', 'input', 'id', 'output', 'conversations'],\n",
       "     num_rows: 67017\n",
       " }),\n",
       " DatasetDict({\n",
       "     train: Dataset({\n",
       "         features: ['input', 'output', 'dataset_name', 'subdataset_name', 'language', 'split', 'language_name', 'conversations'],\n",
       "         num_rows: 15875\n",
       "     })\n",
       "     validation: Dataset({\n",
       "         features: ['input', 'output', 'dataset_name', 'subdataset_name', 'language', 'split', 'language_name', 'conversations'],\n",
       "         num_rows: 882\n",
       "     })\n",
       "     test: Dataset({\n",
       "         features: ['input', 'output', 'dataset_name', 'subdataset_name', 'language', 'split', 'language_name', 'conversations'],\n",
       "         num_rows: 881\n",
       "     })\n",
       " }),\n",
       " Dataset({\n",
       "     features: ['id', 'conversations'],\n",
       "     num_rows: 3\n",
       " }),\n",
       " Dataset({\n",
       "     features: ['id', 'conversations'],\n",
       "     num_rows: 187\n",
       " }),\n",
       " Dataset({\n",
       "     features: ['question', 'specific_question', 'keyword', 'answer', 'last_usage', 'variants', 'id', 'conversations'],\n",
       "     num_rows: 12363\n",
       " }),\n",
       " Dataset({\n",
       "     features: ['title', 'question', 'answer', 'okres', 'library', 'category', 'used_sources', 'date', 'url', 'id', 'language', 'question_diacritics_korektor', 'answer_diacritics_korektor', 'question_spell_korektor', 'answer_spell_korektor', 'diacritics_correct', 'conversations'],\n",
       "     num_rows: 13374\n",
       " })]"
      ]
     },
     "execution_count": 3,
     "metadata": {},
     "output_type": "execute_result"
    }
   ],
   "source": [
    "from datasets import load_from_disk\n",
    "\n",
    "loaded_datasets = []\n",
    "\n",
    "for dataset_path in IT_DATASETS_PATHS:\n",
    "    loaded_datasets.append(load_from_disk(dataset_path))\n",
    "\n",
    "loaded_datasets"
   ]
  },
  {
   "cell_type": "code",
   "execution_count": 4,
   "metadata": {},
   "outputs": [
    {
     "data": {
      "text/plain": [
       "Dataset({\n",
       "    features: ['title', 'question', 'answer', 'okres', 'library', 'category', 'used_sources', 'date', 'url', 'id', 'language', 'question_diacritics_korektor', 'answer_diacritics_korektor', 'question_spell_korektor', 'answer_spell_korektor', 'diacritics_correct', 'conversations'],\n",
       "    num_rows: 13374\n",
       "})"
      ]
     },
     "execution_count": 4,
     "metadata": {},
     "output_type": "execute_result"
    }
   ],
   "source": [
    "loaded_datasets[5]"
   ]
  },
  {
   "cell_type": "code",
   "execution_count": 5,
   "metadata": {},
   "outputs": [
    {
     "ename": "IndexError",
     "evalue": "list index out of range",
     "output_type": "error",
     "traceback": [
      "\u001b[0;31m---------------------------------------------------------------------------\u001b[0m",
      "\u001b[0;31mIndexError\u001b[0m                                Traceback (most recent call last)",
      "Cell \u001b[0;32mIn[5], line 1\u001b[0m\n\u001b[0;32m----> 1\u001b[0m \u001b[43mloaded_datasets\u001b[49m\u001b[43m[\u001b[49m\u001b[38;5;241;43m6\u001b[39;49m\u001b[43m]\u001b[49m[\u001b[38;5;241m0\u001b[39m]\n",
      "\u001b[0;31mIndexError\u001b[0m: list index out of range"
     ]
    }
   ],
   "source": [
    "loaded_datasets[6][0]"
   ]
  },
  {
   "cell_type": "code",
   "execution_count": 9,
   "metadata": {},
   "outputs": [
    {
     "data": {
      "application/vnd.jupyter.widget-view+json": {
       "model_id": "1d343549af434fe692c9dfb4d712b9eb",
       "version_major": 2,
       "version_minor": 0
      },
      "text/plain": [
       "Filter:   0%|          | 0/67017 [00:00<?, ? examples/s]"
      ]
     },
     "metadata": {},
     "output_type": "display_data"
    },
    {
     "data": {
      "application/vnd.jupyter.widget-view+json": {
       "model_id": "520efbcce6c746a0b309df7d56ec3d93",
       "version_major": 2,
       "version_minor": 0
      },
      "text/plain": [
       "Filter:   0%|          | 0/15875 [00:00<?, ? examples/s]"
      ]
     },
     "metadata": {},
     "output_type": "display_data"
    },
    {
     "data": {
      "application/vnd.jupyter.widget-view+json": {
       "model_id": "c07f3725b845482e99935f5fd6ec4181",
       "version_major": 2,
       "version_minor": 0
      },
      "text/plain": [
       "Filter:   0%|          | 0/882 [00:00<?, ? examples/s]"
      ]
     },
     "metadata": {},
     "output_type": "display_data"
    },
    {
     "data": {
      "application/vnd.jupyter.widget-view+json": {
       "model_id": "a376edebccf04b3fba1a81285a27092f",
       "version_major": 2,
       "version_minor": 0
      },
      "text/plain": [
       "Filter:   0%|          | 0/881 [00:00<?, ? examples/s]"
      ]
     },
     "metadata": {},
     "output_type": "display_data"
    },
    {
     "data": {
      "application/vnd.jupyter.widget-view+json": {
       "model_id": "dcc0a22fdbe94d07a6f780b49a8fdbe2",
       "version_major": 2,
       "version_minor": 0
      },
      "text/plain": [
       "Filter:   0%|          | 0/3 [00:00<?, ? examples/s]"
      ]
     },
     "metadata": {},
     "output_type": "display_data"
    },
    {
     "data": {
      "application/vnd.jupyter.widget-view+json": {
       "model_id": "0b4a7469bf374d0f8c7d6dcba1dd099f",
       "version_major": 2,
       "version_minor": 0
      },
      "text/plain": [
       "Filter:   0%|          | 0/187 [00:00<?, ? examples/s]"
      ]
     },
     "metadata": {},
     "output_type": "display_data"
    },
    {
     "data": {
      "application/vnd.jupyter.widget-view+json": {
       "model_id": "8fdcc525a65c409aa12bef5921175d16",
       "version_major": 2,
       "version_minor": 0
      },
      "text/plain": [
       "Filter:   0%|          | 0/12363 [00:00<?, ? examples/s]"
      ]
     },
     "metadata": {},
     "output_type": "display_data"
    },
    {
     "data": {
      "application/vnd.jupyter.widget-view+json": {
       "model_id": "3f34c24d597f4521b85efedee5507999",
       "version_major": 2,
       "version_minor": 0
      },
      "text/plain": [
       "Filter:   0%|          | 0/13374 [00:00<?, ? examples/s]"
      ]
     },
     "metadata": {},
     "output_type": "display_data"
    }
   ],
   "source": [
    "from datasets import Value\n",
    "\n",
    "final_datasets = []\n",
    "for i, dataset in enumerate(loaded_datasets):\n",
    "    if ID2DATASET[i] == \"bactrian-x\":\n",
    "        tmp_dataset = dataset\n",
    "        tmp_dataset = tmp_dataset.remove_columns([\"instruction\", \"input\", \"output\"])\n",
    "        tmp_dataset = tmp_dataset.rename_column(\"id\", \"original_id\")\n",
    "        tmp_dataset = tmp_dataset.map(lambda x: {\"origin\" : f\"bactrian-x-{x['original_id'].split(\"-\")[0]}\"})\n",
    "    elif ID2DATASET[i] == \"muri-it\": \n",
    "        tmp_dataset = dataset\n",
    "\n",
    "        def muri_origin(x):\n",
    "            if x[\"subdataset_name\"] is None:\n",
    "                x[\"origin\"] = f\"muri-it-{x['dataset_name']}\"\n",
    "            else:\n",
    "                x[\"origin\"] = f\"muri-it-{x['dataset_name']}-{x['subdataset_name']}\"\n",
    "            return x\n",
    "        \n",
    "        tmp_dataset = tmp_dataset.map(muri_origin)\n",
    "        tmp_dataset = tmp_dataset.remove_columns([\"input\", \"output\", \"language\", \"split\", \"language_name\", \"dataset_name\", \"subdataset_name\"])\n",
    "        tmp_dataset = tmp_dataset.map(lambda _: {\"origin\" : \"murit-it\", \"original_id\": \"murit-it\"})\n",
    "\n",
    "    elif ID2DATASET[i] == \"oasst2\":\n",
    "        tmp_dataset = dataset\n",
    "        tmp_dataset = tmp_dataset.rename_column(\"id\", \"original_id\")\n",
    "        tmp_dataset = tmp_dataset.map(lambda _: {\"origin\" : \"oasst2\"})\n",
    "\n",
    "    elif ID2DATASET[i] == \"share_gpt\":\n",
    "        tmp_dataset = dataset\n",
    "        tmp_dataset = tmp_dataset.rename_column(\"id\", \"original_id\")\n",
    "        tmp_dataset = tmp_dataset.map(lambda _: {\"origin\" : \"share_gpt\"})\n",
    "    elif ID2DATASET[i] == \"questions_ujc_cas\":\n",
    "        tmp_dataset = dataset\n",
    "        tmp_dataset = tmp_dataset.rename_column(\"id\", \"original_id\")\n",
    "        #convert to str\n",
    "        tmp_dataset = tmp_dataset.cast_column(\"original_id\", Value(\"string\"))\n",
    "        tmp_dataset = tmp_dataset.map(lambda _: {\"origin\" : \"questions_ujc_cas\"})\n",
    "        tmp_dataset = tmp_dataset.remove_columns([\"question\", \"specific_question\", \"keyword\", \"answer\", \"last_usage\", \"variants\"])\n",
    "        \n",
    "    elif ID2DATASET[i] == \"ask_library\":\n",
    "        tmp_dataset = dataset\n",
    "        tmp_dataset = tmp_dataset.rename_column(\"id\", \"original_id\")\n",
    "        tmp_dataset = tmp_dataset.map(lambda _: {\"origin\" : \"ask_library\"})\n",
    "        #convert to str\n",
    "        tmp_dataset= tmp_dataset.cast_column(\"original_id\", Value(\"string\"))\n",
    "        tmp_dataset = tmp_dataset.remove_columns([\"title\", \"question\", \"answer\", \"okres\", \"library\", \"category\", \"used_sources\", \"date\", \"url\", \"language\", 'question_diacritics_korektor', 'answer_diacritics_korektor', 'question_spell_korektor', 'answer_spell_korektor', 'diacritics_correct'])\n",
    "    \n",
    "    tmp_dataset = tmp_dataset.filter(lambda x: len(x[\"conversations\"])>0)\n",
    "    final_datasets.append(tmp_dataset)"
   ]
  },
  {
   "cell_type": "code",
   "execution_count": 10,
   "metadata": {},
   "outputs": [
    {
     "data": {
      "text/plain": [
       "[Dataset({\n",
       "     features: ['original_id', 'conversations', 'origin'],\n",
       "     num_rows: 67017\n",
       " }),\n",
       " DatasetDict({\n",
       "     train: Dataset({\n",
       "         features: ['conversations', 'origin', 'original_id'],\n",
       "         num_rows: 15875\n",
       "     })\n",
       "     validation: Dataset({\n",
       "         features: ['conversations', 'origin', 'original_id'],\n",
       "         num_rows: 882\n",
       "     })\n",
       "     test: Dataset({\n",
       "         features: ['conversations', 'origin', 'original_id'],\n",
       "         num_rows: 881\n",
       "     })\n",
       " }),\n",
       " Dataset({\n",
       "     features: ['original_id', 'conversations', 'origin'],\n",
       "     num_rows: 3\n",
       " }),\n",
       " Dataset({\n",
       "     features: ['original_id', 'conversations', 'origin'],\n",
       "     num_rows: 187\n",
       " }),\n",
       " Dataset({\n",
       "     features: ['original_id', 'conversations', 'origin'],\n",
       "     num_rows: 12336\n",
       " }),\n",
       " Dataset({\n",
       "     features: ['original_id', 'conversations', 'origin'],\n",
       "     num_rows: 13374\n",
       " })]"
      ]
     },
     "execution_count": 10,
     "metadata": {},
     "output_type": "execute_result"
    }
   ],
   "source": [
    "final_datasets"
   ]
  },
  {
   "cell_type": "code",
   "execution_count": 11,
   "metadata": {},
   "outputs": [
    {
     "data": {
      "text/plain": [
       "[DatasetDict({\n",
       "     train: Dataset({\n",
       "         features: ['original_id', 'conversations', 'origin'],\n",
       "         num_rows: 64362\n",
       "     })\n",
       "     validation: Dataset({\n",
       "         features: ['original_id', 'conversations', 'origin'],\n",
       "         num_rows: 1314\n",
       "     })\n",
       "     test: Dataset({\n",
       "         features: ['original_id', 'conversations', 'origin'],\n",
       "         num_rows: 1341\n",
       "     })\n",
       " }),\n",
       " DatasetDict({\n",
       "     train: Dataset({\n",
       "         features: ['conversations', 'origin', 'original_id'],\n",
       "         num_rows: 15875\n",
       "     })\n",
       "     validation: Dataset({\n",
       "         features: ['conversations', 'origin', 'original_id'],\n",
       "         num_rows: 882\n",
       "     })\n",
       "     test: Dataset({\n",
       "         features: ['conversations', 'origin', 'original_id'],\n",
       "         num_rows: 881\n",
       "     })\n",
       " }),\n",
       " DatasetDict({\n",
       "     train: Dataset({\n",
       "         features: ['original_id', 'conversations', 'origin'],\n",
       "         num_rows: 1\n",
       "     })\n",
       "     validation: Dataset({\n",
       "         features: ['original_id', 'conversations', 'origin'],\n",
       "         num_rows: 1\n",
       "     })\n",
       "     test: Dataset({\n",
       "         features: ['original_id', 'conversations', 'origin'],\n",
       "         num_rows: 1\n",
       "     })\n",
       " }),\n",
       " DatasetDict({\n",
       "     train: Dataset({\n",
       "         features: ['original_id', 'conversations', 'origin'],\n",
       "         num_rows: 119\n",
       "     })\n",
       "     validation: Dataset({\n",
       "         features: ['original_id', 'conversations', 'origin'],\n",
       "         num_rows: 30\n",
       "     })\n",
       "     test: Dataset({\n",
       "         features: ['original_id', 'conversations', 'origin'],\n",
       "         num_rows: 38\n",
       "     })\n",
       " }),\n",
       " DatasetDict({\n",
       "     train: Dataset({\n",
       "         features: ['original_id', 'conversations', 'origin'],\n",
       "         num_rows: 11133\n",
       "     })\n",
       "     validation: Dataset({\n",
       "         features: ['original_id', 'conversations', 'origin'],\n",
       "         num_rows: 586\n",
       "     })\n",
       "     test: Dataset({\n",
       "         features: ['original_id', 'conversations', 'origin'],\n",
       "         num_rows: 617\n",
       "     })\n",
       " }),\n",
       " DatasetDict({\n",
       "     train: Dataset({\n",
       "         features: ['original_id', 'conversations', 'origin'],\n",
       "         num_rows: 12069\n",
       "     })\n",
       "     validation: Dataset({\n",
       "         features: ['original_id', 'conversations', 'origin'],\n",
       "         num_rows: 636\n",
       "     })\n",
       "     test: Dataset({\n",
       "         features: ['original_id', 'conversations', 'origin'],\n",
       "         num_rows: 669\n",
       "     })\n",
       " })]"
      ]
     },
     "execution_count": 11,
     "metadata": {},
     "output_type": "execute_result"
    }
   ],
   "source": [
    "from datasets import DatasetDict, Dataset, concatenate_datasets\n",
    "\n",
    "split_datasets = []\n",
    "\n",
    "for dataset in final_datasets:\n",
    "    if isinstance(dataset, Dataset):\n",
    "        if dataset.num_rows < 1000:\n",
    "            test_size = 0.2\n",
    "        elif dataset.num_rows < 20000:\n",
    "            test_size = 0.05\n",
    "        else:\n",
    "            test_size = 0.02\n",
    "        train_test = dataset.train_test_split(test_size=test_size, shuffle=True, seed=42)\n",
    "        train = train_test[\"train\"]\n",
    "        test = train_test[\"test\"]\n",
    "        train_validation = train.train_test_split(test_size=test_size, shuffle=True, seed=42)\n",
    "        train = train_validation[\"train\"]\n",
    "        validation = train_validation[\"test\"]\n",
    "        dataset = DatasetDict({\"train\": train, \"validation\": validation, \"test\": test})\n",
    "        split_datasets.append(dataset)\n",
    "    else:\n",
    "        split_datasets.append(dataset)\n",
    "\n",
    "split_datasets"
   ]
  },
  {
   "cell_type": "code",
   "execution_count": 12,
   "metadata": {},
   "outputs": [
    {
     "data": {
      "text/plain": [
       "DatasetDict({\n",
       "    train: Dataset({\n",
       "        features: ['original_id', 'conversations', 'origin'],\n",
       "        num_rows: 103559\n",
       "    })\n",
       "    validation: Dataset({\n",
       "        features: ['original_id', 'conversations', 'origin'],\n",
       "        num_rows: 3449\n",
       "    })\n",
       "    test: Dataset({\n",
       "        features: ['original_id', 'conversations', 'origin'],\n",
       "        num_rows: 3547\n",
       "    })\n",
       "})"
      ]
     },
     "execution_count": 12,
     "metadata": {},
     "output_type": "execute_result"
    }
   ],
   "source": [
    "train_datasets = []\n",
    "validation_datasets = []\n",
    "test_datasets = []\n",
    "\n",
    "for dataset in split_datasets:\n",
    "    train_datasets.append(dataset[\"train\"])\n",
    "    validation_datasets.append(dataset[\"validation\"])\n",
    "    test_datasets.append(dataset[\"test\"])\n",
    "\n",
    "\n",
    "train = concatenate_datasets(train_datasets)\n",
    "validation = concatenate_datasets(validation_datasets)\n",
    "test = concatenate_datasets(test_datasets)\n",
    "\n",
    "final_dataset = DatasetDict({\"train\": train, \"validation\": validation, \"test\": test})\n",
    "final_dataset"
   ]
  },
  {
   "cell_type": "code",
   "execution_count": 13,
   "metadata": {},
   "outputs": [
    {
     "data": {
      "application/vnd.jupyter.widget-view+json": {
       "model_id": "433831f7b100471898402264de180d64",
       "version_major": 2,
       "version_minor": 0
      },
      "text/plain": [
       "Uploading the dataset shards:   0%|          | 0/1 [00:00<?, ?it/s]"
      ]
     },
     "metadata": {},
     "output_type": "display_data"
    },
    {
     "data": {
      "application/vnd.jupyter.widget-view+json": {
       "model_id": "848b710b9ed44a7481975531120c0fab",
       "version_major": 2,
       "version_minor": 0
      },
      "text/plain": [
       "Creating parquet from Arrow format:   0%|          | 0/104 [00:00<?, ?ba/s]"
      ]
     },
     "metadata": {},
     "output_type": "display_data"
    },
    {
     "data": {
      "application/vnd.jupyter.widget-view+json": {
       "model_id": "519547d69e7843dbbc9e3a7340749d3a",
       "version_major": 2,
       "version_minor": 0
      },
      "text/plain": [
       "Uploading the dataset shards:   0%|          | 0/1 [00:00<?, ?it/s]"
      ]
     },
     "metadata": {},
     "output_type": "display_data"
    },
    {
     "data": {
      "application/vnd.jupyter.widget-view+json": {
       "model_id": "c25d0b6a8c0f416695537c722fe0f3f6",
       "version_major": 2,
       "version_minor": 0
      },
      "text/plain": [
       "Creating parquet from Arrow format:   0%|          | 0/4 [00:00<?, ?ba/s]"
      ]
     },
     "metadata": {},
     "output_type": "display_data"
    },
    {
     "data": {
      "application/vnd.jupyter.widget-view+json": {
       "model_id": "beecb46162f24cf1a83fbc8c42eb519e",
       "version_major": 2,
       "version_minor": 0
      },
      "text/plain": [
       "Uploading the dataset shards:   0%|          | 0/1 [00:00<?, ?it/s]"
      ]
     },
     "metadata": {},
     "output_type": "display_data"
    },
    {
     "data": {
      "application/vnd.jupyter.widget-view+json": {
       "model_id": "75b945d47c61468d8f260284c9f2eefa",
       "version_major": 2,
       "version_minor": 0
      },
      "text/plain": [
       "Creating parquet from Arrow format:   0%|          | 0/4 [00:00<?, ?ba/s]"
      ]
     },
     "metadata": {},
     "output_type": "display_data"
    },
    {
     "data": {
      "text/plain": [
       "CommitInfo(commit_url='https://huggingface.co/datasets/ctu-aic/cs_instruction_tuning_collection/commit/bff13f4583610cc213a17a53e6d19abcb8375b3f', commit_message='Upload dataset', commit_description='', oid='bff13f4583610cc213a17a53e6d19abcb8375b3f', pr_url=None, repo_url=RepoUrl('https://huggingface.co/datasets/ctu-aic/cs_instruction_tuning_collection', endpoint='https://huggingface.co', repo_type='dataset', repo_id='ctu-aic/cs_instruction_tuning_collection'), pr_revision=None, pr_num=None)"
      ]
     },
     "execution_count": 13,
     "metadata": {},
     "output_type": "execute_result"
    }
   ],
   "source": [
    "final_dataset.push_to_hub(\"ctu-aic/cs_instruction_tuning_collection\", private=True)"
   ]
  },
  {
   "cell_type": "code",
   "execution_count": 14,
   "metadata": {},
   "outputs": [
    {
     "data": {
      "application/vnd.jupyter.widget-view+json": {
       "model_id": "9d3a15430b2a4c958ce7add8902073b0",
       "version_major": 2,
       "version_minor": 0
      },
      "text/plain": [
       "Saving the dataset (0/1 shards):   0%|          | 0/103559 [00:00<?, ? examples/s]"
      ]
     },
     "metadata": {},
     "output_type": "display_data"
    },
    {
     "data": {
      "application/vnd.jupyter.widget-view+json": {
       "model_id": "fa0b0c9468c842e8afc7af6f579fed9b",
       "version_major": 2,
       "version_minor": 0
      },
      "text/plain": [
       "Saving the dataset (0/1 shards):   0%|          | 0/3449 [00:00<?, ? examples/s]"
      ]
     },
     "metadata": {},
     "output_type": "display_data"
    },
    {
     "data": {
      "application/vnd.jupyter.widget-view+json": {
       "model_id": "d36a90d6df5e4f7abf98a93860988f26",
       "version_major": 2,
       "version_minor": 0
      },
      "text/plain": [
       "Saving the dataset (0/1 shards):   0%|          | 0/3547 [00:00<?, ? examples/s]"
      ]
     },
     "metadata": {},
     "output_type": "display_data"
    }
   ],
   "source": [
    "final_dataset.save_to_disk(\"data/it_datasets/cs_instruction_tuning_collection\")"
   ]
  }
 ],
 "metadata": {
  "kernelspec": {
   "display_name": "Python 3 (ipykernel)",
   "language": "python",
   "name": "python3"
  },
  "language_info": {
   "codemirror_mode": {
    "name": "ipython",
    "version": 3
   },
   "file_extension": ".py",
   "mimetype": "text/x-python",
   "name": "python",
   "nbconvert_exporter": "python",
   "pygments_lexer": "ipython3",
   "version": "3.12.3"
  }
 },
 "nbformat": 4,
 "nbformat_minor": 2
}
