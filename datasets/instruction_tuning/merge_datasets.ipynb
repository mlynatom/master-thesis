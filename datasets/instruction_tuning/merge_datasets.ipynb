{
 "cells": [
  {
   "cell_type": "markdown",
   "metadata": {},
   "source": [
    "# Merge IT datasets"
   ]
  },
  {
   "cell_type": "code",
   "execution_count": 58,
   "metadata": {},
   "outputs": [],
   "source": [
    "IT_DATASETS_PATHS = [\n",
    "    \"datasets/instruction_tuning/bactrian-x/bactrian-x_cs_itformat\",\n",
    "    \"datasets/instruction_tuning/muri-it/murit-it_cs_itformat\",\n",
    "    \"datasets/instruction_tuning/oasst/oasst2_cs_itformat\",\n",
    "    \"datasets/instruction_tuning/share_gpt/ShareGPT_cs_itformat\",\n",
    "    \"datasets/instruction_tuning/ujc_cas/questions_ujc_cas_cs_itformat\",\n",
    "    \"datasets/instruction_tuning/ask_library/ask_library_cs_itformat\",\n",
    "]"
   ]
  },
  {
   "cell_type": "code",
   "execution_count": 59,
   "metadata": {},
   "outputs": [],
   "source": [
    "ID2DATASET = {\n",
    "    0: \"bactrian-x\",\n",
    "    1: \"muri-it\",\n",
    "    2: \"oasst2\",\n",
    "    3: \"share_gpt\",\n",
    "    4: \"questions_ujc_cas\",\n",
    "    5: \"ask_library\",\n",
    "}"
   ]
  },
  {
   "cell_type": "code",
   "execution_count": 60,
   "metadata": {},
   "outputs": [
    {
     "data": {
      "text/plain": [
       "[Dataset({\n",
       "     features: ['instruction', 'input', 'id', 'output', 'conversations'],\n",
       "     num_rows: 67017\n",
       " }),\n",
       " DatasetDict({\n",
       "     train: Dataset({\n",
       "         features: ['input', 'output', 'dataset_name', 'subdataset_name', 'language', 'split', 'language_name', 'conversations'],\n",
       "         num_rows: 15875\n",
       "     })\n",
       "     validation: Dataset({\n",
       "         features: ['input', 'output', 'dataset_name', 'subdataset_name', 'language', 'split', 'language_name', 'conversations'],\n",
       "         num_rows: 882\n",
       "     })\n",
       "     test: Dataset({\n",
       "         features: ['input', 'output', 'dataset_name', 'subdataset_name', 'language', 'split', 'language_name', 'conversations'],\n",
       "         num_rows: 881\n",
       "     })\n",
       " }),\n",
       " Dataset({\n",
       "     features: ['id', 'conversations'],\n",
       "     num_rows: 3\n",
       " }),\n",
       " Dataset({\n",
       "     features: ['id', 'conversations'],\n",
       "     num_rows: 187\n",
       " }),\n",
       " Dataset({\n",
       "     features: ['question', 'specific_question', 'keyword', 'answer', 'last_usage', 'variants', 'id', 'conversations'],\n",
       "     num_rows: 12363\n",
       " }),\n",
       " Dataset({\n",
       "     features: ['title', 'question', 'answer', 'okres', 'library', 'category', 'used_sources', 'date', 'url', 'id', 'language', 'question_diacritics_korektor', 'answer_diacritics_korektor', 'question_spell_korektor', 'answer_spell_korektor', 'diacritics_correct', 'conversations'],\n",
       "     num_rows: 13374\n",
       " })]"
      ]
     },
     "execution_count": 60,
     "metadata": {},
     "output_type": "execute_result"
    }
   ],
   "source": [
    "from datasets import load_from_disk\n",
    "\n",
    "loaded_datasets = []\n",
    "\n",
    "for dataset_path in IT_DATASETS_PATHS:\n",
    "    loaded_datasets.append(load_from_disk(dataset_path))\n",
    "\n",
    "loaded_datasets"
   ]
  },
  {
   "cell_type": "code",
   "execution_count": 34,
   "metadata": {},
   "outputs": [
    {
     "data": {
      "text/plain": [
       "Dataset({\n",
       "    features: ['title', 'question', 'answer', 'okres', 'library', 'category', 'used_sources', 'date', 'url', 'id', 'language', 'question_diacritics_korektor', 'answer_diacritics_korektor', 'question_spell_korektor', 'answer_spell_korektor', 'diacritics_correct', 'conversations'],\n",
       "    num_rows: 13374\n",
       "})"
      ]
     },
     "execution_count": 34,
     "metadata": {},
     "output_type": "execute_result"
    }
   ],
   "source": [
    "loaded_datasets[5]"
   ]
  },
  {
   "cell_type": "code",
   "execution_count": 66,
   "metadata": {},
   "outputs": [
    {
     "ename": "IndexError",
     "evalue": "list index out of range",
     "output_type": "error",
     "traceback": [
      "\u001b[0;31m---------------------------------------------------------------------------\u001b[0m",
      "\u001b[0;31mIndexError\u001b[0m                                Traceback (most recent call last)",
      "Cell \u001b[0;32mIn[66], line 1\u001b[0m\n\u001b[0;32m----> 1\u001b[0m \u001b[43mloaded_datasets\u001b[49m\u001b[43m[\u001b[49m\u001b[38;5;241;43m6\u001b[39;49m\u001b[43m]\u001b[49m[\u001b[38;5;241m0\u001b[39m]\n",
      "\u001b[0;31mIndexError\u001b[0m: list index out of range"
     ]
    }
   ],
   "source": [
    "loaded_datasets[6][0]"
   ]
  },
  {
   "cell_type": "code",
   "execution_count": 69,
   "metadata": {},
   "outputs": [
    {
     "data": {
      "application/vnd.jupyter.widget-view+json": {
       "model_id": "40307a1e161a4e4abe8acc359a3541d0",
       "version_major": 2,
       "version_minor": 0
      },
      "text/plain": [
       "Casting the dataset:   0%|          | 0/13374 [00:00<?, ? examples/s]"
      ]
     },
     "metadata": {},
     "output_type": "display_data"
    }
   ],
   "source": [
    "from datasets import Value\n",
    "\n",
    "final_datasets = []\n",
    "for i, dataset in enumerate(loaded_datasets):\n",
    "    if ID2DATASET[i] == \"bactrian-x\":\n",
    "        tmp_dataset = dataset\n",
    "        tmp_dataset = tmp_dataset.remove_columns([\"instruction\", \"input\", \"output\"])\n",
    "        tmp_dataset = tmp_dataset.rename_column(\"id\", \"original_id\")\n",
    "        tmp_dataset = tmp_dataset.map(lambda x: {\"origin\" : f\"bactrian-x-{x['original_id'].split(\"-\")[0]}\"})\n",
    "    elif ID2DATASET[i] == \"muri-it\": \n",
    "        tmp_dataset = dataset\n",
    "\n",
    "        def muri_origin(x):\n",
    "            if x[\"subdataset_name\"] is None:\n",
    "                x[\"origin\"] = f\"muri-it-{x['dataset_name']}\"\n",
    "            else:\n",
    "                x[\"origin\"] = f\"muri-it-{x['dataset_name']}-{x['subdataset_name']}\"\n",
    "            return x\n",
    "        \n",
    "        tmp_dataset = tmp_dataset.map(muri_origin)\n",
    "        tmp_dataset = tmp_dataset.remove_columns([\"input\", \"output\", \"language\", \"split\", \"language_name\", \"dataset_name\", \"subdataset_name\"])\n",
    "        tmp_dataset = tmp_dataset.map(lambda _: {\"origin\" : \"murit-it\", \"original_id\": \"murit-it\"})\n",
    "\n",
    "    elif ID2DATASET[i] == \"oasst2\":\n",
    "        tmp_dataset = dataset\n",
    "        tmp_dataset = tmp_dataset.rename_column(\"id\", \"original_id\")\n",
    "        tmp_dataset = tmp_dataset.map(lambda _: {\"origin\" : \"oasst2\"})\n",
    "\n",
    "    elif ID2DATASET[i] == \"share_gpt\":\n",
    "        tmp_dataset = dataset\n",
    "        tmp_dataset = tmp_dataset.rename_column(\"id\", \"original_id\")\n",
    "        tmp_dataset = tmp_dataset.map(lambda _: {\"origin\" : \"share_gpt\"})\n",
    "    elif ID2DATASET[i] == \"questions_ujc_cas\":\n",
    "        tmp_dataset = dataset\n",
    "        tmp_dataset = tmp_dataset.rename_column(\"id\", \"original_id\")\n",
    "        #convert to str\n",
    "        tmp_dataset = tmp_dataset.cast_column(\"original_id\", Value(\"string\"))\n",
    "        tmp_dataset = tmp_dataset.map(lambda _: {\"origin\" : \"questions_ujc_cas\"})\n",
    "        tmp_dataset = tmp_dataset.remove_columns([\"question\", \"specific_question\", \"keyword\", \"answer\", \"last_usage\", \"variants\"])\n",
    "    elif ID2DATASET[i] == \"ask_library\":\n",
    "        tmp_dataset = dataset\n",
    "        tmp_dataset = tmp_dataset.rename_column(\"id\", \"original_id\")\n",
    "        tmp_dataset = tmp_dataset.map(lambda _: {\"origin\" : \"ask_library\"})\n",
    "        #convert to str\n",
    "        tmp_dataset= tmp_dataset.cast_column(\"original_id\", Value(\"string\"))\n",
    "        tmp_dataset = tmp_dataset.remove_columns([\"title\", \"question\", \"answer\", \"okres\", \"library\", \"category\", \"used_sources\", \"date\", \"url\", \"language\", 'question_diacritics_korektor', 'answer_diacritics_korektor', 'question_spell_korektor', 'answer_spell_korektor', 'diacritics_correct'])\n",
    "\n",
    "    final_datasets.append(tmp_dataset)"
   ]
  },
  {
   "cell_type": "code",
   "execution_count": 70,
   "metadata": {},
   "outputs": [
    {
     "data": {
      "text/plain": [
       "[Dataset({\n",
       "     features: ['original_id', 'conversations', 'origin'],\n",
       "     num_rows: 67017\n",
       " }),\n",
       " DatasetDict({\n",
       "     train: Dataset({\n",
       "         features: ['conversations', 'origin', 'original_id'],\n",
       "         num_rows: 15875\n",
       "     })\n",
       "     validation: Dataset({\n",
       "         features: ['conversations', 'origin', 'original_id'],\n",
       "         num_rows: 882\n",
       "     })\n",
       "     test: Dataset({\n",
       "         features: ['conversations', 'origin', 'original_id'],\n",
       "         num_rows: 881\n",
       "     })\n",
       " }),\n",
       " Dataset({\n",
       "     features: ['original_id', 'conversations', 'origin'],\n",
       "     num_rows: 3\n",
       " }),\n",
       " Dataset({\n",
       "     features: ['original_id', 'conversations', 'origin'],\n",
       "     num_rows: 187\n",
       " }),\n",
       " Dataset({\n",
       "     features: ['original_id', 'conversations', 'origin'],\n",
       "     num_rows: 12363\n",
       " }),\n",
       " Dataset({\n",
       "     features: ['original_id', 'conversations', 'origin'],\n",
       "     num_rows: 13374\n",
       " })]"
      ]
     },
     "execution_count": 70,
     "metadata": {},
     "output_type": "execute_result"
    }
   ],
   "source": [
    "final_datasets"
   ]
  },
  {
   "cell_type": "code",
   "execution_count": 73,
   "metadata": {},
   "outputs": [
    {
     "data": {
      "text/plain": [
       "[DatasetDict({\n",
       "     train: Dataset({\n",
       "         features: ['original_id', 'conversations', 'origin'],\n",
       "         num_rows: 64362\n",
       "     })\n",
       "     validation: Dataset({\n",
       "         features: ['original_id', 'conversations', 'origin'],\n",
       "         num_rows: 1314\n",
       "     })\n",
       "     test: Dataset({\n",
       "         features: ['original_id', 'conversations', 'origin'],\n",
       "         num_rows: 1341\n",
       "     })\n",
       " }),\n",
       " DatasetDict({\n",
       "     train: Dataset({\n",
       "         features: ['conversations', 'origin', 'original_id'],\n",
       "         num_rows: 15875\n",
       "     })\n",
       "     validation: Dataset({\n",
       "         features: ['conversations', 'origin', 'original_id'],\n",
       "         num_rows: 882\n",
       "     })\n",
       "     test: Dataset({\n",
       "         features: ['conversations', 'origin', 'original_id'],\n",
       "         num_rows: 881\n",
       "     })\n",
       " }),\n",
       " DatasetDict({\n",
       "     train: Dataset({\n",
       "         features: ['original_id', 'conversations', 'origin'],\n",
       "         num_rows: 1\n",
       "     })\n",
       "     validation: Dataset({\n",
       "         features: ['original_id', 'conversations', 'origin'],\n",
       "         num_rows: 1\n",
       "     })\n",
       "     test: Dataset({\n",
       "         features: ['original_id', 'conversations', 'origin'],\n",
       "         num_rows: 1\n",
       "     })\n",
       " }),\n",
       " DatasetDict({\n",
       "     train: Dataset({\n",
       "         features: ['original_id', 'conversations', 'origin'],\n",
       "         num_rows: 119\n",
       "     })\n",
       "     validation: Dataset({\n",
       "         features: ['original_id', 'conversations', 'origin'],\n",
       "         num_rows: 30\n",
       "     })\n",
       "     test: Dataset({\n",
       "         features: ['original_id', 'conversations', 'origin'],\n",
       "         num_rows: 38\n",
       "     })\n",
       " }),\n",
       " DatasetDict({\n",
       "     train: Dataset({\n",
       "         features: ['original_id', 'conversations', 'origin'],\n",
       "         num_rows: 11156\n",
       "     })\n",
       "     validation: Dataset({\n",
       "         features: ['original_id', 'conversations', 'origin'],\n",
       "         num_rows: 588\n",
       "     })\n",
       "     test: Dataset({\n",
       "         features: ['original_id', 'conversations', 'origin'],\n",
       "         num_rows: 619\n",
       "     })\n",
       " }),\n",
       " DatasetDict({\n",
       "     train: Dataset({\n",
       "         features: ['original_id', 'conversations', 'origin'],\n",
       "         num_rows: 12069\n",
       "     })\n",
       "     validation: Dataset({\n",
       "         features: ['original_id', 'conversations', 'origin'],\n",
       "         num_rows: 636\n",
       "     })\n",
       "     test: Dataset({\n",
       "         features: ['original_id', 'conversations', 'origin'],\n",
       "         num_rows: 669\n",
       "     })\n",
       " })]"
      ]
     },
     "execution_count": 73,
     "metadata": {},
     "output_type": "execute_result"
    }
   ],
   "source": [
    "from datasets import DatasetDict, Dataset, concatenate_datasets\n",
    "\n",
    "split_datasets = []\n",
    "\n",
    "for dataset in final_datasets:\n",
    "    if isinstance(dataset, Dataset):\n",
    "        if dataset.num_rows < 1000:\n",
    "            test_size = 0.2\n",
    "        elif dataset.num_rows < 20000:\n",
    "            test_size = 0.05\n",
    "        else:\n",
    "            test_size = 0.02\n",
    "        train_test = dataset.train_test_split(test_size=test_size, shuffle=True, seed=42)\n",
    "        train = train_test[\"train\"]\n",
    "        test = train_test[\"test\"]\n",
    "        train_validation = train.train_test_split(test_size=test_size, shuffle=True, seed=42)\n",
    "        train = train_validation[\"train\"]\n",
    "        validation = train_validation[\"test\"]\n",
    "        dataset = DatasetDict({\"train\": train, \"validation\": validation, \"test\": test})\n",
    "        split_datasets.append(dataset)\n",
    "    else:\n",
    "        split_datasets.append(dataset)\n",
    "\n",
    "split_datasets"
   ]
  },
  {
   "cell_type": "code",
   "execution_count": 74,
   "metadata": {},
   "outputs": [
    {
     "data": {
      "text/plain": [
       "DatasetDict({\n",
       "    train: Dataset({\n",
       "        features: ['original_id', 'conversations', 'origin'],\n",
       "        num_rows: 103582\n",
       "    })\n",
       "    validation: Dataset({\n",
       "        features: ['original_id', 'conversations', 'origin'],\n",
       "        num_rows: 3451\n",
       "    })\n",
       "    test: Dataset({\n",
       "        features: ['original_id', 'conversations', 'origin'],\n",
       "        num_rows: 3549\n",
       "    })\n",
       "})"
      ]
     },
     "execution_count": 74,
     "metadata": {},
     "output_type": "execute_result"
    }
   ],
   "source": [
    "train_datasets = []\n",
    "validation_datasets = []\n",
    "test_datasets = []\n",
    "\n",
    "for dataset in split_datasets:\n",
    "    train_datasets.append(dataset[\"train\"])\n",
    "    validation_datasets.append(dataset[\"validation\"])\n",
    "    test_datasets.append(dataset[\"test\"])\n",
    "\n",
    "\n",
    "train = concatenate_datasets(train_datasets)\n",
    "validation = concatenate_datasets(validation_datasets)\n",
    "test = concatenate_datasets(test_datasets)\n",
    "\n",
    "final_dataset = DatasetDict({\"train\": train, \"validation\": validation, \"test\": test})\n",
    "final_dataset"
   ]
  },
  {
   "cell_type": "code",
   "execution_count": 76,
   "metadata": {},
   "outputs": [
    {
     "data": {
      "application/vnd.jupyter.widget-view+json": {
       "model_id": "b79450b966a845acb9c120ad59fc2793",
       "version_major": 2,
       "version_minor": 0
      },
      "text/plain": [
       "Uploading the dataset shards:   0%|          | 0/1 [00:00<?, ?it/s]"
      ]
     },
     "metadata": {},
     "output_type": "display_data"
    },
    {
     "data": {
      "application/vnd.jupyter.widget-view+json": {
       "model_id": "125b31511c744a8a8657162ed1c87968",
       "version_major": 2,
       "version_minor": 0
      },
      "text/plain": [
       "Creating parquet from Arrow format:   0%|          | 0/104 [00:00<?, ?ba/s]"
      ]
     },
     "metadata": {},
     "output_type": "display_data"
    },
    {
     "data": {
      "application/vnd.jupyter.widget-view+json": {
       "model_id": "621f219722ff45f7b07c2963381d10dd",
       "version_major": 2,
       "version_minor": 0
      },
      "text/plain": [
       "Uploading the dataset shards:   0%|          | 0/1 [00:00<?, ?it/s]"
      ]
     },
     "metadata": {},
     "output_type": "display_data"
    },
    {
     "data": {
      "application/vnd.jupyter.widget-view+json": {
       "model_id": "443bf79cd1f34d1bb27161eb7d081265",
       "version_major": 2,
       "version_minor": 0
      },
      "text/plain": [
       "Creating parquet from Arrow format:   0%|          | 0/4 [00:00<?, ?ba/s]"
      ]
     },
     "metadata": {},
     "output_type": "display_data"
    },
    {
     "data": {
      "application/vnd.jupyter.widget-view+json": {
       "model_id": "9e15f7c1fa494511b88c83abe9e2573f",
       "version_major": 2,
       "version_minor": 0
      },
      "text/plain": [
       "Uploading the dataset shards:   0%|          | 0/1 [00:00<?, ?it/s]"
      ]
     },
     "metadata": {},
     "output_type": "display_data"
    },
    {
     "data": {
      "application/vnd.jupyter.widget-view+json": {
       "model_id": "b5e5dfb181a4480ab5d9d2a3f078cc04",
       "version_major": 2,
       "version_minor": 0
      },
      "text/plain": [
       "Creating parquet from Arrow format:   0%|          | 0/4 [00:00<?, ?ba/s]"
      ]
     },
     "metadata": {},
     "output_type": "display_data"
    },
    {
     "data": {
      "text/plain": [
       "CommitInfo(commit_url='https://huggingface.co/datasets/ctu-aic/cs_instruction_tuning_collection/commit/5748371223caa14f68e42cea667e215d30083118', commit_message='Upload dataset', commit_description='', oid='5748371223caa14f68e42cea667e215d30083118', pr_url=None, repo_url=RepoUrl('https://huggingface.co/datasets/ctu-aic/cs_instruction_tuning_collection', endpoint='https://huggingface.co', repo_type='dataset', repo_id='ctu-aic/cs_instruction_tuning_collection'), pr_revision=None, pr_num=None)"
      ]
     },
     "execution_count": 76,
     "metadata": {},
     "output_type": "execute_result"
    }
   ],
   "source": [
    "final_dataset.push_to_hub(\"ctu-aic/cs_instruction_tuning_collection\", private=True)"
   ]
  },
  {
   "cell_type": "code",
   "execution_count": 77,
   "metadata": {},
   "outputs": [
    {
     "data": {
      "application/vnd.jupyter.widget-view+json": {
       "model_id": "7655f2646a6e4cfa8023543390ef1fd8",
       "version_major": 2,
       "version_minor": 0
      },
      "text/plain": [
       "Saving the dataset (0/1 shards):   0%|          | 0/103582 [00:00<?, ? examples/s]"
      ]
     },
     "metadata": {},
     "output_type": "display_data"
    },
    {
     "data": {
      "application/vnd.jupyter.widget-view+json": {
       "model_id": "aa2648413a5c4851b888415ad033481c",
       "version_major": 2,
       "version_minor": 0
      },
      "text/plain": [
       "Saving the dataset (0/1 shards):   0%|          | 0/3451 [00:00<?, ? examples/s]"
      ]
     },
     "metadata": {},
     "output_type": "display_data"
    },
    {
     "data": {
      "application/vnd.jupyter.widget-view+json": {
       "model_id": "5e958c39b0864bd3a7fdc19dbc9cf96a",
       "version_major": 2,
       "version_minor": 0
      },
      "text/plain": [
       "Saving the dataset (0/1 shards):   0%|          | 0/3549 [00:00<?, ? examples/s]"
      ]
     },
     "metadata": {},
     "output_type": "display_data"
    }
   ],
   "source": [
    "final_dataset.save_to_disk(\"data/it_datasets/cs_instruction_tuning_collection\")"
   ]
  }
 ],
 "metadata": {
  "kernelspec": {
   "display_name": "Python 3 (ipykernel)",
   "language": "python",
   "name": "python3"
  },
  "language_info": {
   "codemirror_mode": {
    "name": "ipython",
    "version": 3
   },
   "file_extension": ".py",
   "mimetype": "text/x-python",
   "name": "python",
   "nbconvert_exporter": "python",
   "pygments_lexer": "ipython3",
   "version": "3.12.3"
  }
 },
 "nbformat": 4,
 "nbformat_minor": 2
}
