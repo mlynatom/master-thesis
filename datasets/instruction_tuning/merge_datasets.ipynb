{
 "cells": [
  {
   "cell_type": "markdown",
   "metadata": {},
   "source": [
    "# Merge IT datasets"
   ]
  },
  {
   "cell_type": "markdown",
   "metadata": {},
   "source": [
    "## Czech"
   ]
  },
  {
   "cell_type": "code",
   "execution_count": null,
   "metadata": {},
   "outputs": [],
   "source": [
    "IT_DATASETS_PATHS = [\n",
    "    \"datasets/instruction_tuning/bactrian-x/bactrian-x_cs_itformat\",\n",
    "    \"datasets/instruction_tuning/muri-it/murit-it_cs_itformat\",\n",
    "    \"datasets/instruction_tuning/oasst/oasst2_cs_itformat\",\n",
    "    #\"datasets/instruction_tuning/share_gpt/ShareGPT_cs_itformat\",\n",
    "    \"datasets/instruction_tuning/ujc_cas/questions_ujc_cas_cs_itformat\",\n",
    "    \"datasets/instruction_tuning/ask_library/ask_library_cs_itformat\",\n",
    "]"
   ]
  },
  {
   "cell_type": "code",
   "execution_count": null,
   "metadata": {},
   "outputs": [],
   "source": [
    "ID2DATASET = {\n",
    "    0: \"bactrian-x\",\n",
    "    1: \"muri-it\",\n",
    "    2: \"oasst2\",\n",
    "    #3: \"share_gpt\",\n",
    "    3: \"questions_ujc_cas\",\n",
    "    4: \"ask_library\",\n",
    "}"
   ]
  },
  {
   "cell_type": "code",
   "execution_count": null,
   "metadata": {},
   "outputs": [
    {
     "data": {
      "text/plain": [
       "[Dataset({\n",
       "     features: ['instruction', 'input', 'id', 'output', 'conversations'],\n",
       "     num_rows: 67017\n",
       " }),\n",
       " DatasetDict({\n",
       "     train: Dataset({\n",
       "         features: ['input', 'output', 'dataset_name', 'subdataset_name', 'language', 'split', 'language_name', 'conversations'],\n",
       "         num_rows: 15875\n",
       "     })\n",
       "     validation: Dataset({\n",
       "         features: ['input', 'output', 'dataset_name', 'subdataset_name', 'language', 'split', 'language_name', 'conversations'],\n",
       "         num_rows: 882\n",
       "     })\n",
       "     test: Dataset({\n",
       "         features: ['input', 'output', 'dataset_name', 'subdataset_name', 'language', 'split', 'language_name', 'conversations'],\n",
       "         num_rows: 881\n",
       "     })\n",
       " }),\n",
       " Dataset({\n",
       "     features: ['id', 'conversations'],\n",
       "     num_rows: 3\n",
       " }),\n",
       " Dataset({\n",
       "     features: ['question', 'specific_question', 'keyword', 'answer', 'last_usage', 'variants', 'id', 'conversations'],\n",
       "     num_rows: 12363\n",
       " }),\n",
       " Dataset({\n",
       "     features: ['title', 'question', 'answer', 'okres', 'library', 'category', 'used_sources', 'date', 'url', 'id', 'language', 'question_diacritics_korektor', 'answer_diacritics_korektor', 'question_spell_korektor', 'answer_spell_korektor', 'diacritics_correct', 'conversations'],\n",
       "     num_rows: 13374\n",
       " })]"
      ]
     },
     "execution_count": 13,
     "metadata": {},
     "output_type": "execute_result"
    }
   ],
   "source": [
    "from datasets import load_from_disk\n",
    "\n",
    "loaded_datasets = []\n",
    "\n",
    "for dataset_path in IT_DATASETS_PATHS:\n",
    "    loaded_datasets.append(load_from_disk(dataset_path))\n",
    "\n",
    "loaded_datasets"
   ]
  },
  {
   "cell_type": "code",
   "execution_count": null,
   "metadata": {},
   "outputs": [
    {
     "data": {
      "application/vnd.jupyter.widget-view+json": {
       "model_id": "7bff06d455524adc8e3b8db2b2760a7b",
       "version_major": 2,
       "version_minor": 0
      },
      "text/plain": [
       "Map:   0%|          | 0/15875 [00:00<?, ? examples/s]"
      ]
     },
     "metadata": {},
     "output_type": "display_data"
    },
    {
     "data": {
      "application/vnd.jupyter.widget-view+json": {
       "model_id": "e23c232d432344f1a48c3c9dcffc107b",
       "version_major": 2,
       "version_minor": 0
      },
      "text/plain": [
       "Map:   0%|          | 0/882 [00:00<?, ? examples/s]"
      ]
     },
     "metadata": {},
     "output_type": "display_data"
    },
    {
     "data": {
      "application/vnd.jupyter.widget-view+json": {
       "model_id": "bc73addadc3f4a2ba066bd9d805a4f15",
       "version_major": 2,
       "version_minor": 0
      },
      "text/plain": [
       "Map:   0%|          | 0/881 [00:00<?, ? examples/s]"
      ]
     },
     "metadata": {},
     "output_type": "display_data"
    },
    {
     "data": {
      "application/vnd.jupyter.widget-view+json": {
       "model_id": "748c968b17944fb2b903e589a7669b3f",
       "version_major": 2,
       "version_minor": 0
      },
      "text/plain": [
       "Filter:   0%|          | 0/15875 [00:00<?, ? examples/s]"
      ]
     },
     "metadata": {},
     "output_type": "display_data"
    },
    {
     "data": {
      "application/vnd.jupyter.widget-view+json": {
       "model_id": "1e03f21932504c8398832d1a8bc96593",
       "version_major": 2,
       "version_minor": 0
      },
      "text/plain": [
       "Filter:   0%|          | 0/882 [00:00<?, ? examples/s]"
      ]
     },
     "metadata": {},
     "output_type": "display_data"
    },
    {
     "data": {
      "application/vnd.jupyter.widget-view+json": {
       "model_id": "8b51e4a0d732441eba4c711f5112e3a5",
       "version_major": 2,
       "version_minor": 0
      },
      "text/plain": [
       "Filter:   0%|          | 0/881 [00:00<?, ? examples/s]"
      ]
     },
     "metadata": {},
     "output_type": "display_data"
    }
   ],
   "source": [
    "from datasets import Value\n",
    "\n",
    "final_datasets = []\n",
    "for i, dataset in enumerate(loaded_datasets):\n",
    "    if ID2DATASET[i] == \"bactrian-x\":\n",
    "        tmp_dataset = dataset\n",
    "        tmp_dataset = tmp_dataset.remove_columns([\"instruction\", \"input\", \"output\"])\n",
    "        tmp_dataset = tmp_dataset.rename_column(\"id\", \"original_id\")\n",
    "        tmp_dataset = tmp_dataset.map(lambda x: {\"origin\" : f\"bactrian-x-{x['original_id'].split(\"-\")[0]}\"})\n",
    "    elif ID2DATASET[i] == \"muri-it\": \n",
    "        tmp_dataset = dataset\n",
    "\n",
    "        def muri_origin(x):\n",
    "            if x[\"subdataset_name\"] is None:\n",
    "                x[\"origin\"] = f\"muri-it-{x['dataset_name']}\"\n",
    "            else:\n",
    "                x[\"origin\"] = f\"muri-it-{x['dataset_name']}-{x['subdataset_name']}\"\n",
    "            return x\n",
    "        \n",
    "        tmp_dataset = tmp_dataset.map(muri_origin)\n",
    "        tmp_dataset = tmp_dataset.remove_columns([\"input\", \"output\", \"language\", \"split\", \"language_name\", \"dataset_name\", \"subdataset_name\"])\n",
    "        tmp_dataset = tmp_dataset.map(lambda _: {\"original_id\": \"murit-it\"})\n",
    "\n",
    "    elif ID2DATASET[i] == \"oasst2\":\n",
    "        tmp_dataset = dataset\n",
    "        tmp_dataset = tmp_dataset.rename_column(\"id\", \"original_id\")\n",
    "        tmp_dataset = tmp_dataset.map(lambda _: {\"origin\" : \"oasst2\"})\n",
    "\n",
    "    elif ID2DATASET[i] == \"share_gpt\":\n",
    "        tmp_dataset = dataset\n",
    "        tmp_dataset = tmp_dataset.rename_column(\"id\", \"original_id\")\n",
    "        tmp_dataset = tmp_dataset.map(lambda _: {\"origin\" : \"share_gpt\"})\n",
    "    elif ID2DATASET[i] == \"questions_ujc_cas\":\n",
    "        tmp_dataset = dataset\n",
    "        tmp_dataset = tmp_dataset.rename_column(\"id\", \"original_id\")\n",
    "        #convert to str\n",
    "        tmp_dataset = tmp_dataset.cast_column(\"original_id\", Value(\"string\"))\n",
    "        tmp_dataset = tmp_dataset.map(lambda _: {\"origin\" : \"questions_ujc_cas\"})\n",
    "        tmp_dataset = tmp_dataset.remove_columns([\"question\", \"specific_question\", \"keyword\", \"answer\", \"last_usage\", \"variants\"])\n",
    "        \n",
    "    elif ID2DATASET[i] == \"ask_library\":\n",
    "        tmp_dataset = dataset\n",
    "        tmp_dataset = tmp_dataset.rename_column(\"id\", \"original_id\")\n",
    "        tmp_dataset = tmp_dataset.map(lambda _: {\"origin\" : \"ask_library\"})\n",
    "        #convert to str\n",
    "        tmp_dataset= tmp_dataset.cast_column(\"original_id\", Value(\"string\"))\n",
    "        tmp_dataset = tmp_dataset.remove_columns([\"title\", \"question\", \"answer\", \"okres\", \"library\", \"category\", \"used_sources\", \"date\", \"url\", \"language\", 'question_diacritics_korektor', 'answer_diacritics_korektor', 'question_spell_korektor', 'answer_spell_korektor', 'diacritics_correct'])\n",
    "    \n",
    "    tmp_dataset = tmp_dataset.filter(lambda x: len(x[\"conversations\"])>0)\n",
    "    final_datasets.append(tmp_dataset)"
   ]
  },
  {
   "cell_type": "code",
   "execution_count": null,
   "metadata": {},
   "outputs": [
    {
     "data": {
      "text/plain": [
       "[Dataset({\n",
       "     features: ['original_id', 'conversations', 'origin'],\n",
       "     num_rows: 67017\n",
       " }),\n",
       " DatasetDict({\n",
       "     train: Dataset({\n",
       "         features: ['conversations', 'origin', 'original_id'],\n",
       "         num_rows: 15875\n",
       "     })\n",
       "     validation: Dataset({\n",
       "         features: ['conversations', 'origin', 'original_id'],\n",
       "         num_rows: 882\n",
       "     })\n",
       "     test: Dataset({\n",
       "         features: ['conversations', 'origin', 'original_id'],\n",
       "         num_rows: 881\n",
       "     })\n",
       " }),\n",
       " Dataset({\n",
       "     features: ['original_id', 'conversations', 'origin'],\n",
       "     num_rows: 3\n",
       " }),\n",
       " Dataset({\n",
       "     features: ['original_id', 'conversations', 'origin'],\n",
       "     num_rows: 12336\n",
       " }),\n",
       " Dataset({\n",
       "     features: ['original_id', 'conversations', 'origin'],\n",
       "     num_rows: 13374\n",
       " })]"
      ]
     },
     "execution_count": 15,
     "metadata": {},
     "output_type": "execute_result"
    }
   ],
   "source": [
    "final_datasets"
   ]
  },
  {
   "cell_type": "code",
   "execution_count": null,
   "metadata": {},
   "outputs": [
    {
     "data": {
      "text/plain": [
       "[DatasetDict({\n",
       "     train: Dataset({\n",
       "         features: ['original_id', 'conversations', 'origin'],\n",
       "         num_rows: 64362\n",
       "     })\n",
       "     validation: Dataset({\n",
       "         features: ['original_id', 'conversations', 'origin'],\n",
       "         num_rows: 1314\n",
       "     })\n",
       "     test: Dataset({\n",
       "         features: ['original_id', 'conversations', 'origin'],\n",
       "         num_rows: 1341\n",
       "     })\n",
       " }),\n",
       " DatasetDict({\n",
       "     train: Dataset({\n",
       "         features: ['conversations', 'origin', 'original_id'],\n",
       "         num_rows: 15875\n",
       "     })\n",
       "     validation: Dataset({\n",
       "         features: ['conversations', 'origin', 'original_id'],\n",
       "         num_rows: 882\n",
       "     })\n",
       "     test: Dataset({\n",
       "         features: ['conversations', 'origin', 'original_id'],\n",
       "         num_rows: 881\n",
       "     })\n",
       " }),\n",
       " DatasetDict({\n",
       "     train: Dataset({\n",
       "         features: ['original_id', 'conversations', 'origin'],\n",
       "         num_rows: 1\n",
       "     })\n",
       "     validation: Dataset({\n",
       "         features: ['original_id', 'conversations', 'origin'],\n",
       "         num_rows: 1\n",
       "     })\n",
       "     test: Dataset({\n",
       "         features: ['original_id', 'conversations', 'origin'],\n",
       "         num_rows: 1\n",
       "     })\n",
       " }),\n",
       " DatasetDict({\n",
       "     train: Dataset({\n",
       "         features: ['original_id', 'conversations', 'origin'],\n",
       "         num_rows: 11133\n",
       "     })\n",
       "     validation: Dataset({\n",
       "         features: ['original_id', 'conversations', 'origin'],\n",
       "         num_rows: 586\n",
       "     })\n",
       "     test: Dataset({\n",
       "         features: ['original_id', 'conversations', 'origin'],\n",
       "         num_rows: 617\n",
       "     })\n",
       " }),\n",
       " DatasetDict({\n",
       "     train: Dataset({\n",
       "         features: ['original_id', 'conversations', 'origin'],\n",
       "         num_rows: 12069\n",
       "     })\n",
       "     validation: Dataset({\n",
       "         features: ['original_id', 'conversations', 'origin'],\n",
       "         num_rows: 636\n",
       "     })\n",
       "     test: Dataset({\n",
       "         features: ['original_id', 'conversations', 'origin'],\n",
       "         num_rows: 669\n",
       "     })\n",
       " })]"
      ]
     },
     "execution_count": 16,
     "metadata": {},
     "output_type": "execute_result"
    }
   ],
   "source": [
    "from datasets import DatasetDict, Dataset, concatenate_datasets\n",
    "\n",
    "split_datasets = []\n",
    "\n",
    "for dataset in final_datasets:\n",
    "    if isinstance(dataset, Dataset):\n",
    "        if dataset.num_rows < 1000:\n",
    "            test_size = 0.2\n",
    "        elif dataset.num_rows < 20000:\n",
    "            test_size = 0.05\n",
    "        else:\n",
    "            test_size = 0.02\n",
    "        train_test = dataset.train_test_split(test_size=test_size, shuffle=True, seed=42)\n",
    "        train = train_test[\"train\"]\n",
    "        test = train_test[\"test\"]\n",
    "        train_validation = train.train_test_split(test_size=test_size, shuffle=True, seed=42)\n",
    "        train = train_validation[\"train\"]\n",
    "        validation = train_validation[\"test\"]\n",
    "        dataset = DatasetDict({\"train\": train, \"validation\": validation, \"test\": test})\n",
    "        split_datasets.append(dataset)\n",
    "    else:\n",
    "        split_datasets.append(dataset)\n",
    "\n",
    "split_datasets"
   ]
  },
  {
   "cell_type": "code",
   "execution_count": null,
   "metadata": {},
   "outputs": [
    {
     "data": {
      "text/plain": [
       "DatasetDict({\n",
       "    train: Dataset({\n",
       "        features: ['original_id', 'conversations', 'origin'],\n",
       "        num_rows: 103440\n",
       "    })\n",
       "    validation: Dataset({\n",
       "        features: ['original_id', 'conversations', 'origin'],\n",
       "        num_rows: 3419\n",
       "    })\n",
       "    test: Dataset({\n",
       "        features: ['original_id', 'conversations', 'origin'],\n",
       "        num_rows: 3509\n",
       "    })\n",
       "})"
      ]
     },
     "execution_count": 17,
     "metadata": {},
     "output_type": "execute_result"
    }
   ],
   "source": [
    "train_datasets = []\n",
    "validation_datasets = []\n",
    "test_datasets = []\n",
    "\n",
    "for dataset in split_datasets:\n",
    "    train_datasets.append(dataset[\"train\"])\n",
    "    validation_datasets.append(dataset[\"validation\"])\n",
    "    test_datasets.append(dataset[\"test\"])\n",
    "\n",
    "\n",
    "train = concatenate_datasets(train_datasets)\n",
    "validation = concatenate_datasets(validation_datasets)\n",
    "test = concatenate_datasets(test_datasets)\n",
    "\n",
    "final_dataset = DatasetDict({\"train\": train, \"validation\": validation, \"test\": test})\n",
    "final_dataset"
   ]
  },
  {
   "cell_type": "code",
   "execution_count": null,
   "metadata": {},
   "outputs": [
    {
     "data": {
      "text/plain": [
       "origin\n",
       "bactrian-x-alpaca                                                       49930\n",
       "bactrian-x-dolly                                                        14432\n",
       "ask_library                                                             12069\n",
       "questions_ujc_cas                                                       11133\n",
       "muri-it-MRI-wikipedia                                                    6793\n",
       "muri-it-MRI-culturax/mC4                                                 4732\n",
       "muri-it-WikiHow                                                          2064\n",
       "muri-it-MRI-culturax/OSCAR-2019                                           743\n",
       "muri-it-MRI-culturax/OSCAR-2109                                           580\n",
       "muri-it-MRI-culturax/OSCAR-2301                                           434\n",
       "muri-it-MRI-culturax/OSCAR-2201                                           218\n",
       "muri-it-SuperNaturalInstructionv2-task842_para_pdt_cs_en_translation      178\n",
       "muri-it-SuperNaturalInstructionv2-task1374_newscomm_translation            86\n",
       "muri-it-SuperNaturalInstructionv2-task1370_newscomm_classification         47\n",
       "oasst2                                                                      1\n",
       "Name: count, dtype: int64"
      ]
     },
     "execution_count": 18,
     "metadata": {},
     "output_type": "execute_result"
    }
   ],
   "source": [
    "final_dataset[\"train\"].to_pandas()[\"origin\"].value_counts()"
   ]
  },
  {
   "cell_type": "code",
   "execution_count": null,
   "metadata": {},
   "outputs": [
    {
     "data": {
      "application/vnd.jupyter.widget-view+json": {
       "model_id": "86f59ff00dc143ad8dfbd4db5e9d8a61",
       "version_major": 2,
       "version_minor": 0
      },
      "text/plain": [
       "Map:   0%|          | 0/103440 [00:00<?, ? examples/s]"
      ]
     },
     "metadata": {},
     "output_type": "display_data"
    },
    {
     "data": {
      "application/vnd.jupyter.widget-view+json": {
       "model_id": "4f44aa2a5fc1476d9e1de1b04837dab7",
       "version_major": 2,
       "version_minor": 0
      },
      "text/plain": [
       "Map:   0%|          | 0/3419 [00:00<?, ? examples/s]"
      ]
     },
     "metadata": {},
     "output_type": "display_data"
    },
    {
     "data": {
      "application/vnd.jupyter.widget-view+json": {
       "model_id": "4429ae7e54a54f4ba15bf42462394abb",
       "version_major": 2,
       "version_minor": 0
      },
      "text/plain": [
       "Map:   0%|          | 0/3509 [00:00<?, ? examples/s]"
      ]
     },
     "metadata": {},
     "output_type": "display_data"
    }
   ],
   "source": [
    "#create metadata columns signaling how were the instructions and the outputs created based on origin\n",
    "\n",
    "origin2info = {\n",
    "    \"questions_ujc_cas\": {\n",
    "        \"instruction\": \"human\",\n",
    "        \"instruction_translated\": False,\n",
    "        \"output\": \"human\",\n",
    "        \"output_translated\": False\n",
    "    },\n",
    "    \"ask_library\": {\n",
    "        \"instruction\": \"human\",\n",
    "        \"instruction_translated\": False,\n",
    "        \"output\": \"human\",\n",
    "        \"output_translated\": False\n",
    "    },\n",
    "    \"oasst2\": {\n",
    "        \"instruction\": \"human\",\n",
    "        \"instruction_translated\": False,\n",
    "        \"output\": \"human\",\n",
    "        \"output_translated\": False\n",
    "    },\n",
    "    \"bactrian-x-alpaca\": {\n",
    "        \"instruction\": \"gpt-3.5\",\n",
    "        \"instruction_translated\": True,\n",
    "        \"output\": \"gpt-3.5-turbo\",\n",
    "        \"output_translated\": False\n",
    "    },\n",
    "    \"bactrian-x-dolly\": {\n",
    "        \"instruction\": \"human\",\n",
    "        \"instruction_translated\": True,\n",
    "        \"output\": \"gpt-3.5-turbo\",\n",
    "        \"output_translated\": False\n",
    "    },\n",
    "    \"muri-it-MRI-wikipedia\": {\n",
    "        \"instruction\": \"Mixtral-8x7B\",\n",
    "        \"instruction_translated\": True,\n",
    "        \"output\": \"human\",\n",
    "        \"output_translated\": False\n",
    "    },\n",
    "    \"muri-it-MRI-culturax/mC4\": {\n",
    "        \"instruction\": \"Mixtral-8x7B\",\n",
    "        \"instruction_translated\": True,\n",
    "        \"output\": \"human\",\n",
    "        \"output_translated\": False\n",
    "    },\n",
    "    \"muri-it-WikiHow\": {\n",
    "        \"instruction\": \"human\",\n",
    "        \"instruction_translated\": False,\n",
    "        \"output\": \"human\",\n",
    "        \"output_translated\": False\n",
    "    },\n",
    "    \"muri-it-MRI-culturax/OSCAR-2019\": {\n",
    "        \"instruction\": \"Mixtral-8x7B\",\n",
    "        \"instruction_translated\": True,\n",
    "        \"output\": \"human\",\n",
    "        \"output_translated\": False\n",
    "    },\n",
    "     \"muri-it-MRI-culturax/OSCAR-2109\": {\n",
    "        \"instruction\": \"Mixtral-8x7B\",\n",
    "        \"instruction_translated\": True,\n",
    "        \"output\": \"human\",\n",
    "        \"output_translated\": False\n",
    "    },\n",
    "     \"muri-it-MRI-culturax/OSCAR-2301\": {\n",
    "        \"instruction\": \"Mixtral-8x7B\",\n",
    "        \"instruction_translated\": True,\n",
    "        \"output\": \"human\",\n",
    "        \"output_translated\": False\n",
    "    },\n",
    "     \"muri-it-MRI-culturax/OSCAR-2201\": {\n",
    "        \"instruction\": \"Mixtral-8x7B\",\n",
    "        \"instruction_translated\": True,\n",
    "        \"output\": \"human\",\n",
    "        \"output_translated\": False\n",
    "    },\n",
    "    \"muri-it-SuperNaturalInstructionv2-task842_para_pdt_cs_en_translation\": {\n",
    "        \"instruction\": \"human\",\n",
    "        \"instruction_translated\": False,\n",
    "        \"output\": \"human\",\n",
    "        \"output_translated\": False,\n",
    "    },\n",
    "    \"muri-it-SuperNaturalInstructionv2-task1374_newscomm_translation\": {\n",
    "        \"instruction\": \"human\",\n",
    "        \"instruction_translated\": False,\n",
    "        \"output\": \"human\",\n",
    "        \"output_translated\": False,\n",
    "    },\n",
    "    \"muri-it-SuperNaturalInstructionv2-task1370_newscomm_classification\": {\n",
    "        \"instruction\": \"human\",\n",
    "        \"instruction_translated\": False,\n",
    "        \"output\": \"human\",\n",
    "        \"output_translated\": False,\n",
    "    }\n",
    "\n",
    "}\n",
    "\n",
    "#create map function for hf dataset to create the new columns\n",
    "def create_info(x):\n",
    "    x[\"instruction_type\"] = origin2info[x[\"origin\"]][\"instruction\"]\n",
    "    x[\"instruction_translated\"] = origin2info[x[\"origin\"]][\"instruction_translated\"]\n",
    "    x[\"output_type\"] = origin2info[x[\"origin\"]][\"output\"]\n",
    "    x[\"output_translated\"] = origin2info[x[\"origin\"]][\"output_translated\"]\n",
    "    return x\n",
    "\n",
    "final_dataset = final_dataset.map(create_info)\n"
   ]
  },
  {
   "cell_type": "code",
   "execution_count": null,
   "metadata": {},
   "outputs": [
    {
     "data": {
      "text/plain": [
       "{'original_id': 'alpaca-9861',\n",
       " 'conversations': [{'content': 'Označte entity ve větě.\\n\\nBill Gates je zakladatelem společnosti Microsoft.',\n",
       "   'role': 'user'},\n",
       "  {'content': '- Bill Gates\\n- společnost Microsoft', 'role': 'assistant'}],\n",
       " 'origin': 'bactrian-x-alpaca',\n",
       " 'instruction_type': 'gpt-3.5',\n",
       " 'instruction_translated': True,\n",
       " 'output_type': 'gpt-3.5-turbo',\n",
       " 'output_translated': False}"
      ]
     },
     "execution_count": 23,
     "metadata": {},
     "output_type": "execute_result"
    }
   ],
   "source": [
    "final_dataset[\"train\"][0]"
   ]
  },
  {
   "cell_type": "code",
   "execution_count": null,
   "metadata": {},
   "outputs": [
    {
     "data": {
      "application/vnd.jupyter.widget-view+json": {
       "model_id": "c0a25d1b03ac49eb9ecc76a724289b7a",
       "version_major": 2,
       "version_minor": 0
      },
      "text/plain": [
       "Uploading the dataset shards:   0%|          | 0/1 [00:00<?, ?it/s]"
      ]
     },
     "metadata": {},
     "output_type": "display_data"
    },
    {
     "data": {
      "application/vnd.jupyter.widget-view+json": {
       "model_id": "e94b59ce5a344afa9f24216f3e113a11",
       "version_major": 2,
       "version_minor": 0
      },
      "text/plain": [
       "Creating parquet from Arrow format:   0%|          | 0/104 [00:00<?, ?ba/s]"
      ]
     },
     "metadata": {},
     "output_type": "display_data"
    },
    {
     "data": {
      "application/vnd.jupyter.widget-view+json": {
       "model_id": "ccfca8eac2044ba4a1c3342566f156b1",
       "version_major": 2,
       "version_minor": 0
      },
      "text/plain": [
       "Uploading the dataset shards:   0%|          | 0/1 [00:00<?, ?it/s]"
      ]
     },
     "metadata": {},
     "output_type": "display_data"
    },
    {
     "data": {
      "application/vnd.jupyter.widget-view+json": {
       "model_id": "58439d1cdeac419d82c1b037e8805513",
       "version_major": 2,
       "version_minor": 0
      },
      "text/plain": [
       "Creating parquet from Arrow format:   0%|          | 0/4 [00:00<?, ?ba/s]"
      ]
     },
     "metadata": {},
     "output_type": "display_data"
    },
    {
     "data": {
      "application/vnd.jupyter.widget-view+json": {
       "model_id": "52fdb64184894d44a4be14ec06ee7962",
       "version_major": 2,
       "version_minor": 0
      },
      "text/plain": [
       "Uploading the dataset shards:   0%|          | 0/1 [00:00<?, ?it/s]"
      ]
     },
     "metadata": {},
     "output_type": "display_data"
    },
    {
     "data": {
      "application/vnd.jupyter.widget-view+json": {
       "model_id": "ef7ed08a1d2647868ef6951239b1ecf7",
       "version_major": 2,
       "version_minor": 0
      },
      "text/plain": [
       "Creating parquet from Arrow format:   0%|          | 0/4 [00:00<?, ?ba/s]"
      ]
     },
     "metadata": {},
     "output_type": "display_data"
    },
    {
     "data": {
      "text/plain": [
       "CommitInfo(commit_url='https://huggingface.co/datasets/ctu-aic/cs_instruction_tuning_collection/commit/307050a1cb7384ff98126b57270f1392b9d3274d', commit_message='Upload dataset', commit_description='', oid='307050a1cb7384ff98126b57270f1392b9d3274d', pr_url=None, repo_url=RepoUrl('https://huggingface.co/datasets/ctu-aic/cs_instruction_tuning_collection', endpoint='https://huggingface.co', repo_type='dataset', repo_id='ctu-aic/cs_instruction_tuning_collection'), pr_revision=None, pr_num=None)"
      ]
     },
     "execution_count": 24,
     "metadata": {},
     "output_type": "execute_result"
    }
   ],
   "source": [
    "final_dataset.push_to_hub(\"ctu-aic/cs_instruction_tuning_collection\", private=True)"
   ]
  },
  {
   "cell_type": "code",
   "execution_count": null,
   "metadata": {},
   "outputs": [
    {
     "data": {
      "application/vnd.jupyter.widget-view+json": {
       "model_id": "602eb43c93b54bf5a6a32dddff9d6982",
       "version_major": 2,
       "version_minor": 0
      },
      "text/plain": [
       "Saving the dataset (0/1 shards):   0%|          | 0/103440 [00:00<?, ? examples/s]"
      ]
     },
     "metadata": {},
     "output_type": "display_data"
    },
    {
     "data": {
      "application/vnd.jupyter.widget-view+json": {
       "model_id": "c5543e0a569b49519e6929e6307669c0",
       "version_major": 2,
       "version_minor": 0
      },
      "text/plain": [
       "Saving the dataset (0/1 shards):   0%|          | 0/3419 [00:00<?, ? examples/s]"
      ]
     },
     "metadata": {},
     "output_type": "display_data"
    },
    {
     "data": {
      "application/vnd.jupyter.widget-view+json": {
       "model_id": "7bb76153ab594077adc7b8b928dd2733",
       "version_major": 2,
       "version_minor": 0
      },
      "text/plain": [
       "Saving the dataset (0/1 shards):   0%|          | 0/3509 [00:00<?, ? examples/s]"
      ]
     },
     "metadata": {},
     "output_type": "display_data"
    }
   ],
   "source": [
    "final_dataset.save_to_disk(\"data/it_datasets/cs_instruction_tuning_collection\")"
   ]
  },
  {
   "cell_type": "markdown",
   "metadata": {},
   "source": [
    "## English"
   ]
  },
  {
   "cell_type": "code",
   "execution_count": 1,
   "metadata": {},
   "outputs": [],
   "source": [
    "IT_DATASETS_PATHS = [\n",
    "    \"datasets/instruction_tuning/bactrian-x/bactrian-x_en_itformat\",\n",
    "    \"datasets/instruction_tuning/muri-it/murit-it_en_itformat\",\n",
    "]"
   ]
  },
  {
   "cell_type": "code",
   "execution_count": 2,
   "metadata": {},
   "outputs": [],
   "source": [
    "ID2DATASET = {\n",
    "    0: \"bactrian-x\",\n",
    "    1: \"muri-it\",\n",
    "}"
   ]
  },
  {
   "cell_type": "code",
   "execution_count": 3,
   "metadata": {},
   "outputs": [
    {
     "data": {
      "text/plain": [
       "[Dataset({\n",
       "     features: ['instruction', 'input', 'id', 'output', 'conversations'],\n",
       "     num_rows: 67017\n",
       " }),\n",
       " DatasetDict({\n",
       "     train: Dataset({\n",
       "         features: ['input', 'output', 'dataset_name', 'subdataset_name', 'language', 'split', 'language_name', 'conversations'],\n",
       "         num_rows: 113395\n",
       "     })\n",
       "     validation: Dataset({\n",
       "         features: ['input', 'output', 'dataset_name', 'subdataset_name', 'language', 'split', 'language_name', 'conversations'],\n",
       "         num_rows: 6300\n",
       "     })\n",
       "     test: Dataset({\n",
       "         features: ['input', 'output', 'dataset_name', 'subdataset_name', 'language', 'split', 'language_name', 'conversations'],\n",
       "         num_rows: 6300\n",
       "     })\n",
       " })]"
      ]
     },
     "execution_count": 3,
     "metadata": {},
     "output_type": "execute_result"
    }
   ],
   "source": [
    "from datasets import load_from_disk\n",
    "\n",
    "loaded_datasets = []\n",
    "\n",
    "for dataset_path in IT_DATASETS_PATHS:\n",
    "    loaded_datasets.append(load_from_disk(dataset_path))\n",
    "\n",
    "loaded_datasets"
   ]
  },
  {
   "cell_type": "code",
   "execution_count": 4,
   "metadata": {},
   "outputs": [],
   "source": [
    "from datasets import Value\n",
    "\n",
    "final_datasets = []\n",
    "for i, dataset in enumerate(loaded_datasets):\n",
    "    if ID2DATASET[i] == \"bactrian-x\":\n",
    "        tmp_dataset = dataset\n",
    "        tmp_dataset = tmp_dataset.remove_columns([\"instruction\", \"input\", \"output\"])\n",
    "        tmp_dataset = tmp_dataset.rename_column(\"id\", \"original_id\")\n",
    "        tmp_dataset = tmp_dataset.map(lambda x: {\"origin\" : f\"bactrian-x-{x['original_id'].split(\"-\")[0]}\"})\n",
    "    elif ID2DATASET[i] == \"muri-it\": \n",
    "        tmp_dataset = dataset\n",
    "\n",
    "        def muri_origin(x):\n",
    "            if x[\"subdataset_name\"] is None:\n",
    "                x[\"origin\"] = f\"muri-it-{x['dataset_name']}\"\n",
    "            else:\n",
    "                x[\"origin\"] = f\"muri-it-{x['dataset_name']}-{x['subdataset_name']}\"\n",
    "            return x\n",
    "        \n",
    "        tmp_dataset = tmp_dataset.map(muri_origin)\n",
    "        tmp_dataset = tmp_dataset.remove_columns([\"input\", \"output\", \"language\", \"split\", \"language_name\", \"dataset_name\", \"subdataset_name\"])\n",
    "        tmp_dataset = tmp_dataset.map(lambda _: {\"original_id\": \"murit-it\"})\n",
    "\n",
    "    elif ID2DATASET[i] == \"oasst2\":\n",
    "        tmp_dataset = dataset\n",
    "        tmp_dataset = tmp_dataset.rename_column(\"id\", \"original_id\")\n",
    "        tmp_dataset = tmp_dataset.map(lambda _: {\"origin\" : \"oasst2\"})\n",
    "\n",
    "    elif ID2DATASET[i] == \"share_gpt\":\n",
    "        tmp_dataset = dataset\n",
    "        tmp_dataset = tmp_dataset.rename_column(\"id\", \"original_id\")\n",
    "        tmp_dataset = tmp_dataset.map(lambda _: {\"origin\" : \"share_gpt\"})\n",
    "    elif ID2DATASET[i] == \"questions_ujc_cas\":\n",
    "        tmp_dataset = dataset\n",
    "        tmp_dataset = tmp_dataset.rename_column(\"id\", \"original_id\")\n",
    "        #convert to str\n",
    "        tmp_dataset = tmp_dataset.cast_column(\"original_id\", Value(\"string\"))\n",
    "        tmp_dataset = tmp_dataset.map(lambda _: {\"origin\" : \"questions_ujc_cas\"})\n",
    "        tmp_dataset = tmp_dataset.remove_columns([\"question\", \"specific_question\", \"keyword\", \"answer\", \"last_usage\", \"variants\"])\n",
    "        \n",
    "    elif ID2DATASET[i] == \"ask_library\":\n",
    "        tmp_dataset = dataset\n",
    "        tmp_dataset = tmp_dataset.rename_column(\"id\", \"original_id\")\n",
    "        tmp_dataset = tmp_dataset.map(lambda _: {\"origin\" : \"ask_library\"})\n",
    "        #convert to str\n",
    "        tmp_dataset= tmp_dataset.cast_column(\"original_id\", Value(\"string\"))\n",
    "        tmp_dataset = tmp_dataset.remove_columns([\"title\", \"question\", \"answer\", \"okres\", \"library\", \"category\", \"used_sources\", \"date\", \"url\", \"language\", 'question_diacritics_korektor', 'answer_diacritics_korektor', 'question_spell_korektor', 'answer_spell_korektor', 'diacritics_correct'])\n",
    "    \n",
    "    tmp_dataset = tmp_dataset.filter(lambda x: len(x[\"conversations\"])>0)\n",
    "    final_datasets.append(tmp_dataset)"
   ]
  },
  {
   "cell_type": "code",
   "execution_count": 5,
   "metadata": {},
   "outputs": [
    {
     "data": {
      "text/plain": [
       "[Dataset({\n",
       "     features: ['original_id', 'conversations', 'origin'],\n",
       "     num_rows: 67017\n",
       " }),\n",
       " DatasetDict({\n",
       "     train: Dataset({\n",
       "         features: ['conversations', 'origin', 'original_id'],\n",
       "         num_rows: 113395\n",
       "     })\n",
       "     validation: Dataset({\n",
       "         features: ['conversations', 'origin', 'original_id'],\n",
       "         num_rows: 6300\n",
       "     })\n",
       "     test: Dataset({\n",
       "         features: ['conversations', 'origin', 'original_id'],\n",
       "         num_rows: 6300\n",
       "     })\n",
       " })]"
      ]
     },
     "execution_count": 5,
     "metadata": {},
     "output_type": "execute_result"
    }
   ],
   "source": [
    "final_datasets"
   ]
  },
  {
   "cell_type": "code",
   "execution_count": 6,
   "metadata": {},
   "outputs": [
    {
     "data": {
      "text/plain": [
       "[DatasetDict({\n",
       "     train: Dataset({\n",
       "         features: ['original_id', 'conversations', 'origin'],\n",
       "         num_rows: 64362\n",
       "     })\n",
       "     validation: Dataset({\n",
       "         features: ['original_id', 'conversations', 'origin'],\n",
       "         num_rows: 1314\n",
       "     })\n",
       "     test: Dataset({\n",
       "         features: ['original_id', 'conversations', 'origin'],\n",
       "         num_rows: 1341\n",
       "     })\n",
       " }),\n",
       " DatasetDict({\n",
       "     train: Dataset({\n",
       "         features: ['conversations', 'origin', 'original_id'],\n",
       "         num_rows: 113395\n",
       "     })\n",
       "     validation: Dataset({\n",
       "         features: ['conversations', 'origin', 'original_id'],\n",
       "         num_rows: 6300\n",
       "     })\n",
       "     test: Dataset({\n",
       "         features: ['conversations', 'origin', 'original_id'],\n",
       "         num_rows: 6300\n",
       "     })\n",
       " })]"
      ]
     },
     "execution_count": 6,
     "metadata": {},
     "output_type": "execute_result"
    }
   ],
   "source": [
    "#split the 0th dataset into train, validation and test - based on ids in the Czech one\n",
    "\n",
    "czech_dataset = load_from_disk(\"data/it_datasets/cs_instruction_tuning_collection\")\n",
    "train_ids = czech_dataset[\"train\"][\"original_id\"]\n",
    "validation_ids = czech_dataset[\"validation\"][\"original_id\"]\n",
    "test_ids = czech_dataset[\"test\"][\"original_id\"]\n",
    "\n",
    "to_split_dataset = final_datasets[0]\n",
    "\n",
    "train_dataset = to_split_dataset.filter(lambda x: x[\"original_id\"] in train_ids)\n",
    "validation_dataset = to_split_dataset.filter(lambda x: x[\"original_id\"] in validation_ids)\n",
    "test_dataset = to_split_dataset.filter(lambda x: x[\"original_id\"] in test_ids)\n",
    "\n",
    "from datasets import DatasetDict\n",
    "\n",
    "splitted_dataset = DatasetDict({\"train\": train_dataset, \"validation\": validation_dataset, \"test\": test_dataset})\n",
    "\n",
    "split_datasets = [splitted_dataset, final_datasets[1]]\n",
    "split_datasets\n"
   ]
  },
  {
   "cell_type": "code",
   "execution_count": 7,
   "metadata": {},
   "outputs": [
    {
     "data": {
      "text/plain": [
       "DatasetDict({\n",
       "    train: Dataset({\n",
       "        features: ['original_id', 'conversations', 'origin'],\n",
       "        num_rows: 177757\n",
       "    })\n",
       "    validation: Dataset({\n",
       "        features: ['original_id', 'conversations', 'origin'],\n",
       "        num_rows: 7614\n",
       "    })\n",
       "    test: Dataset({\n",
       "        features: ['original_id', 'conversations', 'origin'],\n",
       "        num_rows: 7641\n",
       "    })\n",
       "})"
      ]
     },
     "execution_count": 7,
     "metadata": {},
     "output_type": "execute_result"
    }
   ],
   "source": [
    "from datasets import concatenate_datasets\n",
    "\n",
    "train_datasets = []\n",
    "validation_datasets = []\n",
    "test_datasets = []\n",
    "\n",
    "for dataset in split_datasets:\n",
    "    train_datasets.append(dataset[\"train\"])\n",
    "    validation_datasets.append(dataset[\"validation\"])\n",
    "    test_datasets.append(dataset[\"test\"])\n",
    "\n",
    "\n",
    "train = concatenate_datasets(train_datasets)\n",
    "validation = concatenate_datasets(validation_datasets)\n",
    "test = concatenate_datasets(test_datasets)\n",
    "\n",
    "final_dataset = DatasetDict({\"train\": train, \"validation\": validation, \"test\": test})\n",
    "final_dataset"
   ]
  },
  {
   "cell_type": "code",
   "execution_count": 8,
   "metadata": {},
   "outputs": [
    {
     "data": {
      "text/plain": [
       "origin\n",
       "muri-it-flan_v2_tulu               90000\n",
       "bactrian-x-alpaca                  49930\n",
       "bactrian-x-dolly                   14432\n",
       "muri-it-MRI-wikipedia               6657\n",
       "muri-it-MRI-culturax/mC4            4967\n",
       "muri-it-xP3                         3600\n",
       "muri-it-WikiHow                     3163\n",
       "muri-it-OpenAssistant               3132\n",
       "muri-it-MRI-culturax/OSCAR-2109      889\n",
       "muri-it-MRI-culturax/OSCAR-2019      496\n",
       "muri-it-MRI-culturax/OSCAR-2301      399\n",
       "muri-it-MRI-culturax/OSCAR-2201       92\n",
       "Name: count, dtype: int64"
      ]
     },
     "execution_count": 8,
     "metadata": {},
     "output_type": "execute_result"
    }
   ],
   "source": [
    "final_dataset[\"train\"].to_pandas()[\"origin\"].value_counts()"
   ]
  },
  {
   "cell_type": "code",
   "execution_count": 10,
   "metadata": {},
   "outputs": [
    {
     "data": {
      "application/vnd.jupyter.widget-view+json": {
       "model_id": "bc36622c8b7243a5989bc24044b6a789",
       "version_major": 2,
       "version_minor": 0
      },
      "text/plain": [
       "Map:   0%|          | 0/177757 [00:00<?, ? examples/s]"
      ]
     },
     "metadata": {},
     "output_type": "display_data"
    },
    {
     "data": {
      "application/vnd.jupyter.widget-view+json": {
       "model_id": "cfb3dd57a28a47d088ca06e18ffd05bb",
       "version_major": 2,
       "version_minor": 0
      },
      "text/plain": [
       "Map:   0%|          | 0/7614 [00:00<?, ? examples/s]"
      ]
     },
     "metadata": {},
     "output_type": "display_data"
    },
    {
     "data": {
      "application/vnd.jupyter.widget-view+json": {
       "model_id": "d84dd22474da4a76b6b684f855fff20f",
       "version_major": 2,
       "version_minor": 0
      },
      "text/plain": [
       "Map:   0%|          | 0/7641 [00:00<?, ? examples/s]"
      ]
     },
     "metadata": {},
     "output_type": "display_data"
    }
   ],
   "source": [
    "#create metadata columns signaling how were the instructions and the outputs created based on origin\n",
    "\n",
    "origin2info = {\n",
    "    \"muri-it-OpenAssistant\": {\n",
    "        \"instruction\": \"human\",\n",
    "        \"instruction_translated\": False,\n",
    "        \"output\": \"human\",\n",
    "        \"output_translated\": False\n",
    "    },\n",
    "    \"bactrian-x-alpaca\": {\n",
    "        \"instruction\": \"gpt-3.5\",\n",
    "        \"instruction_translated\": False,\n",
    "        \"output\": \"gpt-3.5-turbo\",\n",
    "        \"output_translated\": False\n",
    "    },\n",
    "    \"bactrian-x-dolly\": {\n",
    "        \"instruction\": \"human\",\n",
    "        \"instruction_translated\": False,\n",
    "        \"output\": \"gpt-3.5-turbo\",\n",
    "        \"output_translated\": False\n",
    "    },\n",
    "    \"muri-it-MRI-wikipedia\": {\n",
    "        \"instruction\": \"Mixtral-8x7B\",\n",
    "        \"instruction_translated\": False,\n",
    "        \"output\": \"human\",\n",
    "        \"output_translated\": False\n",
    "    },\n",
    "    \"muri-it-MRI-culturax/mC4\": {\n",
    "        \"instruction\": \"Mixtral-8x7B\",\n",
    "        \"instruction_translated\": False,\n",
    "        \"output\": \"human\",\n",
    "        \"output_translated\": False\n",
    "    },\n",
    "    \"muri-it-WikiHow\": {\n",
    "        \"instruction\": \"human\",\n",
    "        \"instruction_translated\": False,\n",
    "        \"output\": \"human\",\n",
    "        \"output_translated\": False\n",
    "    },\n",
    "    \"muri-it-MRI-culturax/OSCAR-2019\": {\n",
    "        \"instruction\": \"Mixtral-8x7B\",\n",
    "        \"instruction_translated\": False,\n",
    "        \"output\": \"human\",\n",
    "        \"output_translated\": False\n",
    "    },\n",
    "     \"muri-it-MRI-culturax/OSCAR-2109\": {\n",
    "        \"instruction\": \"Mixtral-8x7B\",\n",
    "        \"instruction_translated\": False,\n",
    "        \"output\": \"human\",\n",
    "        \"output_translated\": False\n",
    "    },\n",
    "     \"muri-it-MRI-culturax/OSCAR-2301\": {\n",
    "        \"instruction\": \"Mixtral-8x7B\",\n",
    "        \"instruction_translated\": False,\n",
    "        \"output\": \"human\",\n",
    "        \"output_translated\": False\n",
    "    },\n",
    "     \"muri-it-MRI-culturax/OSCAR-2201\": {\n",
    "        \"instruction\": \"Mixtral-8x7B\",\n",
    "        \"instruction_translated\": False,\n",
    "        \"output\": \"human\",\n",
    "        \"output_translated\": False\n",
    "    },\n",
    "    \"muri-it-flan_v2_tulu\": {\n",
    "        \"instruction\": \"human\",\n",
    "        \"instruction_translated\": False,\n",
    "        \"output\": \"human\",\n",
    "        \"output_translated\": False,\n",
    "    },\n",
    "    \"muri-it-xP3\": {\n",
    "        \"instruction\": \"human\",\n",
    "        \"instruction_translated\": False,\n",
    "        \"output\": \"human\",\n",
    "        \"output_translated\": False,\n",
    "    },\n",
    "\n",
    "\n",
    "}\n",
    "\n",
    "#create map function for hf dataset to create the new columns\n",
    "def create_info(x):\n",
    "    x[\"instruction_type\"] = origin2info[x[\"origin\"]][\"instruction\"]\n",
    "    x[\"instruction_translated\"] = origin2info[x[\"origin\"]][\"instruction_translated\"]\n",
    "    x[\"output_type\"] = origin2info[x[\"origin\"]][\"output\"]\n",
    "    x[\"output_translated\"] = origin2info[x[\"origin\"]][\"output_translated\"]\n",
    "    return x\n",
    "\n",
    "final_dataset = final_dataset.map(create_info)\n"
   ]
  },
  {
   "cell_type": "code",
   "execution_count": 12,
   "metadata": {},
   "outputs": [
    {
     "data": {
      "application/vnd.jupyter.widget-view+json": {
       "model_id": "5dbc28a336c348fe8923570c4e053ef4",
       "version_major": 2,
       "version_minor": 0
      },
      "text/plain": [
       "Uploading the dataset shards:   0%|          | 0/1 [00:00<?, ?it/s]"
      ]
     },
     "metadata": {},
     "output_type": "display_data"
    },
    {
     "data": {
      "application/vnd.jupyter.widget-view+json": {
       "model_id": "4a877eb3bc0c4f6781e56d8a16e10085",
       "version_major": 2,
       "version_minor": 0
      },
      "text/plain": [
       "Creating parquet from Arrow format:   0%|          | 0/178 [00:00<?, ?ba/s]"
      ]
     },
     "metadata": {},
     "output_type": "display_data"
    },
    {
     "data": {
      "application/vnd.jupyter.widget-view+json": {
       "model_id": "6ef239e5e6844c64a1d5caa1bcadb90b",
       "version_major": 2,
       "version_minor": 0
      },
      "text/plain": [
       "Uploading the dataset shards:   0%|          | 0/1 [00:00<?, ?it/s]"
      ]
     },
     "metadata": {},
     "output_type": "display_data"
    },
    {
     "data": {
      "application/vnd.jupyter.widget-view+json": {
       "model_id": "0d0186a5f493498f90800ff5ef36c80d",
       "version_major": 2,
       "version_minor": 0
      },
      "text/plain": [
       "Creating parquet from Arrow format:   0%|          | 0/8 [00:00<?, ?ba/s]"
      ]
     },
     "metadata": {},
     "output_type": "display_data"
    },
    {
     "data": {
      "application/vnd.jupyter.widget-view+json": {
       "model_id": "754cc74117a841b7a58cf7d1146e35bd",
       "version_major": 2,
       "version_minor": 0
      },
      "text/plain": [
       "Uploading the dataset shards:   0%|          | 0/1 [00:00<?, ?it/s]"
      ]
     },
     "metadata": {},
     "output_type": "display_data"
    },
    {
     "data": {
      "application/vnd.jupyter.widget-view+json": {
       "model_id": "a5745bebac744635986f3f3eaaac8401",
       "version_major": 2,
       "version_minor": 0
      },
      "text/plain": [
       "Creating parquet from Arrow format:   0%|          | 0/8 [00:00<?, ?ba/s]"
      ]
     },
     "metadata": {},
     "output_type": "display_data"
    },
    {
     "data": {
      "text/plain": [
       "CommitInfo(commit_url='https://huggingface.co/datasets/ctu-aic/en_instruction_tuning_collection/commit/26be1a9f770442513519650ea1d0738419544977', commit_message='Upload dataset', commit_description='', oid='26be1a9f770442513519650ea1d0738419544977', pr_url=None, repo_url=RepoUrl('https://huggingface.co/datasets/ctu-aic/en_instruction_tuning_collection', endpoint='https://huggingface.co', repo_type='dataset', repo_id='ctu-aic/en_instruction_tuning_collection'), pr_revision=None, pr_num=None)"
      ]
     },
     "execution_count": 12,
     "metadata": {},
     "output_type": "execute_result"
    }
   ],
   "source": [
    "final_dataset.push_to_hub(\"ctu-aic/en_instruction_tuning_collection\", private=True)"
   ]
  },
  {
   "cell_type": "code",
   "execution_count": 13,
   "metadata": {},
   "outputs": [
    {
     "data": {
      "application/vnd.jupyter.widget-view+json": {
       "model_id": "6e3cbb4063774d1c9083ef3f9042cd0e",
       "version_major": 2,
       "version_minor": 0
      },
      "text/plain": [
       "Saving the dataset (0/1 shards):   0%|          | 0/177757 [00:00<?, ? examples/s]"
      ]
     },
     "metadata": {},
     "output_type": "display_data"
    },
    {
     "data": {
      "application/vnd.jupyter.widget-view+json": {
       "model_id": "c828840f97a0452fa0f1b04e9f7923a2",
       "version_major": 2,
       "version_minor": 0
      },
      "text/plain": [
       "Saving the dataset (0/1 shards):   0%|          | 0/7614 [00:00<?, ? examples/s]"
      ]
     },
     "metadata": {},
     "output_type": "display_data"
    },
    {
     "data": {
      "application/vnd.jupyter.widget-view+json": {
       "model_id": "ff34537560b34ce2a6ab9fb7ca2bcac0",
       "version_major": 2,
       "version_minor": 0
      },
      "text/plain": [
       "Saving the dataset (0/1 shards):   0%|          | 0/7641 [00:00<?, ? examples/s]"
      ]
     },
     "metadata": {},
     "output_type": "display_data"
    }
   ],
   "source": [
    "final_dataset.save_to_disk(\"data/it_datasets/en_instruction_tuning_collection\")"
   ]
  }
 ],
 "metadata": {
  "kernelspec": {
   "display_name": "Python 3 (ipykernel)",
   "language": "python",
   "name": "python3"
  },
  "language_info": {
   "codemirror_mode": {
    "name": "ipython",
    "version": 3
   },
   "file_extension": ".py",
   "mimetype": "text/x-python",
   "name": "python",
   "nbconvert_exporter": "python",
   "pygments_lexer": "ipython3",
   "version": "3.12.3"
  }
 },
 "nbformat": 4,
 "nbformat_minor": 2
}
