{
 "cells": [
  {
   "cell_type": "markdown",
   "metadata": {},
   "source": [
    "## Process Czech subset of Bactrian-x dataset"
   ]
  },
  {
   "cell_type": "code",
   "execution_count": 5,
   "metadata": {},
   "outputs": [],
   "source": [
    "from datasets import load_dataset\n",
    "\n",
    "dataset = load_dataset(\"MBZUAI/Bactrian-X\", \"cs\", split=\"train\", trust_remote_code=True)"
   ]
  },
  {
   "cell_type": "code",
   "execution_count": 6,
   "metadata": {},
   "outputs": [
    {
     "data": {
      "text/plain": [
       "Dataset({\n",
       "    features: ['instruction', 'input', 'id', 'output'],\n",
       "    num_rows: 67017\n",
       "})"
      ]
     },
     "execution_count": 6,
     "metadata": {},
     "output_type": "execute_result"
    }
   ],
   "source": [
    "dataset"
   ]
  },
  {
   "cell_type": "code",
   "execution_count": 7,
   "metadata": {},
   "outputs": [
    {
     "name": "stdout",
     "output_type": "stream",
     "text": [
      "{'instruction': 'Vygenerujte heslo s 10 znaky včetně velkých a malých písmen a číslic.', 'input': '', 'id': 'alpaca-20951', 'output': '7jKmT4xNf8'}\n"
     ]
    }
   ],
   "source": [
    "print(dataset[0])"
   ]
  },
  {
   "cell_type": "code",
   "execution_count": 8,
   "metadata": {},
   "outputs": [],
   "source": [
    "def bactrian_map(example):\n",
    "    instruction = example[\"instruction\"]\n",
    "    input = example[\"input\"]\n",
    "    output = example[\"output\"]\n",
    "\n",
    "    if input:\n",
    "        user_conversation = {\"role\": \"user\", \"content\": f\"{instruction}\\n\\n{input}\"}\n",
    "    else:\n",
    "        user_conversation = {\"role\": \"user\", \"content\": instruction}\n",
    "\n",
    "    assistant_conversation = {\"role\": \"assistant\", \"content\": output}\n",
    "\n",
    "    conversations = [\n",
    "        user_conversation, assistant_conversation\n",
    "    ]\n",
    "\n",
    "    example[\"conversations\"] = conversations\n",
    "\n",
    "    return example"
   ]
  },
  {
   "cell_type": "code",
   "execution_count": 9,
   "metadata": {},
   "outputs": [
    {
     "data": {
      "application/vnd.jupyter.widget-view+json": {
       "model_id": "8f3cfdf63dca4804abdb1514c79fbabf",
       "version_major": 2,
       "version_minor": 0
      },
      "text/plain": [
       "Map:   0%|          | 0/67017 [00:00<?, ? examples/s]"
      ]
     },
     "metadata": {},
     "output_type": "display_data"
    },
    {
     "data": {
      "text/plain": [
       "Dataset({\n",
       "    features: ['instruction', 'input', 'id', 'output', 'conversations'],\n",
       "    num_rows: 67017\n",
       "})"
      ]
     },
     "execution_count": 9,
     "metadata": {},
     "output_type": "execute_result"
    }
   ],
   "source": [
    "dataset = dataset.map(bactrian_map)\n",
    "dataset"
   ]
  },
  {
   "cell_type": "code",
   "execution_count": 10,
   "metadata": {},
   "outputs": [
    {
     "data": {
      "text/plain": [
       "{'instruction': 'Vygenerujte heslo s 10 znaky včetně velkých a malých písmen a číslic.',\n",
       " 'input': '',\n",
       " 'id': 'alpaca-20951',\n",
       " 'output': '7jKmT4xNf8',\n",
       " 'conversations': [{'content': 'Vygenerujte heslo s 10 znaky včetně velkých a malých písmen a číslic.',\n",
       "   'role': 'user'},\n",
       "  {'content': '7jKmT4xNf8', 'role': 'assistant'}]}"
      ]
     },
     "execution_count": 10,
     "metadata": {},
     "output_type": "execute_result"
    }
   ],
   "source": [
    "dataset[0]"
   ]
  },
  {
   "cell_type": "code",
   "execution_count": 11,
   "metadata": {},
   "outputs": [
    {
     "data": {
      "application/vnd.jupyter.widget-view+json": {
       "model_id": "27c6a96cb3974647b18c0e83afc990c6",
       "version_major": 2,
       "version_minor": 0
      },
      "text/plain": [
       "Saving the dataset (0/1 shards):   0%|          | 0/67017 [00:00<?, ? examples/s]"
      ]
     },
     "metadata": {},
     "output_type": "display_data"
    }
   ],
   "source": [
    "dataset.save_to_disk(\"/home/mlynatom/master-thesis-repository-tomas-mlynar/datasets/instruction_tuning/bactrian-x/bactrian-x_cs_itformat\")"
   ]
  }
 ],
 "metadata": {
  "kernelspec": {
   "display_name": "Python 3 (ipykernel)",
   "language": "python",
   "name": "python3"
  },
  "language_info": {
   "codemirror_mode": {
    "name": "ipython",
    "version": 3
   },
   "file_extension": ".py",
   "mimetype": "text/x-python",
   "name": "python",
   "nbconvert_exporter": "python",
   "pygments_lexer": "ipython3",
   "version": "3.12.3"
  }
 },
 "nbformat": 4,
 "nbformat_minor": 2
}
