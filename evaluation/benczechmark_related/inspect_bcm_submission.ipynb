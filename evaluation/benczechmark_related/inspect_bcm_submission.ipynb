{
 "cells": [
  {
   "cell_type": "markdown",
   "id": "0b19e3aa",
   "metadata": {},
   "source": [
    "# Prepare Tables for Thesis from BCM submissions"
   ]
  },
  {
   "cell_type": "code",
   "execution_count": null,
   "id": "6b0c4d5e",
   "metadata": {},
   "outputs": [],
   "source": [
    "submission_path = \"/home/mlynatom/master-thesis-repository-tomas-mlynar/bcm/submissions/b+it->it_(cs+en-alpaca+dolly)_submission.json\""
   ]
  },
  {
   "cell_type": "code",
   "execution_count": 2,
   "id": "bdd244e0",
   "metadata": {},
   "outputs": [],
   "source": [
    "import json\n",
    "\n",
    "with open(submission_path, \"r\") as f:\n",
    "    data = json.load(f)"
   ]
  },
  {
   "cell_type": "code",
   "execution_count": 3,
   "id": "d17df70e",
   "metadata": {},
   "outputs": [],
   "source": [
    "EM = \"exact_match\"\n",
    "AUC = \"avg_mcauroc\"\n",
    "ACC = \"acc\"\n",
    "PPL = \"word_perplexity\"\n",
    "\n",
    "benchmark2metric = {\n",
    "    \"cs_triviaQA\": EM,\n",
    "    \"propaganda_rusko\": AUC,\n",
    "    \"propaganda_argumentace\": AUC,\n",
    "    \"propaganda_emoce\": AUC,\n",
    "    \"propaganda_zanr\": AUC,\n",
    "    \"propaganda_zamereni\": AUC,\n",
    "    \"ctkfacts_nli\": AUC,\n",
    "    \"klokan_qa\": ACC,\n",
    "    \"propaganda_nazor\": AUC,\n",
    "    \"histcorpus\": PPL,\n",
    "    \"propaganda_nalepkovani\": AUC,\n",
    "    \"cs_sqad32\": EM,\n",
    "    \"belebele\": ACC,\n",
    "    \"propaganda_demonizace\": AUC,\n",
    "    \"correspondence\": PPL,\n",
    "    \"propaganda_fabulace\": AUC,\n",
    "    \"propaganda_vina\": AUC,\n",
    "    'sentiment_mall': AUC, \n",
    "    'hellaswag': ACC, \n",
    "    'agree': AUC, \n",
    "    'sentiment_fb': AUC, \n",
    "    'grammarerrorcorrection': AUC, \n",
    "    'cermat_czmath_open': EM, \n",
    "    'cermat_czech_open': EM, \n",
    "    'subjectivity': AUC,\n",
    "    'cermat_czech_mc': ACC,\n",
    "    'cermat_czech_tf': AUC,\n",
    "    'cermat_czmath_mc':ACC, \n",
    "    'propaganda_strach': AUC, \n",
    "    'essay': PPL, \n",
    "    'propaganda_lokace': AUC, \n",
    "    'snli': AUC, \n",
    "    'cs_court_decisions_ner': EM, \n",
    "    'fiction': PPL, \n",
    "    'sentiment_csfd': AUC, \n",
    "    'umimeto_biology': ACC, \n",
    "    'umimeto_chemistry': ACC, \n",
    "    'umimeto_czech': ACC, \n",
    "    'umimeto_history': ACC, \n",
    "    'umimeto_informatics': ACC, \n",
    "    'umimeto_math':ACC, \n",
    "    'umimeto_physics':ACC, \n",
    "    'cs_ner':EM, \n",
    "    'spoken':PPL,\n",
    "    'propaganda_relativizace':AUC, \n",
    "    'cs_naturalquestions': EM, \n",
    "    'havlicek': PPL, \n",
    "    'csfever_nli': AUC, \n",
    "    'history_ir':ACC,\n",
    "    'dialect': PPL,\n",
    "}"
   ]
  },
  {
   "cell_type": "code",
   "execution_count": 4,
   "id": "88ede0d8",
   "metadata": {},
   "outputs": [],
   "source": [
    "#define tables\n",
    "table2tasks = {\n",
    "    \"czech language understanding\": [\"agree\", 'cermat_czech_tf','grammarerrorcorrection','cermat_czech_mc','umimeto_czech','cermat_czech_open'],\n",
    "    \"czech math reasoning\": ['umimeto_math', \"klokan_qa\", 'cermat_czmath_mc', 'cermat_czmath_open'],\n",
    "    \"factual knowledge\": [\"cs_naturalquestions\", \"cs_triviaQA\", \"umimeto_biology\", \"umimeto_chemistry\", \"umimeto_history\", \"umimeto_informatics\", \"umimeto_physics\"],\n",
    "    \"language modelling\": [\"dialect\", \"essay\", \"fiction\", \"havlicek\", \"correspondence\", \"spoken\", \"histcorpus\", \"hellaswag\"],\n",
    "    \"NER\": [\"cs_court_decisions_ner\", \"cs_ner\"],\n",
    "    \"NLI\": [\"csfever_nli\", \"ctkfacts_nli\", \"propaganda_argumentace\", \"propaganda_demonizace\", \"propaganda_emoce\", \"propaganda_fabulace\", \"propaganda_nalepkovani\", \"propaganda_lokace\", \"propaganda_zamereni\", \"propaganda_nazor\", \"propaganda_relativizace\", \"propaganda_rusko\", \"propaganda_strach\", \"propaganda_zanr\", \"snli\"],\n",
    "    \"reading comprehension\": [\"belebele\", \"history_ir\", \"cs_sqad32\"],\n",
    "    \"sentiment\": [\"sentiment_csfd\", \"sentiment_fb\", \"sentiment_mall\", \"subjectivity\"],\n",
    "}"
   ]
  },
  {
   "cell_type": "code",
   "execution_count": 5,
   "id": "4583c5df",
   "metadata": {},
   "outputs": [],
   "source": [
    "model_name = '$\"B\"+\"IT\"->\"IT\"_(\"cs\"+\"en\" (\"DA\"))$'"
   ]
  },
  {
   "cell_type": "code",
   "execution_count": 6,
   "id": "a90c08f3",
   "metadata": {},
   "outputs": [
    {
     "name": "stdout",
     "output_type": "stream",
     "text": [
      "czech language understanding\n",
      "\n",
      "[$\"B\"+\"IT\"->\"IT\"_(\"cs\"+\"en\" (\"DA\"))$],[71.46],[62.94],[58.51],[39.45],[60.00],[4.49],\n",
      "\n",
      "czech math reasoning\n",
      "\n",
      "[$\"B\"+\"IT\"->\"IT\"_(\"cs\"+\"en\" (\"DA\"))$],[67.00],[19.83],[17.46],[5.03],\n",
      "\n",
      "factual knowledge\n",
      "\n",
      "[$\"B\"+\"IT\"->\"IT\"_(\"cs\"+\"en\" (\"DA\"))$],[10.19],[28.92],[83.00],[75.00],[86.00],[83.00],[72.00],\n",
      "\n",
      "language modelling\n",
      "\n",
      "[$\"B\"+\"IT\"->\"IT\"_(\"cs\"+\"en\" (\"DA\"))$],[120.71],[197.21],[416.70],[3127.18],[1558.78],[238.91],[1099.84],[48.31],\n",
      "\n",
      "NER\n",
      "\n",
      "[$\"B\"+\"IT\"->\"IT\"_(\"cs\"+\"en\" (\"DA\"))$],[55.05],[61.23],\n",
      "\n",
      "NLI\n",
      "\n",
      "[$\"B\"+\"IT\"->\"IT\"_(\"cs\"+\"en\" (\"DA\"))$],[81.08],[80.48],[53.48],[73.77],[59.65],[60.07],[61.62],[77.51],[68.81],[70.90],[62.32],[50.03],[62.95],[88.26],[78.19],\n",
      "\n",
      "reading comprehension\n",
      "\n",
      "[$\"B\"+\"IT\"->\"IT\"_(\"cs\"+\"en\" (\"DA\"))$],[78.41],[32.50],[49.06],\n",
      "\n",
      "sentiment\n",
      "\n",
      "[$\"B\"+\"IT\"->\"IT\"_(\"cs\"+\"en\" (\"DA\"))$],[86.67],[87.27],[78.41],[88.45],\n",
      "\n"
     ]
    }
   ],
   "source": [
    "for table, tasks in table2tasks.items():\n",
    "    print(table)\n",
    "    print()\n",
    "    print(f\"[{model_name}],\", end=\"\")\n",
    "    for task in tasks:\n",
    "        bcm_name = \"benczechmark_\"+task\n",
    "        if task in benchmark2metric and bcm_name in data[\"results\"]:\n",
    "            metric = benchmark2metric[task]\n",
    "            metric_value = data[\"results\"][bcm_name][metric]\n",
    "            if metric != PPL:\n",
    "                metric_value = round(metric_value * 100, 2)\n",
    "            elif metric == PPL:\n",
    "                metric_value = round(metric_value, 2)\n",
    "            #print always 2 decimal places\n",
    "            print(f\"[{metric_value:.2f}],\", end=\"\")\n",
    "            \n",
    "        else:\n",
    "            print(f\"{task}: Not found\")\n",
    "    print()\n",
    "    print()"
   ]
  },
  {
   "cell_type": "code",
   "execution_count": null,
   "id": "93c84c11",
   "metadata": {},
   "outputs": [],
   "source": []
  }
 ],
 "metadata": {
  "kernelspec": {
   "display_name": "Python 3 (ipykernel)",
   "language": "python",
   "name": "python3"
  },
  "language_info": {
   "codemirror_mode": {
    "name": "ipython",
    "version": 3
   },
   "file_extension": ".py",
   "mimetype": "text/x-python",
   "name": "python",
   "nbconvert_exporter": "python",
   "pygments_lexer": "ipython3",
   "version": "3.12.3"
  }
 },
 "nbformat": 4,
 "nbformat_minor": 5
}
