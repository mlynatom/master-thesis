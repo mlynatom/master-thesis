{
 "cells": [
  {
   "cell_type": "markdown",
   "id": "0b19e3aa",
   "metadata": {},
   "source": [
    "# Prepare Tables for Thesis from BCM submissions"
   ]
  },
  {
   "cell_type": "code",
   "execution_count": 1,
   "id": "6b0c4d5e",
   "metadata": {},
   "outputs": [],
   "source": [
    "submission_path = \"/home/mlynatom/master-thesis-repository-tomas-mlynar/bcm/submissions/b->cp_(cs+en)+it_(cs+en-alpaca+dolly)_submission.json\""
   ]
  },
  {
   "cell_type": "code",
   "execution_count": 2,
   "id": "bdd244e0",
   "metadata": {},
   "outputs": [],
   "source": [
    "import json\n",
    "\n",
    "with open(submission_path, \"r\") as f:\n",
    "    data = json.load(f)"
   ]
  },
  {
   "cell_type": "code",
   "execution_count": 3,
   "id": "d17df70e",
   "metadata": {},
   "outputs": [],
   "source": [
    "EM = \"exact_match\"\n",
    "AUC = \"avg_mcauroc\"\n",
    "ACC = \"acc\"\n",
    "PPL = \"word_perplexity\"\n",
    "\n",
    "benchmark2metric = {\n",
    "    \"cs_triviaQA\": EM,\n",
    "    \"propaganda_rusko\": AUC,\n",
    "    \"propaganda_argumentace\": AUC,\n",
    "    \"propaganda_emoce\": AUC,\n",
    "    \"propaganda_zanr\": AUC,\n",
    "    \"propaganda_zamereni\": AUC,\n",
    "    \"ctkfacts_nli\": AUC,\n",
    "    \"klokan_qa\": ACC,\n",
    "    \"propaganda_nazor\": AUC,\n",
    "    \"histcorpus\": PPL,\n",
    "    \"propaganda_nalepkovani\": AUC,\n",
    "    \"cs_sqad32\": EM,\n",
    "    \"belebele\": ACC,\n",
    "    \"propaganda_demonizace\": AUC,\n",
    "    \"correspondence\": PPL,\n",
    "    \"propaganda_fabulace\": AUC,\n",
    "    \"propaganda_vina\": AUC,\n",
    "    'sentiment_mall': AUC, \n",
    "    'hellaswag': ACC, \n",
    "    'agree': AUC, \n",
    "    'sentiment_fb': AUC, \n",
    "    'grammarerrorcorrection': AUC, \n",
    "    'cermat_czmath_open': EM, \n",
    "    'cermat_czech_open': EM, \n",
    "    'subjectivity': AUC,\n",
    "    'cermat_czech_mc': ACC,\n",
    "    'cermat_czech_tf': AUC,\n",
    "    'cermat_czmath_mc':ACC, \n",
    "    'propaganda_strach': AUC, \n",
    "    'essay': PPL, \n",
    "    'propaganda_lokace': AUC, \n",
    "    'snli': AUC, \n",
    "    'cs_court_decisions_ner': EM, \n",
    "    'fiction': PPL, \n",
    "    'sentiment_csfd': AUC, \n",
    "    'umimeto_biology': ACC, \n",
    "    'umimeto_chemistry': ACC, \n",
    "    'umimeto_czech': ACC, \n",
    "    'umimeto_history': ACC, \n",
    "    'umimeto_informatics': ACC, \n",
    "    'umimeto_math':ACC, \n",
    "    'umimeto_physics':ACC, \n",
    "    'cs_ner':EM, \n",
    "    'spoken':PPL,\n",
    "    'propaganda_relativizace':AUC, \n",
    "    'cs_naturalquestions': EM, \n",
    "    'havlicek': PPL, \n",
    "    'csfever_nli': AUC, \n",
    "    'history_ir':ACC,\n",
    "    'dialect': PPL,\n",
    "}"
   ]
  },
  {
   "cell_type": "code",
   "execution_count": 4,
   "id": "88ede0d8",
   "metadata": {},
   "outputs": [],
   "source": [
    "#define tables\n",
    "table2tasks = {\n",
    "    \"czech language understanding\": [\"agree\", 'cermat_czech_tf','grammarerrorcorrection','cermat_czech_mc','umimeto_czech','cermat_czech_open'],\n",
    "    \"czech math reasoning\": ['umimeto_math', \"klokan_qa\", 'cermat_czmath_mc', 'cermat_czmath_open'],\n",
    "    \"factual knowledge\": [\"cs_naturalquestions\", \"cs_triviaQA\", \"umimeto_biology\", \"umimeto_chemistry\", \"umimeto_history\", \"umimeto_informatics\", \"umimeto_physics\"],\n",
    "    \"language modelling\": [\"dialect\", \"essay\", \"fiction\", \"havlicek\", \"correspondence\", \"spoken\", \"histcorpus\", \"hellaswag\"],\n",
    "    \"NER\": [\"cs_court_decisions_ner\", \"cs_ner\"],\n",
    "    \"NLI\": [\"csfever_nli\", \"ctkfacts_nli\", \"propaganda_argumentace\", \"propaganda_demonizace\", \"propaganda_emoce\", \"propaganda_fabulace\", \"propaganda_nalepkovani\", \"propaganda_lokace\", \"propaganda_zamereni\", \"propaganda_nazor\", \"propaganda_relativizace\", \"propaganda_rusko\", \"propaganda_strach\", \"propaganda_zanr\", \"snli\"],\n",
    "    \"reading comprehension\": [\"belebele\", \"history_ir\", \"cs_sqad32\"],\n",
    "    \"sentiment\": [\"sentiment_csfd\", \"sentiment_fb\", \"sentiment_mall\", \"subjectivity\"],\n",
    "}"
   ]
  },
  {
   "cell_type": "code",
   "execution_count": 5,
   "id": "4583c5df",
   "metadata": {},
   "outputs": [],
   "source": [
    "model_name = '$\"B\"->\"CP\"_(\"cs\"+\"en\")+\"IT\"_(\"cs\"+\"en\"-\"dolly, alpaca\")$'"
   ]
  },
  {
   "cell_type": "code",
   "execution_count": 6,
   "id": "a90c08f3",
   "metadata": {},
   "outputs": [
    {
     "name": "stdout",
     "output_type": "stream",
     "text": [
      "czech language understanding\n",
      "\n",
      "[$\"B\"->\"CP\"_(\"cs\"+\"en\")+\"IT\"_(\"cs\"+\"en\"-\"dolly, alpaca\")$],[78.17],[69.74],[61.11],[38.67],[61.00],[6.09],\n",
      "\n",
      "czech math reasoning\n",
      "\n",
      "[$\"B\"->\"CP\"_(\"cs\"+\"en\")+\"IT\"_(\"cs\"+\"en\"-\"dolly, alpaca\")$],[68.00],[19.45],[23.02],[5.97],\n",
      "\n",
      "factual knowledge\n",
      "\n",
      "[$\"B\"->\"CP\"_(\"cs\"+\"en\")+\"IT\"_(\"cs\"+\"en\"-\"dolly, alpaca\")$],[9.06],[25.75],[78.00],[72.00],[80.00],[82.00],[76.00],\n",
      "\n",
      "language modelling\n",
      "\n",
      "[$\"B\"->\"CP\"_(\"cs\"+\"en\")+\"IT\"_(\"cs\"+\"en\"-\"dolly, alpaca\")$],[393.45],[2694.34],[6078.44],[38456.99],[15511.94],[252.61],[20569.26],[50.75],\n",
      "\n",
      "NER\n",
      "\n",
      "[$\"B\"->\"CP\"_(\"cs\"+\"en\")+\"IT\"_(\"cs\"+\"en\"-\"dolly, alpaca\")$],[51.10],[57.45],\n",
      "\n",
      "NLI\n",
      "\n",
      "[$\"B\"->\"CP\"_(\"cs\"+\"en\")+\"IT\"_(\"cs\"+\"en\"-\"dolly, alpaca\")$],[80.20],[80.74],[51.03],[82.91],[58.17],[60.81],[62.98],[82.16],[83.82],[72.24],[61.41],[51.17],[65.72],[91.27],[74.53],\n",
      "\n",
      "reading comprehension\n",
      "\n",
      "[$\"B\"->\"CP\"_(\"cs\"+\"en\")+\"IT\"_(\"cs\"+\"en\"-\"dolly, alpaca\")$],[76.48],[32.50],[48.24],\n",
      "\n",
      "sentiment\n",
      "\n",
      "[$\"B\"->\"CP\"_(\"cs\"+\"en\")+\"IT\"_(\"cs\"+\"en\"-\"dolly, alpaca\")$],[89.17],[86.78],[78.53],[86.19],\n",
      "\n"
     ]
    }
   ],
   "source": [
    "for table, tasks in table2tasks.items():\n",
    "    print(table)\n",
    "    print()\n",
    "    print(f\"[{model_name}],\", end=\"\")\n",
    "    for task in tasks:\n",
    "        bcm_name = \"benczechmark_\"+task\n",
    "        if task in benchmark2metric and bcm_name in data[\"results\"]:\n",
    "            metric = benchmark2metric[task]\n",
    "            metric_value = data[\"results\"][bcm_name][metric]\n",
    "            if metric != PPL:\n",
    "                metric_value = round(metric_value * 100, 2)\n",
    "            elif metric == PPL:\n",
    "                metric_value = round(metric_value, 2)\n",
    "            #print always 2 decimal places\n",
    "            print(f\"[{metric_value:.2f}],\", end=\"\")\n",
    "            \n",
    "        else:\n",
    "            print(f\"{task}: Not found\")\n",
    "    print()\n",
    "    print()"
   ]
  }
 ],
 "metadata": {
  "kernelspec": {
   "display_name": "Python 3 (ipykernel)",
   "language": "python",
   "name": "python3"
  }
 },
 "nbformat": 4,
 "nbformat_minor": 5
}
